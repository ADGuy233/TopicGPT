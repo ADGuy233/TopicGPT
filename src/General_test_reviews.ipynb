{
 "cells": [
  {
   "cell_type": "code",
   "execution_count": 8,
   "metadata": {},
   "outputs": [
    {
     "name": "stdout",
     "output_type": "stream",
     "text": [
      "The autoreload extension is already loaded. To reload it, use:\n",
      "  %reload_ext autoreload\n"
     ]
    }
   ],
   "source": [
    "%load_ext autoreload\n",
    "%autoreload 2"
   ]
  },
  {
   "cell_type": "code",
   "execution_count": 9,
   "metadata": {},
   "outputs": [],
   "source": [
    "import pickle \n",
    "import pandas as pd\n",
    "from TopicGPT.TopicGPT import TopicGPT"
   ]
  },
  {
   "cell_type": "code",
   "execution_count": 10,
   "metadata": {},
   "outputs": [],
   "source": [
    "import os\n",
    "api_key_openai = os.environ.get('OPENAI_API_KEY2')"
   ]
  },
  {
   "cell_type": "code",
   "execution_count": 11,
   "metadata": {},
   "outputs": [],
   "source": [
    "# data from https://www.kaggle.com/datasets/kritanjalijain/amazon-reviews?resource=download\n",
    "\n",
    "review_data = pd.read_csv(\"../Data/AmazonReviews/amazon_review_polarity_csv/test.csv\", header=None)"
   ]
  },
  {
   "cell_type": "code",
   "execution_count": 12,
   "metadata": {},
   "outputs": [],
   "source": [
    "reviews = list(review_data[2])"
   ]
  },
  {
   "cell_type": "code",
   "execution_count": 13,
   "metadata": {},
   "outputs": [],
   "source": [
    "reviews = reviews[:10000]"
   ]
  },
  {
   "cell_type": "code",
   "execution_count": 15,
   "metadata": {},
   "outputs": [],
   "source": [
    "tm = TopicGPT(\n",
    "    openai_api_key = api_key_openai,\n",
    "    corpus_intruction= \"The Amazon reviews dataset consists of reviews from amazon. The data span a period of 18 years, including ~35 million reviews up to March 2013.\"\n",
    ")"
   ]
  },
  {
   "cell_type": "code",
   "execution_count": 16,
   "metadata": {},
   "outputs": [
    {
     "name": "stdout",
     "output_type": "stream",
     "text": [
      "Computing vocabulary...\n"
     ]
    },
    {
     "name": "stderr",
     "output_type": "stream",
     "text": [
      "Processing corpus: 100%|██████████| 10000/10000 [00:12<00:00, 829.92it/s]\n"
     ]
    },
    {
     "name": "stdout",
     "output_type": "stream",
     "text": [
      "Most common words:\n",
      "book: 5694\n",
      "n't: 4903\n",
      "one: 3661\n",
      "movie: 2928\n",
      "like: 2846\n",
      "good: 2424\n",
      "would: 2334\n",
      "read: 2252\n",
      "great: 2225\n",
      "time: 1808\n",
      "Computing embeddings...\n"
     ]
    },
    {
     "name": "stderr",
     "output_type": "stream",
     "text": [
      "100%|██████████| 10000/10000 [00:01<00:00, 6269.27it/s]\n",
      "  0%|          | 47/10000 [00:14<42:32,  3.90it/s]  "
     ]
    }
   ],
   "source": [
    "tm.fit(reviews)"
   ]
  },
  {
   "cell_type": "code",
   "execution_count": null,
   "metadata": {},
   "outputs": [
    {
     "data": {
      "text/plain": [
       "[Topic 0: Music Genres,\n",
       " Topic 1: Electronic Accessories,\n",
       " Topic 2: Movie genres,\n",
       " Topic 3: Literary Analysis]"
      ]
     },
     "execution_count": 39,
     "metadata": {},
     "output_type": "execute_result"
    }
   ],
   "source": [
    "tm.topic_lis"
   ]
  },
  {
   "cell_type": "code",
   "execution_count": null,
   "metadata": {},
   "outputs": [
    {
     "data": {
      "text/plain": [
       "[\"This was their first true recording project, although it was thier second full album. I give this album four stars, because, though I love this album and this band, Five stars would mean it's an album that stands next to Physical Graffitti, the White Album, and a select few other records. This album is a must own for fans who enjoy any of the splinter disciplines of what Sabbath, Hendrix, and Zeppelin started. An album worth the money, with many great songs and performances. If there are any criticisms, one would be the production. It leaves some room for improvement. Beyond that, I hope this band can continue to build upon this awesome release for years to come. Purchas and enjoy!\",\n",
       " \"West-West yall! This album is good for what it is meant to be, West coast Gangsta music. It's all about lowridin, smokin chronic, kickin' it and gangbangin in the Golden State. Those who are accustomed to Down South music will probably not like some of the west coast funk. It's a different flavor for some. Me being from Cali, I love this stuff. It is rare that someone captures the essence of the west. I do agree with this not being the best album but it's still worth buying. It's got enough head-bangers to get you to the club. That's Cali-4-ya.... 3 1/2 stars\",\n",
       " 'For those familiar with the Burzum name, Hvis Lyset Tar Oss is largely and widely accepted as his crowning achievement. Utilizing a stunning mixture of layered guitar melodies, gloomy synths, and thunderous percussion, Varg works his way through three hypnotic metal songs before the ambitious ambient outro - Tomhet. Rather than sit here and rattle on about the magic contained within this record, I would rather just claim that it is a must have for any black metal fan, and ranks among the highest calibur or metal releases period.',\n",
       " 'Certain songs from naglfar are without a doubt outstanding esp. \"12th rising\", \"brimstone gate\", but the songs off of Vittra all sound similar. I can\\'t really decipher between them. Most of the riffs aren\\'t capturing. It is hard to find the cd Diabolical which has the songs i mentioned above but already I can tell you that cd is better than Vittra.',\n",
       " 'Ever since I got this album since last summer, I kept on thinking what this album will sound like. I never wanted to stop listening to this album, because their music is so spectacular. If you heard the first track, Laetitia kinda does the loud humming and someone keeps on playing the synthesizer. It reminds me of the Beatles\\' eerie song \"Revolution 9\" from the \"White Album.\" I could\\'ve just imagined while listening to \"Baby Lulu\" and it makes your mind clear with soothing and beautiful sounds. This is the best album I\\'ve ever heard, and I listen to this album while I study and you should listen to this while you\\'re at work or home. Stereolab totally gets your stresses away by listening to them. Bye-Bye! :-)',\n",
       " 'First of all, I saw the review by \"Tyley Mike \"Relite\"\" and thought he was grossly overcritical of EVERYTHING and every instrument played... so I\\'d like to hear Tyley Mike\\'s album, since he thinks he can do better :) --seriously! I think some people don\\'t understand that things sound the way they were MEANT to sound, if they sound poppy, they made it that way, why the hell should they stick to the norm? They want to do something different and in my opinion it sounds great.I can\\'t write a good enough review for this album, all their albums actually, as they are all a masterpiece of their own while still being different enough to keep it interesting. It bugs me when a group doesn\\'t evolve or try new things and stays exactly the same as they ever were, all the time, so I was glad to see them progress and \"grow\".There\\'s too much to say to describe this album, but frankly I don\\'t think I could write a good enough review to do it justice, so I\\'ll just give it my 5 stars :)',\n",
       " 'One of the few CDs of Asatru music that I actually enjoy. I could quibble with some things in the lyrics which are not quite in line with the lore, but overall I find the music both pleasant and inspiring.This CD draws upon Scandinavian folk music for inspiration for its melodies. With the exception of one track, the lyrics are in English. The lead singer, Andrea Nebel Haugan, can actually sing! Professionally done and melodic.Many of my non-Heathen friends also enjoy listening to this CD.',\n",
       " 'I really enjoy this album and the level of playing is admirable. There is a good range of tunes, which fit together well as a whole. I think I listened to it about 6 times in a row when I first got it.',\n",
       " 'Northwinds seems to have a good share of originality to their sound.It might be sort of tough to describe their work,but I\\'ll try.A French progressive outfit that blends old school Sabbath with celtic music.Would that formula even fly?It does here.Notice some truly inspired heavy guitar work along with some superb keyboard and flute playing on \\'Great...\\'.A total of six cuts,with each one averaging eight minutes.Tunes I couldn\\'t get enough of were the title track,\"Great God Pan\",their Sabbath cover of \"A National Acrobat\"(talk about covering an obscurity-great work!!)and the epic \"The Forest Of Koncerei\".A real keeper.',\n",
       " \"A bit of a change this time for Dredg, less progressive material, more straight ahead rock tunes. I was a little disappointed in it. It doesn't have alot of stuff going on like with El Cielo which is pretty big compared to Catch Without Arms. But still this is the direction they chose to go in and it's definitely a very good one.\",\n",
       " 'I just can say i love this album for the simple reason it is the first one and never equaled in sound, elegance, quality, essence, delicate sadness and youth. It is incomparable and it deserves to be listen by good and pacient tastes in post XX century pop music.I do recomended.(...)',\n",
       " \"This is a really cool record to own. My Favorite Muffs albums are Happy Birthday To Me and Alert Today Alive Tomorrow so I like their later material. This Hambuger is a lot of early stuff and some later but I really like it. I think its cronilogical and its interesting to hear how they've improved with time. Good cd!\",\n",
       " 'Very good comprehensive review on The Band. Gives good insight into the individual members and why some of their songs were written. A good addition to my collection.',\n",
       " 'When I first heard this album I loved it. After listening to it more closely, I still like it a lot, but am not quite so blown away by it. When it first came out, it might have been groundbreaking, but so much has happened since in the world of technical/avant-garde metal, that much of this album now sounds a little tame. The material hasn\\'t aged very well. There are a couple of truly great songs in the middle-- all of the others are definitely good, just not mind-blowing (as some of the material on their older albums still is). The new vocalist on this album added a new dimension to the band-- a great improvement over Snake, in my opinion. If you want a truly great album, though, get their next, \"Phobos.\"',\n",
       " 'edith has created a venue for herself to exorcise melancholic memories with painful melodies. there are no disguises on this collection. lonesome guitars and medicinal piano radiate the mood of broken spirits. she writes all her own songs. these ballads are definite reminders of those unbearable moments we all have to live. they are all gray sky, secluded,isolating tunes. i envision a ironical pace. i thought she was from chicago, millions and millions of people, and she sings stark loneliness',\n",
       " \"This is my first Lou Reed Video. I can honestly say that I enjoyed it. I have gained some new perspective on Lou's music. He is a true professional. Before I turned it on, I knew I would like my favorites, Sweet Jane and Walk on the Wild Side, but I found myself enveloped in the other songs, which I had never heard before. I was a casual Lou Reed Fan.I think if I liked it, then a real hardcore fan will love it.The video is high quality and the sound is great, it's like having a front row seat. I'm glad I purchased this one.\",\n",
       " 'I love Kala as well, because it sounds cleaner and more developed. However this album was an excellant break out in her career. fire, fire is one of my favorites. Mix with marijuana.',\n",
       " \"The moment I put this cd on and heard the light, lulling strum of a dreamy guitar fluttering like soft breezes that carried with them the whispered caresses of sun-kissed Gregorian chants, followed by the ocean spray of some middle eastern voice sweetly singing amidst gorgeous strings and a hypnotic beat, I knew this was going to be one journey I'd be willing to take for many years to come...and that was the impression I got from the first track alone! Imagine what ensued... It only gets better from there!Every song is aptly titled to create a spellbinding mood, and while I find this exotically soothing debut album by Black Ether (an astonishingly overlooked group) extremely hard to classify because it is so diversified in its use of instruments and styles, I'd have to say if you enjoy lush chillout music with an ethnic-world flavor to it than this is most definitely your cup of tea.\",\n",
       " \"Not everyone can like every album. But, for me, One Second is my all-time favorite. I have listed to it regularly since it was first released and have never tired of the complex rhythms and musical variety that it offers. One Second is different from Yello's other albums and, in my opinion, doesn't hold as much appeal for someone looking for pure techno. While the drum machines and sequencers are certainly there (and brilliantly done), the sound is less annalog and has more feel. It is not background music, but rather must be listened to to be enjoyed. The latin influence is wonderful and the music sounds as if it were made for Shirley Bassey's style and voice. In my mind, this album creates its own genre of music which I have yet to find elsewhere. It is different, but it is very very good!\",\n",
       " 'Like this is breath of fresh air in the dance music world filled with meaningless Technobeat with no specific direction. This song brought back the good memories of the 70\\'s by using a sample of the classic \"clean up the ghetto\". Monday Midnite\\'s freestyle story about his experience at a London underground discotheque is unique and his succintly clear and distinctive accent is rare and I like it a lot. Plus, the song keeps you dancing till the last beat. Love it.',\n",
       " 'First thing\\'s first, \"Homespun\" is an album of demos for \"Apple Venus\". If you don\\'t have that record, look there first (although if you\\'re new to XTC, \"Skylarking\" is the usual recommendation).So a collection of demos, what to expect? Essentially it\\'s a track-by-track match for \"Apple Venus\". Sonically, you couldn\\'t tell it\\'s so much a set of demos except in a couple places (\"Frivolous Tonight\") because it sounds so complete, in fact to the point where some pieces sound virtually identical to their final takes-- even in places you wouldn\\'t expect it like orchestral workouts \"River of Orchids\" and \"Green Man\".Is it interesting? Yeah, extremely, and in a lot of places it can be as good or better than the original (\"Knights in Shining Karma\"), but truth to be told, unless you\\'re a diehard, you probably don\\'t need to hear the work versions of this material. More casual fans definitely want to check out \"Apple Venus\", it\\'s a fine record.',\n",
       " 'As far as I know,this predates anything else known as \"drone\" music,which seems to be a popular genre these days.This is about as psychedelic as it gets,your mind wandering out into the infinite void.So good.',\n",
       " 'Hatebreed album Satifaction is the Death of Desire has to be one of the all time best albums I have ever heard. I list to a lot of hardcore and and this album never comes out of my disc changer. If you are looking for strong lyrics, strong music, and an awsome groove that you and your friends can kill each other to, buy this and never stop listening to it.',\n",
       " 'My lovely Pat has one of the GREAT voices of her generation. I have listened to this CD for YEARS and I still LOVE IT. When I\\'m in a good mood it makes me feel better. A bad mood just evaporates like sugar in the rain. This CD just oozes LIFE. Vocals are jusat STUUNNING and lyrics just kill. One of life\\'s hidden gems. This is a desert isle CD in my book. Why she never made it big is just beyond me. Everytime I play this, no matter black, white, young, old, male, female EVERYBODY says one thing \"Who was that singing ?\"',\n",
       " \"This album contains danceable techno and mellow techno (trancey/ambient). Unlike most albums, ALL of the songs on this album are great. You'll definitely get your money's worth from this album. And even though it's over 6 years old, the music still sounds brilliant. Like Michael Stipe of R.E.M. said, this album was several years ahead of its time.\",\n",
       " 'Well I am.... I have to say in all honesty.... A true Magnum fan, In the past I followed them all the way to see them perform live and at there very best, which was in my own personal opinion...All the time ! Vigilante is certainly one of Magnum`s finest example`s of good solid heavy rock on any one given Cd ! \"Need a lot of Love\" is one of there finest along with \"Vigilante\" of coarse ! And there is also track`s like \"Lonely Night\" and \"Midnight\" on there too ! I personally have all Magnum`s Cd`s as I`m so into there genre of music and culture ! I Simply could`nt be without ! But if you like a bit of Live in concert Magnum then i recomend that You get you`re hand`s on Magnum`s \"Live\" cd !',\n",
       " \"From a female hardcore lovers point of view: I have just got to say that Hatebreed is amazing. By far one of the best hardcore albums I've heard in a while. THis album is full of raw, true emotion - it makes me aware of where I am with myself as well as with others. Hatebreed goes further than just delivering a simple hardcore sound - they truly give it in a way that makes me FEEL the music. It has the ability to take one to the emotional edge and back. I would love to thank the band personally for creating and SHARING thier sound with others...and for inspiring me.\",\n",
       " 'Ra has to be one of the most underrated band in rock music.When I heard their first cd I was blown away. These guys are amazing. The whole feel of this band is just is so different than anything I have heard in many years. This cd is really good and I would hope the world would sit up and take notice.These guys are talented musicians and in modern music that can be rare.The music is angery and powerful and then it is smooth and melodic.Tell Me, I lost everything today,The only one, and got me going are some of the ones that stand out to me.The cover of the Police\\'s \"Every Little Thing She Does Is Magic\" is one of the more interesting covers I have ever heard.If you liked \"From One\" the buy this disc. I would love to see these guy live.',\n",
       " \"The only reason I am giving this CD 4 stars instead of 5, is because it is too short! Lhasa's voice is sultry, sad and powerful. The music is haunting yet airy. Perfection!\",\n",
       " \"Despite the fact that I have only played a small portion of the game, the music I heard (plus the connection to Chrono Trigger which was great as well) led me to purchase the soundtrack, and it remains one of my favorite albums. There is an incredible mix of fun, epic, and emotional songs. Those sad and beautiful tracks I especially like, as there's not too many of those kinds of songs in my other video game soundtracks. I must admit that one of the songs (Life-A Distant Promise) has brought tears to my eyes on many occasions.My one complaint about this soundtrack is that they use guitar fretting effects in many of the songs, which I find distracting. But even if those weren't included I would still consider the collection worth it.\",\n",
       " 'As a 27 year old man from the UK, I was stunned by how this record took me back to bike rides along the beach in a simpler time (which was quite frankly, before my time). I love it and hope you do too.Thanks, OC.',\n",
       " \"I bought this cd initialey by mistake. I was in a hurry and missed the cd i wanted right next to it. It must have been God's hand directing me to this stunning album. I had only heard the band on the radio and by the time song one was over i was hooked. I sat there and let Shirley Manson's rich voice enthrall me through the rest of the cd. I went out immeadiately and found their first cd, which was just as good, but in a different way. That is what makes this a great band (among other things). THe ability to reinvent without loosing the soul/sound of the music.Two great albums. I can only hope that they grace us all with many more.\",\n",
       " 'I find the terrorist links in her songs offensive.Taken from Fire Fire-\"Growin up, Brewin UpGuerilla gettin trained uplook out look outFrom over the Rooftop\" [reffering to LTTE snipers]\"Competition coming up nowLoad up,Aim,Fire Fire,Pop\"She has a lot of LTTE propaganda in her music website, and even promotes this terrorist organisation in her music. She needs to get a grip, and the people buying her music need to get a grip and actually look at what they\\'re buying here.',\n",
       " '...i had never heard Fair to Midland before hearing this music but cant help making comparisons. It is still wonderful music and Ill explore it further...',\n",
       " 'When I was sick a few weeks ago my brother bought me this cd. Just one spin and I was hooked. What a pleasent surprise! I was expecting heartless trash with the \"lou pearlman\" sound to it. (remember o-town??\" This cd is definatly nothing like that. The main singer (Guthrie) wrote most of the songs himself. Along with the fact the group does not do choreographed dancing. (Is it me or is anybody else sick of that??) The ratings are out of a scale of 1-4Ohh its kinda crazy- 3 1/2No one does it better- 4 (great harmonies)I don\\'t need anyone- 3Feelin\\' You- 3 1/2Faded- 4 (everyones fav; wassup sarah?)Lets do it right- 3Only in my mind- 3.5Stay- 4Baby come back- 3Gravity- 2.5Next Time- 4*In memory of Michael Cuccione of 2gether 1985-2001*',\n",
       " 'This is an excellent album with some great fiddle playing. Ryan is amazing to watch when he plays in person. You can feel the emotion he puts into each song.',\n",
       " \"Listening to this cd, I turned my car stereo all the way up, on my way back from work. The lyric is very ostentatious and the beats are showy. 10 dollars and Hombre are two of my favorite tracks, they are both clever yet funny. It does have a political overtone, but it's ok, I like the revolution type mood. It's actually very good stuff when you are on a plane, totally blocks out the crying sound of babies next seat, and you can imagine a party in your head.\",\n",
       " 'I have been a fan of Step Rideau and the Zydeco Outlaws since I purchased their CD \"Standing Room Only.\" \"I\\'m So Glad\" has quickly become my favorite. Some tunes are folksy with a zydeco flare and others are very zydeco. This is a \"must buy\" for zydeco lovers. If the Grammys had a catagory for zydeco, Step would win for performer of the year.',\n",
       " \"As a child, I grew up in Knoxville, TN watching Dolly Partin on the Cas Walker Farm & Home Show. I remember her singing Bluegrass back then and didn't really appreciate what I was hearing. Unfortunately, she got away from her roots. Now she has returned with a brilliantly crafted CD that has critics and her fans screaming her praises. Dolly's voice is perfectly suited to singing Bluegrass and shines through like a beacon in the dark. The arrangements are simple and understated and the song selection impeccable. (As a Tenneseean, I wish she would have included her awesome version of Rocky Top or at least updated it.) Dolly's gonna give a lot of fellow artists a run for their money this year at the Grammy's with The Grass is Blue and Trio II. A Top 10 CD if I ever heard one!\",\n",
       " \"It's interesting that Hatebreed gets so much for credit not following in the steps of Slipknot or Limp Bizkit, when they now tour with bands like that. Its also interesting in light of the fact that their music is basically identical to any alterna-metal band's, except without what little talent or melody those bands possess. This band has as much to do with hardcore as Sepultura. I thought this was a joke band when I heard it. f you're really interested in hardcore, put down that jug of Weight Gainer 900, turn off your victory sampler CD, and order a Universal Order of Armadgeddon CD immediately. And stop wearing so much adidas, newjack.\",\n",
       " 'Jenna Reid has produced a debut solo cd of sheer quality from start to finish. This young woman is such a stunning live performer its a joy to see she has produced an equally impressive studio recording. Stripped bare of over production lets her talent be heard. Fiddle playing of the highest order',\n",
       " 'This is a great CD!! I love WeiB Kreuz!! The anime is awsome! Its bout 4 guys (hhhooottt) who work at a flower shop, but at night they are the White Hunters (or Byce as in the anime) they are assasins that \"hunt the tomorrow\" of Bad guys, the bad guys the police cant get . Like when teens start blowing up in flames in public for no reason... from a strange gas substance that w/ instant contact ingulfs any object... but i couldnt resist. Its also an emotional anime at times! I think this is a Cd and Anime any anime fan should see...',\n",
       " \"A friend introduced me to this CD and it's quickly become a favourite. M.I.A.'s music so catchy and so fun to dance to, yet it's also lasting...I've been listening to it over and over. And I love the fact that she brings an ethnic vibe into her music.\",\n",
       " \"This album offers nothing new or exciting to the genre of metal. This is reminiscent of mediocre late 80's trash metal, with all songs sounding the same. Mid-paced tempos and simplistic solos abound, with moronic wayyyyy-out-of-date pretend-satanic lyrics and cartoony cover art. Just dumb, dumb, dumb. Want real thrash metal, aside from the Big Four? Try Coroner, Arch Enemy, Arsis, The Crown, the Haunted, Hypocrisy, and a ton of others that poop all over this album from miles above.\",\n",
       " 'This is a good double CD packed with alot of favorites. I liked slot of her \"dialouges\" between songs (her words & messages are invaluble & timeless). Il Divo accompanies her on several songs, like \"Evergreen\" (I would have preferred her to sing that one alone), \"The Music of the Night\" , & \"Somewhere\" (not favorable with Il Divo)',\n",
       " \"Sorry... I gave this album a few spins but I still can't think of a one good thing to say about it. Except maybe that it will probably be the weirdest thing you'll ever hear... can't say it's not original, but in this case that's not necessairly a good thing. If you're not familiar with this band, this probably wouldn't be the best album to start with.\",\n",
       " 'I have known Kenneth copland since 1973. He has always set very high standards for the recording & prpduction of all his albums. This album is no exception.',\n",
       " \"One of the 80s rock bands that capture my ears!!! It's pity that they are almost retiring soon...\",\n",
       " 'I was so happy with Dolly\\'s \"Hungry Again,\" and her return to real country. I like new country -- but now it is just like pop music. Quite a few one-hit wonders. But Dolly Parton, like Tori Amos and Ani DiFranco (two that came to mind), makes an entire album of great music, instead of an album that showcases two hit songs. If you like folk/indie music, I think you will love this bluegrass album. Her cover of Johnny Cash\\'s \"I Still Miss Someone\" gave me chills. My favorite song is definitely \"Will He Be Waiting For Me.\" This is bluegrass, but I definitely like a female singing it. It just mellows it out. Dolly has now put out two great albums and with rumors of her possibly going on tour, I couldn\\'t be happier. I\\'m 26, have been listening to her since I was little, and have never gotten to see her perform live. But this album, the critics aren\\'t just praising a country hall of famer -- the album deserves every wonderful word.',\n",
       " \"At first I didn't really care for this album, but after a couple of listens, I love it. Neo-soul is here to stay and Musiq is the greatest. My favorite tracks are Womanopoly, Babymother, Who Knows, and so on. This cd is hot and I can't wait for the next one.\",\n",
       " 'This CD has instrumental experimental Jazz and near trance synthesizer pieces. Some of the rhythm patterns have a Latin flavor and feel very danceable. Others remind me of chill out lounge music. A few selections have some subdued vocals that are more part of the background rather than the foreground. I enjoyed the selections and liked working with them in the background. I have not heard the other volumes in the series and so I cannot compare them with each other. My only reservations about this collection is that the mood between selections is not always consistent, some are more mellow and some are more lively. But the mood of the CD is more consistent than a lot of collections I have heard. Some of the pieces are more experimental than the others and are interesting studies. Two of them felt slightly dissident to me, but the experimental sound still felt worth hearing.',\n",
       " \"Cut the crap! it's motorhead, it's rock n' roll, loud, dirty, agressive, but also a singalong album.By far, my favourite Motorhead album, actually the only one that still survives in my collection nowadays.many eternal hard rock classics that must be listened by every metal, hard rock, stoner fan of the XXI century.check out Overkill, stay clean, no class, i'll be your sister, metropolis.\",\n",
       " \"This CD is not Touch Sampler 5, which has not yet been released. This is Touch Sampler 00, released to commemorate the millenium. It's a nice CD, and the track listing is right, but the product title is incorrect. See [...]\",\n",
       " \"Wow, words can barely express the awesomeness of this piece. First I will start with the movie, brilliant! That is all there is to be said about the film. Now the OST, beautiful work. A very dark and somber piece, very moody and atmospheric. Its not something you just listen to for fun, at least for me. Its more of a background music, while doing your business. Its just brilliant. Every track in amazing from beginning to end. I was unfamiliar with Johnny Klimek and Reinhold Heild's work. This cd however makes me want to definatly look into it. It is the perfect sound to go along with the dark nature of the film. Some tracks are very tranquil and moody, while others pound out beats and are very fast paced. All in all a 5/5 for the cd, a definate must have for any collection! Highly recommneded!\",\n",
       " \"Great! This is a Kent Henry praise and worship classic - you can not go wrong with this one. Do not sleep on Kent Henry. I've mentioned in previous reviews that he is one of my favorite praise and worship leaders. This man is gifted, anointed and sings many spontanious praise and worship songs. Although there are no spontanious songs on this one, his CDs from his independent labels are loaded with them. He has a talent for ushering believers into God's presence.The songs are a mixture of upbeat and mellow classics. This is a must have. This CD is out of print and if you can get your hands on one - do it quickly!\",\n",
       " 'I am not one for writing reviews. Just in it for the music. Dance With Angels is FANTASTIC! You pass on this CD and it is your loss.',\n",
       " 'Very informative and fun to listen to for someone of my generation. I had heard bits and pieces of the Yardbirds story, but never the complete picture.',\n",
       " \"The first 5 songs are incredible, and the rest are OK. I live in France and Chumbawamba never got really big there so I haven't heard tubthumping a zillion times, which makes it still interesting to listen to.\",\n",
       " 'This is an awesome soundtrack it is fun and enjoyable to listen to. The Best songs on this cd are all of them. if you have not listened to this cd then i recommend you do',\n",
       " \"Ron's playful and probing musicality emerges in this album with the no-holds-barred clairvoyance I came to expect after he wrote and performed two film scores for me. I find him to be a certifiable, bonafide talent -- one of life's genuine little treasures secreted away in the mountains of Montana. In a way I am [selfishly] sorry to hear his album is realizing such widespread success -- I was kind of hoping to keep him all to myself.\",\n",
       " \"I love Musiq ( even when he had the Soulchild, don't get me wrong all the songs aren't hits BUT for the most part he is doing his thing on this album. Cut my man a break, he is trying and I look forward to his new album. I love his voice, his music and him in general. The tracks that are my fav's are:InfatueightiesWhoknowsFortheNightYouknowyoulovemeMomentinlifeWomanopolyBuy, borrow(from a friend or Library) this Cd it's mellow like the way Neo-soul is supposed to be.Toodles,\",\n",
       " 'I bought Garbage\\'s first album first and I thought the album was great, boasting good tracks like Milk, Queer, Only Happy When it Rains, but the sophomore album was even better. \\'Temptation Waits\\' started out with Manson\\'s menacing voice with simplistic lyrics like, \"I tell you something, I am a wolf but, I like to wear sheep\\'s clothing.\" The second track had a rockier edge to it, and then slowed down with \\'Medication\\'. And then it was fun all the way till \"You Look So Fine\" which ended the album with a sombre note, like how Garbage ended its first title with \"Milk.\"A great buy, almost perfection - you will just repeat it again and again without losing interest.',\n",
       " \"I got a huge kick out of Vinny's interpretations of the Beatles' songs that they never recorded. Sure. they ver due elements from the later years that they should have skipped, as has been written here. But the don't mimic previous covers, but try to recreate the early Beatle sound. It's light and it's fun. It's is not a must have as a Beatles fan, but I think you'll get a big kick out of this disc.\",\n",
       " 'This 3 CD album is a wonerful collection of the \"best\" of Motown, in which the Holland/Dozier/Holland tagline under the title of the record meant high quality R&B;, and almost always resulted in a mega-hit. The collection begins with the very earliest hit -- Eddie Holland singing \"Jamie\", and proceeds through most of the major early hits of The Miracles, The Supremes, Martha and the Vandellas, Mary Wells, The Marvalettes, The 4 Tops, the Isley Brothers, and more.This CD replaces my old collection of 45 RPM recordings, and has allowed me to enjoy the Motown Sound without haaving a huge number of CD\\'s to collect. The one downside about this wonderful collection is that the 3rd CD contains mostly less well-known tunes, with the exceeption of two Diana Ross/Supremes cuts: \"My World is Empty Without You\" and \"Forever Came Today\". In all, the collection is a terrific value and brings back fond memories: The soundtrack to my teenage years; Rock On!!',\n",
       " 'This is really a great CD. Chumbawamba has many political and social thoughts. you just have to understand them.',\n",
       " 'I think that this is one of the best CD\\'s ever. I really like the song \"Gravity\" and \"Next Time\". Those are the best songs on the CD. Everone should get this CD. It is a must.',\n",
       " \"Its amazing how this sounds very odd the first time around you hear it.. then slowly it just hits you and you can't stop listening to it. Also this cd is sorta more insane (literaly) than the first one. and its abit more slow paced. Rocks. Get it! Also, this is the cd that got me nuts about garbage too.\",\n",
       " \"This is a good come-back from the 'This Aint A Game' album, that album was good wit songs like 'wait a minute', 'where do we go from here', 'wet me' and 'formal invite',etc. However, this album is even better. You can tell that he has grown up on this album. I think he is making a name for himself in the music business, and wont just be known as Brandy's kid brother. My fav tracks on this album are: 'Exotic' - love this song 2 bits cant get enough of it. 'In tha Mood', 'Anytime', 'One Wish', 'What I Need' and the crunk track 'Keep Sweatin'. However, there are a few dodgy tracks on there like 'Quit Actin' - i was excited when i saw R. Kelly was on there bt was sadly disappointed when i heard it. 'The War Is Over' - i liked the last duet they did 'another day in paradise' bt after hearing this song they should have stopped then. However, overall its a good album ... WELL DONE RAY J.\",\n",
       " 'I got this CD about a year and a half ago and I still listen to it. It is a very good CD with about 5 good dance tracks. Plus, the trumpet playing is great! I also liked on how smoothly the music and the vocals came together. This is truly a masterpiece',\n",
       " \"I got the feeling when I was listening to this album that he wasn't there musically or lyrically. The majority of this album is just passé and I could take it or leave it. Forthenight is the only song on here that gets major play in my cd player, and he couldn't even give you five minutes to really get into it. The other songs sound as if he was going off into left field. Now only if he could JustgivemeawholealbumIcouldlistentoo!\",\n",
       " 'Garbage is a band like no other. You really have to take a listen to this amazing band to realize how one incorporates so many styles into one little album.This album is packed FULL of classic Garbage songs that can really give you the chills. The opening track \"Temptation Waits\" was very eerie the first time I heard it and I loved it. The next track \"I Think I\\'m Paranoid\" has that heavy bass and light vocals that the band is known for, love the lyrics too.A great album for anyone looking to continue digging thru Garbage. A word of advice though...don\\'t bother with beautifulgarbage if you are a rock fan...defienatley not impressive.',\n",
       " 'Besides the much maligned mega-hit \"Tubthumping\" which I didn\\'t like when it was first released but like now, this is a solid CD with great arrangements, lyrics, and performances. It\\'s not perfect but how many CD\\'s are perfect these days? I have recently discovered \"Ready Mades and Then Some\" - clearly a 5-star effort and a symposium on how to arrange a song. Masterfully done. I won\\'t write a song-by-song critique here because several other reviewers have done a more than adequate job of that. However, I do put forward a challenge to \"rtbarry\" in AZ to move beyond his very own drivel masquerading as a \"review\", if he is capable, to explain in detail what in his opinion is lacking in this CD that rates it only one star? Or, does he believe we are supposed to obey his fiat review as if he were Kim Jong-il of North Korea? Otherwise, \"rtbarry\" don\\'t waste our time with drivel.',\n",
       " \"yes this video is bad quality but it is great to see bowie and the spiders in their final concert, bad quality or not. I'm only 16 and obviously never had the privilidge of seeing them live so this is a great opportunity. I believe the Ziggy era was the most fascinating and exciting, adrogyny is the only way to go!\",\n",
       " \"Thank God he stopped rapping, but now this album sucks too! Glad it was free. He's reppin' Cali too- oh hell no! The crazy thing is he tried working with some new and other producers like R. Kelly and Timberland and they did him wrong! There are only three tight songs numbers 3, 4 and 5, all were produced by Rodney Jerkins, he can't be his sister though, this album proves Ray J just ain't got it, maybe he could if he had just stuck with using Rodney Jerkins. But the beats are not supposed to make you tight, your supposed to make that beat what it is and more.\",\n",
       " 'I can\\'t imagine a more limiting instrument than a music box -- its tones are set in a specific pattern, and it doesn\\'t deviate from that at all. But Colleen somehow makes music boxes magical again. By mixing the traditional plucked sounds with their re-processed and synthesized counterparts, she manages to evoke a fairy tale mysticism. \"What\\'s is a Componium, Part 1\" goes from thick sonics to singular tones at the end. And even it \"Charles\\'s Birthday Card\" relies solely on iterations of Pop Goes the Weasel, \"Will You Gamelan For Me?\" is its own creation immediately. The tinkling comes fast and furious on \"What\\'s is a Componium, Part 2,\" a track that sparkles like moondust. \"Calypso in a Box\" shows off the more processed side, and has an almost Senor Coconut feel for its short running time. The standout piece here is the final track, \"I\\'ll Read You a Story,\" which appeared on an earlier album, but is always welcome anywhere.',\n",
       " \"As usual, Dolly continues trying to sing but has no voice. The musicians are the only good thing about this recording. She's attempting to sing country songs Bluegrass style and it doesn't work.\",\n",
       " 'Garbage rocks. Shirley Manson has a uniqe voice which is great. The music for this record are very expressive and the tunes are very singable.',\n",
       " 'When i first heard his single \"One Wish\" i thought this is a good tune, but then he got to the second verse, i thought eh? This guy cant sing! later on his album came along, his vocals destroy his tracks, literally. Comparing him to other artists such as Mario or 112, you\\'ll realize that he can\\'t sing, full stop. Disappointing.',\n",
       " '1) The intro, \"soulstar.\"2) \"youloveme,\" which should have been the first single, not \"forthenight.\"3) Somewhere between \"momentinlife\" and \"thereason.\"Otherwise, a less than stellar album.',\n",
       " 'The composers of these songs were almost all born in the second half of the 19th century. Their attempt was to create an \"American music\" from native American sources of rhythm and tonality. I get the same sense of hearing original music with these songs as I got the first time I heard Erik Satie. The songs tend to be melodic and peaceful and fresh. Don\\'t expect much in the way of tom-toms and movie indian harmonies. I love to find songs that go to unexpected places. I found that here.For a much more sophisticated review, search \"American Indianists\" and Fred Flaxman.',\n",
       " \"i have listened to this single and i want to feed it to the garbage can man. I urge you to avoid it at all costs, you will not notice the insipidly simple tune working it's way into the core of your being and thus transform you into a similar state of insipid simplicity. For kylie minogue i can find many uses - for her music i find none.\",\n",
       " 'Mysterious jazz that rolls into the imaginary worlds of a Native American dance, a smokey Nashville nightclub, a cruise with the whales...hints of Paul Consort with a crisp and haunting classical foundation, a journey through the 20th Century...and back again into the lonely Montana night where Ron strolls with star gazing abandon.',\n",
       " \"This album is brilliant! If you buy it, I guarantee it'll be the best album you buy all year!\",\n",
       " 'I have been very impressed by other \"pickin on\" music: Lynyrd Skynyrd, Led Zep, Santana, to name a few I have. However, Hendrix music did not translate well at all into the bluegrass style, it was a great disappointment, and this is one CD I will get rid of quickly.',\n",
       " 'Garbage deliver more terrific euro-trash rock on their second album, 1998\\'s \"Version 2.0\". Another mix of crunching guitars, wild beats, groovy keyboards & effects, and the sensual voice of Shirley Manson, the band are still the frontrunners of modern rock, with such great, rockin\\' tracks as \"Temptation Waits,\" \"I Think I\\'m Paranoid,\" \"Push It,\" and my personal fave, \"Sleep Together.\" There\\'s also playful pop-rock with \"Special\" (with Shirley tipping her hat to the Pretenders\\' Chrissie Hynde at the end), the delirious \"Hammering In My Head,\" and the truly gorgeous \"You Look So Fine.\" Fabulous music & production from a fabulous band, \"Version 2.0\" is essential Garbage.',\n",
       " 'I knew nothing of Robert McDuffie until I heard him perform the Mendelssohn Concerto at Wolf Trap with the National Symphony. That performance led me to seek out this CD, and McDuffie\\'s playing here is as lovely on the disc as it was in the live performance. His tone may not be as big as Itzhak Perlman\\'s, but it is nevertheless exquisite (the phrase \"spun silver,\" though cliched, is apt). This is true concerto playing, the soloist carrying on a conversation with the orchestra (and, by extension, with the listener). I definitely will seek out more of McDuffie\\'s discs, and I hope others will, too.',\n",
       " 'this cd is even better than the first and if u are thinking about getting, it my advice is to go buy it. go spend a measly 15 bucks to get it, its well worth the money.',\n",
       " 'Quien no va a ser sensilla con la poca fama, talento, y bellesa que esta mujer tiene? No tiene voz suave, ni fuerte. Deveria dedicarse a otra cosa. Lo que sea.. menos cantar, y actuar porque seria igual de ridicula que Patty Navidad!! Este es uno de los peores Discos que he escuchado en toda mi vida!!',\n",
       " 'The one star is for the only ONE good song on this cd. Tubthumping...Actually, this song blows after you hear it more than 5 times. This cd has only been in my cd player once...That is the day i bought it. If you like wasting money, buy this cd.',\n",
       " 'Ok, first of all I was looking for Lighthouse the Classic Pop/Rock Group. There was NOTHING to tell me that this album was a Gospel CD.OK, I can live with that...So I listen to my new Lighthouse (GOSPEL) CD. Let me tell you, I was NOT IMPRESSED! The engineering sucked, The Music was mmmmmmm... ok, I guess, and, the singing really had NO feeling or substance behind it!So if you are into Gospel, steer clean and, if you are looking for Lighthouse (the classic pop/rock group), THIS IS NOT IT!Latter...',\n",
       " \"The only thing interesting about this album is mia's accent. Seriously, the beats her singing is layered over are tired and clichéd. If the vocals on this album were by anyone else it would not be in the top 500. Final Verdict: Bad music.\",\n",
       " \"I own several dozen Christmas Jazz CD's. How did I miss this one for so long? It's a winner from begining to end. The Trio really delivers some tasty versions of your favorite Christmas standards. Each nugget features a unique take on the song without straying too far from the original sound. Very upbeat and lively thtoughout. Not your standard, elevator jazz.\",\n",
       " \"Charles Brown is an American treasure. His blues piano stylings are the perfect compliment to his unmistakable vocals. The selections on this cd are typical of the high quality music that CB has produced his entire life. Buy this cd. Buy any cd by Charles Brown. You won't regret it.\",\n",
       " 'Madonna is a great singer who sings an even better musical. She is so full of emotion that on her last wispers of \"Lament\" it actually sounds like she is about to enter immortality. While in the song \"Beuonos Aires\" she sounds like a ambitious young girl yelling for attention. She is a great actor. If I could change one thing it would be to switch Jimmy Nail and Jonathin Pryce because Nail should sing more songs and Price should sing less.',\n",
       " 'This is one of the best of Marco Polo’s Josef Strauss Edition. Mika Eichenholf allows to quick polkas to gallop fleetly, the march has plenty of swagger, the polkas mazur have poise, and there is a lilt and a joy in the waltzes that make you welcome rather than dread the many repeats. Josef Strauss often succeeded in creating dances in the minor key, but there are none of them here. What is here is his last composition, the “Hesperus-Bahnen Waltz”, published as Op 279, after the forty-three year old composer’s death.',\n",
       " \"I was hoping that this band would have evolved in some or any degree over the past decade, but sadly they have not. Having the courtney love message on this cd is further testament that this band is tapped out. Now that Kim is in her 40s, you'd think there would be more emphasis to release a breakthrough cd rather than these out-takes from the past.\",\n",
       " \"IT'S OLD SCHOOL JAMS!!! I HAVE SEARCHED AND SEARCHED FOR THIS CD FOR THE LONGEST. I HAVE FINALLY FOUND IT!!! NOW I HAVE TO PURCHASE IT.\",\n",
       " \"... to Jazzie of Hampstead, London. Don't know what you were looking at. Your last graf, where you make up some quote from Lou at the end of the show, is totally bogus. In fact, Lou says just the opposite. Pay no attention to that innacurate review. Lou has his good nights and his bad nights. This was one of the best performances of his career.\",\n",
       " 'The performances seem fine. The recording is a mess. The woodwinds are LOST in the intro to Festive Overture because there is too much reverberation. The mics must have been placed in the back of an empty hall (more like a cavern). This is a real disappointment because the orchestra is outstanding. This is a one listen CD... then file it away forever.',\n",
       " \"This material represents why the 80's died, the music is bland and poppy, the Wilson sister's garnered their wigs and corsets and the the music became something of an inside joke to those mentioning real bands. Looking back at the cd the music is very dated and is caught in an era best left forgotten.\",\n",
       " 'I purchased the original Klaatu album on vinyl in 1976. I love the album as much now on CD as it did then. However \"Hope\" is far too theatrical, with virtually no actual songs on it. If I could give it 0 stars I would.',\n",
       " 'No, I\\'m not making this up. Somebody actually produced this recording. Actually, two people produced it. Nearly two string quartets were assembled to play on it. (I say \"nearly,\" because most of the tracks were played by a trio, who apparently used overdubbing to inflate themselves into a quartet.) I\\'m not sure that any string quartet could have made this music seem appropriate or entertaining: these folks certainly were not up to the task. The end result is so banal and boring that it does not even work as a novelty record that might be fun to play at parties. Unbelievable...',\n",
       " 'I watched The Velvet rope tour on HBO and it was the bomb, it was the greatest tour that I have ever seen, everything was choreographed pefectly, the music was slammin and Janet really communicated with her fans. When she sang \"I get Lonely\", \"Nasty\" and \"You\", it sent me Crazy. I love you Janet!',\n",
       " 'Complete garbage, the sound quality is horrible, if your going to release a best of cd, record it with something other than a preschool microphone covered with a wet rag.',\n",
       " \"This is yet another lush, shimmering pscyo-erotic opera by Franz Schreker, wonderfully performed by the forces involved -- I suggest you just read the review of 02/12/04 to get a good summary of the surreal plot. At least one other reviewer has termed it not as a good as the composer's masterpiece, Die Gezeichneten, and while I wouldn't disagree with that judgement, this music drama comes pretty close to matching its sibling, particularly in the second half. Other than Mozart, Bizet's Carmen and a small handful of others, I'm not a great opera fan but Schreker's output in this genre to be absolutely stunning. Highly recommended.\",\n",
       " \"All I can say is wow! I never thought Madonna could sing like this. Now I am a huge fan of hers. Antonio Banderas's accent makes him fit the part of Che very nicely. The songs are incomparable. If I could change one thing it would be Jonathan Pryce because he has an annoying voice.\",\n",
       " \"I own this album in the original vinyl and a earlier CD release. I am always a sucker for a remaster, so decided what the heck. I chose poorly - the remixes just don't sound right. For all I know, this 2006 version was the original intent, I hope not.\",\n",
       " 'If a music company wants to remix an old album they should put it on a second disc like Pearl Jam did with their recent re-release of 10, not replace the original album mix like Mushroom is doing here. This new remix is not as good as the original versions of these songs. Wish they would remaster the original mix and issue it.',\n",
       " 'Bootleg collection of b-sides, remixes, and singles. Really, why even bother?',\n",
       " \"I WAS LISTENING TO THIS CD AT MY FRIENDS HOUSE, AND IT REALLY SUCKED!!!!! IF SOMEONE IS ITNERESTED IN BUYING THIS, DON'T, IT'S A WATSE OF YOUR MONEY!!!!!!!\",\n",
       " 'I have, too, but this isn\\'t it. The translation is very choppy, the singers are medicore at best, and the orchestrations are too overwhelming. \"Love Changes Everything\" is shredded to the point where it hurts to listen to it.Oddly, the best song is the French \"Chanson d\\'Enfance.\"I was very surprised, as the Japanese usually put out extramely good cast CDS. Their CATS and Phantom and the Tokoyo Evita are all great. But unless you are a total ALW or AOL fanatic, save your money.',\n",
       " 'I\\'ll tell you what\\'s REALLY in the spirit of the band: that FBI seal and warning on the back cover that states that any and all duplications of the cd are \"illegal\". Not that anybody would enjoy a duplication anyway. If this is \"true\" Nirvana, then \"true\" Nirvana sucks.',\n",
       " \"The CD isn't what I remember about Liberace. He was a great performer and showman. On this CD , there is very little of his solo piano music. Very little grand piano type music at all. Most of what you do get is overshadowed by the background music. I was disapointed.\",\n",
       " \"I am a huge Nirvana fan I have been one ever since 1990 when I first listened to Bleach. If you are die hard like me you will not like this album, you probably already have all the songs on this album so don't waste your money. The only reason I would recommend someone to but this album is if they did not buy the box set. I wish I had my $10.00 back.\",\n",
       " \"Trout Fishing In America make kids music, they do it well, and the album probably will stand up to the death play the kids will give it, even with adults, although I highly doubt many adults will listen to it for it's own merits. If you need a CD for your kids to listen to that won't drive you crazy, you have found it, but otherwise this is probably not a CD you want to own.\",\n",
       " 'I should have read what the cd was about. I thought it was just music by Chopin but it was really a lot of soprano singing.',\n",
       " \"Our almost 3-year old son knows nearly every word of this album by heart, our 15-month old perks up when ralph is on, and we parents hum the tunes and enjoy the smart lyrics - even though we hear this music daily ! The music is rich and doesn't go stale, and manages to bridge the generation gap.\",\n",
       " 'I nearly cried when I realized that this was an abridged version. There is no indication in the record. I was really looking forward to these CDs.',\n",
       " \"My son was very excited as we put the CD in the player! But when the music started, he was very unhappy!! The songs don't sound anything like the ones on the show. The melody and pace are different- and the performers aren't interesting. DON'T BUY if you are familiar with the 'REAL' songs.\"]"
      ]
     },
     "execution_count": 40,
     "metadata": {},
     "output_type": "execute_result"
    }
   ],
   "source": [
    "tm.topic_lis[0].documents"
   ]
  },
  {
   "cell_type": "code",
   "execution_count": null,
   "metadata": {},
   "outputs": [],
   "source": []
  }
 ],
 "metadata": {
  "kernelspec": {
   "display_name": "llm_sem",
   "language": "python",
   "name": "python3"
  },
  "language_info": {
   "codemirror_mode": {
    "name": "ipython",
    "version": 3
   },
   "file_extension": ".py",
   "mimetype": "text/x-python",
   "name": "python",
   "nbconvert_exporter": "python",
   "pygments_lexer": "ipython3",
   "version": "3.11.4"
  },
  "orig_nbformat": 4
 },
 "nbformat": 4,
 "nbformat_minor": 2
}
