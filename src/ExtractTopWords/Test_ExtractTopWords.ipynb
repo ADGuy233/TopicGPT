{
 "cells": [
  {
   "cell_type": "code",
   "execution_count": 132,
   "metadata": {},
   "outputs": [
    {
     "name": "stdout",
     "output_type": "stream",
     "text": [
      "c:\\Users\\arik_\\Documents\\Dokumente\\Studium\\Master\\LLM_seminar\\Project\\src\n"
     ]
    },
    {
     "name": "stderr",
     "output_type": "stream",
     "text": [
      "[nltk_data] Downloading package stopwords to\n",
      "[nltk_data]     C:\\Users\\arik_\\AppData\\Roaming\\nltk_data...\n",
      "[nltk_data]   Package stopwords is already up-to-date!\n",
      "[nltk_data] Downloading package punkt to\n",
      "[nltk_data]     C:\\Users\\arik_\\AppData\\Roaming\\nltk_data...\n",
      "[nltk_data]   Package punkt is already up-to-date!\n"
     ]
    },
    {
     "name": "stdout",
     "output_type": "stream",
     "text": [
      "The autoreload extension is already loaded. To reload it, use:\n",
      "  %reload_ext autoreload\n"
     ]
    }
   ],
   "source": [
    "%load_ext autoreload\n",
    "%autoreload 2"
   ]
  },
  {
   "cell_type": "code",
   "execution_count": 133,
   "metadata": {},
   "outputs": [],
   "source": [
    "import os\n",
    "api_key_openai = os.environ.get('OPENAI_API_KEY')\n",
    "org_openai = os.environ.get('OPENAI_ORG')\n",
    "\n",
    "import openai\n",
    "openai.organization = org_openai"
   ]
  },
  {
   "cell_type": "code",
   "execution_count": 134,
   "metadata": {},
   "outputs": [],
   "source": [
    "import os\n",
    "import sys\n",
    "import inspect\n",
    "\n",
    "sys.path.insert(0, '../..')\n",
    "\n",
    "import pickle"
   ]
  },
  {
   "cell_type": "code",
   "execution_count": 135,
   "metadata": {},
   "outputs": [],
   "source": [
    "from src.GetEmbeddings.GetEmbeddingsOpenAI import GetEmbeddingsOpenAI"
   ]
  },
  {
   "cell_type": "code",
   "execution_count": 136,
   "metadata": {},
   "outputs": [],
   "source": [
    "from src.Clustering.Clustering import Clustering_and_DimRed"
   ]
  },
  {
   "cell_type": "code",
   "execution_count": 137,
   "metadata": {},
   "outputs": [],
   "source": [
    "data = pickle.load(open(\"../../Data/Emebeddings/embeddings_reuters_raw.pkl\", \"rb\"))\n",
    "embeddings = data[\"embeddings\"]\n",
    "corpus = data[\"corpus\"]"
   ]
  },
  {
   "cell_type": "code",
   "execution_count": 138,
   "metadata": {},
   "outputs": [
    {
     "name": "stdout",
     "output_type": "stream",
     "text": [
      "UMAP(angular_rp_forest=True, metric='cosine', min_dist=0, n_components=5, random_state=42, verbose=True)\n",
      "Sat Jul 29 09:52:23 2023 Construct fuzzy simplicial set\n",
      "Sat Jul 29 09:52:23 2023 Finding Nearest Neighbors\n",
      "Sat Jul 29 09:52:23 2023 Building RP forest with 10 trees\n",
      "Sat Jul 29 09:52:23 2023 NN descent for 13 iterations\n",
      "\t 1  /  13\n",
      "\t 2  /  13\n",
      "\t 3  /  13\n",
      "\t 4  /  13\n",
      "\t 5  /  13\n",
      "\t 6  /  13\n",
      "\tStopping threshold met -- exiting after 6 iterations\n",
      "Sat Jul 29 09:52:24 2023 Finished Nearest Neighbor Search\n",
      "Sat Jul 29 09:52:24 2023 Construct embedding\n"
     ]
    },
    {
     "name": "stderr",
     "output_type": "stream",
     "text": [
      "Epochs completed: 100%| ██████████ 200/200 [00:06]\n"
     ]
    },
    {
     "name": "stdout",
     "output_type": "stream",
     "text": [
      "Sat Jul 29 09:52:31 2023 Finished embedding\n"
     ]
    }
   ],
   "source": [
    "clusterer = Clustering_and_DimRed()\n",
    "dim_red_embeddings, clusters = clusterer.cluster_and_reduce(embeddings)"
   ]
  },
  {
   "cell_type": "code",
   "execution_count": 139,
   "metadata": {},
   "outputs": [],
   "source": [
    "import ExtractTopWords"
   ]
  },
  {
   "cell_type": "code",
   "execution_count": 140,
   "metadata": {},
   "outputs": [],
   "source": [
    "extractor = ExtractTopWords.ExtractTopWords()"
   ]
  },
  {
   "cell_type": "code",
   "execution_count": 141,
   "metadata": {},
   "outputs": [],
   "source": [
    "centroid_dict = extractor.extract_centroids(dim_red_embeddings, clusters)"
   ]
  },
  {
   "cell_type": "code",
   "execution_count": 142,
   "metadata": {},
   "outputs": [
    {
     "data": {
      "text/plain": [
       "array([0.00458414, 0.00517667, 0.00517025, ..., 0.00498587, 0.00548446,\n",
       "       0.00513136], dtype=float32)"
      ]
     },
     "execution_count": 142,
     "metadata": {},
     "output_type": "execute_result"
    }
   ],
   "source": [
    "extractor.compute_centroid_similarity(dim_red_embeddings, extractor.extract_centroids(dim_red_embeddings, clusters), 0)"
   ]
  },
  {
   "cell_type": "code",
   "execution_count": 143,
   "metadata": {},
   "outputs": [
    {
     "name": "stderr",
     "output_type": "stream",
     "text": [
      "Processing corpus: 100%|██████████| 10788/10788 [00:10<00:00, 1006.06it/s]\n"
     ]
    }
   ],
   "source": [
    "vocab = extractor.compute_corpus_vocab(corpus)"
   ]
  },
  {
   "cell_type": "code",
   "execution_count": 144,
   "metadata": {},
   "outputs": [
    {
     "data": {
      "text/plain": [
       "12328"
      ]
     },
     "execution_count": 144,
     "metadata": {},
     "output_type": "execute_result"
    }
   ],
   "source": [
    "len(vocab)"
   ]
  },
  {
   "cell_type": "code",
   "execution_count": 145,
   "metadata": {},
   "outputs": [
    {
     "name": "stderr",
     "output_type": "stream",
     "text": [
      "[nltk_data] Downloading package punkt to\n",
      "[nltk_data]     C:\\Users\\arik_\\AppData\\Roaming\\nltk_data...\n",
      "[nltk_data]   Package punkt is already up-to-date!\n",
      "Computing words per topic: 100%|██████████| 10788/10788 [00:06<00:00, 1787.31it/s]\n"
     ]
    }
   ],
   "source": [
    "words_per_topic = extractor.compute_words_topics(corpus, vocab, clusters)"
   ]
  },
  {
   "cell_type": "code",
   "execution_count": 146,
   "metadata": {},
   "outputs": [],
   "source": [
    "with open(\"..\\\\..\\\\Data\\Emebeddings\\\\vocab_reuters_embeddings.pkl\", \"rb\") as f:\n",
    "    embeddings_vocab = pickle.load(f)"
   ]
  },
  {
   "cell_type": "code",
   "execution_count": 156,
   "metadata": {},
   "outputs": [],
   "source": [
    "vocab = list(embeddings_vocab.keys())"
   ]
  },
  {
   "cell_type": "code",
   "execution_count": 158,
   "metadata": {},
   "outputs": [
    {
     "data": {
      "text/plain": [
       "{\"'protectionism\": array([-0.02040513, -0.02742023,  0.01220974, ...,  0.00547804,\n",
       "        -0.02509964, -0.01084939]),\n",
       " \"'the\": array([-0.01447807,  0.01398942, -0.00478181, ..., -0.02067698,\n",
       "         0.00279055, -0.02560538]),\n",
       " \"'triple\": array([-0.03341294,  0.0097142 ,  0.0111307 , ..., -0.00924897,\n",
       "        -0.00981141, -0.02519164]),\n",
       " \"'we\": array([ 0.00537589,  0.00428523,  0.01002702, ..., -0.01336232,\n",
       "        -0.00720186, -0.00173186]),\n",
       " '-dealers': array([-0.0193319 , -0.00155163,  0.00282889, ..., -0.00699384,\n",
       "        -0.01089975, -0.01561003]),\n",
       " '-led': array([-0.00622114, -0.00846948,  0.0067523 , ..., -0.01509081,\n",
       "        -0.00842583, -0.00714522]),\n",
       " '-official': array([-0.01431551, -0.00893727, -0.00185228, ..., -0.00580823,\n",
       "        -0.00337876, -0.01006187]),\n",
       " '-stoltenberg': array([-0.01007332, -0.0174982 , -0.0072997 , ...,  0.00362679,\n",
       "         0.01270201, -0.0072997 ]),\n",
       " '-trade': array([-0.00573205, -0.02175866,  0.02628718, ..., -0.01642779,\n",
       "        -0.01262682, -0.03361712]),\n",
       " '1-apr-1987': array([-0.02390426, -0.01398199, -0.02247535, ..., -0.00074659,\n",
       "        -0.01737399, -0.010383  ])}"
      ]
     },
     "execution_count": 158,
     "metadata": {},
     "output_type": "execute_result"
    }
   ],
   "source": [
    "embeddings_vocab"
   ]
  },
  {
   "cell_type": "code",
   "execution_count": 147,
   "metadata": {},
   "outputs": [
    {
     "name": "stderr",
     "output_type": "stream",
     "text": [
      "Computing word-topic matrix: 100%|██████████| 10788/10788 [01:21<00:00, 131.94it/s]"
     ]
    },
    {
     "name": "stdout",
     "output_type": "stream",
     "text": [
      "(12328, 118) (12328,)\n"
     ]
    },
    {
     "name": "stderr",
     "output_type": "stream",
     "text": [
      "\n",
      "c:\\Users\\arik_\\Documents\\Dokumente\\Studium\\Master\\LLM_seminar\\Project\\src\\ExtractTopWords\\ExtractTopWords.py:222: RuntimeWarning: invalid value encountered in divide\n",
      "  labels: np.ndarray, cluster labels. -1 means outlier\n",
      "c:\\Users\\arik_\\Documents\\Dokumente\\Studium\\Master\\LLM_seminar\\Project\\src\\ExtractTopWords\\ExtractTopWords.py:223: RuntimeWarning: divide by zero encountered in divide\n",
      "  top_n_words: int, number of top words to extract per topic\n",
      "c:\\Users\\arik_\\Documents\\Dokumente\\Studium\\Master\\LLM_seminar\\Project\\src\\ExtractTopWords\\ExtractTopWords.py:227: RuntimeWarning: invalid value encountered in multiply\n",
      "  # compute for each cluster how often each word occurs in the cluster\n"
     ]
    }
   ],
   "source": [
    "tfidf, tws = extractor.extract_topics_tfidf(corpus, vocab, clusters, top_n_words=10)"
   ]
  },
  {
   "cell_type": "code",
   "execution_count": 148,
   "metadata": {},
   "outputs": [
    {
     "data": {
      "text/plain": [
       "['enrollment',\n",
       " 'dmp.mo',\n",
       " 'baked',\n",
       " 'bakeries',\n",
       " 'kodak',\n",
       " 'kock',\n",
       " 'bally',\n",
       " 'mathews',\n",
       " 'matra',\n",
       " 'aegean']"
      ]
     },
     "execution_count": 148,
     "metadata": {},
     "output_type": "execute_result"
    }
   ],
   "source": [
    "tfidf[12]"
   ]
  },
  {
   "cell_type": "code",
   "execution_count": 151,
   "metadata": {},
   "outputs": [
    {
     "data": {
      "text/plain": [
       "['CITIBANK LOWERS AUSTRALIAN PRIME RATE TO 16 PCT   Citibank Ltd said it would lower its   Australian prime rate to 16 pct from 16.5, effective tomorrow.       The new rate, if unmatched by other banks, will be the   lowest among Australian trading banks. Other primes range from   16.25 to 17.5 pct.       Australian prime rates have now retreated from a recent   peak of 19 pct in October in line with declining money market   levels. Citibank said its reduction reflected the decline.     ',\n",
       " 'COMMONWEALTH BANK CUTS AUSTRALIAN SPLIT PRIME   The Commonwealth Bank of Australia said   it will lower its reference rate for loans to 15.75 pct from   16.25 pct and its overdraft reference rate to 16.25 pct from   16.75, effective June 24.       Bank officials have said the bank regards the overdraft   reference rate, based on short-term rate trends, as its key   prime lending rate to corporate customers. The loan reference   rate is based on longer term trends.       The bank is the latest to cut prime rates in recent days   following a continuing decline in market rates. Other prime   rates now range from 16 pct to 17.5 pct.     ',\n",
       " \"NATIONAL AUSTRALIA BANK LOWERS BENCHMARK PRIME   National Australia Bank Ltd &lt;NABA.S>   said it lowered its benchmark prime lending rate to 18.25 pct   from 18.5, effective today, but left its base rate at 18.5.       The benchmark reduction brings the rate into line with the   prime rates of most of Australia's trading banks, including   those of two of the other three major trading banks.       However, the rate is above the 18 pct - the lowest ruling   rate - set by the other major, the Australia and New Zealand   Banking Group Ltd &lt;ANZA.S>, on Friday and effective today.       The benchmark is based on short-term interest rate   movements while the base rate is tied to longer-term trends.     \"]"
      ]
     },
     "execution_count": 151,
     "metadata": {},
     "output_type": "execute_result"
    }
   ],
   "source": [
    "extractor.get_most_similar_docs(corpus, dim_red_embeddings, clusters, centroid_dict, cluster_label = 12, top_n = 3)"
   ]
  },
  {
   "cell_type": "code",
   "execution_count": 162,
   "metadata": {},
   "outputs": [],
   "source": [
    "centroid_dict_org_space = extractor.extract_centroids(embeddings, clusters)"
   ]
  },
  {
   "cell_type": "code",
   "execution_count": 163,
   "metadata": {},
   "outputs": [],
   "source": [
    "tws = extractor.extract_top_words_centroid_similarity(vocab, embeddings_vocab, clusters, centroid_dict_org_space, 10)"
   ]
  },
  {
   "cell_type": "code",
   "execution_count": 173,
   "metadata": {},
   "outputs": [
    {
     "data": {
      "text/plain": [
       "['-trade',\n",
       " '-dealers',\n",
       " '-official',\n",
       " '1-apr-1987',\n",
       " '-led',\n",
       " \"'protectionism\",\n",
       " \"'the\",\n",
       " \"'we\",\n",
       " \"'triple\",\n",
       " '-stoltenberg']"
      ]
     },
     "execution_count": 173,
     "metadata": {},
     "output_type": "execute_result"
    }
   ],
   "source": [
    "tws[9]"
   ]
  },
  {
   "cell_type": "code",
   "execution_count": null,
   "metadata": {},
   "outputs": [],
   "source": []
  }
 ],
 "metadata": {
  "kernelspec": {
   "display_name": "llm_sem",
   "language": "python",
   "name": "python3"
  },
  "language_info": {
   "codemirror_mode": {
    "name": "ipython",
    "version": 3
   },
   "file_extension": ".py",
   "mimetype": "text/x-python",
   "name": "python",
   "nbconvert_exporter": "python",
   "pygments_lexer": "ipython3",
   "version": "3.11.4"
  },
  "orig_nbformat": 4
 },
 "nbformat": 4,
 "nbformat_minor": 2
}
