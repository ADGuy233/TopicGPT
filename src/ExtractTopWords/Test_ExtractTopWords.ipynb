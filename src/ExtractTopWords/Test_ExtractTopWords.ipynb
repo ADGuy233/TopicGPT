{
 "cells": [
  {
   "cell_type": "code",
   "execution_count": 1,
   "metadata": {},
   "outputs": [],
   "source": [
    "%load_ext autoreload\n",
    "%autoreload 2"
   ]
  },
  {
   "cell_type": "code",
   "execution_count": null,
   "metadata": {},
   "outputs": [],
   "source": [
    "import os\n",
    "api_key_openai = os.environ.get('OPENAI_API_KEY')\n",
    "org_openai = os.environ.get('OPENAI_ORG')\n",
    "\n",
    "import openai\n",
    "openai.organization = org_openai"
   ]
  },
  {
   "cell_type": "code",
   "execution_count": 2,
   "metadata": {},
   "outputs": [],
   "source": [
    "import os\n",
    "import sys\n",
    "import inspect\n",
    "\n",
    "sys.path.insert(0, '../..')\n",
    "\n",
    "import pickle"
   ]
  },
  {
   "cell_type": "code",
   "execution_count": 29,
   "metadata": {},
   "outputs": [
    {
     "name": "stderr",
     "output_type": "stream",
     "text": [
      "[nltk_data] Downloading package stopwords to\n",
      "[nltk_data]     C:\\Users\\arik_\\AppData\\Roaming\\nltk_data...\n",
      "[nltk_data]   Package stopwords is already up-to-date!\n",
      "[nltk_data] Downloading package punkt to\n",
      "[nltk_data]     C:\\Users\\arik_\\AppData\\Roaming\\nltk_data...\n",
      "[nltk_data]   Package punkt is already up-to-date!\n",
      "[autoreload of ExtractTopWords failed: Traceback (most recent call last):\n",
      "  File \"c:\\Users\\arik_\\anaconda3\\envs\\llm_sem\\Lib\\site-packages\\IPython\\extensions\\autoreload.py\", line 276, in check\n",
      "    superreload(m, reload, self.old_objects)\n",
      "  File \"c:\\Users\\arik_\\anaconda3\\envs\\llm_sem\\Lib\\site-packages\\IPython\\extensions\\autoreload.py\", line 475, in superreload\n",
      "    module = reload(module)\n",
      "             ^^^^^^^^^^^^^^\n",
      "  File \"c:\\Users\\arik_\\anaconda3\\envs\\llm_sem\\Lib\\importlib\\__init__.py\", line 169, in reload\n",
      "    _bootstrap._exec(spec, module)\n",
      "  File \"<frozen importlib._bootstrap>\", line 621, in _exec\n",
      "  File \"<frozen importlib._bootstrap_external>\", line 940, in exec_module\n",
      "  File \"<frozen importlib._bootstrap>\", line 241, in _call_with_frames_removed\n",
      "  File \"c:\\Users\\arik_\\Documents\\Dokumente\\Studium\\Master\\LLM_seminar\\Project\\src\\ExtractTopWords\\ExtractTopWords.py\", line 17, in <module>\n",
      "    class ExtractTopWords:\n",
      "  File \"c:\\Users\\arik_\\Documents\\Dokumente\\Studium\\Master\\LLM_seminar\\Project\\src\\ExtractTopWords\\ExtractTopWords.py\", line 140, in ExtractTopWords\n",
      "    def embed_vocab(self, vocab: list[str], embedder:src.GetEmbeddings.GetEmbeddingsOpenAI) -> np.ndarray:\n",
      "                                                     ^^^\n",
      "NameError: name 'src' is not defined\n",
      "]\n"
     ]
    }
   ],
   "source": [
    "from src.GetEmbeddings.GetEmbeddingsOpenAI import GetEmbeddingsOpenAI"
   ]
  },
  {
   "cell_type": "code",
   "execution_count": 3,
   "metadata": {},
   "outputs": [
    {
     "name": "stderr",
     "output_type": "stream",
     "text": [
      "c:\\Users\\arik_\\anaconda3\\envs\\llm_sem\\Lib\\site-packages\\umap\\distances.py:1063: NumbaDeprecationWarning: \u001b[1mThe 'nopython' keyword argument was not supplied to the 'numba.jit' decorator. The implicit default value for this argument is currently False, but it will be changed to True in Numba 0.59.0. See https://numba.readthedocs.io/en/stable/reference/deprecation.html#deprecation-of-object-mode-fall-back-behaviour-when-using-jit for details.\u001b[0m\n",
      "  @numba.jit()\n",
      "c:\\Users\\arik_\\anaconda3\\envs\\llm_sem\\Lib\\site-packages\\umap\\distances.py:1071: NumbaDeprecationWarning: \u001b[1mThe 'nopython' keyword argument was not supplied to the 'numba.jit' decorator. The implicit default value for this argument is currently False, but it will be changed to True in Numba 0.59.0. See https://numba.readthedocs.io/en/stable/reference/deprecation.html#deprecation-of-object-mode-fall-back-behaviour-when-using-jit for details.\u001b[0m\n",
      "  @numba.jit()\n",
      "c:\\Users\\arik_\\anaconda3\\envs\\llm_sem\\Lib\\site-packages\\umap\\distances.py:1086: NumbaDeprecationWarning: \u001b[1mThe 'nopython' keyword argument was not supplied to the 'numba.jit' decorator. The implicit default value for this argument is currently False, but it will be changed to True in Numba 0.59.0. See https://numba.readthedocs.io/en/stable/reference/deprecation.html#deprecation-of-object-mode-fall-back-behaviour-when-using-jit for details.\u001b[0m\n",
      "  @numba.jit()\n",
      "c:\\Users\\arik_\\anaconda3\\envs\\llm_sem\\Lib\\site-packages\\tqdm\\auto.py:21: TqdmWarning: IProgress not found. Please update jupyter and ipywidgets. See https://ipywidgets.readthedocs.io/en/stable/user_install.html\n",
      "  from .autonotebook import tqdm as notebook_tqdm\n",
      "c:\\Users\\arik_\\anaconda3\\envs\\llm_sem\\Lib\\site-packages\\umap\\umap_.py:660: NumbaDeprecationWarning: \u001b[1mThe 'nopython' keyword argument was not supplied to the 'numba.jit' decorator. The implicit default value for this argument is currently False, but it will be changed to True in Numba 0.59.0. See https://numba.readthedocs.io/en/stable/reference/deprecation.html#deprecation-of-object-mode-fall-back-behaviour-when-using-jit for details.\u001b[0m\n",
      "  @numba.jit()\n",
      "c:\\Users\\arik_\\anaconda3\\envs\\llm_sem\\Lib\\site-packages\\umap\\plot.py:203: NumbaDeprecationWarning: \u001b[1mThe 'nopython' keyword argument was not supplied to the 'numba.jit' decorator. The implicit default value for this argument is currently False, but it will be changed to True in Numba 0.59.0. See https://numba.readthedocs.io/en/stable/reference/deprecation.html#deprecation-of-object-mode-fall-back-behaviour-when-using-jit for details.\u001b[0m\n",
      "  @numba.jit()\n"
     ]
    }
   ],
   "source": [
    "from src.Clustering.Clustering import Clustering_and_DimRed"
   ]
  },
  {
   "cell_type": "code",
   "execution_count": 4,
   "metadata": {},
   "outputs": [],
   "source": [
    "data = pickle.load(open(\"../../Data/Emebeddings/embeddings_reuters_raw.pkl\", \"rb\"))\n",
    "embeddings = data[\"embeddings\"]\n",
    "corpus = data[\"corpus\"]"
   ]
  },
  {
   "cell_type": "code",
   "execution_count": 5,
   "metadata": {},
   "outputs": [
    {
     "name": "stdout",
     "output_type": "stream",
     "text": [
      "UMAP(angular_rp_forest=True, metric='cosine', min_dist=0, n_components=5, random_state=42, verbose=True)\n",
      "Fri Jul 28 17:12:17 2023 Construct fuzzy simplicial set\n",
      "Fri Jul 28 17:12:17 2023 Finding Nearest Neighbors\n",
      "Fri Jul 28 17:12:17 2023 Building RP forest with 10 trees\n",
      "Fri Jul 28 17:12:25 2023 NN descent for 13 iterations\n",
      "\t 1  /  13\n",
      "\t 2  /  13\n",
      "\t 3  /  13\n",
      "\t 4  /  13\n",
      "\t 5  /  13\n",
      "\t 6  /  13\n",
      "\tStopping threshold met -- exiting after 6 iterations\n",
      "Fri Jul 28 17:12:52 2023 Finished Nearest Neighbor Search\n",
      "Fri Jul 28 17:12:55 2023 Construct embedding\n"
     ]
    },
    {
     "name": "stderr",
     "output_type": "stream",
     "text": [
      "Epochs completed: 100%| ██████████ 200/200 [00:09]\n"
     ]
    },
    {
     "name": "stdout",
     "output_type": "stream",
     "text": [
      "Fri Jul 28 17:13:05 2023 Finished embedding\n"
     ]
    }
   ],
   "source": [
    "clusterer = Clustering_and_DimRed()\n",
    "dim_red_embeddings, clusters = clusterer.cluster_and_reduce(embeddings)"
   ]
  },
  {
   "cell_type": "code",
   "execution_count": 6,
   "metadata": {},
   "outputs": [
    {
     "name": "stderr",
     "output_type": "stream",
     "text": [
      "[nltk_data] Downloading package stopwords to\n",
      "[nltk_data]     C:\\Users\\arik_\\AppData\\Roaming\\nltk_data...\n",
      "[nltk_data]   Package stopwords is already up-to-date!\n",
      "[nltk_data] Downloading package punkt to\n",
      "[nltk_data]     C:\\Users\\arik_\\AppData\\Roaming\\nltk_data...\n",
      "[nltk_data]   Package punkt is already up-to-date!\n"
     ]
    }
   ],
   "source": [
    "import ExtractTopWords"
   ]
  },
  {
   "cell_type": "code",
   "execution_count": 7,
   "metadata": {},
   "outputs": [],
   "source": [
    "extractor = ExtractTopWords.ExtractTopWords()"
   ]
  },
  {
   "cell_type": "code",
   "execution_count": 8,
   "metadata": {},
   "outputs": [
    {
     "data": {
      "text/plain": [
       "{0: array([-3.7164304,  3.9222953,  5.908199 ,  6.075133 ,  4.827653 ],\n",
       "       dtype=float32),\n",
       " 1: array([-3.7654023,  4.2164207,  5.8612056,  6.4997573,  4.904274 ],\n",
       "       dtype=float32),\n",
       " 2: array([ 5.910965 ,  2.4154532,  4.8060503,  5.771162 , 11.888593 ],\n",
       "       dtype=float32),\n",
       " 3: array([10.06639  ,  4.091257 ,  5.499461 ,  7.893647 ,  2.2268891],\n",
       "       dtype=float32),\n",
       " 4: array([12.484892 ,  7.8714714,  9.038342 ,  6.1947913,  2.958478 ],\n",
       "       dtype=float32),\n",
       " 5: array([4.695055 , 6.4599414, 8.006299 , 6.198267 , 2.410783 ],\n",
       "       dtype=float32),\n",
       " 6: array([9.630017 , 6.8125625, 8.012566 , 4.08587  , 5.3370237],\n",
       "       dtype=float32),\n",
       " 7: array([4.4590163, 5.2563252, 8.423323 , 6.6133666, 5.0430827],\n",
       "       dtype=float32),\n",
       " 8: array([6.745958 , 3.4827986, 6.3263617, 6.8663306, 4.501375 ],\n",
       "       dtype=float32),\n",
       " 9: array([12.940467 , -3.6038241,  8.827755 ,  6.4337673,  6.571346 ],\n",
       "       dtype=float32),\n",
       " 10: array([12.917635 , -3.469067 ,  8.776229 ,  6.5808606,  6.401622 ],\n",
       "       dtype=float32),\n",
       " 11: array([13.947946 ,  7.250047 ,  8.8068905,  2.7816136,  6.9903035],\n",
       "       dtype=float32),\n",
       " 12: array([14.3897505,  3.949978 ,  4.790833 , 10.565901 ,  6.8281813],\n",
       "       dtype=float32),\n",
       " 13: array([14.595748 ,  3.8579895,  4.6806097, 10.742999 ,  6.644943 ],\n",
       "       dtype=float32),\n",
       " 14: array([13.082198,  5.340678,  4.228013, 10.619481,  7.16094 ],\n",
       "       dtype=float32),\n",
       " 15: array([12.889647 ,  5.4183235,  3.8552458, 11.098166 ,  7.3968406],\n",
       "       dtype=float32),\n",
       " 16: array([12.938674 ,  5.354124 ,  3.9558682, 10.981302 ,  7.3096266],\n",
       "       dtype=float32),\n",
       " 17: array([9.632746 , 5.982018 , 7.6611423, 5.366712 , 5.534562 ],\n",
       "       dtype=float32),\n",
       " 18: array([6.9034996, 3.5928454, 6.378695 , 6.4071717, 3.112261 ],\n",
       "       dtype=float32),\n",
       " 19: array([ 8.070579 ,  1.7753198,  5.8263655,  5.950346 , -1.8124447],\n",
       "       dtype=float32),\n",
       " 20: array([11.226488,  7.331064,  7.975478,  4.403893,  5.521924],\n",
       "       dtype=float32),\n",
       " 21: array([11.198268 ,  7.4337196,  8.294621 ,  4.7095466,  5.036965 ],\n",
       "       dtype=float32),\n",
       " 22: array([10.89078  ,  7.2693276,  7.9987473,  4.5979877,  5.2971473],\n",
       "       dtype=float32),\n",
       " 23: array([ 6.9576406 ,  1.8214401 ,  4.7426624 ,  5.403556  , -0.92283267],\n",
       "       dtype=float32),\n",
       " 24: array([ 7.3298826,  1.843182 ,  4.9832106,  5.591155 , -1.0371835],\n",
       "       dtype=float32),\n",
       " 25: array([7.6666455, 2.8391554, 6.0118318, 6.2986574, 1.1381139],\n",
       "       dtype=float32),\n",
       " 26: array([5.961525 , 5.1714077, 7.291809 , 5.0179915, 4.7419596],\n",
       "       dtype=float32),\n",
       " 27: array([10.337366 ,  6.1093235,  7.6430984,  6.7275405,  3.4569514],\n",
       "       dtype=float32),\n",
       " 28: array([6.751133 , 5.1311083, 7.001449 , 4.951414 , 3.9213169],\n",
       "       dtype=float32),\n",
       " 29: array([7.657798 , 3.1939101, 6.1772137, 6.2558975, 1.451904 ],\n",
       "       dtype=float32),\n",
       " 30: array([7.8522053 , 2.9575875 , 6.178682  , 6.157937  , 0.68354946],\n",
       "       dtype=float32),\n",
       " 31: array([8.047458 , 3.2455544, 6.536995 , 6.239083 , 0.9419582],\n",
       "       dtype=float32),\n",
       " 32: array([14.076733,  4.734987,  4.250415, 10.77355 ,  7.190506],\n",
       "       dtype=float32),\n",
       " 33: array([14.349821 ,  4.5842414,  4.743399 , 10.142418 ,  6.9484253],\n",
       "       dtype=float32),\n",
       " 34: array([6.4334145, 3.1704092, 7.184105 , 5.14053  , 4.599773 ],\n",
       "       dtype=float32),\n",
       " 35: array([10.510098 ,  5.9574165,  7.5944724,  5.5774283,  5.5537763],\n",
       "       dtype=float32),\n",
       " 36: array([5.2660327, 4.344847 , 8.388591 , 6.4973183, 4.651647 ],\n",
       "       dtype=float32),\n",
       " 37: array([12.33158  ,  7.5804586,  8.918289 ,  4.3863707,  7.170584 ],\n",
       "       dtype=float32),\n",
       " 38: array([13.640904 ,  6.2311645,  6.6255836,  7.456595 ,  6.815148 ],\n",
       "       dtype=float32),\n",
       " 39: array([10.37219  ,  5.931254 ,  7.9506416,  5.322615 ,  5.6504745],\n",
       "       dtype=float32),\n",
       " 40: array([10.813609 ,  6.090629 ,  7.797338 ,  5.3857336,  5.7774944],\n",
       "       dtype=float32),\n",
       " 41: array([13.922666 ,  6.4995904,  7.330597 ,  6.0882335,  6.979303 ],\n",
       "       dtype=float32),\n",
       " 42: array([13.903887 ,  6.412905 ,  7.4384375,  6.813681 ,  6.9515166],\n",
       "       dtype=float32),\n",
       " 43: array([9.958794 , 6.0671415, 8.564402 , 6.014821 , 4.07416  ],\n",
       "       dtype=float32),\n",
       " 44: array([9.775286 , 6.0903482, 8.682977 , 6.000176 , 3.9254148],\n",
       "       dtype=float32),\n",
       " 45: array([13.825117 ,  7.078054 ,  7.8128595,  5.081524 ,  7.0660453],\n",
       "       dtype=float32),\n",
       " 46: array([13.438089 ,  7.0825686,  7.952162 ,  5.7210054,  6.9688845],\n",
       "       dtype=float32),\n",
       " 47: array([12.276524 ,  5.872506 ,  8.616396 ,  4.2135153,  6.1732087],\n",
       "       dtype=float32),\n",
       " 48: array([14.349383,  5.280381,  5.369662,  9.198289,  6.885281],\n",
       "       dtype=float32),\n",
       " 49: array([13.082073 ,  5.805697 ,  9.4899235,  3.6463938,  6.570513 ],\n",
       "       dtype=float32),\n",
       " 50: array([12.982316 ,  6.0149827,  8.923339 ,  3.5639071,  6.4182873],\n",
       "       dtype=float32),\n",
       " 51: array([12.8225975,  6.2882547,  8.652196 ,  4.363714 ,  6.5292945],\n",
       "       dtype=float32),\n",
       " 52: array([12.729672 ,  6.8158317,  8.0006275,  4.4468093,  6.4462976],\n",
       "       dtype=float32),\n",
       " 53: array([13.392941 ,  5.0993476,  6.260556 ,  8.707626 ,  6.7722774],\n",
       "       dtype=float32),\n",
       " 54: array([14.428697 ,  4.7987533,  3.225143 ,  9.702362 ,  7.2785125],\n",
       "       dtype=float32),\n",
       " 55: array([14.491564 ,  4.8015237,  3.818086 ,  9.643693 ,  7.295057 ],\n",
       "       dtype=float32),\n",
       " 56: array([13.96831 ,  4.738441,  4.900315,  9.781722,  6.891524],\n",
       "       dtype=float32),\n",
       " 57: array([6.044686, 5.357659, 7.284823, 6.035055, 4.748066], dtype=float32),\n",
       " 58: array([14.24947  ,  8.2127495,  7.5929604,  4.082192 ,  7.4173083],\n",
       "       dtype=float32),\n",
       " 59: array([12.153515 ,  7.4316144,  6.0209746,  9.585306 ,  6.0064435],\n",
       "       dtype=float32),\n",
       " 60: array([5.291471 , 4.160889 , 7.9702673, 6.189816 , 5.168811 ],\n",
       "       dtype=float32),\n",
       " 61: array([14.209102 ,  7.7168136,  7.740641 ,  4.5299444,  7.3041334],\n",
       "       dtype=float32),\n",
       " 62: array([14.464284 ,  7.664042 ,  7.7869606,  4.278794 ,  7.3793893],\n",
       "       dtype=float32),\n",
       " 63: array([13.140793 ,  7.709704 ,  8.110408 ,  4.852922 ,  7.1244264],\n",
       "       dtype=float32),\n",
       " 64: array([12.367167 ,  7.634716 ,  8.703894 ,  3.9265924,  6.8610263],\n",
       "       dtype=float32),\n",
       " 65: array([13.827741 ,  7.0385556,  7.934265 ,  4.252286 ,  6.9739842],\n",
       "       dtype=float32),\n",
       " 66: array([14.240644 ,  4.2901177,  6.397486 ,  8.845818 ,  7.1183224],\n",
       "       dtype=float32),\n",
       " 67: array([5.710344 , 5.4795156, 7.448308 , 6.6297593, 4.8286314],\n",
       "       dtype=float32),\n",
       " 68: array([9.488815 , 5.6956635, 7.8437843, 6.3154464, 4.0832334],\n",
       "       dtype=float32),\n",
       " 69: array([12.489375 ,  6.7991934,  6.1755056,  9.052395 ,  6.118947 ],\n",
       "       dtype=float32),\n",
       " 70: array([13.811426 ,  8.264411 ,  7.586003 ,  4.1432753,  7.2558513],\n",
       "       dtype=float32),\n",
       " 71: array([13.048915 ,  6.559688 ,  6.1588583,  8.909182 ,  6.545071 ],\n",
       "       dtype=float32),\n",
       " 72: array([10.519554 ,  6.131633 ,  7.602805 ,  6.5866375,  4.639542 ],\n",
       "       dtype=float32),\n",
       " 73: array([13.3876505,  5.86646  ,  6.184193 ,  8.307479 ,  6.5656233],\n",
       "       dtype=float32),\n",
       " 74: array([12.311934 ,  7.1053543,  5.6685276,  9.439614 ,  6.5927715],\n",
       "       dtype=float32),\n",
       " 75: array([14.42728  ,  5.0957274,  6.6370034,  8.3996315,  6.8856187],\n",
       "       dtype=float32),\n",
       " 76: array([12.656318 ,  7.4577637,  6.074368 ,  9.470287 ,  6.6950645],\n",
       "       dtype=float32),\n",
       " 77: array([13.344585 ,  5.8818417,  5.727738 ,  8.427853 ,  6.737224 ],\n",
       "       dtype=float32),\n",
       " 78: array([10.604508 ,  5.9853787,  8.083562 ,  6.5863414,  4.1162815],\n",
       "       dtype=float32),\n",
       " 79: array([9.957157 , 5.5128   , 7.9794407, 6.7836413, 3.861707 ],\n",
       "       dtype=float32),\n",
       " 80: array([13.114907 ,  6.0902224,  5.3837557,  8.616345 ,  6.883995 ],\n",
       "       dtype=float32),\n",
       " 81: array([12.526771 ,  7.146245 ,  5.9239635,  9.325406 ,  6.5684056],\n",
       "       dtype=float32),\n",
       " 82: array([12.547358 ,  7.1977134,  6.104623 ,  9.1567545,  6.5638695],\n",
       "       dtype=float32),\n",
       " 83: array([13.280225 ,  8.027364 ,  7.676963 ,  4.2735233,  7.0142937],\n",
       "       dtype=float32),\n",
       " 84: array([13.086172 ,  7.851442 ,  7.522292 ,  4.2609324,  6.849477 ],\n",
       "       dtype=float32),\n",
       " 85: array([12.865575 ,  7.261518 ,  8.5748415,  3.844134 ,  6.903137 ],\n",
       "       dtype=float32),\n",
       " 86: array([13.243192,  5.725614,  5.331577,  8.94843 ,  6.859148],\n",
       "       dtype=float32),\n",
       " 87: array([13.457538 ,  5.6392646,  5.1836762,  9.355579 ,  6.860663 ],\n",
       "       dtype=float32),\n",
       " 88: array([13.889308 ,  5.2110896,  5.687001 ,  9.22415  ,  6.8244195],\n",
       "       dtype=float32),\n",
       " 89: array([14.134462 ,  5.692756 ,  6.6971216,  8.507871 ,  6.9307284],\n",
       "       dtype=float32),\n",
       " 90: array([14.401251 ,  5.771564 ,  6.790134 ,  8.224509 ,  6.7584925],\n",
       "       dtype=float32),\n",
       " 91: array([14.505114,  5.558746,  6.448501,  8.595483,  6.623668],\n",
       "       dtype=float32),\n",
       " 92: array([14.131341 ,  5.478464 ,  6.1833224,  8.911445 ,  6.8149815],\n",
       "       dtype=float32),\n",
       " 93: array([13.417802 ,  7.7953324,  7.8164935,  3.8769882,  6.9811645],\n",
       "       dtype=float32),\n",
       " 94: array([13.32511  ,  7.298982 ,  8.455028 ,  3.5315413,  6.891413 ],\n",
       "       dtype=float32),\n",
       " 95: array([13.455333 ,  7.4684944,  8.151046 ,  3.803675 ,  6.996457 ],\n",
       "       dtype=float32),\n",
       " 96: array([6.0177784, 4.319373 , 7.737224 , 6.5267444, 3.5513928],\n",
       "       dtype=float32),\n",
       " 97: array([8.123788 , 5.206149 , 7.429526 , 5.850948 , 5.0235357],\n",
       "       dtype=float32),\n",
       " 98: array([6.1859236, 4.827505 , 7.74268  , 6.953819 , 4.8744674],\n",
       "       dtype=float32),\n",
       " 99: array([6.2339845, 4.181768 , 7.902027 , 6.093831 , 3.7834854],\n",
       "       dtype=float32),\n",
       " 100: array([6.4289885, 3.8461764, 7.8345265, 6.331966 , 3.9110453],\n",
       "       dtype=float32),\n",
       " 101: array([6.0467815, 3.9117873, 8.191386 , 6.271298 , 5.0004315],\n",
       "       dtype=float32),\n",
       " 102: array([7.489124 , 4.806259 , 7.687831 , 6.3538117, 4.076627 ],\n",
       "       dtype=float32),\n",
       " 103: array([9.101723 , 5.5021186, 7.754307 , 6.269931 , 4.2117295],\n",
       "       dtype=float32),\n",
       " 104: array([8.735714, 5.224726, 7.881026, 6.458323, 3.94025 ], dtype=float32),\n",
       " 105: array([6.4962435, 4.833889 , 7.474019 , 6.366    , 4.4030876],\n",
       "       dtype=float32),\n",
       " 106: array([5.803846 , 3.799647 , 6.340956 , 6.244917 , 4.1445465],\n",
       "       dtype=float32),\n",
       " 107: array([5.9544897, 4.5682397, 8.127812 , 6.138888 , 4.1506987],\n",
       "       dtype=float32),\n",
       " 108: array([5.8874297, 4.6351037, 7.912986 , 6.3124094, 3.9637737],\n",
       "       dtype=float32),\n",
       " 109: array([5.7551064, 4.419273 , 7.675715 , 6.4155173, 4.3478394],\n",
       "       dtype=float32),\n",
       " 110: array([6.4283338, 4.313769 , 7.54132  , 6.4296513, 4.660887 ],\n",
       "       dtype=float32),\n",
       " 111: array([6.2745996, 4.4448614, 7.852064 , 6.489979 , 4.4320197],\n",
       "       dtype=float32),\n",
       " 112: array([6.162801 , 4.116399 , 6.767069 , 6.2319527, 4.2690973],\n",
       "       dtype=float32),\n",
       " 113: array([6.873234 , 4.598017 , 7.2195015, 5.681699 , 3.9507337],\n",
       "       dtype=float32),\n",
       " 114: array([6.5727015, 4.6963625, 7.2424707, 5.6784854, 4.127222 ],\n",
       "       dtype=float32),\n",
       " 115: array([6.3588634, 4.4678535, 7.2201376, 5.7586226, 3.9650028],\n",
       "       dtype=float32),\n",
       " 116: array([5.952735 , 3.7962577, 7.3326893, 5.5566835, 4.387111 ],\n",
       "       dtype=float32),\n",
       " 117: array([6.225152 , 4.148174 , 7.2243323, 5.677103 , 4.4292016],\n",
       "       dtype=float32)}"
      ]
     },
     "execution_count": 8,
     "metadata": {},
     "output_type": "execute_result"
    }
   ],
   "source": [
    "extractor.extract_centroids(dim_red_embeddings, clusters)"
   ]
  },
  {
   "cell_type": "code",
   "execution_count": 9,
   "metadata": {},
   "outputs": [
    {
     "data": {
      "text/plain": [
       "array([0.00458414, 0.00517667, 0.00517025, ..., 0.00498587, 0.00548446,\n",
       "       0.00513136], dtype=float32)"
      ]
     },
     "execution_count": 9,
     "metadata": {},
     "output_type": "execute_result"
    }
   ],
   "source": [
    "extractor.compute_centroid_similarity(dim_red_embeddings, extractor.extract_centroids(dim_red_embeddings, clusters), 0)"
   ]
  },
  {
   "cell_type": "code",
   "execution_count": 36,
   "metadata": {},
   "outputs": [
    {
     "name": "stdout",
     "output_type": "stream",
     "text": [
      "c:\\Users\\arik_\\Documents\\Dokumente\\Studium\\Master\\LLM_seminar\\Project\\src\n"
     ]
    },
    {
     "name": "stderr",
     "output_type": "stream",
     "text": [
      "[nltk_data] Downloading package stopwords to\n",
      "[nltk_data]     C:\\Users\\arik_\\AppData\\Roaming\\nltk_data...\n",
      "[nltk_data]   Package stopwords is already up-to-date!\n",
      "[nltk_data] Downloading package punkt to\n",
      "[nltk_data]     C:\\Users\\arik_\\AppData\\Roaming\\nltk_data...\n",
      "[nltk_data]   Package punkt is already up-to-date!\n",
      "Processing corpus: 100%|██████████| 10788/10788 [00:14<00:00, 745.13it/s] \n"
     ]
    }
   ],
   "source": [
    "vocab = extractor.compute_corpus_vocab(corpus)"
   ]
  },
  {
   "cell_type": "code",
   "execution_count": 34,
   "metadata": {},
   "outputs": [
    {
     "name": "stderr",
     "output_type": "stream",
     "text": [
      "[nltk_data] Downloading package punkt to\n",
      "[nltk_data]     C:\\Users\\arik_\\AppData\\Roaming\\nltk_data...\n",
      "[nltk_data]   Package punkt is already up-to-date!\n",
      "Computing words per topic: 100%|██████████| 10788/10788 [00:07<00:00, 1472.01it/s]\n"
     ]
    }
   ],
   "source": [
    "words_per_topic = extractor.compute_words_topics(corpus, vocab, clusters)"
   ]
  },
  {
   "cell_type": "code",
   "execution_count": 37,
   "metadata": {},
   "outputs": [
    {
     "data": {
      "text/plain": [
       "9181"
      ]
     },
     "execution_count": 37,
     "metadata": {},
     "output_type": "execute_result"
    }
   ],
   "source": [
    "len(vocab)"
   ]
  },
  {
   "cell_type": "code",
   "execution_count": 38,
   "metadata": {},
   "outputs": [],
   "source": []
  },
  {
   "cell_type": "code",
   "execution_count": 41,
   "metadata": {},
   "outputs": [
    {
     "name": "stdout",
     "output_type": "stream",
     "text": [
      "c:\\Users\\arik_\\Documents\\Dokumente\\Studium\\Master\\LLM_seminar\\Project\\src\n"
     ]
    },
    {
     "name": "stderr",
     "output_type": "stream",
     "text": [
      "[nltk_data] Downloading package stopwords to\n",
      "[nltk_data]     C:\\Users\\arik_\\AppData\\Roaming\\nltk_data...\n",
      "[nltk_data]   Package stopwords is already up-to-date!\n",
      "[nltk_data] Downloading package punkt to\n",
      "[nltk_data]     C:\\Users\\arik_\\AppData\\Roaming\\nltk_data...\n",
      "[nltk_data]   Package punkt is already up-to-date!\n",
      "100%|██████████| 9181/9181 [00:00<00:00, 17647.72it/s]\n",
      "100%|██████████| 9181/9181 [46:23<00:00,  3.30it/s]  \n"
     ]
    },
    {
     "ename": "TypeError",
     "evalue": "string indices must be integers, not 'str'",
     "output_type": "error",
     "traceback": [
      "\u001b[1;31m---------------------------------------------------------------------------\u001b[0m",
      "\u001b[1;31mTypeError\u001b[0m                                 Traceback (most recent call last)",
      "Cell \u001b[1;32mIn[41], line 1\u001b[0m\n\u001b[1;32m----> 1\u001b[0m embeddings_vocab \u001b[39m=\u001b[39m extractor\u001b[39m.\u001b[39;49membed_vocab_openAI(api_key\u001b[39m=\u001b[39;49m \u001b[39m\"\u001b[39;49m\u001b[39msk-OO4q7D6A6UpcxC7lk9ALT3BlbkFJAeB86ScroV2mojjqCRXb\u001b[39;49m\u001b[39m\"\u001b[39;49m, vocab \u001b[39m=\u001b[39;49m vocab)\n",
      "File \u001b[1;32mc:\\Users\\arik_\\Documents\\Dokumente\\Studium\\Master\\LLM_seminar\\Project\\src\\ExtractTopWords\\ExtractTopWords.py:162\u001b[0m, in \u001b[0;36mExtractTopWords.embed_vocab_openAI\u001b[1;34m(self, api_key, vocab, embedder)\u001b[0m\n\u001b[0;32m    160\u001b[0m res_dict \u001b[39m=\u001b[39m {}\n\u001b[0;32m    161\u001b[0m \u001b[39mfor\u001b[39;00m word, res \u001b[39min\u001b[39;00m \u001b[39mzip\u001b[39m(vocab, result):\n\u001b[1;32m--> 162\u001b[0m     res_dict[word] \u001b[39m=\u001b[39m res[\u001b[39m\"\u001b[39;49m\u001b[39membedding\u001b[39;49m\u001b[39m\"\u001b[39;49m]\n\u001b[0;32m    164\u001b[0m \u001b[39mreturn\u001b[39;00m res_dict\n",
      "\u001b[1;31mTypeError\u001b[0m: string indices must be integers, not 'str'"
     ]
    }
   ],
   "source": [
    "embeddings_vocab = extractor.embed_vocab_openAI(api_key= api_key_openai, vocab = vocab)"
   ]
  },
  {
   "cell_type": "code",
   "execution_count": null,
   "metadata": {},
   "outputs": [],
   "source": []
  }
 ],
 "metadata": {
  "kernelspec": {
   "display_name": "llm_sem",
   "language": "python",
   "name": "python3"
  },
  "language_info": {
   "codemirror_mode": {
    "name": "ipython",
    "version": 3
   },
   "file_extension": ".py",
   "mimetype": "text/x-python",
   "name": "python",
   "nbconvert_exporter": "python",
   "pygments_lexer": "ipython3",
   "version": "3.11.4"
  },
  "orig_nbformat": 4
 },
 "nbformat": 4,
 "nbformat_minor": 2
}
