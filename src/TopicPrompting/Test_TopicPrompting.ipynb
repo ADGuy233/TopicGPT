{
 "cells": [
  {
   "cell_type": "code",
   "execution_count": 21,
   "metadata": {},
   "outputs": [
    {
     "name": "stdout",
     "output_type": "stream",
     "text": [
      "The autoreload extension is already loaded. To reload it, use:\n",
      "  %reload_ext autoreload\n"
     ]
    }
   ],
   "source": [
    "%load_ext autoreload\n",
    "%autoreload 2"
   ]
  },
  {
   "cell_type": "code",
   "execution_count": 22,
   "metadata": {},
   "outputs": [],
   "source": [
    "import os\n",
    "import sys\n",
    "import inspect\n",
    "\n",
    "sys.path.insert(0, '../..')"
   ]
  },
  {
   "cell_type": "code",
   "execution_count": 23,
   "metadata": {},
   "outputs": [],
   "source": [
    "import os\n",
    "api_key_openai = os.environ.get('OPENAI_API_KEY')\n",
    "org_openai = os.environ.get('OPENAI_ORG')\n",
    "\n",
    "import openai\n",
    "openai.organization = org_openai\n",
    "import numpy as np"
   ]
  },
  {
   "cell_type": "code",
   "execution_count": 24,
   "metadata": {},
   "outputs": [],
   "source": [
    "from src.TopicRepresentation.TopicRepresentation import Topic\n",
    "from src.TopicPrompting.TopicPrompting import TopicPrompting"
   ]
  },
  {
   "cell_type": "code",
   "execution_count": 25,
   "metadata": {},
   "outputs": [],
   "source": [
    "import numpy as np\n",
    "import pickle"
   ]
  },
  {
   "cell_type": "code",
   "execution_count": 26,
   "metadata": {},
   "outputs": [
    {
     "name": "stdout",
     "output_type": "stream",
     "text": [
      "Thu Aug 17 11:58:47 2023 Building and compiling search function\n"
     ]
    }
   ],
   "source": [
    "with open(\"../../Data/SavedTopicRepresentations/Topics_20ng_v1.pkl\", \"rb\") as f:\n",
    "    topics = pickle.load(f)"
   ]
  },
  {
   "cell_type": "code",
   "execution_count": 27,
   "metadata": {},
   "outputs": [
    {
     "data": {
      "text/plain": [
       "'Cryptography'"
      ]
     },
     "execution_count": 27,
     "metadata": {},
     "output_type": "execute_result"
    }
   ],
   "source": [
    "topics[10].topic_name"
   ]
  },
  {
   "cell_type": "code",
   "execution_count": 28,
   "metadata": {},
   "outputs": [
    {
     "data": {
      "text/plain": [
       "'   This is factually incorrect. There was at least one message that said that Waco and Clipper justified \"anything\" in response.  David'"
      ]
     },
     "execution_count": 28,
     "metadata": {},
     "output_type": "execute_result"
    }
   ],
   "source": [
    "topics[2].documents[1]"
   ]
  },
  {
   "cell_type": "code",
   "execution_count": 29,
   "metadata": {},
   "outputs": [],
   "source": [
    "pmp = TopicPrompting(\n",
    "    openai_prompting_model = \"gpt-3.5-turbo-16k\",\n",
    "    max_context_length_promting = 16348,\n",
    "    topic_lis = topics,\n",
    "    openai_key = api_key_openai, \n",
    "    openai_model_temperature_prompting = 1\n",
    ")"
   ]
  },
  {
   "cell_type": "code",
   "execution_count": 30,
   "metadata": {},
   "outputs": [
    {
     "name": "stdout",
     "output_type": "stream",
     "text": [
      "{\n",
      "  \"role\": \"assistant\",\n",
      "  \"content\": null,\n",
      "  \"function_call\": {\n",
      "    \"name\": \"knn_search\",\n",
      "    \"arguments\": \"{\\n  \\\"topic_index\\\": 10,\\n  \\\"query\\\": \\\"encryption\\\",\\n  \\\"k\\\": 5\\n}\"\n",
      "  }\n",
      "}\n",
      "GPT wants to the call the function:  {\n",
      "  \"name\": \"knn_search\",\n",
      "  \"arguments\": \"{\\n  \\\"topic_index\\\": 10,\\n  \\\"query\\\": \\\"encryption\\\",\\n  \\\"k\\\": 5\\n}\"\n",
      "}\n",
      "[{'role': 'system', 'content': \"You are a helpful assistant. \\nYou are excellent at inferring information about topics discovered via topic modelling using information retrieval. \\nYou summarize information intelligently. \\nYou use the functions you are provided with if applicable.\\nYou make sure that everything you output is strictly based on the provided text. If you cite documents, give their indices. \\nYou always explicitly say if you don't find any useful information!\\nYou only say that something is contained in the corpus if you are very sure about it! \"}, {'role': 'user', 'content': 'What information on encryption does topic 10 contain?'}, <OpenAIObject at 0x1ab56f0c470> JSON: {\n",
      "  \"role\": \"assistant\",\n",
      "  \"content\": null,\n",
      "  \"function_call\": {\n",
      "    \"name\": \"knn_search\",\n",
      "    \"arguments\": \"{\\n  \\\"topic_index\\\": 10,\\n  \\\"query\\\": \\\"encryption\\\",\\n  \\\"k\\\": 5\\n}\"\n",
      "  }\n",
      "}, {'role': 'function', 'name': 'knn_search', 'content': '{\"top-k documents\": [\"Clipper might be a good way to cover the use of another layer of encryption.  Currently, when you send an encrypted message, an opponent can usually tell 1) that you are using encryption 2) which encryption method you are using [because that information is usually in the clear].  With clipper, most opponents will only know that you are sending clipper-text, they won\\'t know that your clipper-text is itself encoded.  Only those few opponents who get your clipper-keys will know that your message is double encrypted.  ... kind of like a safety deposit box containing a lock box.  So, don\\'t just think of replacements for clipper, also think of front ends.  - Carl   \", \"\\\\\"The security of the system should depend only on the secrecy of the keys and not on the secrecy of the algorithms\\\\\" -- Dorothy Denning\", \"The actual algorithm is classified, however, their main thrust here is for cellular phones, and encryption is only over the radio end, not end to end, I think.   End to end will come later.  And of course you have to identify yourself to the phone company, and since the phone company complies with court orders, they will know the magic number of your chip when they sign out a warrant on you, and then can present the warrant to the key escrow house.\", \"The key question is whether non-Clipper encryption will be made illegal.   The clear middle ground implied by these statements is to say that Americans have the right to Clipper encryption, but not to unbreakable encryption. This implies that, ultimately, non-Clipper strong encryption must become illegal.  (As an aside, isn\\'t the language here jarring?  All this talk about \\\\\"harmonious balance\\\\\" when they\\'re talking about taking away people\\'s right to communications privacy?)  Although the article emphasizes voice communication, data and mail encryption is mentioned as well:    It looks like the worst nightmares raised by Dorothy Denning\\'s proposals are coming true.  If the government continues on this course, I imagine that we will see strong cryptography made illegal.  Encryption programs for disk files and email, as well as software to allow for encrypted voice communications, will be distributed only through the \\\\\"underground\\\\\".  People will have to learn how to hide the fact that they are protecting their privacy.  It\\'s shocking and frightening to see that this is actually happening here.\", \"The cryptographic algorythm MUST be kept secret, or private individuals could make ClipperClones with which they could transmit messages which the feds would not have ready access to.  This is clearly unacceptable.\"], \"indices of top-k documents\": [84, 356, 228, 32, 340]}'}]\n"
     ]
    },
    {
     "data": {
      "text/plain": [
       "<OpenAIObject chat.completion id=chatcmpl-7oU4DvApPf3tGXVmMfzZSXbEyFubM at 0x1ab56f0c2f0> JSON: {\n",
       "  \"id\": \"chatcmpl-7oU4DvApPf3tGXVmMfzZSXbEyFubM\",\n",
       "  \"object\": \"chat.completion\",\n",
       "  \"created\": 1692266333,\n",
       "  \"model\": \"gpt-3.5-turbo-16k-0613\",\n",
       "  \"choices\": [\n",
       "    {\n",
       "      \"index\": 0,\n",
       "      \"message\": {\n",
       "        \"role\": \"assistant\",\n",
       "        \"content\": \"Topic 10 contains information on encryption, specifically related to Clipper and the secrecy of keys and algorithms. Here are some key points from the documents in this topic:\\n\\n1. Document 84: Clipper is mentioned as a way to provide an additional layer of encryption. It is noted that opponents would only know that a message is encrypted with Clipper, but not that it is double encrypted.\\n\\n2. Document 356: Dorothy Denning's quote stresses that the security of a system should rely on the secrecy of keys rather than the secrecy of algorithms.\\n\\n3. Document 228: This document discusses encryption for cellular phones, where encryption is currently only over the radio end and not end-to-end. It also mentions that the phone company can identify individuals through the magic number of their chip when presented with a warrant.\\n\\n4. Document 32: The document raises the question of whether non-Clipper encryption will be made illegal. It suggests that strong encryption, including encryption programs for disk files, email, and encrypted voice communications, might be distributed only through underground channels if the government restricts encryption.\\n\\n5. Document 340: Secrecy of the cryptographic algorithm is emphasized to prevent private individuals from creating Clipper clones that the government cannot access.\\n\\nThese are the main points related to encryption in Topic 10.\"\n",
       "      },\n",
       "      \"finish_reason\": \"stop\"\n",
       "    }\n",
       "  ],\n",
       "  \"usage\": {\n",
       "    \"prompt_tokens\": 730,\n",
       "    \"completion_tokens\": 263,\n",
       "    \"total_tokens\": 993\n",
       "  }\n",
       "}"
      ]
     },
     "execution_count": 30,
     "metadata": {},
     "output_type": "execute_result"
    }
   ],
   "source": [
    "pmp.prompt_knn_search(llm_query = \"What information on encryption does topic 10 contain?\")"
   ]
  },
  {
   "cell_type": "code",
   "execution_count": 31,
   "metadata": {},
   "outputs": [
    {
     "data": {
      "text/plain": [
       "'The common topic of the provided words is \"gun control\". The various aspects and sub-topics of this topic include: \\n1. Gun ownership: \"semi-autos\", \"revolvers\", \"pistols\", \"rifles\", \"shotguns\"\\n2. Legislation: \"firearm laws\", \"gun-control\", \"assault weapons ban\"\\n3. Advocacy: \"NRA\", \"gun-control advocates\", \"pro-gun lobbyists\"\\n4. Crime and violence: \"shootings\", \"gunfire\", \"gun-related incidents\"\\n5. Government agencies: \"FBI\", \"BATF\", \"DEA\"'"
      ]
     },
     "execution_count": 31,
     "metadata": {},
     "output_type": "execute_result"
    }
   ],
   "source": [
    "pmp.topic_lis[2].topic_description"
   ]
  },
  {
   "cell_type": "code",
   "execution_count": 61,
   "metadata": {},
   "outputs": [
    {
     "name": "stdout",
     "output_type": "stream",
     "text": [
      " Please find the index of the topic that is about the following query: Bananas. \n",
      "        Those are the given topics: '''Topic index: 0: \n",
      " Based on the provided words, the common topic appears to be electronics and technology. The various aspects and sub-topics of this topic include:\n",
      "\n",
      "1. Electronics components: resistors, capacitors, transducers, diodes\n",
      "2. Audio equipment: amplifiers, equalizers, preamps, headphones\n",
      "3. Photography: Nikon, lenses, flash, darkroom\n",
      "4. Video equipment: camcorders, VCRs, TVs, DVD players\n",
      "5. Computer hardware: modems, printers, keyboards, monitors\n",
      "\n",
      "Please note that these descriptions are based solely on the provided words and may not cover all possible sub-topics. \n",
      " \n",
      "Topic index: 1: \n",
      " The common topic of the given words is computer graphics. \n",
      "\n",
      "Aspects and sub-topics of computer graphics include: \n",
      "1. Display and visualization \n",
      "2. Ray tracing and rendering \n",
      "3. Image formats and compression \n",
      "4. Graphics libraries and tools \n",
      "5. 3D modeling and animation. \n",
      " \n",
      "Topic index: 2: \n",
      " The common topic of the provided words is \"gun control\". The various aspects and sub-topics of this topic include: \n",
      "1. Gun ownership: \"semi-autos\", \"revolvers\", \"pistols\", \"rifles\", \"shotguns\"\n",
      "2. Legislation: \"firearm laws\", \"gun-control\", \"assault weapons ban\"\n",
      "3. Advocacy: \"NRA\", \"gun-control advocates\", \"pro-gun lobbyists\"\n",
      "4. Crime and violence: \"shootings\", \"gunfire\", \"gun-related incidents\"\n",
      "5. Government agencies: \"FBI\", \"BATF\", \"DEA\" \n",
      " \n",
      "Topic index: 3: \n",
      " Based on the provided words, the common topic seems to be related to computer science and technology. \n",
      "\n",
      "Aspects and sub-topics of this topic include:\n",
      "1. Cryptography: cypherpunk, steganography, chaining, anonymity, untraceable.\n",
      "2. Internet: Arpanet, Usenet, newsgroups, email, mailing lists.\n",
      "3. Privacy: privacy-related, identities, unscrupulous, pseudonymous.\n",
      "4. Security: passwords, overwriting, troubleshooting, porting, routing.\n",
      "5. Computer networks: TCP/IP, DNS, routers, protocols, firewalls.\n",
      "\n",
      "Please note that these topics are inferred solely based on the provided words and may not represent the complete range of sub-topics within the broader topic of computer science and technology. \n",
      " \n",
      "Topic index: 4: \n",
      " The common topic of the given words appears to be related to historical events and conflicts involving Armenia and Turkey. \n",
      "\n",
      "Various aspects and sub-topics of this topic include:\n",
      "1. Armenian Genocide: massacre, deportations, persecution, pogrom\n",
      "2. Ottoman Empire: tarih, imparatorlugu'nun, devleti, vilayet\n",
      "3. Turkish-Armenian relations: Likud, anti-Israel, anti-trust, anti-semite\n",
      "4. Armenian resistance: guerilla, militants, revolutionaries, rebels\n",
      "5. International involvement: Middle-Eastern, Balkans, Lebanon, Iran \n",
      " \n",
      "Topic index: 5: \n",
      " The common topic of the given words is computer hardware. The various aspects and sub-topics of this topic include:\n",
      "1. Peripherals: deskjets, bubblejets, laserprinter, stylewriter.\n",
      "2. Communication: kb/s, multisession, master/slave, telix.\n",
      "3. Components: pinout, jumpered, eeprom, uarts.\n",
      "4. Brands and models: quadras, kayman, bitblaster, cornerstone.\n",
      "5. Features and functions: bootable, bi-directional, ocr, controler. \n",
      " \n",
      "Topic index: 6: \n",
      " Based on the provided words, the common topic appears to be \"controversial social and philosophical issues.\" \n",
      "\n",
      "Sub-topics include:\n",
      "1. LGBTQ+ rights and identity: gay/bi, queers, bisexual, queer, lesbians, deviant, deviants, closeted, bisexuality, homosexuals.\n",
      "2. Religion and religious figures: imams, hadith, apostasy, theistic, muhammed, creationism, soc.religion.islam, sunni, witness, soc.religion.misc, talk.abortion.\n",
      "3. Science and philosophy: asimov, kekule, subjectivist, memes, spacetime, pasteur, objectivist, metaphysical, descartes, cognitive.\n",
      "4. Ethics and morality: molest, molesters, pedophilia, pedophile, sexist, hypocritical, societal, ethics, relativist, fallacious.\n",
      "5. Psychology and behavior: behaviorists, cognitive, societally, instincts, self-awareness, gullibility, psychologists, instincts, behavior.\n",
      "\n",
      "Please note that these sub-topics are inferred based on the words provided and may not cover all possible aspects of the topic. \n",
      " \n",
      "Topic index: 7: \n",
      " The common topic of the provided words is \"Internet Communication\". \n",
      "\n",
      "Aspects and sub-topics of the topic include:\n",
      "1. Online discussions: \"flamebait\", \"unsubscribe\", \"newsreader\", \"reposting\", \"retentive\"\n",
      "2. Netiquette: \"etiquette\", \"emails\", \"manners\", \"considerate\", \"polite\"\n",
      "3. Online communities: \"usenet\", \"netnews\", \"compunction\", \"bounces\", \"killfile\"\n",
      "4. Language and behavior: \"name-calling\", \"misrepresentation\", \"disrespectful\", \"obligatory\", \"disqualified\"\n",
      "5. Humor and sarcasm: \"humorous\", \"parody\", \"joke\", \"sarcasm\", \"chuckle\" \n",
      " \n",
      "Topic index: 8: \n",
      " The common topic of the given words is \"Computer Software and Hardware\". The various aspects and sub-topics of this topic include:\n",
      "\n",
      "1. Software: doublespace, swapfile, chkdsk, ndis, dde\n",
      "2. Ergonomics: one-handed, ergonomic, backrest, wrist, bending\n",
      "3. Operating Systems: windoze, dos/windows, dos=high, bootp, rebooting\n",
      "4. File Management: filemanager, path=c, autoexec, glyph, pathway\n",
      "5. Networking: xdmcp, pc-nfs, winqvt/net, bootup, tcpip \n",
      " \n",
      "Topic index: 9: \n",
      " The common topic of the provided words is \"Automobiles\".\n",
      "\n",
      "Aspects and sub-topics of the topic \"Automobiles\" include:\n",
      "1. Brands: T-Bird, Manta, Corolla, Tercel, Infiniti, Lexus, Jaguar, Opel, Acura, Delorean, Ferrari, Isuzu, Buick, Alfa, Altima, Volkswagon, Ford, MGB, Galant, Maxima, GMC, Camaro/Firebird, Oldsmobile, Hyundai, Beretta, Sable, Scirocco, Bronco, Cadillac, Saturns, Se-r, BMWs, Tempo, Peugout, Saabs, Porsches, Fiat, Renault, Cavalier.\n",
      "2. Features: Invoice, Synchros, Understeer, Oversteer, Automatics, Tach, AWD, Moonroof, Milage, Wideband, Airbag, Speedometer, Rattles, Gearbox, Vascar, Taillights, Convertibles, Autobahn, Bumpers, Hatchback, Viscous, Defogger, Coolant, Pickups, Friction, Spoiler, Wipers, Fog, Headlights, Lock-up, Remotes, Vinyl, Spoiler, Airbags, Sunshade, Radars, Anti-lock, Defroster, Convertable, Radial, Headlight, Grille, Lock-up, Spoiler, Alloy, Vents, Carpets, Windy, Seatbelts.\n",
      "3. Models: Pathfinder, Caprice, Talon, Clutches, Clutchless, Coupes, Shelby-American, Kadett, Stanza, Altima, Prizm, Blazer, Miata, Pontiac, Shelby, Corvette, Mustangs, Syclone, Villager, Trooper, Dart, Riviera, Typhoon, Milano, Sprint, Stylus, Trooper, Dart, Riviera, Typhoon, Milano, Sprint, Stylus, Trooper, Riviera, Typhoon, Milano, Sprint, Stylus, Trooper.\n",
      "4. Performance: Wideband, RPMs, Cornering, DOHC, Lockup, Litres, Turbocharged, Powerplant, Rusted, Nimble.\n",
      "5. Issues: Warranty, Trade-in, Noises, Warped, Gasket, Chatter, Crankshaft, Dents, Lock-up, Leaking, Potholes, Rags, Breakdowns, Funky, Stomping, Dislikes, Yucky, Stopper. \n",
      " \n",
      "Topic index: 10: \n",
      " Based on the provided words, the common topic appears to be encryption and cryptography. \n",
      "\n",
      "Aspects/Sub-topics:\n",
      "1. Encryption algorithms: itar, ecb, cylink, algorythm, feal, triple-des, bamford, ofb\n",
      "2. Cryptanalysis: cryptanalyst, known-plaintext, ciphertext-only, chosen-plaintext, cryptographically, cryptanalysts\n",
      "3. Key management: encryptions, vault, backdoor, keysearch, private-key, key-server, split-key\n",
      "4. Security vulnerabilities: vulnerabilities, breakable, vulnerabilities, vulnerabilities, vulnerabilities\n",
      "5. Government involvement: escrowing, escrows, administrations, forfeiture, outlawed, outlawing, nea, foia, arrests, infringement, harmoniously, public-interest, protections, pseudo-random, protections, safeguards, protections, protections, protections, protections, protections, protections, protections, protections, protections, protections, protections, protections, protections, protections, protections, protections, protections, protections, protections, protections, protections, protections, protections, protections, protections, protections, protections, protections, protections, protections, protections, protections, protections, protections, protections, protections, protections, protections, protections, protections, protections, protections, protections, protections, protections, protections, protections, protections, protections, protections, protections, protections, protections, protections, protections, protections, protections, protections, protections, protections, protections, protections, protections, protections, protections, protections, protections, protections, protections, protections, protections, protections, protections, protections, protections, protections, protections, protections, protections, protections, protections, protections, protections, protections, protections, protections, protections, protections, protections, protections, protections, protections, protections, protections, protections, protections, protections, protections, protections, protections, protections, protections, protections, protections, protections, protections, protections, protections, protections, protections, protections, protections, protections, protections, protections, protections, protections, protections, protections, protections, protections, protections, protections, protections, protections, protections, protections, protections, protections, protections, protections, protections, protections, protections, protections, protections, protections, protections, protections, protections, protections, protections, protections, protections, protections, protections, protections, protections, protections, protections, protections, protections, protections, protections, protections, protections, protections, protections, protections, protections, protections, protections, protections, protections, protections, protections, protections, protections, protections, protections, protections, protections, protections, protections, protections, protections, protections, protections, protections, protections, protections, protections, protections, protections, protections, protections, protections, protections, protections, protections, protections, protections, protections, protections, protections, protections, protections, protections, protections, protections, protections, protections, protections, protections, protections, protections, protections, protections, protections, protections, protections, protections, protections, protections, protections, protections, protections, protections, protections, protections, protections, protections, protections, protections, protections, protections, protections, protections, protections, protections, protections, protections, protections, protections, protections, protections, protections, protections, protections, protections, protections, protections, protections, protections, protections, protections, protections, protections, protections, protections, protections, protections, protections, protections, protections, protections, protections, protections, protections, protections, protections, protections, protections, protections, protections, protections, protections, protections, protections, protections, protections, protections, protections, protections, protections, protections, protections, protections, protections, protections, protections, protections, protections, protections, protections, protections, protections, protections, protections, protections, protections, protections, protections, protections, protections, protections, protections, protections, protections, protections, protections, protections, protections, protections, protections, protections, protections, protections, protections, protections, protections, protections, protections, protections, protections, protections, protections, protections, protections, protections, protections, protections, protections, protections, protections, protections, protections, protections, protections, protections, protections, protections, protections, protections, protections, protections, protections, protections, protections, protections, protections, protections, protections, protections, protections, protections, protections, protections, protections, protections, protections, protections, protections, protections, protections, protections, protections, protections, protections, protections, protections, protections, protections, protections, protections, protections, protections, protections, protections, protections, protections, protections, protections, protections, protections, protections, protections, protections, protections, protections, protections, protections, protections, protections, protections, protections, protections, protections, protections, protections, protections, protections, protections, protections, protections, protections, protections, protections, protections, protections, protections, protections, protections, protections, protections, protections, protections, protections, protections, protections, protections, protections, protections, protections, protections, protections, protections, protections, protections, protections, protections, protections, protections, protections, protections, protections, protections, protections, protections, protections, protections, protections, protections, protections, protections, protections, protections, protections, protections, protections, protections, protections, protections, protections, protections, protections, protections, protections, protections, protections, protections, protections, protections, protections, protections, protections, protections, protections, protections, protections, protections, protections, protections, protections, protections, protections, protections, protections, protections, protections, protections, protections, protections, protections, protections, protections, protections, protections, protections, protections, protections, protections, protections, protections, protections, protections, protections, protections, protections, protections, protections, protections, protections, protections, protections, protections, protections, protections, protections, protections, protections, protections, protections, protections, protections, protections, protections, protections, protections, protections, protections, protections, protections, protections, protections, protections, protections, protections, protections, protections, protections, protections, protections, protections, protections, protections, protections, protections, protections, protections, protections, protections, protections, protections, protections, protections, protections, protections, protections, protections, protections, protections, protections, protections, protections, protections, protections, protections, protections, protections, protections, protections, protections, protections, protections, protections, protections, protections, protections, protections, protections, protections, protections, protections, protections, protections, protections, protections, protections, protections, protections, protections, protections, protections, protections, protections, protections, protections, protections, protections, protections, protections, protections, protections, protections, protections, protections, protections, protections, protections, protections, protections, protections, protections, protections, protections, protections, protections, protections, protections, protections, protections, protections, protections, protections, protections, protections, protections, protections, protections, protections, protections, protections, protections, protections, protections, protections, protections, protections, protections, protections, protections, protections, protections, protections, protections, protections, protections, protections, protections, protections, protections, protections, protections, protections, protections, protections, protections, protections, protections, protections, protections, protections, protections, protections, protections, protections, protections, protections, protections, protections, protections, protections, protections, protections, protections, protections, protections, protections, protections, protections, protections, protections, protections, protections, protections, protections, protections, protections, protections, protections, protections, protections, protections, protections, protections, protections, protections, protections, protections, protections, protections, protections, protections, protections, protections, protections, protections, protections, protections, protections, protections, protections, protections, protections, protections, protections, protections, protections, protections, protections, protections, protections, protections, protections, protections, protections, protections, protections, protections, protections, protections, protections, protections, protections, protections, protections, protections, protections, protections, protections, protections, protections, protections, protections, protections, protections, protections, protections, protections, protections, protections, protections, protections, protections, protections, protections, protections, protections, protections, protections, protections, protections, protections, protections, protections, protections, protections, protections, protections, protections, protections, protections, protections, protections, protections, protections, protections, protections, protections, protections, protections, protections, protections, protections, protections, protections, protections, protections, protections, protections, protections, protections, protections, protections, protections, protections, protections, protections, protections, protections, protections, protections, protections, protections, protections, protections, protections, protections, protections, protections, protections, protections, protections, protections, protections, protections, protections, protections, protections, protections, protections, protections, protections, protections, protections, protections, protections, protections, protections, protections, protections, protections, protections, protections, protections, protections, protections, protections, \n",
      " \n",
      "Topic index: 11: \n",
      " The common topic of the given words is \"Technology and Computing\". \n",
      "\n",
      "Aspects and sub-topics of the topic include:\n",
      "1. Plundering and Plunderers: Unauthorized access and theft.\n",
      "2. Plumbing and Pluggers: Plumbing systems and repair.\n",
      "3. Pneumonia and Pne: Respiratory illness and medical treatment.\n",
      "4. Plywood and Plymouth: Building material and a city.\n",
      "5. Polyhedra and Polytopes: Geometric shapes and mathematics.\n",
      "\n",
      "Please note that these descriptions are based solely on the provided words and may not cover the entire range of sub-topics within the topic of \"Technology and Computing\". \n",
      " \n",
      "Topic index: 12: \n",
      " The common topic of the provided words is \"technology and computing\". \n",
      "\n",
      "Aspects and sub-topics of this topic include:\n",
      "\n",
      "1. Plundering and theft: plunder, plundered, plunderers.\n",
      "2. Plumbing and construction: plumbing, plumbing fixtures.\n",
      "3. Computer hardware and software: plug-in, plugger, plotter, plotted.\n",
      "4. Photography and imaging: photocopier, photograph, photographer.\n",
      "5. Internet and communication: PNP, PNM, PNE, Plesetsk, Pictel. \n",
      " \n",
      "Topic index: 13: \n",
      " The common topic of the provided words is \"Space Exploration\". \n",
      "\n",
      "Aspects and sub-topics of the topic include:\n",
      "1. Celestial Bodies: quasars, phobos, triton, ulysses, charon, ganymede, Europa, craters, volcanoes, craters, asteroids.\n",
      "2. Spacecraft and Missions: voyagers, isas, ulysses, surveyor, iras, gro, sakigake, giotto, huygens, seti, pvo, cobe, voyager, mars.\n",
      "3. Astronomical Phenomena: astrophysical, astrophysicists, astrophysics, supernova, pulsars, comets, meteors, meteorology, starlight, dark-sky.\n",
      "4. Technology and Equipment: flybys, thruster, spacewalks, eva, magnetometer, gyro, thrusters, propellant, srb, antenna, solar panels, tether.\n",
      "5. Organizations and People: baalke, sagan, worden, msfc, goldin, kelvin.jpl.nasa.gov, llnl, aiaa, nssdc, astrophys, larc, nasa.gov, astrophysicists, hollis, cate, spacenews, krumins, sherzer, pioneer.unm.edu, telesoft.com, kathy, larc.nasa.gov.\n",
      "\n",
      "Note: The provided descriptions are based solely on the words provided and may not cover all possible aspects and sub-topics of the topic. \n",
      " \n",
      "Topic index: 14: \n",
      " The common topic of the given words is \"motorcycling\".\n",
      "\n",
      "Aspects and sub-topics of the topic \"motorcycling\":\n",
      "1. Equipment: handlebars, leathers, helmet\n",
      "2. Brands: Harleys, Suzuki, BMW\n",
      "3. Riding techniques: wheelies, wheelie, countersteer\n",
      "4. Safety: DWI, helmet, handlebar, lanes\n",
      "5. Maintenance: oils, lubrication, mufflers \n",
      " \n",
      "Topic index: 15: \n",
      " The common topic of the provided words is \"technology\". \n",
      "\n",
      "Aspects and sub-topics of the topic \"technology\":\n",
      "1. Computing: \"plugging\", \"plug-in\", \"plotters\", \"plotter\", \"plotting\"\n",
      "2. Internet: \"plaza.aarnet.edu.au\", \"pictel.com\", \"phoenix.oulu.fi\", \"pku\", \"prentice-hall\"\n",
      "3. Electronics: \"platinum\", \"polypropylene\", \"photocopy\", \"piston\", \"preamp\"\n",
      "4. Communication: \"phone/fax\", \"photometer\", \"phoned\", \"preamplifier\", \"prepaid\"\n",
      "5. Software: \"pkg\", \"pilot\", \"preprocessor\", \"principals\", \"printout\" \n",
      " \n",
      "Topic index: 16: \n",
      " The common topic of the provided words is ice hockey. The various aspects and sub-topics of this topic include players (Flatley, Lapointe, Hedican), nationalities (Swedes, Swi, Cze), teams (Oilers, Bruins, Ducks), games (quarterfinals, semifinals), positions (winger, defenseman), events (telecast, telecasts), statistics (gf-ga, plus/minus), and leagues (NHL, WHL). \n",
      " \n",
      "Topic index: 17: \n",
      " The common topic of the provided words is \"Medical Conditions and Treatments\". \n",
      "\n",
      "Aspects and sub-topics of the topic include:\n",
      "1. Infectious Diseases: HIV, candidiasis, thrush, sinusitis, hepatitis, tuberculosis.\n",
      "2. Cancer: Melanoma, carcinoma, leukemia, tumors.\n",
      "3. Skin Disorders: Acne, dermatitis, psoriasis, lesions.\n",
      "4. Medications: Sporanox, antihistamines, antibiotics, chemotherapy, steroids.\n",
      "5. Medical Procedures: Radiology, acupuncture, surgery, vaccination, transplantation. \n",
      " \n",
      "Topic index: 18: \n",
      " Based on the provided words, the common topic appears to be baseball. \n",
      "\n",
      "Aspects and sub-topics of the topic include:\n",
      "1. Players and teams: 'nyy' (New York Yankees), 'garvey', 'koufax', 'santo', 'torre', 'schmidt', 'gaetti', 'leius', 'reardon', 'kan', 'mays', 'cin' (Cincinnati Reds), 'bosio', 'zeile', 'olerud', 'franco', 'pinch-hit', 'vizquel', 'hank' (Hank Aaron), 'carew', 'daulton', 'mussina', 'seaver', 'stanky', 'boone', 'dykstra', 'raines', 'tettleton', 'dawson', 'mcgwire', 'blauser', 'wetteland', 'guzman', 'maldonado', 'darrell', 'staub', 'lowenstein', 'carlton', 'pena', 'pendleton', 'gehrig', 'abbott', 'ernie', 'greenberg', 'clippers', 'klein', 'sandy' (Sandy Koufax), 'rams', 'perez', 'hollins', 'tartabull', 'drysdale', 'eldred', 'valle', 'gilkey', 'mcgriff', 'blomberg', 'mccovey', 'lansford', 'gwynn', 'ryne' (Ryne Sandberg), 'roberto' (Roberto Clemente), 'manny' (Manny Ramirez), 'riles', 'sherri' (Sherri Nichols), 'santiago', 'lou' (Lou Gehrig), 'molitor', 'wynn' (Tony Wynn), 'clemente', 'bagwell', 'mcgee', 'lofton', 'maddux', 'whiten', 'offerman', 'listach', 'sutcliffe', 'kruk', 'nokes', 'stankowitz', 'wickman', 'caminiti', 'orsulak', 'lilliquist', 'cito' (Cito Gaston), 'hoiles', 'lind', 'jefferies', 'holtzman', 'mcreynolds', 'baines', 'incaviglia', 'slaught', 'griffey', 'gagne', 'lavalliere', 'galarraga', 'surhoff', 'militello', 'pagliarulo', 'plantier', 'rodriguez', 'leadoff', 'greenwell', 'whitaker', 'mantle', 'rusty', 'devon', 'girardi', 'ruffin', 'triples', 'polonia', 'piazza', 'bichette', 'neid', 'cordero', 'fryman', 'conine', 'magadan', 'jackie', 'salmon', 'burks', 'duncan', 'bream', 'fierkelab', 'fernandez', 'guillen', 'millitello', 'oriole', 'cedeno', 'quintana', 'vaughn', 'vizcaino', 'gooden', 'mize', 'palmeiro', 'barberie', 'magadan', 'pas' (Pasqual Perez), 'fisk', 'maas', 'thrid', 'clay', 'downing', 'blair', 'fisk', 'thorn', 'jorgenson', 'berg', 'finishes', 'hundley', 'devereaux', 'krueger', 'merced', 'trout', 'langston', 'gruber', 'scot' (Scot Shields), 'slyke', 'nieves', 'deshields', 'mayne', 'sosa', 'velarde', 'glavine', 'dal' (Dale Murphy), 'espy' (Hubie Brooks), 'usui'\n",
      "2. Positions and skills: 'catchers', 'shortstop', 'reliever', 'outfield', 'infielder', 'lefties' (left-handed pitchers), 'fielders', 'basemen', 'slugging', 'batted', 'putouts', 'fielded', 'strikeout', 'steals', 'strikeouts'\n",
      "3. Baseball terms and actions: 'ump' (umpire), 'hof' (Hall of Fame), 'oba' (on-base average), 'no-hitter', 'rulebook', 'baserunning', 'grounder', 'w-l' (win-loss record), 'no-hitters', 'scoreboard', 'scoreless', 'homerun', 'pinch-hitter', 'fastball', 'sabr' (Society for American Baseball Research), 'bunt', 'balk', 'leadoff', 'two-run', 'solo', 'strikeouts', 'homeruns'\n",
      "4. Miscellaneous: 'clubhouse', 'alphabetical', 'raines', 'maj' (major leagues), 'lakers', 'ocf.berkeley.edu', 'hollins', 't.v', 'overrated', 'remarked', 'postseason', 'lotto' (lottery), 'mle' (Major League Equivalency), 'mediots' (media idiots), 'pick-off', 'barehanded', 'umpiring', 'unearned', 'surf', 'outfielders', 'ballplayer', 'favorites', 'rookies', 'loyal' (loyal fans), 'hrs' (home runs), 'replays', 'contenders', 'sept' (September), 'shaky', 'endorse', 'legitimately', 'climb', 'outta' (out of), 'wacky', 'overpaid', 'stiffness', 'slumping', 'underpaid', 'bonuses', 'dreaded', 'interviewer', 'variance', 'winding', 'cheer', 'exhibits', 'projecting', 'deflate', 'disrupted', 'no-no' (no-hitter), 'dome' (stadium), 'rotten', 'tags', 'shout', 'baseline', 'cliche', 'slump', 'performers', 'descending', 'cranking', 'weights', 'barring', 'lame', 'meaddata.com', 'interviewer', 'variance', 'shorten', 'winding', 'brook', 'cheer', 'exhibits', 'projecting', 'deflate', 'disrupted', 'no-no', 'dome', 'solo', 'rotten', 'saul', 'tags', 'pam', 'shaky', 'endorse', 'legitimately', 'climb', 'outta', 'berg', 'finishes', 'mobility', 'struggles', 'conceive', 'soapbox', 'warming', 'five-year', 'superb', 'matthews', 'ace', 'defect', 'mead', 'inexperienced', 'drama', 'holmes', 'grebeck', 'grissom', 'chet' (Chet Lemon), 'juggle', 'farrell', 'zupcic', 'strikeouts', 'bucs' (Pittsburgh Pirates), 'trout', 'langston', 'gruber', 'scot', 'slyke', 'nieves', 'deshields', 'mayne', 'sosa', 'velarde', 'glavine', 'homeruns', 'spice' (added excitement), 'hodapp', 'dal', 'woulda' (would have), 'espy', 'usui' \n",
      " \n",
      "Topic index: 19: \n",
      " The common topic of the provided words is likely to be \"Theology and Religion\". \n",
      "\n",
      "Sub-topics and aspects of this topic include: \n",
      "1. Christian denominations: Anglican, Baptist, Episcopal, Lutheran, Pentecostal, etc.\n",
      "2. Biblical figures and texts: Judah, Pauline epistles, Deuteronomy, Tobit, etc.\n",
      "3. Church history and councils: Nicea, Chalcedon, Councils, etc.\n",
      "4. Religious practices and rituals: Baptism, consecration, sacraments, liturgical, etc.\n",
      "5. Controversial topics and beliefs: Homosexuality, celibacy, sinfulness, heresies, etc. \n",
      " \n",
      "'''.\n",
      "        Please make sure to reply ONLY with an integer number between 0 and 19!\n",
      "        Reply with -1 if you don't find any topic that fits the query!\n",
      "        Always explicitly say if you don't find any useful information by replying with -1! If in doubt, say that you did not find any useful information!\n",
      "        Reply in the following format: \"The topic index is: <index>\n",
      "The topic index is: -1\n"
     ]
    }
   ],
   "source": [
    "res = pmp.identify_topic_idx(\"Bananas\")"
   ]
  },
  {
   "cell_type": "code",
   "execution_count": 62,
   "metadata": {},
   "outputs": [
    {
     "name": "stdout",
     "output_type": "stream",
     "text": [
      "None\n"
     ]
    }
   ],
   "source": [
    "print(res)"
   ]
  },
  {
   "cell_type": "code",
   "execution_count": null,
   "metadata": {},
   "outputs": [],
   "source": []
  }
 ],
 "metadata": {
  "kernelspec": {
   "display_name": "llm_sem",
   "language": "python",
   "name": "python3"
  },
  "language_info": {
   "codemirror_mode": {
    "name": "ipython",
    "version": 3
   },
   "file_extension": ".py",
   "mimetype": "text/x-python",
   "name": "python",
   "nbconvert_exporter": "python",
   "pygments_lexer": "ipython3",
   "version": "3.11.4"
  },
  "orig_nbformat": 4
 },
 "nbformat": 4,
 "nbformat_minor": 2
}
