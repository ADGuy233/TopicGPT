{
 "cells": [
  {
   "cell_type": "code",
   "execution_count": 14,
   "metadata": {},
   "outputs": [
    {
     "name": "stdout",
     "output_type": "stream",
     "text": [
      "The autoreload extension is already loaded. To reload it, use:\n",
      "  %reload_ext autoreload\n"
     ]
    }
   ],
   "source": [
    "%load_ext autoreload\n",
    "%autoreload 2"
   ]
  },
  {
   "cell_type": "code",
   "execution_count": 15,
   "metadata": {},
   "outputs": [],
   "source": [
    "import os\n",
    "import sys\n",
    "import inspect\n",
    "\n",
    "sys.path.insert(0, '../..')"
   ]
  },
  {
   "cell_type": "code",
   "execution_count": 16,
   "metadata": {},
   "outputs": [],
   "source": [
    "import os\n",
    "api_key_openai = os.environ.get('OPENAI_API_KEY')\n",
    "org_openai = os.environ.get('OPENAI_ORG')\n",
    "\n",
    "import openai\n",
    "openai.organization = org_openai\n",
    "import numpy as np"
   ]
  },
  {
   "cell_type": "code",
   "execution_count": 17,
   "metadata": {},
   "outputs": [],
   "source": [
    "from src.TopicRepresentation.TopicRepresentation import Topic\n",
    "from src.TopicPrompting.TopicPrompting import TopicPrompting"
   ]
  },
  {
   "cell_type": "code",
   "execution_count": 18,
   "metadata": {},
   "outputs": [],
   "source": [
    "import numpy as np\n",
    "import pickle"
   ]
  },
  {
   "cell_type": "code",
   "execution_count": 19,
   "metadata": {},
   "outputs": [
    {
     "name": "stdout",
     "output_type": "stream",
     "text": [
      "Mon Aug 14 12:03:31 2023 Building and compiling search function\n"
     ]
    }
   ],
   "source": [
    "with open(\"../../Data/SavedTopicRepresentations/Topics_20ng_v1.pkl\", \"rb\") as f:\n",
    "    topics = pickle.load(f)"
   ]
  },
  {
   "cell_type": "code",
   "execution_count": 21,
   "metadata": {},
   "outputs": [
    {
     "data": {
      "text/plain": [
       "'Encryption and Security'"
      ]
     },
     "execution_count": 21,
     "metadata": {},
     "output_type": "execute_result"
    }
   ],
   "source": [
    "topics[10].topic_name"
   ]
  },
  {
   "cell_type": "code",
   "execution_count": 11,
   "metadata": {},
   "outputs": [
    {
     "data": {
      "text/plain": [
       "'   This is factually incorrect. There was at least one message that said that Waco and Clipper justified \"anything\" in response.  David'"
      ]
     },
     "execution_count": 11,
     "metadata": {},
     "output_type": "execute_result"
    }
   ],
   "source": [
    "topics[2].documents[1]"
   ]
  },
  {
   "cell_type": "code",
   "execution_count": 12,
   "metadata": {},
   "outputs": [],
   "source": [
    "pmp = TopicPrompting(\n",
    "    openai_prompting_model = \"gpt-3.5-turbo-16k\",\n",
    "    max_context_length_promting = 16348,\n",
    "    topic_lis = topics,\n",
    "    openai_key = api_key_openai, \n",
    "    openai_model_temperature_prompting = 1\n",
    ")"
   ]
  },
  {
   "cell_type": "code",
   "execution_count": 13,
   "metadata": {},
   "outputs": [
    {
     "name": "stdout",
     "output_type": "stream",
     "text": [
      "{\n",
      "  \"role\": \"assistant\",\n",
      "  \"content\": null,\n",
      "  \"function_call\": {\n",
      "    \"name\": \"knn_search\",\n",
      "    \"arguments\": \"{\\n  \\\"topic_index\\\": 10,\\n  \\\"query\\\": \\\"bananas\\\",\\n  \\\"k\\\": 5\\n}\"\n",
      "  }\n",
      "}\n",
      "GPT wants to the call the function:  {\n",
      "  \"name\": \"knn_search\",\n",
      "  \"arguments\": \"{\\n  \\\"topic_index\\\": 10,\\n  \\\"query\\\": \\\"bananas\\\",\\n  \\\"k\\\": 5\\n}\"\n",
      "}\n",
      "[{'role': 'system', 'content': \"You are a helpful assistant. \\nYou are excellent at inferring information about topics discovered via topic modelling using information retrieval. \\nYou summarize information intelligently. \\nYou use the functions you are provided with if applicable.\\nYou make sure that everything you output is strictly based on the provided text. If you cite documents, give their indices. \\nYou always explicitly say if you don't find any useful information!\\nYou only say that something is contained in the corpus if you are very sure about it! \"}, {'role': 'user', 'content': 'What information on bananas does topic 10 contain?'}, <OpenAIObject at 0x22ba67ada30> JSON: {\n",
      "  \"role\": \"assistant\",\n",
      "  \"content\": null,\n",
      "  \"function_call\": {\n",
      "    \"name\": \"knn_search\",\n",
      "    \"arguments\": \"{\\n  \\\"topic_index\\\": 10,\\n  \\\"query\\\": \\\"bananas\\\",\\n  \\\"k\\\": 5\\n}\"\n",
      "  }\n",
      "}, {'role': 'function', 'name': 'knn_search', 'content': '{\"top-k documents\": [\" Well, they can\\'t listen in on much of mine, since I already use cryptography for much of my electronic mail, and will start using it for my telephony as soon as practical.  However, allow me to tell a parable.  There was once a far away land called Ruritania, and in Ruritania there was a strange phenonmenon -- all the trees that grew in Ruritainia were transparent. Now, in the days when people had lived in mud huts, this had not been a problem, but now high-tech wood technology had been developed, and in the new age of wood, everyone in Ruritania found that their homes were all 100% see through. Now, until this point, no one ever thought of allowing the police to spy on someone\\'s home, but the new technology made this tempting. This being a civilized country, however, warrants were required to use binoculars and watch someone in their home. The police, taking advantage of this, would get warrants to use binoculars and peer in to see what was going on. Occassionally, they would use binoculars without a warrant, but everyone pretended that this didn\\'t happen.  One day, a smart man invented paint -- and if you painted your house, suddenly the police couldn\\'t watch all your actions at will. Things would go back to the way they were in the old age -- completely private.  Indignant, the state decided to try to require that all homes have video cameras installed in every nook and cranny. \\\\\"After all\\\\\", they said, \\\\\"with this new development crime could run rampant. Installing video cameras doesn\\'t mean that the police get any new capability -- they are just keeping the old one.\\\\\"  A wise man pointed out that citizens were not obligated to make the lives of the police easy, that the police had survived all through the mud hut age without being able to watch the citizens at will, and that Ruritania was a civilized country where not everything that was expedient was permitted. For instance, in a neighboring country, it had been discovered that torture was an extremely effective way to solve crimes. Ruritania had banned this practice in spite of its expedience. Indeed, \\\\\"why have warrants at all\\\\\", he asked, \\\\\"if we are interested only in expedience?\\\\\"  A famous paint technologist, Dorothy Quisling, intervened however. She noted that people might take photographs of children masturbating should the new paint technology be widely deployed without safeguards, and the law was passed.  Soon it was discovered that some citizens would cover their mouths while speaking to each other, thus preventing the police from reading their lips through the video cameras. This had to be prevented, the police said. After all, it was preventing them from conducting their lawful surveilance. The wise man pointed out that the police had never before been allowed to listen in on people\\'s homes, but Dorothy Quisling pointed out that people might use this new invention of covering their mouths with veils to discuss the kidnapping and mutilation of children. No one in the legislature wanted to be accused of being in favor of mutilating children, but then again, no one wanted to interfere in people\\'s rights to wear what they liked, so a compromise was reached whereby all homes were installed with microphones in each room to accompany the video cameras. The wise man lamented few if any child mutilations had ever been solved by the old lip reading technology, but it was too late -- the microphones were installed everwhere.  However, it was discovered that this was insufficient to prevent citizens from hiding information from the authorities, because some of them would cleverly speak in languages that the police could not understand. A new law was proposed to force all citizens to speak at all times only in Ruritanian, and, for good measure, to require that they speak clearly and distinctly near the microphones. \\\\\"After all\\\\\", Dorothy Quisling pointed out, \\\\\"they might be using the opportunity to speak in private to mask terrorist activities!\\\\\"  Terrorism struck terror into everyone\\'s hearts, and they rejoiced at the brulliance of this new law.  Meanwhile, the wise man talked one evening to his friends on how all of this was making a sham of the constitution of Ruritania, of which all Ruritanians were proud. \\\\\"Why\\\\\", he asked, \\\\\"are we obligated to sacrifice all our freedom and privacy to make the lives of the police easier? There isn\\'t any real evidence that this makes any big dent in crime anyway! All it does is make our privacy forfeit to the state!\\\\\"  However, the wise man made the mistake of saying this, as the law required, in Ruritanian, clearly and distinctly, and near a microphone.  Soon, the newly formed Ruritanian Secret Police arrived and took him off\", \"Gee, I guess they should also have such a repository for house keys, car keys, safety deposit keys, ... :-(  rdl\", \"  Then they\\'ll probably also want to start tracking the customer lists of people purchasing SoundBlaster and similar boards, which can be configured with the use of some code and a modem, to act as a pretty decent digital-encrypting telephone. It\\'s expensive, though, and kind of awkward. I don\\'t know any drug lords, but I\\'m sure they\\'d favor something tappable over something secure as long as the user interface is nice.   When you\\'ve got HRH Prince of Wales saying stupid things over cordless phones, it\\'s not hard to imagine that drug dealers, child pornographers, commies, LISP programmers, and other threats to the civilized world might transact incriminating business over \\\\\"encrypting\\\\\" cellular phones. \", \" Now, almost 100 years later, we have the right words for the problem here.  Phone calls are \\\\\"virtual visits\\\\\".  Those experienced in virtual reality would know from that title that phone calls need to have all the properties of a walk in the park with your friend -- security from casual overhearing and easy verification to see if anyone is listening secretively.  As designed, they fail at that.  ..trouble is, telephones were invented a long time ago and people didn\\'t realize the danger or the concept of virtual reality back then. \", \"  Not to pick on Mr. May in particular, of course, but isn\\'t this kind of the domino theory? When one little country falls, its neighbor will surely follow, and before you know it, we\\'re all mining salt in Siberia for not turning in our Captain Crunch Secret Decoder Rings.   Surely the hypothesis relying on the least wild assumptions is to take this at face value. Our lads at the fort were asked to cook up something that\\'s pretty secure, with a key that can be escrowed neatly, and they did. The government plans to sell this thing, for the reasons they state. Yes, those evil guys in the FBI can probably, with some effort, abuse the system. I got news for you, if the evil guys in the FBI decide they want to persecute you, they\\'re gonna, and you\\'re gonna hate it. Fact is, the FBI doesn\\'t want to listen to your phone calls, and if they do, and if you\\'re using triple-DES, they\\'ll just get a parabolic microphone and point it at your head.   This is pretty clearly an effort by the government to do exactly what they\\'re saying they\\'re doing. As is typical with governments, it\\'s mismanaged, and full of holes and compromises. As is typical with our government, it\\'s not too bad, could be worse.   My interpretation.   Andrew                             ^^^^^^^^^^^^^^^^^^\"], \"indices of top-k documents\": [535, 263, 199, 282, 122]}'}]\n"
     ]
    },
    {
     "data": {
      "text/plain": [
       "<OpenAIObject chat.completion id=chatcmpl-7nNyvLlwoY4wIuJzU04hCwMxLq9Ot at 0x22ba67acf50> JSON: {\n",
       "  \"id\": \"chatcmpl-7nNyvLlwoY4wIuJzU04hCwMxLq9Ot\",\n",
       "  \"object\": \"chat.completion\",\n",
       "  \"created\": 1692004613,\n",
       "  \"model\": \"gpt-3.5-turbo-16k-0613\",\n",
       "  \"choices\": [\n",
       "    {\n",
       "      \"index\": 0,\n",
       "      \"message\": {\n",
       "        \"role\": \"assistant\",\n",
       "        \"content\": \"Based on the documents in topic 10 related to bananas, there doesn't seem to be any specific information about bananas. The documents in this topic mainly discuss topics such as cryptography, surveillance, and phone calls. Therefore, it appears that bananas are not a prominent subject in this topic.\"\n",
       "      },\n",
       "      \"finish_reason\": \"stop\"\n",
       "    }\n",
       "  ],\n",
       "  \"usage\": {\n",
       "    \"prompt_tokens\": 1785,\n",
       "    \"completion_tokens\": 57,\n",
       "    \"total_tokens\": 1842\n",
       "  }\n",
       "}"
      ]
     },
     "execution_count": 13,
     "metadata": {},
     "output_type": "execute_result"
    }
   ],
   "source": [
    "pmp.prompt_knn_search(llm_query = \"What information on bananas does topic 10 contain?\")"
   ]
  },
  {
   "cell_type": "code",
   "execution_count": null,
   "metadata": {},
   "outputs": [],
   "source": []
  }
 ],
 "metadata": {
  "kernelspec": {
   "display_name": "llm_sem",
   "language": "python",
   "name": "python3"
  },
  "language_info": {
   "codemirror_mode": {
    "name": "ipython",
    "version": 3
   },
   "file_extension": ".py",
   "mimetype": "text/x-python",
   "name": "python",
   "nbconvert_exporter": "python",
   "pygments_lexer": "ipython3",
   "version": "3.11.4"
  },
  "orig_nbformat": 4
 },
 "nbformat": 4,
 "nbformat_minor": 2
}
