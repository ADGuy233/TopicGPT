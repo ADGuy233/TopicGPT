{
 "cells": [
  {
   "cell_type": "code",
   "execution_count": 1,
   "metadata": {},
   "outputs": [],
   "source": [
    "%load_ext autoreload\n",
    "%autoreload 2"
   ]
  },
  {
   "cell_type": "code",
   "execution_count": 2,
   "metadata": {},
   "outputs": [],
   "source": [
    "import os\n",
    "import sys\n",
    "import inspect\n",
    "\n",
    "sys.path.insert(0, '../..')"
   ]
  },
  {
   "cell_type": "code",
   "execution_count": 23,
   "metadata": {},
   "outputs": [],
   "source": [
    "import os\n",
    "api_key_openai = os.environ.get('OPENAI_API_KEY')\n",
    "org_openai = os.environ.get('OPENAI_ORG')\n",
    "\n",
    "import openai\n",
    "openai.organization = org_openai\n",
    "import numpy as np\n",
    "import json"
   ]
  },
  {
   "cell_type": "code",
   "execution_count": 4,
   "metadata": {},
   "outputs": [
    {
     "name": "stderr",
     "output_type": "stream",
     "text": [
      "c:\\Users\\arik_\\anaconda3\\envs\\llm_sem\\Lib\\site-packages\\umap\\distances.py:1063: NumbaDeprecationWarning: \u001b[1mThe 'nopython' keyword argument was not supplied to the 'numba.jit' decorator. The implicit default value for this argument is currently False, but it will be changed to True in Numba 0.59.0. See https://numba.readthedocs.io/en/stable/reference/deprecation.html#deprecation-of-object-mode-fall-back-behaviour-when-using-jit for details.\u001b[0m\n",
      "  @numba.jit()\n",
      "c:\\Users\\arik_\\anaconda3\\envs\\llm_sem\\Lib\\site-packages\\umap\\distances.py:1071: NumbaDeprecationWarning: \u001b[1mThe 'nopython' keyword argument was not supplied to the 'numba.jit' decorator. The implicit default value for this argument is currently False, but it will be changed to True in Numba 0.59.0. See https://numba.readthedocs.io/en/stable/reference/deprecation.html#deprecation-of-object-mode-fall-back-behaviour-when-using-jit for details.\u001b[0m\n",
      "  @numba.jit()\n",
      "c:\\Users\\arik_\\anaconda3\\envs\\llm_sem\\Lib\\site-packages\\umap\\distances.py:1086: NumbaDeprecationWarning: \u001b[1mThe 'nopython' keyword argument was not supplied to the 'numba.jit' decorator. The implicit default value for this argument is currently False, but it will be changed to True in Numba 0.59.0. See https://numba.readthedocs.io/en/stable/reference/deprecation.html#deprecation-of-object-mode-fall-back-behaviour-when-using-jit for details.\u001b[0m\n",
      "  @numba.jit()\n",
      "c:\\Users\\arik_\\anaconda3\\envs\\llm_sem\\Lib\\site-packages\\tqdm\\auto.py:21: TqdmWarning: IProgress not found. Please update jupyter and ipywidgets. See https://ipywidgets.readthedocs.io/en/stable/user_install.html\n",
      "  from .autonotebook import tqdm as notebook_tqdm\n",
      "c:\\Users\\arik_\\anaconda3\\envs\\llm_sem\\Lib\\site-packages\\umap\\umap_.py:660: NumbaDeprecationWarning: \u001b[1mThe 'nopython' keyword argument was not supplied to the 'numba.jit' decorator. The implicit default value for this argument is currently False, but it will be changed to True in Numba 0.59.0. See https://numba.readthedocs.io/en/stable/reference/deprecation.html#deprecation-of-object-mode-fall-back-behaviour-when-using-jit for details.\u001b[0m\n",
      "  @numba.jit()\n",
      "c:\\Users\\arik_\\anaconda3\\envs\\llm_sem\\Lib\\site-packages\\umap\\plot.py:203: NumbaDeprecationWarning: \u001b[1mThe 'nopython' keyword argument was not supplied to the 'numba.jit' decorator. The implicit default value for this argument is currently False, but it will be changed to True in Numba 0.59.0. See https://numba.readthedocs.io/en/stable/reference/deprecation.html#deprecation-of-object-mode-fall-back-behaviour-when-using-jit for details.\u001b[0m\n",
      "  @numba.jit()\n",
      "[nltk_data] Downloading package stopwords to\n",
      "[nltk_data]     C:\\Users\\arik_\\AppData\\Roaming\\nltk_data...\n",
      "[nltk_data]   Package stopwords is already up-to-date!\n",
      "[nltk_data] Downloading package punkt to\n",
      "[nltk_data]     C:\\Users\\arik_\\AppData\\Roaming\\nltk_data...\n",
      "[nltk_data]   Package punkt is already up-to-date!\n"
     ]
    }
   ],
   "source": [
    "from src.TopicRepresentation.TopicRepresentation import Topic\n",
    "from src.TopicPrompting.TopicPrompting import TopicPrompting\n",
    "from src.TopwordEnhancement.TopwordEnhancement import TopwordEnhancement"
   ]
  },
  {
   "cell_type": "code",
   "execution_count": 5,
   "metadata": {},
   "outputs": [],
   "source": [
    "import numpy as np\n",
    "import pickle"
   ]
  },
  {
   "cell_type": "code",
   "execution_count": 6,
   "metadata": {},
   "outputs": [
    {
     "name": "stdout",
     "output_type": "stream",
     "text": [
      "Sat Aug 19 11:04:52 2023 Building and compiling search function\n"
     ]
    }
   ],
   "source": [
    "with open(\"../../Data/SavedTopicRepresentations/Topics_20ng_v1.pkl\", \"rb\") as f:\n",
    "    topics = pickle.load(f)"
   ]
  },
  {
   "cell_type": "code",
   "execution_count": 7,
   "metadata": {},
   "outputs": [],
   "source": [
    "data = pickle.load(open(\"../../Data/Emebeddings/embeddings_20ng_raw.pkl\", \"rb\"))\n",
    "embeddings = data[\"embeddings\"]\n",
    "corpus = data[\"corpus\"]\n",
    "vocab_embeddings = pickle.load(open(\"../../Data/Emebeddings/embeddings_20ng_vocab.pkl\", \"rb\"))"
   ]
  },
  {
   "cell_type": "code",
   "execution_count": 8,
   "metadata": {},
   "outputs": [
    {
     "data": {
      "text/plain": [
       "'Encryption and Security'"
      ]
     },
     "execution_count": 8,
     "metadata": {},
     "output_type": "execute_result"
    }
   ],
   "source": [
    "topics[10].topic_name"
   ]
  },
  {
   "cell_type": "code",
   "execution_count": 9,
   "metadata": {},
   "outputs": [
    {
     "data": {
      "text/plain": [
       "'   This is factually incorrect. There was at least one message that said that Waco and Clipper justified \"anything\" in response.  David'"
      ]
     },
     "execution_count": 9,
     "metadata": {},
     "output_type": "execute_result"
    }
   ],
   "source": [
    "topics[2].documents[1]"
   ]
  },
  {
   "cell_type": "code",
   "execution_count": 10,
   "metadata": {},
   "outputs": [],
   "source": [
    "enhancer = TopwordEnhancement(api_key_openai)\n",
    "vocab_embeddings = vocab_embeddings\n",
    "\n",
    "pmp = TopicPrompting(\n",
    "    openai_prompting_model = \"gpt-3.5-turbo-16k\",\n",
    "    max_context_length_promting = 16348,\n",
    "    topic_lis = topics,\n",
    "    openai_key = api_key_openai, \n",
    "    openai_model_temperature_prompting = 1,\n",
    "    enhancer=enhancer,\n",
    "    vocab_embeddings=vocab_embeddings\n",
    ")"
   ]
  },
  {
   "cell_type": "code",
   "execution_count": 11,
   "metadata": {},
   "outputs": [
    {
     "data": {
      "text/plain": [
       "'Gun control.'"
      ]
     },
     "execution_count": 11,
     "metadata": {},
     "output_type": "execute_result"
    }
   ],
   "source": [
    "topics[2].topic_name"
   ]
  },
  {
   "cell_type": "code",
   "execution_count": 12,
   "metadata": {},
   "outputs": [
    {
     "name": "stdout",
     "output_type": "stream",
     "text": [
      "Based on the provided words, the common topic appears to be related to religion, sexuality, and philosophy. \n",
      "\n",
      "Aspects and sub-topics:\n",
      "1. Religion: imams, hadith, apostasy, muhammed, theistic, creationism, claus, agnosticism, evangelicals, religiously.\n",
      "2. Sexuality: gay/bi, queers, bisexual, deviant, molesters, pedophilia, lesbians, deviants, pedophiles, hetero.\n",
      "3. Philosophy: asimov, subjectivist, objectivist, metaphysical, descartes, relativist, fallacious, axiomatic, incoherent, epistemology.\n",
      "4. Science: kekule, pasteur, memes, spacetime, alcoholics, genome, eugenics, genetics, naturalistic, evolutionism.\n",
      "5. Ethics: self-respect, humility, ethics, sexist, hypocritical, societal, rightness, wrongness, relativists, superiority.\n",
      "\n",
      "Please note that these descriptions are based solely on the provided words and may not fully capture the depth and complexity of each sub-topic.\n"
     ]
    }
   ],
   "source": [
    "print(topics[6].topic_description)"
   ]
  },
  {
   "cell_type": "code",
   "execution_count": 13,
   "metadata": {},
   "outputs": [
    {
     "name": "stdout",
     "output_type": "stream",
     "text": [
      "The common topic of the given words is \"Space Exploration\". \n",
      "\n",
      "Aspects and sub-topics of the topic include:\n",
      "1. Missions and spacecraft: Flybys, Voyagers, Phobos, Ulysses, Surveyor.\n",
      "2. Celestial bodies: Quasars, Comets, Triton, Charon, Europa.\n",
      "3. Astronomical phenomena: Supernova, Pulsars, GRBs (Gamma Ray Bursts), Craters.\n",
      "4. Space technology and equipment: Thrusters, Spacewalks, Dragless, Magnetometer, Gyros.\n",
      "5. Space agencies and organizations: ISAS, NASA, NASDA, AIAA, ESA.\n"
     ]
    }
   ],
   "source": [
    "print(topics[13].topic_description)"
   ]
  },
  {
   "cell_type": "code",
   "execution_count": null,
   "metadata": {},
   "outputs": [],
   "source": []
  },
  {
   "cell_type": "code",
   "execution_count": 14,
   "metadata": {},
   "outputs": [
    {
     "name": "stderr",
     "output_type": "stream",
     "text": [
      "Epochs completed: 100%| ██████████ 100/100 [00:01]\n",
      "Epochs completed: 100%| ██████████ 100/100 [00:01]\n",
      "Computing word-topic matrix: 100%|██████████| 386/386 [00:01<00:00, 373.08it/s]\n",
      "Epochs completed: 100%| ██████████ 100/100 [00:01]\n",
      "100%|██████████| 1/1 [00:07<00:00,  7.64s/it]\n",
      "Epochs completed: 100%| ██████████ 100/100 [00:00]\n",
      "Epochs completed: 100%| ██████████ 100/100 [00:00]\n",
      "Computing word-topic matrix: 100%|██████████| 103/103 [00:00<00:00, 500.11it/s]\n",
      "Epochs completed: 100%| ██████████ 100/100 [00:00]\n",
      "100%|██████████| 1/1 [00:04<00:00,  4.23s/it]\n"
     ]
    }
   ],
   "source": [
    "res1 = pmp.split_topic_kmeans(topic_idx=13, n_clusters = 2, inplace=False)"
   ]
  },
  {
   "cell_type": "code",
   "execution_count": 15,
   "metadata": {},
   "outputs": [
    {
     "data": {
      "text/plain": [
       "[Topic: Electronics devices.,\n",
       " Topic: Computer Graphics,\n",
       " Topic: Gun control.,\n",
       " Topic: Email Privacy and Security,\n",
       " Topic: Armenian Genocide,\n",
       " Topic: Computer Hardware and Accessories,\n",
       " Topic: LGBTQ+ Issues,\n",
       " Topic: Online Communication and Etiquette,\n",
       " Topic: Computer Hardware/Software Issues,\n",
       " Topic: Car Performance,\n",
       " Topic: Encryption and Security,\n",
       " Topic: Technology and Computing,\n",
       " Topic: Technology.,\n",
       " Topic: Motorcycle Accessories,\n",
       " Topic: Computer Programming,\n",
       " Topic: Hockey Players.,\n",
       " Topic: Medical Treatments,\n",
       " Topic: Baseball Players,\n",
       " Topic: Religious Controversies,\n",
       " Topic: Space Exploration,\n",
       " Topic: Space Exploration]"
      ]
     },
     "execution_count": 15,
     "metadata": {},
     "output_type": "execute_result"
    }
   ],
   "source": [
    "res1"
   ]
  },
  {
   "cell_type": "code",
   "execution_count": 16,
   "metadata": {},
   "outputs": [
    {
     "name": "stderr",
     "output_type": "stream",
     "text": [
      "Epochs completed: 100%| ██████████ 100/100 [00:00]\n",
      "Epochs completed: 100%| ██████████ 100/100 [00:01]\n",
      "Computing word-topic matrix: 100%|██████████| 270/270 [00:00<00:00, 493.00it/s]\n",
      "Epochs completed: 100%| ██████████ 100/100 [00:01]\n",
      "100%|██████████| 1/1 [00:05<00:00,  5.14s/it]\n",
      "Epochs completed: 100%| ██████████ 100/100 [00:00]\n",
      "Epochs completed: 100%| ██████████ 100/100 [00:02]\n",
      "Computing word-topic matrix: 100%|██████████| 219/219 [00:00<00:00, 422.40it/s]\n",
      "Epochs completed: 100%| ██████████ 100/100 [00:01]\n",
      "100%|██████████| 1/1 [00:05<00:00,  5.11s/it]\n"
     ]
    }
   ],
   "source": [
    "res2 = pmp.split_topic_single_keyword(topic_idx = 13, keyword = \"Missions and spacecraft\", inplace = True)"
   ]
  },
  {
   "cell_type": "code",
   "execution_count": 17,
   "metadata": {},
   "outputs": [
    {
     "data": {
      "text/plain": [
       "'The common topic of the provided words is \"Space Exploration\". \\n\\nAspects and sub-topics of the topic include:\\n1. Spacecraft and Missions: \\'flybys\\', \\'reboost\\', \\'voyagers\\', \\'spacewalks\\', \\'close-up\\'\\n2. Propulsion and Thrusters: \\'thruster\\', \\'thrusters\\', \\'methane\\', \\'adaptive\\', \\'tug\\'\\n3. Celestial Bodies: \\'cometary\\', \\'craters\\', \\'volcanic\\', \\'volcanoes\\', \\'crust\\'\\n4. Space Technology and Equipment: \\'pallet\\', \\'fuselage\\', \\'gyros\\', \\'rover\\', \\'attitude-control\\'\\n5. Science and Research: \\'sci.space.shuttle\\', \\'cometary\\', \\'geology\\', \\'astrophysics\\', \\'aerobraking\\''"
      ]
     },
     "execution_count": 17,
     "metadata": {},
     "output_type": "execute_result"
    }
   ],
   "source": [
    "pmp.topic_lis[-1].topic_description"
   ]
  },
  {
   "cell_type": "code",
   "execution_count": 18,
   "metadata": {},
   "outputs": [
    {
     "data": {
      "text/plain": [
       "'The common topic of the provided words is \"Space Exploration\". \\n\\nAspects and sub-topics of the topic include:\\n1. Spacecraft and Missions: \\'flybys\\', \\'reboost\\', \\'voyagers\\', \\'spacewalks\\', \\'close-up\\'\\n2. Propulsion and Thrusters: \\'thruster\\', \\'thrusters\\', \\'methane\\', \\'adaptive\\', \\'tug\\'\\n3. Celestial Bodies: \\'cometary\\', \\'craters\\', \\'volcanic\\', \\'volcanoes\\', \\'crust\\'\\n4. Space Technology and Equipment: \\'pallet\\', \\'fuselage\\', \\'gyros\\', \\'rover\\', \\'attitude-control\\'\\n5. Science and Research: \\'sci.space.shuttle\\', \\'cometary\\', \\'geology\\', \\'astrophysics\\', \\'aerobraking\\''"
      ]
     },
     "execution_count": 18,
     "metadata": {},
     "output_type": "execute_result"
    }
   ],
   "source": [
    "pmp.topic_lis[20].topic_description"
   ]
  },
  {
   "cell_type": "code",
   "execution_count": 19,
   "metadata": {},
   "outputs": [
    {
     "data": {
      "text/plain": [
       "21"
      ]
     },
     "execution_count": 19,
     "metadata": {},
     "output_type": "execute_result"
    }
   ],
   "source": [
    "len(pmp.topic_lis)"
   ]
  },
  {
   "cell_type": "code",
   "execution_count": 28,
   "metadata": {},
   "outputs": [
    {
     "name": "stdout",
     "output_type": "stream",
     "text": [
      "{\n",
      "    \"topic_idx\": \"0\",\n",
      "    \"topic_name\": \"Electronics devices.\",\n",
      "    \"topic_description\": \"The common topic of the provided words is \\\"Electronics and Technology\\\". \\n\\nAspects and sub-topics of the topic include:\\n1. Electronic devices: 'nikon', 'tuner', 'amplifiers', 'voltmeter', 'camcorder'\\n2. Audio equipment: 'adcom', 'dolby', 'polypropylene', 'preamp', 'equalizer'\\n3. Computer technology: 'cs.jhu.edu', 'dmm', 'modems', 'kodak', 'oplinger'\\n4. Consumer electronics: 'shiny', 'dryer', 'fixture', 'flashlight', 'remotes'\\n5. Electrical components: 'resistances', 'residential', 'fet', 'capacitance', 'resistive'\"\n",
      "}\n"
     ]
    }
   ],
   "source": [
    "print(pmp.topic_lis[0].to_json())"
   ]
  },
  {
   "cell_type": "code",
   "execution_count": 38,
   "metadata": {},
   "outputs": [
    {
     "name": "stdout",
     "output_type": "stream",
     "text": [
      "{\n",
      "  \"role\": \"assistant\",\n",
      "  \"content\": null,\n",
      "  \"function_call\": {\n",
      "    \"name\": \"split_topic_kmeans\",\n",
      "    \"arguments\": \"{\\n  \\\"topic_idx\\\": 1,\\n  \\\"n_clusters\\\": 2\\n}\"\n",
      "  }\n",
      "}\n",
      "GPT wants to the call the function:  {\n",
      "  \"name\": \"split_topic_kmeans\",\n",
      "  \"arguments\": \"{\\n  \\\"topic_idx\\\": 1,\\n  \\\"n_clusters\\\": 2\\n}\"\n",
      "}\n"
     ]
    },
    {
     "name": "stderr",
     "output_type": "stream",
     "text": [
      "Epochs completed: 100%| ██████████ 100/100 [00:00]\n",
      "Epochs completed: 100%| ██████████ 100/100 [00:01]\n",
      "Computing word-topic matrix: 100%|██████████| 1108/1108 [00:02<00:00, 549.56it/s]\n",
      "Epochs completed: 100%| ██████████ 100/100 [00:00]\n",
      "100%|██████████| 1/1 [00:07<00:00,  7.98s/it]\n",
      "Epochs completed: 100%| ██████████ 100/100 [00:00]\n",
      "Epochs completed: 100%| ██████████ 100/100 [00:00]\n",
      "Computing word-topic matrix: 100%|██████████| 6/6 [00:00<00:00, 2001.58it/s]\n",
      "Epochs completed: 100%| ██████████ 100/100 [00:00]\n",
      "100%|██████████| 1/1 [00:03<00:00,  3.40s/it]\n"
     ]
    },
    {
     "name": "stdout",
     "output_type": "stream",
     "text": [
      "[{'role': 'system', 'content': \"You are a helpful assistant. \\nYou are excellent at inferring information about topics discovered via topic modelling using information retrieval. \\nYou summarize information intelligently. \\nYou use the functions you are provided with if applicable.\\nYou make sure that everything you output is strictly based on the provided text. If you cite documents, give their indices. \\nYou always explicitly say if you don't find any useful information!\\nYou only say that something is contained in the corpus if you are very sure about it! \"}, {'role': 'user', 'content': 'What subtopics does topic 1 have?'}, <OpenAIObject at 0x1950701c590> JSON: {\n",
      "  \"role\": \"assistant\",\n",
      "  \"content\": null,\n",
      "  \"function_call\": {\n",
      "    \"name\": \"split_topic_kmeans\",\n",
      "    \"arguments\": \"{\\n  \\\"topic_idx\\\": 1,\\n  \\\"n_clusters\\\": 2\\n}\"\n",
      "  }\n",
      "}, {'role': 'function', 'name': 'split_topic_kmeans', 'content': '{\"new topics\": [{\"topic_idx\": 0, \"topic_name\": \"Electronics devices.\", \"topic_description\": \"The common topic of the provided words is \\\\\"Electronics and Technology\\\\\". \\\\n\\\\nAspects and sub-topics of the topic include:\\\\n1. Electronic devices: \\'nikon\\', \\'tuner\\', \\'amplifiers\\', \\'voltmeter\\', \\'camcorder\\'\\\\n2. Audio equipment: \\'adcom\\', \\'dolby\\', \\'polypropylene\\', \\'preamp\\', \\'equalizer\\'\\\\n3. Computer technology: \\'cs.jhu.edu\\', \\'dmm\\', \\'modems\\', \\'kodak\\', \\'oplinger\\'\\\\n4. Consumer electronics: \\'shiny\\', \\'dryer\\', \\'fixture\\', \\'flashlight\\', \\'remotes\\'\\\\n5. Electrical components: \\'resistances\\', \\'residential\\', \\'fet\\', \\'capacitance\\', \\'resistive\\'\"}, {\"topic_idx\": 2, \"topic_name\": \"Gun control.\", \"topic_description\": \"The common topic of the given words appears to be \\\\\"gun control\\\\\" or \\\\\"firearms\\\\\". \\\\n\\\\nAspects and sub-topics of this topic include:\\\\n1. Gun laws: regulations, restrictions, permits, and background checks.\\\\n2. Types of firearms: semi-autos, revolvers, pistols, rifles.\\\\n3. Gun violence: shootings, fatalities, homicides, injuries.\\\\n4. Law enforcement: FBI, BATF, police, law enforcement agencies.\\\\n5. Political debates: libertarianism, Democrat, Republican, legislation.\"}, {\"topic_idx\": 3, \"topic_name\": \"Email Privacy and Security\", \"topic_description\": \"Based on the provided words, the common topic appears to be \\\\\"Privacy and Security\\\\\". \\\\n\\\\nAspects and sub-topics of this topic include:\\\\n1. Cryptography: \\\\\"cypherpunk\\\\\", \\\\\"steganography\\\\\", \\\\\"chaining\\\\\"\\\\n2. Anonymity: \\\\\"remailing\\\\\", \\\\\"untraceable\\\\\", \\\\\"pseudonymous\\\\\"\\\\n3. Internet and Technology: \\\\\"postmaster\\\\\", \\\\\"sendmail\\\\\", \\\\\"news.groups\\\\\"\\\\n4. Privacy Advocacy: \\\\\"eff.org\\\\\", \\\\\"cpsr.org\\\\\", \\\\\"alt.privacy\\\\\"\\\\n5. Identity Protection: \\\\\"identities\\\\\", \\\\\"anarchy\\\\\", \\\\\"privacy-related\\\\\"\\\\n\\\\nPlease note that these descriptions are based solely on the provided words and may not capture the full scope of each aspect or sub-topic.\"}, {\"topic_idx\": 4, \"topic_name\": \"Armenian Genocide\", \"topic_description\": \"The common topic of the provided words is \\\\\"Armenian Genocide\\\\\". \\\\n\\\\nVarious aspects and sub-topics of the topic include:\\\\n1. Historical events: tarih, birinci, tarihi, massacre, annihilation.\\\\n2. Perpetrators and organizations: likud, hizbollah, lehi, mossad, dashnaks.\\\\n3. Locations and regions: erevan, izmir, tiflis, balkan, nakhitchevan.\\\\n4. Personalities: aharonian, ohanus, muratoff, gurion, kerem.\\\\n5. Documentation and evidence: defterleri, belgeleriyle, affidavits, vesikalarla, tutanaklar-belgeler.\"}, {\"topic_idx\": 5, \"topic_name\": \"Computer Hardware and Accessories\", \"topic_description\": \"The common topic of the provided words is computer hardware. \\\\n\\\\nAspects and sub-topics of the topic include:\\\\n1. Peripherals: deskjets, bubblejets, laserprinter, stylewriter, fax, scanner\\\\n2. Components: pinout, jumpered, eeprom, uarts, controler, socketed, soldered, oscillators, fifo, heatsink, buffer, firmware, microcode\\\\n3. Brands/Manufacturers: deskwriter, cornerstone, asante, kyocera, supermac, ctx, asante, cornerstone, kyocera\\\\n4. Computer Models: quadras, macplus, powerbooks, lcii, iicx, iiip, pc-xview, deskpro\\\\n5. Connectivity: kb/s, multisession, master/slave, telix, w-net, repeater, adaptors, loopback, pli, rj45, vlb-ide\\\\n6. Performance: megabytes/sec, irq, controlers, speedometer, bottlenecks, speedup, bus-mastering, bitblaster, full-screen\\\\n7. Software: kmail, winqwk, winfax, texel, wave/qwk, winword, diagnostics, zterm, procomm, xga\\\\n8. Miscellaneous: rebate, bootable, ocr, bi-directional, vga/svga, power-up, ecc, flicker, plugging, epoxy\\\\n\\\\nPlease note that these descriptions are based solely on the provided words and may not cover all possible sub-topics within the topic of computer hardware.\"}, {\"topic_idx\": 6, \"topic_name\": \"LGBTQ+ Issues\", \"topic_description\": \"Based on the provided words, the common topic appears to be related to religion, sexuality, and philosophy. \\\\n\\\\nAspects and sub-topics:\\\\n1. Religion: imams, hadith, apostasy, muhammed, theistic, creationism, claus, agnosticism, evangelicals, religiously.\\\\n2. Sexuality: gay/bi, queers, bisexual, deviant, molesters, pedophilia, lesbians, deviants, pedophiles, hetero.\\\\n3. Philosophy: asimov, subjectivist, objectivist, metaphysical, descartes, relativist, fallacious, axiomatic, incoherent, epistemology.\\\\n4. Science: kekule, pasteur, memes, spacetime, alcoholics, genome, eugenics, genetics, naturalistic, evolutionism.\\\\n5. Ethics: self-respect, humility, ethics, sexist, hypocritical, societal, rightness, wrongness, relativists, superiority.\\\\n\\\\nPlease note that these descriptions are based solely on the provided words and may not fully capture the depth and complexity of each sub-topic.\"}, {\"topic_idx\": 7, \"topic_name\": \"Online Communication and Etiquette\", \"topic_description\": \"The common topic of the provided words is \\\\\"Internet Communication\\\\\". \\\\n\\\\nVarious aspects and sub-topics of this topic include:\\\\n1. Online Interactions: \\\\\"smileys\\\\\", \\\\\"unsubscribe\\\\\", \\\\\"newsreader\\\\\"\\\\n2. Online Etiquette: \\\\\"disclaimers\\\\\", \\\\\"netiquette\\\\\", \\\\\"unsubscribe\\\\\"\\\\n3. Flame Wars: \\\\\"flamebait\\\\\", \\\\\"name-calling\\\\\", \\\\\"troll\\\\\"\\\\n4. Internet Forums: \\\\\"alt.conspiracy\\\\\", \\\\\"talk.politics.misc\\\\\", \\\\\"rec.scouting\\\\\"\\\\n5. Communication Tools: \\\\\"netmail\\\\\", \\\\\"newsreader\\\\\", \\\\\"email\\\\\"\\\\n6. Online Behavior: \\\\\"disrespectful\\\\\", \\\\\"immature\\\\\", \\\\\"offensive\\\\\"\\\\n7. Internet Slang: \\\\\"rtfm\\\\\", \\\\\"lol\\\\\", \\\\\"wtf\\\\\"\"}, {\"topic_idx\": 8, \"topic_name\": \"Computer Hardware/Software Issues\", \"topic_description\": \"The common topic of the given words is \\\\\"Computer Software and Technology\\\\\". The various aspects and sub-topics of this topic include:\\\\n1. Operating Systems: doublespace, swapfile, chkdsk, bootup, rebooting.\\\\n2. User Interface: ergonomic, filemanager, progman, glyphs, notepad.\\\\n3. Networking: ndis, xdmcp, pc-nfs, winsock, tunnel.\\\\n4. Hardware: doubledisk, datahand, kinesis, high-density, sound.exe.\\\\n5. Troubleshooting: gpf, reboots, defrag, regedit, memmaker.\"}, {\"topic_idx\": 9, \"topic_name\": \"Car Performance\", \"topic_description\": \"The common topic of the given words is \\\\\"Automobiles\\\\\". \\\\n\\\\nAspects and sub-topics of the topic \\\\\"Automobiles\\\\\" include:\\\\n1. Car models: T-Bird, Manta, Corolla, Pathfinder, Caprice, Tercel, Infiniti, Jaguar, Opel, Talon, Acura, Delorean, Ferrari, Isuzu, Buick, Stanza, Alfa, Altima, Volkswagon, MGB, Galant, Maxima, Blazer, Miata, Bronco, Mustangs, Scirocco, Camaro/Firebird, Oldsmobile, Beretta, Sable, Firebird, Camaros, Prizm, Convertibles, Blazer, Bronco, Mustangs, Miata, Camaro/Firebird, Convertibles, Blazer, Bronco, Mustangs, Miata, Camaro/Firebird, Convertibles, Blazer, Bronco, Mustangs, Miata, Camaro/Firebird, Convertibles, Blazer, Bronco, Mustangs, Miata, Camaro/Firebird, Convertibles, Blazer, Bronco, Mustangs, Miata, Camaro/Firebird, Convertibles, Blazer, Bronco, Mustangs, Miata, Camaro/Firebird, Convertibles, Blazer, Bronco, Mustangs, Miata, Camaro/Firebird, Convertibles, Blazer, Bronco, Mustangs, Miata, Camaro/Firebird, Convertibles, Blazer, Bronco, Mustangs, Miata, Camaro/Firebird, Convertibles, Blazer, Bronco, Mustangs, Miata, Camaro/Firebird, Convertibles, Blazer, Bronco, Mustangs, Miata, Camaro/Firebird, Convertibles, Blazer, Bronco, Mustangs, Miata, Camaro/Firebird, Convertibles, Blazer, Bronco, Mustangs, Miata, Camaro/Firebird, Convertibles, Blazer, Bronco, Mustangs, Miata, Camaro/Firebird, Convertibles, Blazer, Bronco, Mustangs, Miata, Camaro/Firebird, Convertibles, Blazer, Bronco, Mustangs, Miata, Camaro/Firebird, Convertibles, Blazer, Bronco, Mustangs, Miata, Camaro/Firebird, Convertibles, Blazer, Bronco, Mustangs, Miata, Camaro/Firebird, Convertibles, Blazer, Bronco, Mustangs, Miata, Camaro/Firebird, Convertibles, Blazer, Bronco, Mustangs, Miata, Camaro/Firebird, Convertibles, Blazer, Bronco, Mustangs, Miata, Camaro/Firebird, Convertibles, Blazer, Bronco, Mustangs, Miata, Camaro/Firebird, Convertibles, Blazer, Bronco, Mustangs, Miata, Camaro/Firebird, Convertibles, Blazer, Bronco, Mustangs, Miata, Camaro/Firebird, Convertibles, Blazer, Bronco, Mustangs, Miata, Camaro/Firebird, Convertibles, Blazer, Bronco, Mustangs, Miata, Camaro/Firebird, Convertibles, Blazer, Bronco, Mustangs, Miata, Camaro/Firebird, Convertibles, Blazer, Bronco, Mustangs, Miata, Camaro/Firebird, Convertibles, Blazer, Bronco, Mustangs, Miata, Camaro/Firebird, Convertibles, Blazer, Bronco, Mustangs, Miata, Camaro/Firebird, Convertibles, Blazer, Bronco, Mustangs, Miata, Camaro/Firebird, Convertibles, Blazer, Bronco, Mustangs, Miata, Camaro/Firebird, Convertibles, Blazer, Bronco, Mustangs, Miata, Camaro/Firebird, Convertibles, Blazer, Bronco, Mustangs, Miata, Camaro/Firebird, Convertibles, Blazer, Bronco, Mustangs, Miata, Camaro/Firebird, Convertibles, Blazer, Bronco, Mustangs, Miata, Camaro/Firebird, Convertibles, Blazer, Bronco, Mustangs, Miata, Camaro/Firebird, Convertibles, Blazer, Bronco, Mustangs, Miata, Camaro/Firebird, Convertibles, Blazer, Bronco, Mustangs, Miata, Camaro/Firebird, Convertibles, Blazer, Bronco, Mustangs, Miata, Camaro/Firebird, Convertibles, Blazer, Bronco, Mustangs, Miata, Camaro/Firebird, Convertibles, Blazer, Bronco, Mustangs, Miata, Camaro/Firebird, Convertibles, Blazer, Bronco, Mustangs, Miata, Camaro/Firebird, Convertibles, Blazer, Bronco, Mustangs, Miata, Camaro/Firebird, Convertibles, Blazer, Bronco, Mustangs, Miata, Camaro/Firebird, Convertibles, Blazer, Bronco, Mustangs, Miata, Camaro/Firebird, Convertibles, Blazer, Bronco, Mustangs, Miata, Camaro/Firebird, Convertibles, Blazer, Bronco, Mustangs, Miata, Camaro/Firebird, Convertibles, Blazer, Bronco, Mustangs, Miata, Camaro/Firebird, Convertibles, Blazer, Bronco, Mustangs, Miata, Camaro/Firebird, Convertibles, Blazer, Bronco, Mustangs, Miata, Camaro/Firebird, Convertibles, Blazer, Bronco, Mustangs, Miata, Camaro/Firebird, Convertibles, Blazer, Bronco, Mustangs, Miata, Camaro/Firebird, Convertibles, Blazer, Bronco, Mustangs, Miata, Camaro/Firebird, Convertibles, Blazer, Bronco, Mustangs, Miata, Camaro/Firebird, Convertibles, Blazer, Bronco, Mustangs, Miata, Camaro/Firebird, Convertibles, Blazer, Bronco, Mustangs, Miata, Camaro/Firebird, Convertibles, Blazer, Bronco, Mustangs, Miata, Camaro/Firebird, Convertibles, Blazer, Bronco, Mustangs, Miata, Camaro/Firebird, Convertibles, Blazer, Bronco, Mustangs, Miata, Camaro/Firebird, Convertibles, Blazer, Bronco, Mustangs, Miata, Camaro/Firebird, Convertibles, Blazer, Bronco, Mustangs, Miata, Camaro/Firebird, Convertibles, Blazer, Bronco, Mustangs, Miata, Camaro/Firebird, Convertibles, Blazer, Bronco, Mustangs, Miata, Camaro/Firebird, Convertibles, Blazer, Bronco, Mustangs, Miata, Camaro/Firebird, Convertibles, Blazer, Bronco, Mustangs, Miata, Camaro/Firebird, Convertibles, Blazer, Bronco, Mustangs, Miata, Camaro/Firebird, Convertibles, Blazer, Bronco, Mustangs, Miata, Camaro/Firebird, Convertibles, Blazer, Bronco, Mustangs, Miata, Camaro/Firebird, Convertibles, Blazer, Bronco, Mustangs, Miata, Camaro/Firebird, Convertibles, Blazer, Bronco, Mustangs, Miata, Camaro/Firebird, Convertibles, Blazer, Bronco, Mustangs, Miata, Camaro/Firebird, Convertibles, Blazer, Bronco, Mustangs, Miata, Camaro/Firebird, Convertibles, Blazer, Bronco, Mustangs, Miata, Camaro/Firebird, Convertibles, Blazer, Bronco, Mustangs, Miata, Camaro/Firebird, Convertibles, Blazer, Bronco, Mustangs, Miata, Camaro/Firebird, Convertibles, Blazer, Bronco, Mustangs, Miata, Camaro/Firebird, Convertibles, Blazer, Bronco, Mustangs, Miata, Camaro/Firebird, Convertibles, Blazer, Bronco, Mustangs, Miata, Camaro/Firebird, Convertibles, Blazer, Bronco, Mustangs, Miata, Camaro/Firebird, Convertibles, Blazer, Bronco, Mustangs, Miata, Camaro/Firebird, Convertibles, Blazer, Bronco, Mustangs, Miata, Camaro/Firebird, Convertibles, Blazer, Bronco, Mustangs, Miata, Cam\"}, {\"topic_idx\": 10, \"topic_name\": \"Encryption and Security\", \"topic_description\": \"Based on the provided words, the common topic appears to be \\\\\"cryptography\\\\\" or \\\\\"encryption.\\\\\" \\\\n\\\\nAspects and sub-topics of the topic include:\\\\n1. Encryption algorithms: \\\\\"ecb,\\\\\" \\\\\"algorythm,\\\\\" \\\\\"ciphertexts,\\\\\" \\\\\"encryptions,\\\\\" \\\\\"plaintexts\\\\\"\\\\n2. Cryptanalysis: \\\\\"cryptanalyst,\\\\\" \\\\\"known-plaintext,\\\\\" \\\\\"cryptographically,\\\\\" \\\\\"chosen-plaintext,\\\\\" \\\\\"breakable\\\\\"\\\\n3. Key management: \\\\\"pgp-public-keys,\\\\\" \\\\\"private-key,\\\\\" \\\\\"keysearch,\\\\\" \\\\\"key-server,\\\\\" \\\\\"keying\\\\\"\\\\n4. Security vulnerabilities: \\\\\"vulnerabilities,\\\\\" \\\\\"spoof,\\\\\" \\\\\"intercepts,\\\\\" \\\\\"insecurity,\\\\\" \\\\\"backdoor\\\\\"\\\\n5. Legal and policy implications: \\\\\"escrowing,\\\\\" \\\\\"forfeiture,\\\\\" \\\\\"infringement,\\\\\" \\\\\"outlawed,\\\\\" \\\\\"protections\\\\\"\"}, {\"topic_idx\": 11, \"topic_name\": \"Technology and Computing\", \"topic_description\": \"The common topic of the given words appears to be \\\\\"technology and computing.\\\\\" \\\\n\\\\nAspects and sub-topics of this topic include:\\\\n1. Plundering and plunderers\\\\n2. Plumbing and pluggers\\\\n3. Playmates and playmaking\\\\n4. Pneumonia and pneumonia treatment\\\\n5. Pictel.com and photography\"}, {\"topic_idx\": 12, \"topic_name\": \"Technology.\", \"topic_description\": \"The common topic of the provided words is \\\\\"technology and computing\\\\\". \\\\n\\\\nAspects and sub-topics of this topic include:\\\\n1. Computing hardware: \\\\\"plotters\\\\\", \\\\\"plotter\\\\\", \\\\\"plywood\\\\\", \\\\\"plasma\\\\\", \\\\\"platinum\\\\\"\\\\n2. Computer software: \\\\\"plug-in\\\\\", \\\\\"pmjpeg\\\\\", \\\\\"pmc\\\\\", \\\\\"polytopes\\\\\", \\\\\"polytechnic\\\\\"\\\\n3. Internet and communication: \\\\\"pnp\\\\\", \\\\\"pnmconvol\\\\\", \\\\\"pneumonia\\\\\", \\\\\"pne\\\\\", \\\\\"plaza\\\\\"\\\\n4. Electronics and circuits: \\\\\"plugs\\\\\", \\\\\"plugging\\\\\", \\\\\"plugs.com\\\\\", \\\\\"plp\\\\\", \\\\\"pnp\\\\\"\\\\n5. Data and information: \\\\\"pilot\\\\\", \\\\\"piling\\\\\", \\\\\"piled\\\\\", \\\\\"pile\\\\\", \\\\\"pikachu\\\\\"\"}, {\"topic_idx\": 14, \"topic_name\": \"Motorcycle Accessories\", \"topic_description\": \"The common topic of the given words is \\\\\"motorcycling\\\\\". \\\\n\\\\nAspects of the topic include: \\\\n1. Equipment: handlebars, leathers, helmet, saddlebags\\\\n2. Brands: Harleys, Suzuki, BMW, Ducati\\\\n3. Riding techniques: wheelies, wheelie, countersteer, lean\\\\n4. Maintenance: oils, lubrication, cleaning, carburation\\\\n5. Safety: helmet, handlebar, lane, visibility\"}, {\"topic_idx\": 15, \"topic_name\": \"Computer Programming\", \"topic_description\": \"The common topic of the given words appears to be \\\\\"Technology and Computing\\\\\". \\\\n\\\\nVarious aspects and sub-topics of this topic are:\\\\n1. Programming and Software: \\\\\"plumbing\\\\\", \\\\\"plug-in\\\\\", \\\\\"pmjpeg\\\\\", \\\\\"pnmconvol\\\\\", \\\\\"polyray\\\\\"\\\\n2. Internet and Communication: \\\\\"plaza.aarnet.edu.au\\\\\", \\\\\"pictel.com\\\\\", \\\\\"phone/fax\\\\\", \\\\\"phonenet\\\\\", \\\\\"phoenix.oulu.fi\\\\\"\\\\n3. Photography and Imaging: \\\\\"photocd\\\\\", \\\\\"photographs\\\\\", \\\\\"photographers\\\\\", \\\\\"photometry\\\\\", \\\\\"photovoltaic\\\\\"\\\\n4. Computer Hardware: \\\\\"plotters\\\\\", \\\\\"plotter\\\\\", \\\\\"plcc\\\\\", \\\\\"pinnacle\\\\\", \\\\\"pinout\\\\\"\\\\n5. Information Technology: \\\\\"prestigious\\\\\", \\\\\"presets\\\\\", \\\\\"preemptive\\\\\", \\\\\"preprocessors\\\\\", \\\\\"preprocessor\\\\\"\"}, {\"topic_idx\": 16, \"topic_name\": \"Hockey Players.\", \"topic_description\": \"The common topic of the provided words is ice hockey. The various aspects and sub-topics of this topic include players (Flatley, Lapointe, Hedican), teams (Swedes, Oilers, Bruins), tournaments (Swe, Cze, Nedved), positions (winger, defenseman, goalie), game events (power-play, short-handed, faceoff), and broadcasting (telecast, telecasts, play-by-play).\"}, {\"topic_idx\": 17, \"topic_name\": \"Medical Treatments\", \"topic_description\": \"The common topic of the provided words is \\\\\"Medical Conditions and Treatments\\\\\". \\\\n\\\\nSub-topics and aspects of this topic include:\\\\n\\\\n1. Diseases and Infections: melanoma, candidiasis, thrush, sinusitis, colitis.\\\\n2. Medications: sporanox, depo, itraconazole, prednisone, amoxicillin.\\\\n3. Medical Procedures: acupuncture, pap smear, PRK, surgery, colonoscopy.\\\\n4. Body Systems and Organs: urinary, gastrointestinal, endocrine, respiratory, reproductive.\\\\n5. Symptoms and Treatments: lesions, inflammation, antifungal, antihistamines, chemotherapy.\"}, {\"topic_idx\": 18, \"topic_name\": \"Baseball Players\", \"topic_description\": \"Based on the provided words, the common topic appears to be \\\\\"Baseball\\\\\". \\\\n\\\\nVarious aspects and sub-topics of the topic include:\\\\n1. Players: \\\\\"Garvey\\\\\", \\\\\"Koufax\\\\\", \\\\\"Santo\\\\\", \\\\\"Torre\\\\\", \\\\\"Schmidt\\\\\"\\\\n2. Teams: \\\\\"NYY\\\\\", \\\\\"CIN\\\\\", \\\\\"HOU\\\\\", \\\\\"BOS\\\\\"\\\\n3. Positions: \\\\\"Catchers\\\\\", \\\\\"Shortstop\\\\\", \\\\\"Outfield\\\\\", \\\\\"Infielder\\\\\", \\\\\"Reliever\\\\\"\\\\n4. Achievements: \\\\\"HOF\\\\\", \\\\\"No-hitter\\\\\", \\\\\"Home run\\\\\", \\\\\"All-time\\\\\"\\\\n5. Miscellaneous: \\\\\"Ump\\\\\", \\\\\"Rulebook\\\\\", \\\\\"Rain delay\\\\\", \\\\\"Clubhouse\\\\\", \\\\\"Ballpark\\\\\"\\\\n\\\\nPlease note that the descriptions provided are based solely on the words provided and may not cover all possible aspects and sub-topics of the topic.\"}, {\"topic_idx\": 19, \"topic_name\": \"Religious Controversies\", \"topic_description\": \"The common topic of the given words appears to be religious beliefs and practices. \\\\n\\\\nAspects and sub-topics:\\\\n1. Christian denominations: Popes, Anglican, Episcopal, Lutherans.\\\\n2. Biblical figures and events: Judah, Moses, Crucifixion, Resurrection.\\\\n3. Sacraments and rituals: Baptism, Eucharist, Consecration.\\\\n4. Controversial doctrines: Monophysitism, Nestorianism, Filioque.\\\\n5. Moral issues: Fornication, Homosexuality, Incest.\"}, {\"topic_idx\": 21, \"topic_name\": \"Astrophysics Research\", \"topic_description\": \"The common topic of the given words is \\\\\"Space Exploration\\\\\". \\\\n\\\\nAspects and sub-topics of the topic:\\\\n1. Astrophysics: astrophysical, astrophysicists, astrophysics.\\\\n2. Celestial Objects: quasars, dwarf, supernova, pulsars, starlight, sun, moon, zodiacal, halo, cometary, clusters, reflector.\\\\n3. Space Technology: electro-magnetic, tether, reflector, antenna, robotic, spacelifter, satellite, spacecraft.\\\\n4. Astronomical Phenomena: explosions, collisions, emissions, vibrations, absorptions, perturbations, rotations, eruptions, eruption, craters.\\\\n5. Environmental Impact: pollution, greenhouse, climatic, wasteful, contaminated, polluting, emissions, deforestation.\"}, {\"topic_idx\": 22, \"topic_name\": \"Space Exploration\", \"topic_description\": \"The common topic of the provided words is \\\\\"Space Exploration\\\\\". \\\\n\\\\nAspects and sub-topics of the topic include:\\\\n1. Spacecraft and Missions: \\'flybys\\', \\'reboost\\', \\'voyagers\\', \\'spacewalks\\', \\'close-up\\'\\\\n2. Propulsion and Thrusters: \\'thruster\\', \\'thrusters\\', \\'methane\\', \\'adaptive\\', \\'tug\\'\\\\n3. Celestial Bodies: \\'cometary\\', \\'craters\\', \\'volcanic\\', \\'volcanoes\\', \\'crust\\'\\\\n4. Space Technology and Equipment: \\'pallet\\', \\'fuselage\\', \\'gyros\\', \\'rover\\', \\'attitude-control\\'\\\\n5. Science and Research: \\'sci.space.shuttle\\', \\'cometary\\', \\'geology\\', \\'astrophysics\\', \\'aerobraking\\'\"}]}'}]\n"
     ]
    }
   ],
   "source": [
    "res = pmp.general_prompt(\"What subtopics does topic 1 have?\")"
   ]
  },
  {
   "cell_type": "code",
   "execution_count": 41,
   "metadata": {},
   "outputs": [
    {
     "data": {
      "text/plain": [
       "<OpenAIObject chat.completion id=chatcmpl-7pCz72YXgdKZ1n12Wt5enqy6orNjm at 0x195161ddb50> JSON: {\n",
       "  \"id\": \"chatcmpl-7pCz72YXgdKZ1n12Wt5enqy6orNjm\",\n",
       "  \"object\": \"chat.completion\",\n",
       "  \"created\": 1692438997,\n",
       "  \"model\": \"gpt-3.5-turbo-16k-0613\",\n",
       "  \"choices\": [\n",
       "    {\n",
       "      \"index\": 0,\n",
       "      \"message\": {\n",
       "        \"role\": \"assistant\",\n",
       "        \"content\": \"Topic 1 has several subtopics. Here are some of them:\\n\\n1. Electronics devices: This subtopic includes words like 'nikon', 'tuner', 'amplifiers', 'voltmeter', and 'camcorder'. It is related to electronic devices and technology.\\n\\n2. Audio equipment: This subtopic includes words like 'adcom', 'dolby', 'polypropylene', 'preamp', and 'equalizer'. It is related to audio equipment and technologies.\\n\\n3. Computer technology: This subtopic includes words like 'cs.jhu.edu', 'dmm', 'modems', 'kodak', and 'oplinger'. It is related to computer technology and advancements.\\n\\n4. Consumer electronics: This subtopic includes words like 'shiny', 'dryer', 'fixture', 'flashlight', and 'remotes'. It is related to consumer electronics and gadgets.\\n\\n5. Electrical components: This subtopic includes words like 'resistances', 'residential', 'fet', 'capacitance', and 'resistive'. It is related to electrical components and their properties.\\n\\nPlease note that these subtopics are based on the provided words and may not cover all possible aspects within the topic.\"\n",
       "      },\n",
       "      \"finish_reason\": \"stop\"\n",
       "    }\n",
       "  ],\n",
       "  \"usage\": {\n",
       "    \"prompt_tokens\": 5552,\n",
       "    \"completion_tokens\": 253,\n",
       "    \"total_tokens\": 5805\n",
       "  }\n",
       "}"
      ]
     },
     "execution_count": 41,
     "metadata": {},
     "output_type": "execute_result"
    }
   ],
   "source": [
    "res[0]"
   ]
  },
  {
   "cell_type": "code",
   "execution_count": 37,
   "metadata": {},
   "outputs": [
    {
     "data": {
      "text/plain": [
       "[Topic: Electronics devices.,\n",
       " Topic: Computer Graphics,\n",
       " Topic: Gun control.,\n",
       " Topic: Email Privacy and Security,\n",
       " Topic: Armenian Genocide,\n",
       " Topic: Computer Hardware and Accessories,\n",
       " Topic: LGBTQ+ Issues,\n",
       " Topic: Online Communication and Etiquette,\n",
       " Topic: Computer Hardware/Software Issues,\n",
       " Topic: Car Performance,\n",
       " Topic: Encryption and Security,\n",
       " Topic: Technology and Computing,\n",
       " Topic: Technology.,\n",
       " Topic: Motorcycle Accessories,\n",
       " Topic: Computer Programming,\n",
       " Topic: Hockey Players.,\n",
       " Topic: Medical Treatments,\n",
       " Topic: Baseball Players,\n",
       " Topic: Religious Controversies,\n",
       " Topic: Astrophysics Research,\n",
       " Topic: Space Exploration]"
      ]
     },
     "execution_count": 37,
     "metadata": {},
     "output_type": "execute_result"
    }
   ],
   "source": [
    "pmp.topic_lis"
   ]
  },
  {
   "cell_type": "code",
   "execution_count": 20,
   "metadata": {},
   "outputs": [
    {
     "name": "stdout",
     "output_type": "stream",
     "text": [
      "0 Topic: Electronics devices.\n",
      "\n",
      "1 Topic: Computer Graphics\n",
      "\n",
      "2 Topic: Gun control.\n",
      "\n",
      "3 Topic: Email Privacy and Security\n",
      "\n",
      "4 Topic: Armenian Genocide\n",
      "\n",
      "5 Topic: Computer Hardware and Accessories\n",
      "\n",
      "6 Topic: LGBTQ+ Issues\n",
      "\n",
      "7 Topic: Online Communication and Etiquette\n",
      "\n",
      "8 Topic: Computer Hardware/Software Issues\n",
      "\n",
      "9 Topic: Car Performance\n",
      "\n",
      "10 Topic: Encryption and Security\n",
      "\n",
      "11 Topic: Technology and Computing\n",
      "\n",
      "12 Topic: Technology.\n",
      "\n",
      "13 Topic: Motorcycle Accessories\n",
      "\n",
      "14 Topic: Computer Programming\n",
      "\n",
      "15 Topic: Hockey Players.\n",
      "\n",
      "16 Topic: Medical Treatments\n",
      "\n",
      "17 Topic: Baseball Players\n",
      "\n",
      "18 Topic: Religious Controversies\n",
      "\n",
      "19 Topic: Space Exploration\n",
      "\n",
      "20 Topic: Space Exploration\n",
      "\n"
     ]
    }
   ],
   "source": [
    "for i, elem in enumerate(pmp.topic_lis):\n",
    "    print(i, elem)"
   ]
  },
  {
   "cell_type": "code",
   "execution_count": 21,
   "metadata": {},
   "outputs": [
    {
     "name": "stderr",
     "output_type": "stream",
     "text": [
      "Epochs completed: 100%| ██████████ 100/100 [00:01]\n",
      "Epochs completed: 100%| ██████████ 30/30 [00:13]\n",
      "Computing word-topic matrix: 100%|██████████| 1699/1699 [00:21<00:00, 79.78it/s] \n",
      "Epochs completed: 100%| ██████████ 100/100 [00:02]\n"
     ]
    },
    {
     "name": "stdout",
     "output_type": "stream",
     "text": [
      "(1699,)\n"
     ]
    },
    {
     "name": "stderr",
     "output_type": "stream",
     "text": [
      "100%|██████████| 1/1 [00:07<00:00,  7.44s/it]\n"
     ]
    }
   ],
   "source": [
    "res3 = pmp.combine_topics(topic_idx_lis = [2, 3], vocab_embedding_dict = vocab_embeddings, enhancer = enh, inplace = True)"
   ]
  },
  {
   "cell_type": "code",
   "execution_count": 22,
   "metadata": {},
   "outputs": [
    {
     "name": "stdout",
     "output_type": "stream",
     "text": [
      "0 Topic: Electronics devices.\n",
      "\n",
      "1 Topic: Computer Graphics\n",
      "\n",
      "2 Topic: Armenian Genocide\n",
      "\n",
      "3 Topic: Computer Hardware and Accessories\n",
      "\n",
      "4 Topic: LGBTQ+ Issues\n",
      "\n",
      "5 Topic: Online Communication and Etiquette\n",
      "\n",
      "6 Topic: Computer Hardware/Software Issues\n",
      "\n",
      "7 Topic: Car Performance\n",
      "\n",
      "8 Topic: Encryption and Security\n",
      "\n",
      "9 Topic: Technology and Computing\n",
      "\n",
      "10 Topic: Technology.\n",
      "\n",
      "11 Topic: Motorcycle Accessories\n",
      "\n",
      "12 Topic: Computer Programming\n",
      "\n",
      "13 Topic: Hockey Players.\n",
      "\n",
      "14 Topic: Medical Treatments\n",
      "\n",
      "15 Topic: Baseball Players\n",
      "\n",
      "16 Topic: Religious Controversies\n",
      "\n",
      "17 Topic: Space Exploration\n",
      "\n",
      "18 Topic: Space Exploration\n",
      "\n",
      "19 Topic: Gun Control\n",
      "\n"
     ]
    }
   ],
   "source": [
    "for i, elem in enumerate(pmp.topic_lis):\n",
    "    print(i, elem)"
   ]
  },
  {
   "cell_type": "code",
   "execution_count": 23,
   "metadata": {},
   "outputs": [
    {
     "data": {
      "text/plain": [
       "['__class__',\n",
       " '__delattr__',\n",
       " '__dict__',\n",
       " '__dir__',\n",
       " '__doc__',\n",
       " '__eq__',\n",
       " '__format__',\n",
       " '__ge__',\n",
       " '__getattribute__',\n",
       " '__getstate__',\n",
       " '__gt__',\n",
       " '__hash__',\n",
       " '__init__',\n",
       " '__init_subclass__',\n",
       " '__le__',\n",
       " '__lt__',\n",
       " '__module__',\n",
       " '__ne__',\n",
       " '__new__',\n",
       " '__reduce__',\n",
       " '__reduce_ex__',\n",
       " '__repr__',\n",
       " '__setattr__',\n",
       " '__sizeof__',\n",
       " '__str__',\n",
       " '__subclasshook__',\n",
       " '__weakref__',\n",
       " 'centroid_hd',\n",
       " 'centroid_ld',\n",
       " 'document_embedding_similarity',\n",
       " 'document_embeddings_hd',\n",
       " 'document_embeddings_ld',\n",
       " 'documents',\n",
       " 'set_topic_description',\n",
       " 'set_topic_name',\n",
       " 'top_word_scores',\n",
       " 'top_words',\n",
       " 'topic_description',\n",
       " 'topic_idx',\n",
       " 'topic_name',\n",
       " 'umap_mapper',\n",
       " 'words']"
      ]
     },
     "execution_count": 23,
     "metadata": {},
     "output_type": "execute_result"
    }
   ],
   "source": [
    "dir(pmp.topic_lis[0])"
   ]
  },
  {
   "cell_type": "code",
   "execution_count": 61,
   "metadata": {},
   "outputs": [
    {
     "name": "stderr",
     "output_type": "stream",
     "text": [
      "Epochs completed: 100%| ██████████ 100/100 [00:01]\n",
      "Processing corpus: 100%|██████████| 11704/11704 [00:26<00:00, 442.40it/s]\n"
     ]
    },
    {
     "name": "stdout",
     "output_type": "stream",
     "text": [
      "Most common words:\n",
      "n't: 11814\n",
      "would: 7516\n",
      "one: 6956\n",
      "people: 4666\n",
      "max: 4346\n",
      "like: 4303\n",
      "get: 4007\n",
      "know: 3815\n",
      "also: 3812\n",
      "use: 3537\n"
     ]
    },
    {
     "name": "stderr",
     "output_type": "stream",
     "text": [
      "Epochs completed: 100%| ██████████ 100/100 [00:00]\n"
     ]
    },
    {
     "name": "stdout",
     "output_type": "stream",
     "text": [
      "(17038, 22)\n"
     ]
    },
    {
     "name": "stderr",
     "output_type": "stream",
     "text": [
      "Computing word-topic matrix: 100%|██████████| 11704/11704 [00:51<00:00, 227.43it/s]\n",
      "c:\\Users\\arik_\\Documents\\Dokumente\\Studium\\Master\\LLM_seminar\\Project\\src\\ExtractTopWords\\ExtractTopWords.py:265: RuntimeWarning: invalid value encountered in divide\n",
      "  \n",
      "Epochs completed: 100%| ██████████ 30/30 [00:02]\n",
      "Computing word-topic matrix: 100%|██████████| 11704/11704 [00:44<00:00, 263.93it/s]\n",
      "100%|██████████| 22/22 [02:57<00:00,  8.07s/it]\n"
     ]
    }
   ],
   "source": [
    "test = pmp.add_new_topic_keyword(\n",
    "    keyword = \"Toyota\",\n",
    "    vocab_embeddings = vocab_embeddings,\n",
    "    vocab = None, \n",
    "    enhancer = enh,\n",
    "    rename_new_topic = True\n",
    "    \n",
    ")"
   ]
  },
  {
   "cell_type": "code",
   "execution_count": 62,
   "metadata": {},
   "outputs": [
    {
     "data": {
      "text/plain": [
       "[Topic: Toyota,\n",
       " Topic: Electronics Equipment Sales,\n",
       " Topic: Graphics Programming.,\n",
       " Topic: Gun control,\n",
       " Topic: Email Communication,\n",
       " Topic: Turkish-Armenian Relations,\n",
       " Topic: Computer Hardware,\n",
       " Topic: Religion and Sexuality.,\n",
       " Topic: Online Discussions,\n",
       " Topic: Computer Hardware and Software,\n",
       " Topic: Car performance and features.,\n",
       " Topic: Encryption and Security.,\n",
       " Topic: Technology and Literature,\n",
       " Topic: Technology and Literature.,\n",
       " Topic: Motorcycle accessories and equipment.,\n",
       " Topic: Technology and Literature.,\n",
       " Topic: Hockey Players.,\n",
       " Topic: Medical Conditions,\n",
       " Topic: Baseball players and teams.,\n",
       " Topic: Religious Texts.,\n",
       " Topic: Astrophysics Research,\n",
       " Topic: Space Exploration]"
      ]
     },
     "execution_count": 62,
     "metadata": {},
     "output_type": "execute_result"
    }
   ],
   "source": [
    "test"
   ]
  },
  {
   "cell_type": "code",
   "execution_count": 35,
   "metadata": {},
   "outputs": [
    {
     "data": {
      "text/plain": [
       "11704"
      ]
     },
     "execution_count": 35,
     "metadata": {},
     "output_type": "execute_result"
    }
   ],
   "source": [
    "len(test)"
   ]
  },
  {
   "cell_type": "code",
   "execution_count": null,
   "metadata": {},
   "outputs": [],
   "source": []
  }
 ],
 "metadata": {
  "kernelspec": {
   "display_name": "llm_sem",
   "language": "python",
   "name": "python3"
  },
  "language_info": {
   "codemirror_mode": {
    "name": "ipython",
    "version": 3
   },
   "file_extension": ".py",
   "mimetype": "text/x-python",
   "name": "python",
   "nbconvert_exporter": "python",
   "pygments_lexer": "ipython3",
   "version": "3.11.4"
  },
  "orig_nbformat": 4
 },
 "nbformat": 4,
 "nbformat_minor": 2
}
