{
 "cells": [
  {
   "cell_type": "code",
   "execution_count": 24,
   "metadata": {},
   "outputs": [
    {
     "name": "stdout",
     "output_type": "stream",
     "text": [
      "The autoreload extension is already loaded. To reload it, use:\n",
      "  %reload_ext autoreload\n"
     ]
    }
   ],
   "source": [
    "%load_ext autoreload\n",
    "%autoreload 2"
   ]
  },
  {
   "cell_type": "code",
   "execution_count": 25,
   "metadata": {},
   "outputs": [],
   "source": [
    "import os\n",
    "import sys\n",
    "import inspect\n",
    "\n",
    "sys.path.insert(0, '../..')"
   ]
  },
  {
   "cell_type": "code",
   "execution_count": 26,
   "metadata": {},
   "outputs": [],
   "source": [
    "import os\n",
    "api_key_openai = os.environ.get('OPENAI_API_KEY')\n",
    "org_openai = os.environ.get('OPENAI_ORG')\n",
    "\n",
    "import openai\n",
    "openai.organization = org_openai\n",
    "import numpy as np\n",
    "import json"
   ]
  },
  {
   "cell_type": "code",
   "execution_count": 27,
   "metadata": {},
   "outputs": [],
   "source": [
    "from src.TopicRepresentation.TopicRepresentation import Topic\n",
    "from src.TopicPrompting.TopicPrompting import TopicPrompting\n",
    "from src.TopwordEnhancement.TopwordEnhancement import TopwordEnhancement"
   ]
  },
  {
   "cell_type": "code",
   "execution_count": 28,
   "metadata": {},
   "outputs": [],
   "source": [
    "import numpy as np\n",
    "import pickle"
   ]
  },
  {
   "cell_type": "code",
   "execution_count": 29,
   "metadata": {},
   "outputs": [
    {
     "name": "stdout",
     "output_type": "stream",
     "text": [
      "Sat Aug 26 17:27:31 2023 Building and compiling search function\n"
     ]
    }
   ],
   "source": [
    "with open(\"../../Data/SavedTopicRepresentations/Topics_20ng_v1.pkl\", \"rb\") as f:\n",
    "    topics = pickle.load(f)"
   ]
  },
  {
   "cell_type": "code",
   "execution_count": 30,
   "metadata": {},
   "outputs": [],
   "source": [
    "data = pickle.load(open(\"../../Data/Emebeddings/embeddings_20ng_raw.pkl\", \"rb\"))\n",
    "embeddings = data[\"embeddings\"]\n",
    "corpus = data[\"corpus\"]\n",
    "vocab_embeddings = pickle.load(open(\"../../Data/Emebeddings/embeddings_20ng_vocab.pkl\", \"rb\"))"
   ]
  },
  {
   "cell_type": "code",
   "execution_count": 31,
   "metadata": {},
   "outputs": [
    {
     "data": {
      "text/plain": [
       "[Topic 0: Electronics Equipment and Accessories.,\n",
       " Topic 1: Computer Graphics,\n",
       " Topic 2: Gun Control,\n",
       " Topic 3: Technology and Internet Privacy.,\n",
       " Topic 4: Armenian Genocide,\n",
       " Topic 5: Computer Hardware Components,\n",
       " Topic 6: Religion and sexuality.,\n",
       " Topic 7: Computer Programming,\n",
       " Topic 8: Computer Hardware and Software,\n",
       " Topic 9: Car Performance,\n",
       " Topic 10: Encryption and Security,\n",
       " Topic 11: Computer Programming,\n",
       " Topic 12: Technology and Computing,\n",
       " Topic 13: Space Exploration,\n",
       " Topic 14: Motorcycle Accessories,\n",
       " Topic 15: Technology,\n",
       " Topic 16: Hockey Players.,\n",
       " Topic 17: Medical Treatments,\n",
       " Topic 18: Baseball players and teams.,\n",
       " Topic 19: Christian Doctrines]"
      ]
     },
     "execution_count": 31,
     "metadata": {},
     "output_type": "execute_result"
    }
   ],
   "source": [
    "topics"
   ]
  },
  {
   "cell_type": "code",
   "execution_count": 32,
   "metadata": {},
   "outputs": [
    {
     "data": {
      "text/plain": [
       "'   This is factually incorrect. There was at least one message that said that Waco and Clipper justified \"anything\" in response.  David'"
      ]
     },
     "execution_count": 32,
     "metadata": {},
     "output_type": "execute_result"
    }
   ],
   "source": [
    "topics[2].documents[1]"
   ]
  },
  {
   "cell_type": "code",
   "execution_count": 67,
   "metadata": {},
   "outputs": [],
   "source": [
    "enhancer = TopwordEnhancement(api_key_openai)\n",
    "vocab_embeddings = vocab_embeddings\n",
    "\n",
    "pmp = TopicPrompting(\n",
    "    openai_prompting_model = \"gpt-3.5-turbo-16k\",\n",
    "    max_context_length_promting = 16348,\n",
    "    topic_lis = topics,\n",
    "    openai_key = api_key_openai, \n",
    "    openai_model_temperature_prompting = 1,\n",
    "    enhancer=enhancer,\n",
    "    vocab_embeddings=vocab_embeddings\n",
    ")"
   ]
  },
  {
   "cell_type": "code",
   "execution_count": 60,
   "metadata": {},
   "outputs": [
    {
     "data": {
      "text/plain": [
       "[Topic 0: Electronics Equipment and Accessories.,\n",
       " Topic 1: Computer Graphics,\n",
       " Topic 2: Gun Control,\n",
       " Topic 3: Technology and Internet Privacy.,\n",
       " Topic 4: Armenian Genocide,\n",
       " Topic 5: Computer Hardware Components,\n",
       " Topic 6: Religion and sexuality.,\n",
       " Topic 7: Computer Programming,\n",
       " Topic 8: Computer Hardware and Software,\n",
       " Topic 9: Car Performance,\n",
       " Topic 10: Encryption and Security,\n",
       " Topic 11: Computer Programming,\n",
       " Topic 12: Technology and Computing,\n",
       " Topic 13: Space Exploration,\n",
       " Topic 14: Motorcycle Accessories,\n",
       " Topic 15: Technology,\n",
       " Topic 16: Hockey Players.,\n",
       " Topic 17: Medical Treatments,\n",
       " Topic 18: Baseball players and teams.,\n",
       " Topic 19: Christian Doctrines]"
      ]
     },
     "execution_count": 60,
     "metadata": {},
     "output_type": "execute_result"
    }
   ],
   "source": [
    "pmp.topic_lis"
   ]
  },
  {
   "cell_type": "code",
   "execution_count": 61,
   "metadata": {},
   "outputs": [
    {
     "name": "stdout",
     "output_type": "stream",
     "text": [
      "{\n",
      "  \"role\": \"assistant\",\n",
      "  \"content\": null,\n",
      "  \"function_call\": {\n",
      "    \"name\": \"delete_topic\",\n",
      "    \"arguments\": \"{\\n  \\\"topic_idx\\\": 19,\\n  \\\"inplace\\\": true\\n}\"\n",
      "  }\n",
      "}\n",
      "GPT wants to the call the function:  {\n",
      "  \"name\": \"delete_topic\",\n",
      "  \"arguments\": \"{\\n  \\\"topic_idx\\\": 19,\\n  \\\"inplace\\\": true\\n}\"\n",
      "}\n",
      "Sat Aug 26 18:23:45 2023 Building and compiling search function\n"
     ]
    },
    {
     "name": "stderr",
     "output_type": "stream",
     "text": [
      "Processing corpus: 100%|██████████| 11704/11704 [00:49<00:00, 236.52it/s]\n"
     ]
    },
    {
     "name": "stdout",
     "output_type": "stream",
     "text": [
      "Most common words:\n",
      "n't: 11814\n",
      "would: 7516\n",
      "one: 6956\n",
      "people: 4666\n",
      "max: 4346\n",
      "like: 4303\n",
      "get: 4007\n",
      "know: 3815\n",
      "also: 3812\n",
      "use: 3537\n"
     ]
    },
    {
     "name": "stderr",
     "output_type": "stream",
     "text": [
      "Epochs completed: 100%| ██████████ 100/100 [00:01]\n",
      "Computing word-topic matrix: 100%|██████████| 11704/11704 [00:57<00:00, 204.29it/s]\n",
      "c:\\Users\\arik_\\Documents\\Dokumente\\Studium\\Master\\LLM_seminar\\Project\\src\\ExtractTopWords\\ExtractTopWords.py:264: RuntimeWarning: invalid value encountered in divide\n",
      "  tf = word_topic_mat / np.sum(word_topic_mat, axis=0)\n",
      "Epochs completed: 100%| ██████████ 30/30 [00:03]\n",
      "Computing word-topic matrix: 100%|██████████| 11704/11704 [01:01<00:00, 191.36it/s]\n",
      " 16%|█▌        | 3/19 [00:14<01:13,  4.59s/it]"
     ]
    },
    {
     "name": "stdout",
     "output_type": "stream",
     "text": [
      "Error in topic 3: Request timed out: HTTPSConnectionPool(host='api.openai.com', port=443): Read timed out. (read timeout=600)\n",
      "Trying again...\n"
     ]
    },
    {
     "name": "stderr",
     "output_type": "stream",
     "text": [
      "100%|██████████| 19/19 [11:36<00:00, 36.68s/it]  \n"
     ]
    },
    {
     "name": "stdout",
     "output_type": "stream",
     "text": [
      "[{'role': 'system', 'content': \"You are a helpful assistant. \\nYou are excellent at inferring information about topics discovered via topic modelling using information retrieval. \\nYou summarize information intelligently. \\nYou use the functions you are provided with if applicable.\\nYou make sure that everything you output is strictly based on the provided text. If you cite documents, give their indices. \\nYou always explicitly say if you don't find any useful information!\\nYou only say that something is contained in the corpus if you are very sure about it!  The following information is available about the corpus used to identify the topics: .\\n\"}, {'role': 'user', 'content': 'Please delete topic 19. do this inplace'}, <OpenAIObject at 0x18f4433a630> JSON: {\n",
      "  \"role\": \"assistant\",\n",
      "  \"content\": null,\n",
      "  \"function_call\": {\n",
      "    \"name\": \"delete_topic\",\n",
      "    \"arguments\": \"{\\n  \\\"topic_idx\\\": 19,\\n  \\\"inplace\\\": true\\n}\"\n",
      "  }\n",
      "}, {'role': 'function', 'name': 'delete_topic', 'content': '{\"new topics\": {\"topic_idx\": 18, \"topic_name\": \"Health Conditions\", \"topic_description\": \"The common topic of the given words is \\\\\"Medical Conditions and Treatments\\\\\". \\\\n\\\\nAspects and sub-topics of this topic include:\\\\n1. Infections: HIV-infected, candidiasis, fungal, bacterial, tuberculosis.\\\\n2. Diseases: Crohn\\'s, melanoma, migraines, polio, endometriosis.\\\\n3. Medications: Anti-fungal, Sporanox, antihistamines, antibiotics, steroids.\\\\n4. Body Systems: Digestive, respiratory, urinary, reproductive, nervous.\\\\n5. Medical Procedures: Ultrasound, pap smear, surgery, vaccination, chemotherapy.\"}}'}]\n"
     ]
    }
   ],
   "source": [
    "r2 = pmp.general_prompt(\"Please delete topic 19. do this inplace\")"
   ]
  },
  {
   "cell_type": "code",
   "execution_count": 63,
   "metadata": {},
   "outputs": [
    {
     "data": {
      "text/plain": [
       "[Topic 0: Baseball players and teams.,\n",
       " Topic 1: Electronics and Technology Products,\n",
       " Topic 2: Computer Graphics,\n",
       " Topic 3: Gun Control,\n",
       " Topic 4: Cryptocurrency,\n",
       " Topic 5: Armenian Genocide,\n",
       " Topic 6: Computer Hardware Troubleshooting,\n",
       " Topic 7: Religious Controversies,\n",
       " Topic 8: Online Communication and Etiquette,\n",
       " Topic 9: Software Development,\n",
       " Topic 10: Car Features,\n",
       " Topic 11: Cryptography,\n",
       " Topic 12: Computing/Technology,\n",
       " Topic 13: Technology and Computing.,\n",
       " Topic 14: Space Exploration,\n",
       " Topic 15: Motorcycle Accessories,\n",
       " Topic 16: Technology and Literature,\n",
       " Topic 17: Hockey Players,\n",
       " Topic 18: Health Conditions]"
      ]
     },
     "execution_count": 63,
     "metadata": {},
     "output_type": "execute_result"
    }
   ],
   "source": [
    "pmp.topic_lis"
   ]
  },
  {
   "cell_type": "code",
   "execution_count": 72,
   "metadata": {},
   "outputs": [
    {
     "data": {
      "text/plain": [
       "{14: '\\n            Topic index: 14\\n            Topic name: Motorcycle Accessories\\n            Topic description: The common topic of the given words is \"Motorcycling\".\\n\\nAspects of the topic \"Motorcycling\":\\n1. Motorcycles: Harleys, Suzuki, BMW, Ducati.\\n2. Riding techniques: Wheelies, countersteer, lean.\\n3. Safety gear: Leathers, helmet, gloves.\\n4. Maintenance: Oils, lubrication, carburation.\\n5. Riding experiences: Freeways, canyons, off-road.\\n\\nSub-topics of the topic \"Motorcycling\":\\n1. Motorcycles: Harleys, Suzuki, BMW, Ducati.\\n2. Riding techniques: Wheelies, countersteer, lean.\\n3. Safety gear: Leathers, helmet, gloves.\\n4. Maintenance: Oils, lubrication, carburation.\\n5. Riding experiences: Freeways, canyons, off-road.\\n            Topic topwords: [\\'kryptonite\\', \\'shims\\', \\'handlebars\\', \\'backrest\\', \\'lanes\\', \\'denizen\\', \\'wheelie\\', \\'mjs\\', \\'harleys\\', \\'interstate\\', \\'solvent\\', \\'tint\\', \\'wheelies\\', \\'motorcyclist\\', \\'suzuki\\', \\'substitutes\\', \\'coradeschi\\', \\'tcora\\', \\'pica.army.mil\\', \\'handlebar\\', \\'motorcycling\\', \\'rec.moto\\', \\'acetone\\', \\'dwi\\', \\'off-road\\', \\'cagers\\', \\'cages\\', \\'sprocket\\', \\'u-lock\\', \\'aerostitch\\', \\'octane\\', \\'overlook\\', \\'arch\\', \\'leathers\\', \\'eng\\', \\'mek\\', \\'tanner\\', \\'klinger\\', \\'injector\\', \\'jorg\\', \\'embalmer\\', \\'horizons\\', \\'umanitoba\\', \\'motorcyclists\\', \\'shaft-drive\\', \\'highways\\', \\'oils\\', \\'bmwmoa\\', \\'bushings\\', \\'arnie\\', \\'squid\\', \\'concours\\', \\'gardner\\', \\'squids\\', \\'enthusiast\\', \\'particulate\\', \\'bumpy\\', \\'waist\\', \\'canyon\\', \\'vfr\\', \\'zephyr\\', \\'gpz\\', \\'pegs\\', \\'ucsd\\', \\'bdi\\', \\'megatek\\', \\'freeway\\', \\'megatek.com\\', \\'busses\\', \\'mufflers\\', \\'cyclelok\\', \\'beemer\\', \\'piston\\', \\'rims\\', \\'freeways\\', \\'buick\\', \\'rec.autos.vw\\', \\'aerostich\\', \\'waterski\\', \\'accelerating\\', \\'swerve\\', \\'leaned\\', \\'ridden\\', \\'tread\\', \\'wrecked\\', \\'viscosity\\', \\'draining\\', \\'blaine\\', \\'crawl\\', \\'sae\\', \\'mower\\', \\'bungee\\', \\'plaque\\', \\'donuts\\', \\'horns\\', \\'hurricane\\', \\'polished\\', \\'cager\\', \\'cough\\', \\'virago\\', \\'chasing\\', \\'saddle\\', \\'sideways\\', \\'seca\\', \\'behanna\\', \\'bryce\\', \\'sloan\\', \\'beginner\\', \\'crappy\\', \\'sci.electronics\\', \\'gyroscopes\\', \\'obmoto\\', \\'swerving\\', \\'shoei\\', \\'gsx-r\\', \\'road-mt.hamilton\\', \\'countersteer\\', \\'headlight\\', \\'bmws\\', \\'jetta\\', \\'turbocharger\\', \"dod\\'ers\", \\'scrubbers\\', \\'fiberglass\\', \\'particulates\\', \\'nighthawk\\', \\'drinks\\', \\'tankbag\\', \\'honk\\', \\'padding\\', \\'paved\\', \\'bolts\\', \\'garaged\\', \\'corbin\\', \\'waved\\', \\'computrac-richardson\\', \\'spill\\', \\'mods\\', \\'tort\\', \\'methyl\\', \\'tightly\\', \\'buff\\', \\'amc\\', \\'one-piece\\', \\'joliet\\', \\'dispense\\', \\'bottles\\', \\'twisty\\', \\'dipstick\\', \\'quist\\', \\'yer\\', \\'versatile\\', \\'bounces\\', \\'ethyl\\', \\'tuba\\', \\'krypto\\', \\'enthusiasts\\', \\'folding\\', \\'carpet\\', \\'coating\\', \\'noggin\\', \\'lighten\\', \\'jerks\\', \\'screamin\\', \\'sissy\\', \\'two-piece\\', \\'ankle\\', \\'followup-to\\', \\'michelle\\', \\'gasses\\', \\'areans\\', \\'fender\\', \\'crutches\\', \\'ymmv\\', \\'rtsg.mot.com\\', \\'new/used\\', \\'cmptrc.lonestar.org\\', \\'swingarm\\', \\'ducati\\', \\'saddlebags\\', \\'muffler\\', \\'cornering\\', \\'autobahn\\', \\'autobahns\\', \\'backroad\\', \\'pistons\\', \\'dmv\\', \\'lubrication\\', \\'cleaners\\', \\'tachometer\\', \\'solvents\\', \\'saabs\\', \\'mustangs\\', \\'moto\\', \\'asphalt\\', \\'showroom\\', \\'scuffed\\', \\'shim\\', \\'backpack\\', \\'bearings\\', \\'duct\\', \\'racers\\', \\'benzene\\', \\'alcoholic\\', \\'chevron\\', \\'tandem\\', \\'deviations\\', \\'bandit\\', \\'rabbit\\', \\'straps\\', \\'daytona\\', \\'louisiana\\', \\'twists\\', \\'leans\\', \\'airbox\\', \\'stacks\\', \\'o-ring\\', \\'vandal\\', \\'rsvp\\', \\'chromed\\', \\'brace\\', \\'afm\\', \\'resting\\', \\'goo\\', \\'fiamms\\', \\'tours\\', \\'rebel\\', \\'louder\\', \\'intersections\\', \\'roar\\', \\'quart\\', \\'donated\\', \\'suspiciously\\', \\'tow\\', \\'absorbing\\', \\'peeve\\', \\'setter\\', \\'freon\\', \\'supertrapp\\', \\'hoot\\', \\'remover\\', \\'ramps\\', \\'bluntly\\', \\'splitting\\', \\'chemists\\', \\'fiddling\\', \\'coils\\', \\'waxing\\', \\'shaz\\', \\'cow\\', \\'catalysts\\', \\'roulette\\', \\'thighs\\', \\'bra\\', \\'poker\\', \\'dana\\', \\'grapple\\', \\'bushing\\', \\'bates\\', \\'cones\\', \\'upright\\', \\'unnecessarily\\', \\'bub\\', \\'cruising\\', \\'learner\\', \\'spagthorpe\\', \\'cedar\\', \\'trailer\\', \\'him/her\\', \\'wiggle\\', \\'hop\\', \\'squash\\', \\'blade\\', \\'recommends\\', \\'smells\\', \\'rathole\\', \\'collided\\', \\'weenie\\', \\'jeans\\', \\'infante\\', \\'hip\\', \\'filler\\', \\'natarajan\\', \\'rein\\', \\'glee\\', \\'metzler\\', \\'newbies\\', \\'shaky\\', \\'blair\\', \\'skis\\', \\'cheesy\\', \\'suction\\', \\'shaftie\\', \\'attire\\', \\'nominally\\', \\'cuz\\', \\'hardened\\', \\'dive\\', \\'astrup\\', \\'hafta\\', \\'durable\\', \\'coated\\', \\'protectors\\', \\'fzr\\', \\'assholes\\', \\'waxed\\', \\'personalities\\', \\'mucho\\', \\'thermostat\\', \\'keepers\\', \\'rpw\\', \\'v-max\\', \\'cleaner-burning\\', \\'gyroscopic\\', \\'nataraja\\', \\'pee\\', \\'dyno\\', \\'sidecar\\', \\'bicycles\\', \\'dirtbikes\\', \\'pushrods\\', \\'sidestand\\', \\'careening\\', \\'metzeler\\', \\'roadside\\', \\'carburation\\', \\'carburator\\', \\'steered\\', \\'goggles\\', \\'v-twin\\', \\'hondas\\', \\'coolant\\', \\'grease\\', \\'lubricate\\', \\'motos\\', \\'lubricant\\', \\'hydrocarbons\\', \\'adhesive\\', \\'turbocharged\\', \\'mopar\\', \\'gauges\\', \\'dealerships\\', \\'audis\\', \\'miata\\', \\'radiators\\', \\'dismount\\', \\'chased\\', \\'liquor\\', \\'overhaul\\', \\'gasket\\', \\'beers\\', \\'annoyance\\', \\'clocked\\', \\'plastics\\', \\'backorder\\', \\'vel\\', \\'screwing\\', \\'dented\\', \\'pollutants\\', \\'tune-up\\', \\'parkway\\', \\'startled\\', \\'flows\\', \\'halting\\', \\'committe\\', \\'hmmmm\\', \\'balancing\\', \\'menace\\', \\'riviera\\', \\'flicker\\', \\'unload\\', \\'insofar\\', \\'strapping\\', \\'tahoe\\', \\'stalls\\', \\'strait\\', \\'sporty\\', \\'tilted\\', \\'erc\\', \\'threaded\\', \\'jackets\\', \\'lowly\\', \\'boxers\\', \\'absorb\\', \\'hazards\\', \\'boats\\', \\'forks\\', \\'centerstand\\', \\'monoxide\\', \\'merge\\', \\'entrants\\', \\'tighten\\', \\'zen\\', \\'bred\\', \\'rods\\', \\'til\\', \\'ahhh\\', \\'methane\\', \\'turtle\\', \\'pumping\\', \\'twenty-five\\', \\'stink\\', \\'otoh\\', \\'flipped\\', \\'rabid\\', \\'cruisers\\', \\'stranded\\', \\'axel\\', \\'unsubscribe\\', \\'halogen\\', \\'racer\\', \\'oncoming\\', \\'harbor\\', \\'plank\\', \\'oxides\\', \\'llama\\', \\'rig\\', \\'sided\\', \\'anthem\\', \\'dent\\', \\'goodies\\', \\'finishes\\', \\'restoring\\', \\'loc\\', \\'heels\\', \\'museums\\', \\'javelin\\', \\'peg\\', \\'doolittle\\', \\'evading\\', \\'ridiculed\\', \\'stud\\', \\'satisfying\\', \\'navigate\\', \\'gesture\\', \\'rusty\\', \\'pricey\\', \\'zippy\\', \\'bach\\', \\'boneheads\\', \\'guards\\', \\'wesbrook\\', \\'spooge\\', \\'sunny\\', \\'addr\\', \\'pliers\\', \\'atleast\\', \\'fixable\\', \\'dings\\', \\'warehouse\\', \\'queue\\', \\'dumping\\', \\'underneath\\', \\'snap\\', \\'triumf\\', \\'participant\\', \\'clueless\\', \\'thicker\\', \\'ventilation\\', \\'interceptor\\', \\'marker\\', \\'badge\\', \\'showers\\', \\'cushion\\', \\'flipping\\', \\'rubbing\\', \\'clamp\\', \\'scraping\\', \\'gravel\\', \\'alfa\\', \\'illustration\\', \\'snowing\\', \\'funniest\\', \\'unsuspecting\\', \\'rake\\', \\'non-toxic\\', \\'lawson\\', \\'seating\\', \\'themself\\', \\'aero\\', \\'die-hard\\', \\'conformance\\', \\'no-name\\', \\'hesh\\', \\'commute\\', \\'clogged\\', \\'chap\\', \\'dances\\', \\'securing\\', \\'shove\\', \\'scenery\\', \\'jaw\\', \\'jointed\\', \\'wished\\', \\'stench\\', \\'yearning\\', \\'instinct\\', \\'feasibility\\', \\'weights\\', \\'surplus\\', \\'banking\\', \\'rec.martial-arts\\', \\'competently\\', \\'manning\\', \\'terrific\\', \\'punter\\', \\'pre-registration\\', \\'endeavor\\', \\'shiny\\', \\'cfc\\', \\'distributer\\', \\'womens\\', \\'adhesion\\', \\'tri-university\\', \\'protector\\', \\'cools\\', \\'heros\\', \\'bizzare\\', \\'lotsa\\', \\'trophies\\', \\'unpredictable\\', \\'nevada\\', \\'regal\\', \\'glide\\', \\'hts\\', \\'mindless\\', \\'set-up\\', \\'greenhouse\\', \\'sans\\', \\'allowable\\', \\'sock\\', \\'gag\\', \\'waiver\\', \\'snappy\\', \\'deteriorate\\', \\'jap\\', \\'pomona\\', \\'impair\\', \\'snug\\', \\'r.m\\', \\'lightweight\\', \\'inconspicuous\\', \\'turtles\\', \\'ubc\\', \\'kmart\\', \\'durability\\', \\'meson\\', \\'dents\\', \\'ahh\\', \\'thingy\\', \\'potatoes\\', \\'injectors\\', \\'bickering\\', \\'first-time\\', \\'flushed\\', \\'hoax\\', \\'markings\\', \\'peninsula\\', \\'bozo\\', \\'chick\\', \\'smears\\', \\'biography\\', \\'clog\\', \\'manifold\\', \\'books/articles\\', \\'arenas\\', \\'folds\\', \\'dues\\', \\'mmanning\\', \\'more-or-less\\', \\'nathaniel\\', \\'monies\\', \\'taller\\', \\'enjoyable\\', \\'fiance\\', \\'thrill\\', \\'suprised\\', \\'contested\\', \\'jorgenson\\', \\'crosspost\\', \\'goddamn\\', \\'sticky\\', \\'strands\\', \\'thinner\\', \\'amused\\', \\'prizes\\', \\'unsure\\', \\'holler\\', \\'anti\\', \\'finest\\', \\'disciplined\\', \\'yesss\\', \\'founders\\', \\'advising\\', \\'inspected\\', \\'luggage\\', \\'washing\\', \\'specializes\\', \\'reckless\\', \\'xavier\\', \\'cautious\\', \\'additive\\', \\'smacking\\', \\'intimidating\\', \\'lump\\', \\'bets\\', \\'raining\\', \\'ole\\', \\'gratitude\\', \\'ethanol\\', \\'paws\\', \\'beth\\', \\'shaking\\', \\'b.c.\\', \\'m/c\\', \\'overkill\\', \\'canine\\', \\'subscribers\\', \\'intersted\\', \\'offending\\', \\'abbreviations\\', \\'parodies\\', \\'overheat\\', \\'east.sun.com\\', \\'news.groups\\', \\'uxa.cso.uiuc.edu\\', \\'erich.triumf.ca\\', \\'nextmail\\', \\'vela.acs.oakland.edu\\', \\'scumbag\\', \\'cs.utexas.edu\\', \\'dickhead\\', \\'flammable\\', \\'insuring\\', \\'prosecute\\', \\'legality\\', \\'deductible\\', \\'austin.ibm.com\\', \\'takeoff\\', \\'scrambler\\', \\'manson\\', \\'psi\\', \\'stereotypes\\', \\'precession\\', \\'carcinogen\\', \\'tylenol\\', \\'infighting\\', \\'icomsim.com\\', \\'crusade\\', \\'gestapo\\', \\'devotion\\', \\'minneapolis\\', \\'pedals\\', \\'revving\\', \\'bumpers\\', \\'two-wheeled\\', \\'dirtbike\\', \\'locksmith\\', \\'softail\\', \\'crankshaft\\', \\'interstates\\', \\'maneuvering\\', \\'nhtsa\\', \\'carburetor\\', \\'tail-light\\', \\'stoplights\\', \\'reflectors\\', \\'fahrvergnugen\\', \\'km/h\\', \\'beemers\\', \\'bimmer\\', \\'motorsport\\', \\'dohc\\', \\'speedometer\\', \\'volvos\\', \\'motorweek\\', \\'hyundai\\', \\'turbos\\', \\'isopropyl\\', \\'rednecks\\', \\'pontiac\\', \\'vettes\\', \\'haggling\\', \\'rec.autos.tech\\', \\'gearbox\\', \\'hatchback\\', \\'wagons\\', \\'volkswagen\\', \\'corvettes\\', \\'gmc\\', \\'porsches\\', \\'opel\\', \\'passat\\', \\'camaro/firebird\\', \\'sedans\\', \\'overheated\\', \\'lighters\\', \\'thieves\\', \\'memberships\\', \\'gadgets\\', \\'tolls\\', \\'out-of-hand\\', \\'petrol\\', \\'screwdriver\\', \\'manuver\\', \\'paraphernalia\\', \\'ctp.com\\', \\'repainted\\', \\'thirdly\\', \\'hinged\\', \\'lampposts\\', \\'muzzle\\', \\'deterent\\', \\'detach\\', \\'explodes\\', \\'burton\\', \\'kotrb\\', \\'whistles\\', \\'centurion\\', \\'interception\\', \\'turnaround\\', \\'dissemination\\', \\'squidly\\', \\'magnum\\', \\'nonstandard\\', \\'countermeasure\\', \\'pre-paid\\', \\'nationals\\', \\'eliminates\\', \\'fog\\', \\'slippery\\', \\'rocker\\', \\'optimistic\\', \\'blockbuster\\', \\'jubilee\\', \\'bdc\\', \\'low-speed\\', \\'knocks\\', \\'decreasing\\', \\'sparked\\', \\'dodging\\', \\'tunnel\\', \\'outfit\\', \\'lockup\\', \\'linkage\\', \\'drifting\\', \\'occupancy\\', \\'cider\\', \\'merchandise\\', \\'extruded\\', \\'zipper\\', \\'pulp\\', \\'chihuahua\\', \\'rambling\\', \\'ned\\', \\'stripe\\', \\'therein\\', \\'whence\\', \\'canister\\', \\'quota\\', \\'unloaded\\', \\'displacement\\', \\'precipitated\\', \\'gharriso\\', \\'sus\\', \\'glued\\', \\'proximity\\', \\'staring\\', \\'peroxide\\', \\'punches\\', \\'geddy\\', \\'fuses\\', \\'sanctioned\\', \\'shoved\\', \\'tackling\\', \\'elastic\\', \\'deltabox\\', \\'dancers\\', \\'slant\\', \\'undertake\\', \\'eruption\\', \\'piggyback\\', \\'believable\\', \\'attest\\', \\'chartered\\', \\'non-existant\\', \\'puncture\\', \\'advert\\', \\'barbecue\\', \\'airways\\', \\'weenies\\', \\'safty\\', \\'drilled\\', \\'clouded\\', \\'repelled\\', \\'reef\\', \\'harmon\\', \\'agressive\\', \\'roam\\', \\'hub\\', \\'swivel\\', \\'duc\\', \\'thundered\\', \\'belly\\', \\'katana\\', \\'shudder\\', \\'worsen\\', \\'stare\\', \\'investors\\', \\'fangs\\', \\'rover\\', \\'elm\\', \\'rib\\', \\'secondhand\\', \\'grinding\\', \\'long-lived\\', \\'lapses\\', \\'locomotives\\', \\'unfamiliar\\', \\'stripes\\', \\'athletic\\', \\'afoot\\', \\'sub-thread\\', \\'quivering\\', \\'consolation\\', \\'veritable\\', \\'smug\\', \\'tightened\\', \\'strayed\\', \\'centigrade\\', \\'uncanny\\', \\'excessively\\', \\'marlboro\\', \\'pbs\\', \\'subtly\\', \\'instruct\\', \\'deepest\\', \\'weep\\', \\'bludgeon\\', \\'nod\\', \\'herein\\', \\'ravings\\', \\'trashing\\', \\'scars\\', \\'straights\\', \\'inspiring\\', \\'esteemed\\', \\'appliances\\', \\'mayhem\\', \\'julian\\', \\'yank\\', \\'depletion\\', \\'alongside\\', \\'occupant\\', \\'sidewalk\\', \\'fremont\\', \\'wee\\', \\'burlington\\', \\'thunk\\', \\'smog\\', \\'gutter\\', \\'faculty\\', \\'recharge\\', \\'notable\\', \\'knack\\', \\'nails\\', \\'suppliers\\', \\'deluxeý\\', \\'cue\\', \\'shear\\', \\'dixie\\', \\'paycheck\\', \\'listings\\', \\'digging\\', \\'rfd\\', \\'quits\\', \\'turbine\\', \\'unexpectedly\\', \\'twisting\\', \\'amber\\', \\'unlock\\', \\'mastercard\\', \\'stairs\\', \\'noisier\\', \\'guzzi\\', \\'suppossed\\', \\'skipped\\', \\'fulfilling\\', \\'resign\\', \\'taped\\', \\'rusted\\', \\'sunglasses\\', \\'sinks\\', \\'memorize\\', \\'crx\\', \\'torches\\', \\'harness\\', \\'delaying\\', \\'unconscious\\', \\'rhode\\', \\'chemist\\', \\'rectify\\', \\'notch\\', \\'snell\\', \\'inventor\\', \\'container\\', \\'bothering\\', \\'trails\\', \\'fined\\', \\'distract\\', \\'lure\\', \\'appealed\\', \\'daemon\\', \\'co-worker\\', \\'slammed\\', \\'arrows\\', \\'flick\\', \\'horrid\\', \\'merging\\', \\'sizing\\', \\'gyro\\', \\'gel\\', \\'jug\\', \\'recycle\\', \\'outgoing\\', \\'midway\\', \\'deceased\\', \\'capacities\\', \\'disgust\\', \\'sniff\\', \\'berth\\', \\'def\\', \\'curved\\', \\'smiles\\', \\'occassion\\', \\'sierra\\', \\'wool\\', \\'underpowered\\', \\'rigid\\', \\'darned\\', \\'stocker\\', \\'blaring\\', \\'freaked\\', \\'welded\\', \\'fragments\\', \\'towed\\', \\'whitman\\', \\'involuntarily\\', \\'balk\\', \\'increment\\', \\'guiding\\', \\'rbp\\', \\'orleans\\', \\'novice\\', \\'regain\\', \\'sos\\', \\'disoriented\\', \\'milano\\', \\'spokes\\', \\'breathe\\', \\'vandalize\\', \\'face-to-face\\', \\'ems\\', \\'intensify\\', \\'dimethyl\\', \\'stow\\', \\'dough\\', \\'counteract\\', \\'stirred\\', \\'neo\\', \\'geeks\\', \\'congratulations\\', \\'uninitiated\\', \\'sleepy\\', \\'avoids\\', \\'rescued\\', \\'drool\\', \\'congenial\\', \\'srm\\', \\'bout\\', \\'videotaped\\', \\'erect\\', \\'wick\\', \\'stakes\\', \\'shovel\\', \\'distruction\\', \\'restrain\\', \\'lap\\', \\'orifices\\', \\'shifted\\', \\'wedged\\', \\'allan\\', \\'draconian\\', \\'recesses\\', \\'ramp\\', \\'deter\\', \\'escapes\\', \\'offender\\', \\'towel\\', \\'ilana\\', \\'bondo\\', \\'recipients\\', \\'halls\\', \\'dope\\', \\'firebird\\', \\'unleashed\\', \\'rallies\\', \\'wrapping\\', \\'pres\\', \\'instantly\\', \\'forests\\', \\'barred\\', \\'freezing\\', \\'buzzed\\', \\'chill\\', \\'removes\\', \\'annotate\\', \\'ridge\\', \\'refunded\\', \\'barbarian\\', \\'centered\\', \\'rammed\\', \\'gradual\\', \\'baked\\', \\'ace\\', \\'flashed\\', \\'attracted\\', \\'trailed\\', \\'bain\\', \\'coarse\\', \\'whack\\', \\'pushes\\', \\'petroleum\\', \\'exits\\', \\'brandon\\', \\'tightening\\', \\'antique\\', \\'ditch\\', \\'revocation\\', \\'valleys\\', \\'vanish\\', \\'spectator\\', \\'comming\\', \\'widener\\', \\'smiled\\', \\'torrey\\', \\'colchester\\', \\'cutout\\', \\'dried\\', \\'momentarily\\', \\'macho\\', \\'deposits\\', \\'helmeted\\', \\'scirocco\\', \\'fur\\', \\'emptied\\', \\'gallons\\', \\'assembling\\', \\'tiring\\', \\'boxed\\', \\'thrills\\', \\'grrr\\', \\'escaping\\', \\'rope\\', \\'bends\\', \\'usefull\\', \\'widest\\', \\'tach\\', \\'stinky\\', \\'tapered\\', \\'eats\\', \\'pickups\\', \\'trooper\\', \\'protege\\', \\'glue\\', \\'piss\\', \\'virtues\\', \\'uknet\\', \\'scratching\\', \\'planted\\', \\'leaking\\', \\'ex-\\', \\'toast\\', \\'exam\\', \\'evenings\\', \\'viscious\\', \\'flexing\\', \\'rad\\', \\'taxis\\', \\'trn\\', \\'secs\\', \\'improper\\', \\'outweighs\\', \\'attract\\', \\'caricature\\', \\'stall\\', \\'entertain\\', \\'downhill\\', \\'plea\\', \\'stuffs\\', \\'dab\\', \\'slab\\', \\'environs\\', \\'powering\\', \\'sears\\', \\'bum\\', \\'off-line\\', \\'aggressively\\', \\'plaques\\', \\'intolerant\\', \\'landmark\\', \\'pathway\\', \\'slams\\', \\'punching\\', \\'visor\\', \\'grudge\\', \\'cake\\', \\'overlapped\\', \\'hard-core\\', \\'wears\\', \\'bingo\\', \\'pager\\', \\'locker\\', \\'tray\\', \\'renounced\\', \\'gulp\\', \\'curb\\', \\'evasive\\', \\'parting\\', \\'safest\\', \\'hesitation\\', \\'performer\\', \\'knights\\', \\'harrison\\', \\'vet\\', \\'general-purpose\\', \\'chipped\\', \\'blake\\', \\'byproducts\\', \\'reacted\\', \\'boil\\', \\'dweeb\\', \\'despair\\', \\'barf\\', \\'sponsoring\\', \\'romeo\\', \\'topped\\', \\'compass\\', \\'stubborn\\', \\'lapse\\', \\'endorse\\', \\'annette\\', \\'swiftly\\', \\'haynes\\', \\'shepherd\\', \\'aviator\\', \\'articulated\\', \\'litres\\', \\'volatile\\', \\'albums\\', \\'cafe\\', \\'good/bad\\', \\'stared\\', \\'arbor\\', \\'useable\\', \\'c/s\\', \\'tossing\\', \\'ordinance\\', \\'foyer\\', \\'chatter\\', \\'customizing\\', \\'dailies\\', \\'bean\\', \\'renaming\\', \\'kook\\', \\'poke\\', \\'wrestle\\', \\'unofficial\\', \\'prep\\', \\'verge\\', \\'newsflash\\', \\'mismatch\\', \\'plethora\\', \\'lining\\', \\'dissolve\\', \\'lois\\', \\'lear\\', \\'pennies\\', \\'intrepid\\', \\'vapor\\', \\'somethings\\', \\'attachment\\', \\'squarely\\', \\'dissipate\\', \\'citroen\\', \\'metallic\\', \\'tacked\\', \\'any/all\\', \\'reponse\\', \\'banked\\', \\'coax\\', \\'localities\\', \\'commencement\\', \\'zion\\', \\'wink\\', \\'caddy\\', \\'fingernail\\', \\'hairs\\', \\'depress\\', \\'emulate\\', \\'accel\\', \\'fumes\\', \\'administer\\', \\'slc\\', \\'circulating\\', \\'persists\\', \\'appreciative\\', \\'ounce\\', \\'torturing\\', \\'prolonging\\', \\'bald\\', \\'monument\\', \\'relentless\\', \\'crook\\', \\'vanished\\', \\'periphery\\', \\'advancements\\', \\'axed\\', \\'second-hand\\', \\'arrivals\\', \\'outcast\\', \\'milliseconds\\', \\'asap\\', \\'farmer\\', \\'metals\\', \\'nursery\\', \\'breeding\\', \\'lidar\\', \\'overt\\', \\'taunt\\', \\'outdoors\\', \\'fullness\\', \\'brock\\', \\'faceplate\\', \\'timely\\', \\'cater\\', \\'concentrating\\', \\'lifter\\', \\'closeup\\', \\'calf\\', \\'sharpened\\', \\'ooh\\', \\'inn\\', \\'throughly\\', \\'substituted\\', \\'hogs\\', \\'babes\\', \\'endlessly\\', \\'slamming\\', \\'vme\\', \\'swollen\\', \\'adhere\\', \\'fabrication\\', \\'aging\\', \\'scarecrow\\', \\'retroactively\\', \\'playmate\\', \\'spacious\\', \\'piercing\\', \\'approves\\', \\'kindred\\', \\'citrus\\', \\'slapped\\', \\'alloy\\', \\'manners\\', \\'inventory\\', \\'analysed\\', \\'sucking\\', \\'restricts\\', \\'showering\\', \\'pencil\\', \\'dis\\', \\'voluminous\\', \\'usualy\\', \\'cheapo\\', \\'lecturer\\', \\'pupils\\', \\'languish\\', \\'emu\\', \\'kidneys\\', \\'nailed\\', \\'discounted\\', \\'fling\\', \\'mustard\\', \\'calmly\\', \\'weighed\\', \\'squat\\', \\'amplify\\', \\'skull\\', \\'thigh\\', \\'despise\\', \\'hmmmmm\\', \\'degrade\\', \\'ratios\\', \\'pasker\\', \\'consistant\\', \\'mechanically\\', \\'crunching\\', \\'distilled\\', \\'sweeps\\', \\'trump\\', \\'gentler\\', \\'hubbard\\', \\'skiing\\', \\'swinging\\', \\'anatomy\\', \\'scouts\\', \\'ripping\\', \\'arches\\', \\'muscular\\', \\'unmitigated\\', \\'rag\\', \\'toolbox\\', \\'overlapping\\', \\'cookies\\', \\'stretches\\', \\'lumber\\', \\'lilly\\', \\'breeze\\', \\'ark\\', \\'ion\\', \\'rubbed\\', \\'depreciated\\', \\'climbing\\', \\'catalytic\\', \\'dominates\\', \\'mags\\', \\'cleanest\\', \\'volatiles\\', \\'admire\\', \\'exceedingly\\', \\'acheive\\', \\'bugger\\', \\'yip\\', \\'soundly\\', \\'planting\\', \\'fusi\\', \\'discretion\\', \\'bronze\\', \\'stout\\', \\'possesion\\', \\'consuming\\', \\'neon\\', \\'tags\\', \\'hosed\\', \\'antonio\\', \\'crate\\', \\'stumble\\', \\'negligible\\', \\'ravi\\', \\'camel\\', \\'collects\\', \\'panicking\\', \\'tod\\', \\'gum\\', \\'permitting\\', \\'sickening\\', \\'epping\\', \\'topologically\\', \\'relaxed\\', \\'endangered\\', \\'continuity\\', \\'anticipated\\', \\'ogri\\', \\'rim\\', \\'recycling\\', \\'exceeding\\', \\'wiggling\\', \\'salvage\\', \\'migrated\\', \\'chin\\', \\'goin\\', \\'cutoff\\', \\'corrosion\\', \\'organizing\\', \\'sweeper\\', \\'se-r\\', \\'gal\\', \\'bays\\', \\'gathers\\', \\'astounded\\', \\'curricula\\', \\'endemic\\', \\'woefully\\', \\'consenting\\', \\'cum\\', \\'outdoor\\', \\'fragile\\', \\'zipped\\', \\'carcass\\', \\'chilly\\', \\'crud\\', \\'plainfield\\', \\'accesories\\', \\'volcanic\\', \\'elbows\\', \\'internals\\', \\'oughta\\', \\'visa\\', \\'finesse\\', \\'cranks\\', \\'quickest\\', \\'kindness\\', \\'posing\\', \\'bandied\\', \\'dinosaur\\', \\'modernized\\', \\'intents\\', \\'laced\\', \\'constrained\\', \\'craftsman\\', \\'budweiser\\', \\'medi\\', \\'solo\\', \\'visibility\\', \\'aerial\\', \\'toured\\', \\'crest\\', \\'fro\\', \\'lemons\\', \\'fend\\', \\'silk\\', \\'unusually\\', \\'vascar\\', \\'laboring\\', \\'repairing\\', \\'mutch\\', \\'inverness|live\\', \\'knuckles\\', \\'runing\\', \\'drained\\', \\'home-made\\', \\'shining\\', \\'depressing\\', \\'honey\\', \\'pioneers\\', \\'high-performance\\', \\'farming\\', \\'rumble\\', \\'eventuality\\', \\'asses\\', \\'canned\\', \\'pitas\\', \\'lexington\\', \\'hiya\\', \\'marrow\\', \\'crescent\\', \\'lottery\\', \\'messed\\', \\'veins\\', \\'unaffected\\', \\'pampered\\', \\'arkansas\\', \\'reviewer\\', \\'bladder\\', \\'clyde\\', \\'punched\\', \\'extolling\\', \\'refined\\', \\'completly\\', \\'oxymoron\\', \\'candy\\', \\'squirted\\', \\'dire\\', \\'aired\\', \\'lodging\\', \\'railway\\', \\'psych\\', \\'participates\\', \\'loosen\\', \\'fists\\', \\'roaring\\', \\'lessen\\', \\'hans\\', \\'smoothed\\', \\'shepard\\', \\'complying\\', \\'reluctantly\\', \\'unipalm\\', \\'re-publication\\', \\'abruptly\\', \\'no-no\\', \\'anyplace\\', \\'paints\\', \\'responsibly\\', \\'possessing\\', \\'similiar\\', \\'hamburger\\', \\'nasal\\', \\'mate\\', \\'chopping\\', \\'tunes\\', \\'d-day\\', \\'sipde\\', \\'exploit\\', \\'urgency\\', \\'sob\\', \\'dissolves\\', \\'memorable\\', \\'noises\\', \\'adventurous\\', \\'triumphs\\', \\'instructors\\', \\'inept\\', \\'scenic\\', \\'unwise\\', \\'northeast\\', \\'requisite\\', \\'consciously\\', \\'concentrations\\', \\'probs\\', \\'rushing\\', \\'southwest\\', \\'starr\\', \\'dominating\\', \\'crank\\', \\'severly\\', \\'ropes\\', \\'raiser\\', \\'hairy\\', \\'toes\\', \\'taint\\', \\'sedentary\\', \\'stunt\\', \\'disputes\\', \\'lengths\\', \\'artical\\', \\'sutherland\\', \\'formulae\\', \\'invaluable\\', \\'rougher\\', \\'formidable\\', \\'ites\\', \\'citations\\', \\'difference-\\', \\'drugstore\\', \\'pry\\', \\'fences\\', \\'hoffman\\', \\'up/down\\', \\'navigating\\', \\'scottish\\', \\'paddle\\', \\'packs\\', \\'goose\\', \\'equivalents\\', \\'favorably\\', \\'yawn\\', \\'stinks\\', \\'inferred\\', \\'pacify\\', \\'adelaide\\', \\'advisable\\', \\'originator\\', \\'commanders\\', \\'practise\\', \\'instability\\', \\'guise\\', \\'creations\\', \\'russel\\', \\'gases\\', \\'yyz\\', \\'multi-million\\', \\'climb\\', \\'ucb\\', \\'benign\\', \\'friction\\', \\'blissful\\', \\'amazement\\', \\'concordance\\', \\'jaws\\', \\'transmits\\', \\'steak\\', \\'henceforth\\', \\'untrained\\', \\'exotic\\', \\'curriculum\\', \\'mama\\', \\'engagement\\', \\'billy\\', \\'sang\\', \\'adopting\\', \\'thickness\\', \\'clara\\', \\'contributes\\', \\'gasp\\', \\'mcdonalds\\', \\'severity\\', \\'skates\\', \\'noticing\\', \\'lacked\\', \\'conceptually\\', \\'chancy\\', \\'burnham\\', \\'blasts\\', \\'belittle\\', \\'bliss\\', \\'willed\\', \\'dang\\', \\'sommer\\', \\'preventative\\', \\'predicament\\', \\'crystals\\', \\'ibmpc\\', \\'mid-range\\', \\'nuisance\\', \\'imminent\\', \\'barrus\\', \\'warranted\\', \\'wonderfully\\', \\'cone\\', \\'vandalism\\', \\'flamage\\', \\'plymouth\\', \\'brother-in-law\\', \\'nevermind\\', \\'succesfully\\', \\'recreation\\', \\'liking\\', \\'braindead\\', \\'crts\\', \\'scrape\\', \\'tagged\\', \\'forecast\\', \\'shirts\\', \\'amenable\\', \\'hearted\\', \\'tucson\\', \\'gurus\\', \\'cumulative\\', \\'cooled\\', \\'ang\\', \\'u.k.\\', \\'prized\\', \\'hunger\\', \\'emphasizing\\', \\'predictable\\', \\'classroom\\', \\'faded\\', \\'lastest\\', \\'bpita\\', \\'distracted\\', \\'hammers\\', \\'clique\\', \\'slim\\', \\'reflexes\\', \\'creek\\', \\'stiffer\\', \\'ordinances\\', \\'devised\\', \\'inspect\\', \\'bathrooms\\', \\'eyebrows\\', \\'airway\\', \\'crimp\\', \\'therefor\\', \\'wimpy\\', \\'montgomery\\', \\'brawl\\', \\'kaldis\\', \\'nothin\\', \\'valued\\', \\'seams\\', \\'pharmaceuticals\\', \\'manageable\\', \\'bloodstream\\', \\'plausable\\', \\'glitch\\', \\'contemplated\\', \\'bummer\\', \\'desoto\\', \\'freebie\\', \\'necks\\', \\'polled\\', \\'spitting\\', \\'mornings\\', \\'noticeably\\', \\'lockers\\', \\'lakes\\', \\'iceland\\', \\'arrangements\\', \\'tubing\\', \\'soooo\\', \\'scaring\\', \\'occassionally\\', \\'aobut\\', \\'hapless\\', \\'neccessarily\\', \\'bucket\\', \\'gearing\\', \\'blinds\\', \\'mockery\\', \\'whip\\', \\'shitless\\', \\'mutant\\', \\'cousin\\', \\'awkward\\', \\'bix\\', \\'synthetic\\', \\'dancer\\', \\'fortunes\\', \\'panache\\', \\'wanna-be\\', \\'pillage\\', \\'preparations\\', \\'undetected\\', \\'beetle\\', \\'levine\\', \\'poisonous\\', \\'vertebrae\\', \\'intruder\\', \\'magna\\', \\'gentlemen\\', \\'contorted\\', \\'o.k.\\', \\'geared\\', \\'armour\\', \\'inadvertantly\\', \\'disconcerting\\', \\'real-life\\', \\'impending\\', \\'yeh\\', \\'commonly-used\\', \\'uhm\\', \\'ummm\\', \\'embarassing\\', \\'re-read\\', \\'heady\\', \\'tiresome\\', \\'skies\\', \\'vienna\\', \\'anticipating\\', \"y\\'all\", \\'merry\\', \\'messges\\', \\'jeez\\', \\'drastic\\', \\'whims\\', \\'pathways\\', \\'longevity\\', \\'pisses\\', \\'wraps\\', \\'screams\\', \\'fins\\', \\'discern\\', \\'sprays\\', \\'enhancements\\', \\'soaked\\', \\'arranging\\', \\'rounded\\', \\'t-shirts\\', \\'subsidize\\', \\'testosterone\\', \\'sleeps\\', \\'thrilled\\', \\'mouthing\\', \\'newpaper\\', \\'backdrop\\', \\'bumps\\', \\'politburo\\', \\'lotto\\', \\'damp\\', \\'feather\\', \\'bbb\\', \\'governing\\', \\'burdened\\', \\'tack\\', \\'attributing\\', \\'impromptu\\', \\'grossly\\', \\'litigation\\', \\'adrenaline\\', \\'unambiguously\\', \\'litle\\', \\'controllable\\', \\'fringe\\', \\'researching\\', \\'occurence\\', \\'receipts\\', \\'inspections\\', \\'resides\\', \\'sabre\\', \\'purring\\', \\'agony\\', \\'swarms\\', \\'squeezing\\', \\'corrode\\', \\'prematurely\\', \\'ethan\\', \\'tester\\', \\'psychotic\\', \\'stereotype\\', \\'socks\\', \\'yaw\\', \\'reverend\\', \\'whit\\', \\'ducks\\', \\'anarchy\\', \\'adversary\\', \\'sterile\\', \\'likelyhood\\', \\'witha\\', \\'obsession\\', \\'methinks\\', \\'auto-\\', \\'markb\\', \\'smarter\\', \\'unmistakable\\', \\'underestimate\\', \\'trimble\\', \\'invested\\', \\'challanging\\', \\'stunning\\', \\'decwrl\\', \\'farmers\\', \\'ajs\\', \\'crayons\\', \\'atkins\\', \\'researched\\', \\'futile\\', \\'misc.consumers\\', \\'pessimistic\\', \\'well-educated\\', \\'abrams\\', \\'pinnacle\\', \\'monk\\', \\'retard\\', \\'brandishing\\', \\'whereupon\\', \\'gratification\\', \\'fwiw\\', \\'experimenting\\', \\'stigma\\', \\'gimmicks\\', \\'sprayed\\', \\'carve\\', \\'noemi\\', \\'propensity\\', \\'youself\\', \\'haze\\', \\'picky\\', \\'bosch\\', \\'citation\\', \\'bulging\\', \\'delusion\\', \\'divulged\\', \\'concur\\', \\'theodore\\', \\'snapped\\', \\'cocktail\\', \\'deceive\\', \\'angered\\', \\'transporter\\', \\'barehanded\\', \\'presumes\\', \\'straightening\\', \\'misused\\', \\'ooops\\', \\'amusement\\', \\'imperfections\\', \\'reputable\\', \\'parochial\\', \\'havent\\', \\'piloting\\', \\'gratuitously\\', \\'stupidly\\', \\'smugglers\\', \\'throats\\', \\'pls\\', \\'measurable\\', \\'illuminate\\', \\'immense\\', \\'',\n",
       " 15: '\\n            Topic index: 15\\n            Topic name: Technology\\n            Topic description: Based on the provided words, the common topic appears to be \"technology and computing\". \\n\\nAspects and sub-topics of this topic include:\\n1. Programming and software development: \"plumbing\", \"plug-in\", \"pnmconvol\", \"pmp\", \"pmp\", \"pneumonia\"\\n2. Computer graphics and imaging: \"pmview\", \"pmjpeg\", \"pmf\", \"plywood\", \"pict/jpeg\"\\n3. Internet and communication: \"plaza.aarnet.edu.au\", \"pictel.com\", \"phone/fax\", \"phonenet\", \"phoenix.oulu.fi\"\\n4. Hardware and electronics: \"plotters\", \"plotter\", \"platinum\", \"pilot\", \"pilot\"\\n5. Data and information: \"pne\", \"pictcompressor\", \"photocopy\", \"pinouts\", \"plaintexts\"\\n            Topic topwords: [\\'a.a.\\', \\'plural\\', \\'plunged\\', \\'plunge\\', \\'plundering\\', \\'plunderers\\', \\'plundered\\', \\'plunder\\', \\'plurality\\', \\'plumbing\\', \\'pluggers\\', \\'plugger\\', \\'plug-in\\', \\'pls\\', \\'plq\\\\\\\\\\', \\'plp\\', \\'ploy\\', \\'plugging\\', \\'plow\\', \\'plus/minus\\', \\'plutarch\\', \\'pod\\', \\'pob\\', \\'po.cwru.edu\\', \\'pnp\\', \\'pnmconvol\\', \\'pneumonia\\', \\'pne\\', \\'pluses\\', \\'pmview\\', \\'pmjpeg\\', \\'pmfq\\', \\'pmf\\', \\'pmc\\', \\'plywood\\', \\'plymouth\\', \\'plutonium\\', \\'pmp\\', \\'plotters\\', \\'plotter\\', \\'plotted\\', \\'plaza.aarnet.edu.au\\', \\'plaza\\', \\'playmation\\', \\'playmates\\', \\'playmate\\', \\'playmaking\\', \\'playground\\', \\'plcc\\', \\'playboy\\', \\'plausibility\\', \\'plausable\\', \\'platters\\', \\'platter\\', \\'plats\\', \\'platonic\\', \\'platinum\\', \\'play-by-play\\', \\'plea\\', \\'plead\\', \\'pleaded\\', \\'plonk\\', \\'plodded\\', \\'plight\\', \\'pliers\\', \\'pli\\', \\'plexus\\', \\'plethora\\', \\'plesetsk\\', \\'plentiful\\', \\'pledged\\', \\'pledge\\', \\'pleasures\\', \\'pleasing\\', \\'pleases\\', \\'pleasantly\\', \\'pleas\\', \\'pleading\\', \\'podein\\', \\'plated\\', \\'podium\\', \\'pods\\', \\'pomeroy\\', \\'polytopes\\', \\'polytechnic\\', \\'polyray\\', \\'polypropylene\\', \\'polynomials\\', \\'polynomial\\', \\'pomona\\', \\'polylines\\', \\'polyhedra\\', \\'polygonal\\', \\'polygamy\\', \\'polybagged\\', \\'polybag\\', \\'poly\\', \\'polonia\\', \\'polyline\\', \\'polluting\\', \\'pompous\\', \\'pondered\\', \\'porn\\', \\'porch\\', \\'por\\', \\'popups\\', \\'populist\\', \\'populated\\', \\'popi\\', \\'pond\\', \\'popes\\', \\'pop-up\\', \\'poots\\', \\'pools\\', \\'pooling\\', \\'pony\\', \\'pontificated\\', \\'pontiac\\', \\'popcorn\\', \\'polluted\\', \\'pollutants\\', \\'pollsters\\', \\'poker\\', \\'poked\\', \\'poke\\', \\'poisonous\\', \\'poisoning\\', \\'poised\\', \\'pointy\\', \\'poking\\', \\'point-to-point\\', \\'point-and-click\\', \\'pogrom\\', \\'poetry\\', \\'poetic\\', \\'poet\\', \\'poeple\\', \\'poem\\', \\'point-of-view\\', \\'pol\\', \\'polarity\\', \\'polarization\\', \\'polling\\', \\'polled\\', \\'pollard\\', \\'polk\\', \\'polity\\', \\'politician\\', \\'politic\\', \\'politeness\\', \\'politely\\', \\'politburo\\', \\'polished\\', \\'polio\\', \\'policing\\', \\'policeman\\', \\'polemics\\', \\'polaroid\\', \\'polarized\\', \\'podleski\\', \\'pornographers\\', \\'plateau\\', \\'plaster\\', \\'pierre\\', \\'piercing\\', \\'pierced\\', \\'pierce\\', \\'pictured\\', \\'pictel.com\\', \\'pictcompressor\\', \\'pierre_turgeon\\', \\'pict/jpeg\\', \\'picnic\\', \\'picky\\', \\'pickups\\', \\'picket\\', \\'pick-up\\', \\'pick-off\\', \\'pica.army.mil\\', \\'pics.com\\', \\'pic\\', \\'pietrangelo\\', \\'pif\\', \\'pin-compatible\\', \\'piloting\\', \\'pilon\\', \\'pillows\\', \\'pillar\\', \\'pillaged\\', \\'pillage\\', \\'piety\\', \\'pilgrims\\', \\'piles\\', \\'piled\\', \\'pilate\\', \\'pike\\', \\'pigs\\', \\'piggyback\\', \\'piggy\\', \\'pilgrimage\\', \\'piazza\\', \\'piano\\', \\'pia\\', \\'photocd\\', \\'photo-realistic\\', \\'photo-radar\\', \\'phosphorus\\', \\'phosphor\\', \\'phony\\', \\'phono\\', \\'photocopy\\', \\'phong\\', \\'phonenet\\', \\'phoned\\', \\'phone/fax\\', \\'phoenix.oulu.fi\\', \\'phobos\\', \\'phobias\\', \\'phobia\\', \\'phonetic\\', \\'photographed\\', \\'photographer\\', \\'photographers\\', \\'physique\\', \\'physiology\\', \\'physiological\\', \\'physiol\\', \\'physics.su.oz.au\\', \\'physicans\\', \\'phy.mtu.edu\\', \\'phs\\', \\'phrasing\\', \\'phraseology\\', \\'phrased\\', \\'photovoltaic\\', \\'photostyler\\', \\'photon\\', \\'photometry\\', \\'photometer\\', \\'photographic\\', \\'pin-outs\\', \\'plastics\\', \\'pina\\', \\'pinch-hit\\', \\'plagued\\', \\'plague\\', \\'placement\\', \\'placebos\\', \\'pkzip\\', \\'pkunzip\\', \\'pku\\', \\'plagues\\', \\'pkg\\', \\'pixie\\', \\'pixel-block\\', \\'pixar\\', \\'pivot\\', \\'pivonka\\', \\'pius\\', \\'pituitary\\', \\'pkcs\\', \\'pittsburg\\', \\'plainfield\\', \\'plains.nodak.edu\\', \\'plaques\\', \\'plaque\\', \\'planting\\', \\'plantier\\', \\'planted\\', \\'plante\\', \\'planners\\', \\'plainly\\', \\'planner\\', \\'planitia\\', \\'plani\\', \\'planetoid\\', \\'planetarium\\', \\'planar\\', \\'plaintiff\\', \\'plaintexts\\', \\'plank\\', \\'pitted\\', \\'pits\\', \\'pitiful\\', \\'pious\\', \\'pioneers\\', \\'pioneering\\', \\'pioneer.unm.edu\\', \\'pinpoint\\', \\'pinout\\', \\'pinned\\', \\'pip\\', \\'pinnacle\\', \\'pinko\\', \\'pinhead\\', \\'ping\\', \\'pines\\', \\'pinching\\', \\'pinched\\', \\'pinch-hitter\\', \\'pinks\\', \\'piped\\', \\'pipeline\\', \\'piper\\', \\'pithy\\', \\'pitfalls\\', \\'pitas\\', \\'pistons\\', \\'piston\\', \\'pistols\\', \\'pissing\\', \\'pisses\\', \\'pissed-off\\', \\'piss\\', \\'pirenne\\', \\'pirating\\', \\'pirated\\', \\'pirate\\', \\'piracy\\', \\'piqued\\', \\'pique\\', \\'pinball\\', \\'pornographic\\', \\'pornography\\', \\'porous\\', \\'preston\\', \\'presto\\', \\'prestigious\\', \\'prestige\\', \\'pressurized\\', \\'pressurization\\', \\'pressured\\', \\'presumeably\\', \\'presses\\', \\'presley\\', \\'presidency\\', \\'presets\\', \\'preset\\', \\'preserves\\', \\'presentment\\', \\'present-day\\', \\'press-democrat\\', \\'preseason\\', \\'presumes\\', \\'presumptuous\\', \\'previewing\\', \\'previewers\\', \\'previa\\', \\'preventive\\', \\'preventative\\', \\'prevalent\\', \\'prevails\\', \\'presumption\\', \\'prevailing\\', \\'pretexts\\', \\'pretext\\', \\'pretense\\', \\'pretends\\', \\'pretending\\', \\'pretended\\', \\'presupposes\\', \\'prevailed\\', \\'prescribing\\', \\'prescod\\', \\'prescient\\', \\'premature\\', \\'prejudices\\', \\'prejudiced\\', \\'prehaps\\', \\'preformatted\\', \\'prefix\\', \\'preffered\\', \\'prematurely\\', \\'prefers\\', \\'preferrably\\', \\'preferr\\', \\'preferentially\\', \\'preface\\', \\'pref\\', \\'preexisting\\', \\'preemptive\\', \\'preferring\\', \\'premeditated\\', \\'premier\\', \\'premiums\\', \\'pres\\', \\'prerequisite\\', \\'preps\\', \\'preprocessors\\', \\'preprocessor\\', \\'prepress\\', \\'preposterous\\', \\'preponderance\\', \\'prepended\\', \\'preparations\\', \\'prepaid\\', \\'prep.ai.mit.edu\\', \\'prep\\', \\'prentice-hall\\', \\'prentice\\', \\'prens\\', \\'prenatal\\', \\'preyed\\', \\'preeminent\\', \\'preying\\', \\'price/performance\\', \\'procede\\', \\'proc\\', \\'probs\\', \\'problematical\\', \\'problematic\\', \\'probing\\', \\'probe/rrh\\', \\'procedural\\', \\'probabilities\\', \\'prob\\', \\'pro-space\\', \\'pro-responsibility\\', \\'pro-nazi\\', \\'pro-life\\', \\'pro-israel\\', \\'pro-individuality\\', \\'probabilistic\\', \\'pro-homosexual\\', \\'procession\\', \\'proclaiming\\', \\'productions\\', \\'producers\\', \\'producer\\', \\'prodrive\\', \\'prodigy\\', \\'prodigal\\', \\'prodesigner\\', \\'processor-direct\\', \\'procuring\\', \\'procure\\', \\'procurator\\', \\'procuracy\\', \\'proctor\\', \\'procreation\\', \\'procomm\\', \\'proclamation\\', \\'procurement\\', \\'pro-german\\', \\'pro-choice\\', \\'pro-\\', \\'principals\\', \\'principally\\', \\'princeton.edu\\', \\'princes\\', \\'primordial\\', \\'primitives\\', \\'primes\\', \\'printmonitor\\', \\'primers\\', \\'primeau\\', \\'primates\\', \\'primate\\', \\'primal\\', \\'prima\\', \\'pricier\\', \\'pricey\\', \\'primer\\', \\'printout\\', \\'priori\\', \\'prism\\', \\'prnt\\', \\'prk\\', \\'prjevalski\\', \\'prj\\', \\'prizm\\', \\'prizes\\', \\'prized\\', \\'prix\\', \\'privileges\\', \\'privileged\\', \\'privilege\\', \\'privatization\\', \\'private-key\\', \\'privacy-related\\', \\'pristine\\', \\'prisons\\', \\'prisoner\\', \\'prez\\', \\'predominantly\\', \\'predominant\\', \\'prednisone\\', \\'potentiometer\\', \\'potentiate\\', \\'potentials\\', \\'potent\\', \\'potatoes\\', \\'potato\\', \\'potassium\\', \\'pothole\\', \\'posturing\\', \\'postulated\\', \\'postulate\\', \\'postseason\\', \\'postscript-based\\', \\'postponed\\', \\'postpaid\\', \\'postmaster\\', \\'postulates\\', \\'postion\\', \\'potholes\\', \\'potted\\', \\'powerhouse\\', \\'powerglove\\', \\'powerfull\\', \\'powercache\\', \\'powerbooks\\', \\'power-up\\', \\'power-play\\', \\'pots\\', \\'pow\\', \\'pournelle\\', \\'pouring\\', \\'poured\\', \\'pounding\\', \\'pounded\\', \\'pounce\\', \\'pouch\\', \\'pov-ray\\', \\'postfach\\', \\'posterior\\', \\'postema\\', \\'posing\\', \\'posible\\', \\'posession\\', \\'poses\\', \\'pos\\', \\'portugese\\', \\'portugal\\', \\'posit\\', \\'portrays\\', \\'portraits\\', \\'portrait\\', \\'porting\\', \\'portal\\', \\'portacio\\', \\'portability\\', \\'porsches\\', \\'portrayed\\', \\'positional\\', \\'positioned\\', \\'positives\\', \\'postcript\\', \\'postcard\\', \\'post-season\\', \\'post-resurrection\\', \\'post-launch\\', \\'post-game\\', \\'post-dispatch\\', \\'possiblity\\', \\'possessions\\', \\'possessing\\', \\'possesses\\', \\'possesion\\', \\'posses\\', \\'posn\\', \\'poskanzer\\', \\'posix\\', \\'positron\\', \\'powering\\', \\'powerless\\', \\'powerpcs\\', \\'powerplant\\', \\'precession\\', \\'preceeding\\', \\'precedents\\', \\'precedence\\', \\'preceded\\', \\'precede\\', \\'precaution\\', \\'precident\\', \\'preamp\\', \\'preaches\\', \\'preachers\\', \\'preacher\\', \\'pre-release\\', \\'pre-registration\\', \\'pre-production\\', \\'pre-paid\\', \\'preamble\\', \\'precipitate\\', \\'precipitated\\', \\'precludes\\', \\'predisposition\\', \\'predisposed\\', \\'predicts\\', \\'predictor\\', \\'predictive\\', \\'predictable\\', \\'predicament\\', \\'predestined\\', \\'predefined\\', \\'predecessors\\', \\'predecessor\\', \\'predator\\', \\'predates\\', \\'precursor\\', \\'preconditions\\', \\'precomputes\\', \\'precomp\\', \\'pre-nazi\\', \\'phl\\', \\'pre-flight\\', \\'pre-existence\\', \\'practise\\', \\'practicality\\', \\'prabhakar\\', \\'pps\\', \\'pprg.eece.unm.edu\\', \\'pposition\\', \\'ppmtogif\\', \\'practised\\', \\'ppmquant\\', \\'ppl\\', \\'ppi\\', \\'ppg\\', \\'ppb\\', \\'pox\\', \\'powerup\\', \\'powersupply\\', \\'ppm/pgm\\', \\'practitioners\\', \\'praeger\\', \\'praetzel\\', \\'pre-emptive\\', \\'pre-empted\\', \\'pre-christian\\', \\'pre-arranged\\', \\'pre-amp\\', \\'pre-\\', \\'prc\\', \\'prays\\', \\'prayerful\\', \\'pratt\\', \\'pratchett\\', \\'pranks\\', \\'pram\\', \\'praising\\', \\'praises\\', \\'praised\\', \\'prairie\\', \\'pre-existing\\', \\'productivity\\', \\'phishnet\\', \\'philosophically\\', \\'pantheism\\', \\'panning/scrolling\\', \\'panning\\', \\'pannel\\', \\'panned\\', \\'panix.com\\', \\'panicking\\', \\'pantomimed\\', \\'pancreas\\', \\'panache\\', \\'panacea\\', \\'pamphlets\\', \\'pamphlet\\', \\'pampered\\', \\'pam\\', \\'paltry\\', \\'panama\\', \\'pals\\', \\'pantry\\', \\'pap\\', \\'paradigm\\', \\'parades\\', \\'parade\\', \\'parachutes\\', \\'parachute\\', \\'parabolic\\', \\'parables\\', \\'paolo\\', \\'par-\\', \\'pappas\\', \\'paperless\\', \\'papercuts\\', \\'paperbacks\\', \\'papazian\\', \\'papandreou\\', \\'papacy\\', \\'papresco\\', \\'palomar\\', \\'palo\\', \\'palms\\', \\'painfully\\', \\'paine\\', \\'paige\\', \\'pags\\', \\'pagliarulo\\', \\'pageup\\', \\'pager\\', \\'paintbrush\\', \\'pagemaker\\', \\'pageant\\', \\'pagans\\', \\'paganism\\', \\'paddock\\', \\'paddle\\', \\'padding\\', \\'pact\\', \\'paged\\', \\'painter\\', \\'painting\\', \\'paintings\\', \\'palmeiro\\', \\'palmach\\', \\'pallets\\', \\'pallet\\', \\'pallas\\', \\'palettes\\', \\'pales\\', \\'pale\\', \\'palatable\\', \\'paladin\\', \\'palace_\\', \\'palace\\', \\'pakistan\\', \\'pak\\', \\'paired\\', \\'paintshop\\', \\'paints\\', \\'paradigms\\', \\'pacman\\', \\'paradoxically\\', \\'paralleled\\', \"pasa\\'ya\", \\'pas\\', \\'partitions\\', \\'partitioned\\', \\'partisans\\', \\'partisan\\', \\'parting\\', \\'pasker\\', \\'particulates\\', \\'particulary\\', \\'participle\\', \\'participates\\', \\'participant\\', \\'parted\\', \\'partaking\\', \\'part-time\\', \\'particulate\\', \\'parsli\\', \\'paslawski\\', \\'pass-through\\', \\'pasts\\', \\'pastors\\', \\'pastoral\\', \\'pasting\\', \\'pasteur\\', \\'pasted\\', \\'pasta\\', \\'paso\\', \\'passwd\\', \\'passphrase\\', \\'passively\\', \\'passions\\', \\'passionate\\', \\'passe\\', \\'passcdebugflags\\', \\'passat\\', \\'passports\\', \\'parsing\\', \\'parses\\', \\'parser\\', \\'parching\\', \\'parcel\\', \\'parasitic\\', \\'parasites\\', \\'paraphrasing\\', \\'paraphrased\\', \\'paraphernalia\\', \\'parcplace\\', \\'paranormal\\', \\'paranjape\\', \\'paramus\\', \\'paramount\\', \\'parametric\\', \\'paralyzed\\', \\'paralysis\\', \\'parallelism\\', \\'paranoids\\', \\'pardons\\', \\'pare\\', \\'parental\\', \\'parsec\\', \\'parry\\', \\'parrot\\', \\'parrett\\', \\'parole\\', \\'parody\\', \\'parodies\\', \\'parochial\\', \\'parkway\\', \\'parkinson\\', \\'parker\\', \\'parishioners\\', \\'parishes\\', \\'parenthood\\', \\'parenthetical\\', \\'parenthesis\\', \\'parentheses\\', \\'paragon\\', \\'pasture\\', \\'packs\\', \\'pacify\\', \\'overdue\\', \\'overdose\\', \\'overcoming\\', \\'overcomes\\', \\'overboard\\', \\'overblown\\', \\'overbloom\\', \\'overflow\\', \\'overacker\\', \\'over-rated\\', \\'over-\\', \\'ovens\\', \\'ove\\', \\'ovation\\', \\'ovary\\', \\'ovarian\\', \\'overachievers\\', \\'oval\\', \\'overflowing\\', \\'overhaul\\', \\'overlook\\', \\'overloading\\', \\'overloaded\\', \\'overload\\', \\'overlays\\', \\'overlay\\', \\'overlapping\\', \\'overgrowth\\', \\'overlapped\\', \\'overkill\\', \\'overjoyed\\', \\'overheating\\', \\'overheated\\', \\'overheat\\', \\'overheard\\', \\'overhauled\\', \\'overlaid\\', \\'outweighs\\', \\'outweigh\\', \\'outta\\', \\'outlawing\\', \\'outlawed\\', \\'outing\\', \\'outgunned\\', \\'outgrowth\\', \\'outgoing\\', \\'outfits\\', \\'outlaws\\', \\'outfit\\', \\'outfielder\\', \\'outfield\\', \\'outdoors\\', \\'outdoor\\', \\'outdated\\', \\'outcry\\', \\'outcomes\\', \\'outfielders\\', \\'outlay\\', \\'outlining\\', \\'outlived\\', \\'outspoken\\', \\'outskirts\\', \\'outsiders\\', \\'outsider\\', \\'outset\\', \\'outscore\\', \\'outreach\\', \\'outrages\\', \\'outrageously\\', \\'outraged\\', \\'outputting\\', \\'outposts\\', \\'outplayed\\', \\'outnumber\\', \\'outlying\\', \\'outlooks\\', \\'outlook\\', \\'overlooking\\', \\'pacing\\', \\'overpaid\\', \\'overpopulation\\', \\'p.m\\', \\'p-p\\', \\'ozolinsh\\', \\'ozal\\', \\'oxymoronic\\', \\'oxymoron\\', \\'oxnard\\', \\'p.o.box\\', \\'oxides\\', \\'oxidative\\', \\'oxidation\\', \\'oxen\\', \\'owt\\', \\'owens\\', \\'owen_nolan\\', \\'owed\\', \\'oxide\\', \\'owe\\', \\'p.p.s\\', \\'p.s.\\', \\'pacifists\\', \\'pacifist\\', \\'pacifism\\', \\'pacified\\', \\'pacifica\\', \\'pacemakers\\', \\'pac\\', \\'p.r\\', \\'pa^ques\\', \"pa\\'il\", \\'p\\\\\\\\v\\', \"p\\\\\\\\/\\'-\", \\'p=ac\\', \\'p/n\\', \\'p.vasilion\\', \\'p.t\\', \\'pa.\\', \\'overwritten\\', \\'overwriting\\', \\'overwrites\\', \\'oversight\\', \\'overshadowed\\', \\'overseeing\\', \\'oversee\\', \\'overscan\\', \\'oversampling\\', \\'overruns\\', \\'oversized\\', \\'overrun\\', \\'overrides\\', \\'overreaction\\', \\'overreacting\\', \\'overreacted\\', \\'overreact\\', \\'overrated\\', \\'overpriced\\', \\'overriding\\', \\'overstatement\\', \\'overstating\\', \\'oversteer\\', \\'overwrite\\', \\'overworked\\', \\'overwhelmingly\\', \\'overwhelmed\\', \\'overwhelm\\', \\'overweight\\', \\'overviews\\', \\'overused\\', \\'overuse\\', \\'overturned\\', \\'overturn\\', \\'overtly\\', \\'overthrown\\', \\'overtake\\', \\'overt\\', \\'overstress\\', \\'overstreet\\', \\'overpass\\', \\'pat_elynuik\\', \\'pat_falloon\\', \\'pat_flatley\\', \\'persecutions\\', \\'persecuting\\', \\'persecute\\', \\'perret\\', \\'perplexed\\', \\'perpetuating\\', \\'perpetuate\\', \\'persevere\\', \\'perpetually\\', \\'perpetrator\\', \\'perp\\', \\'peroxide\\', \\'pernicious\\', \\'permutations\\', \\'permutation\\', \\'permitting\\', \\'perpetrators\\', \\'permissions\\', \\'persist\\', \\'persistant\\', \\'pertain\\', \\'persuasive\\', \\'persuasion\\', \\'persuading\\', \\'persuaded\\', \\'perspectives\\', \\'personel\\', \\'persistance\\', \\'personaly\\', \\'personages\\', \\'persona\\', \\'persists\\', \\'persisting\\', \\'persistently\\', \\'persistence\\', \\'persisted\\', \\'personalities\\', \\'permissible\\', \\'permanet.org\\', \\'perm\\', \\'percieved\\', \\'perceptive\\', \\'perceptible\\', \\'percentages\\', \\'perceives\\', \\'perakende\\', \\'per-person\\', \\'perdue\\', \\'per-night\\', \\'per-\\', \\'pepsi\\', \\'peppers\\', \\'pepper\\', \\'pep\\', \\'peoria\\', \\'penultimate\\', \\'per-capita\\', \\'perennial\\', \\'peres\\', \\'perez\\', \\'perished\\', \\'periphery\\', \\'periodicals\\', \\'periodical\\', \\'perimeter\\', \\'perilous\\', \\'peril\\', \\'perihelion\\', \\'perigee\\', \\'performers\\', \\'performer\\', \\'performas\\', \\'performances\\', \\'performance-wise\\', \\'performace\\', \\'perfection\\', \\'perfected\\', \\'pertains\\', \\'penthouse\\', \\'perth\\', \\'perturbed\\', \\'pharmacists\\', \\'pharmacist\\', \\'pharmacies\\', \\'pharmaceuticals\\', \\'pharmaceutical\\', \\'pharaoh\\', \\'phar\\', \\'pharmacology\\', \\'phantom\\', \\'ph.d\\', \\'pgp-public-keys\\', \\'pgm\\', \\'pgf\\', \\'pga\\', \\'pftb\\', \\'pff\\', \\'phage\\', \\'pewter\\', \\'pharmacy\\', \\'phases\\', \\'philosophic\\', \\'philo\\', \\'phillie\\', \\'philistines\\', \\'philisophical\\', \\'philippe\\', \\'philanthropic\\', \\'phased\\', \\'phila\\', \\'phil_bourque\\', \\'phigs+\\', \\'phew\\', \\'phenylalanine\\', \\'phenomenom\\', \\'phenolic\\', \\'phds\\', \\'phil_housley\\', \\'pew\\', \\'peugout\\', \\'peu\\', \\'peter_bondra\\', \\'peter_andersson\\', \\'peter_ahola\\', \\'pessimistic\\', \\'pesky\\', \\'pesach\\', \\'perverts\\', \\'peter_forsberg\\', \\'perverting\\', \\'perversion\\', \\'perverse\\', \\'pervasive\\', \\'perutz.scripps.edu\\', \\'peruse\\', \\'perusal\\', \\'peru\\', \\'pervert\\', \\'peter_stastny\\', \\'peter_zezel\\', \\'petered\\', \\'petty\\', \\'pets\\', \\'petrucci\\', \\'petrovicky\\', \\'petroleum\\', \\'petrol\\', \\'petro\\', \\'petr_svoboda\\', \\'petr_nedved\\', \\'petr_klima\\', \\'petr\\', \\'petition\\', \\'petit\\', \\'petes\\', \\'peterson\\', \\'petersburg\\', \\'peters\\', \\'perturbations\\', \\'pentecostals\\', \\'pentecostal\\', \\'pentecost\\', \\'paylasilmasi\\', \\'payed\\', \\'paycheck\\', \\'payable\\', \\'paxton\\', \\'pax\\', \\'paws\\', \\'payne\\', \\'pawn\\', \\'paving\\', \\'pavel_bure\\', \\'pavel\\', \\'paved\\', \\'pausing\\', \\'pause_sig\\', \\'pauline\\', \\'paw\\', \\'paula\\', \\'payoff\\', \\'pbm\\', \\'pcplus\\', \\'pcp\\', \\'pcmcia\\', \\'pcl\\', \\'pc/xt\\', \\'pc/at\\', \\'pc-xview\\', \\'payroll\\', \\'pc-tools\\', \\'pc-nfs\\', \\'pc-dos\\', \\'pc-board\\', \\'pc-based\\', \\'pbx\\', \\'pbs\\', \\'pbm+\\', \\'pc-related\\', \\'paul_ysebaert\\', \\'paul_ranheim\\', \\'paul_coffey\\', \\'pathway\\', \\'pathologist\\', \\'pathological\\', \\'pathogens\\', \\'pathogenic\\', \\'pathnames\\', \\'pathname\\', \\'pathways\\', \\'pathfinder\\', \\'path=\\', \\'patently\\', \\'patenting\\', \\'patchlevel\\', \\'patched\\', \\'pat_verbeek\\', \\'pat_lafontaine\\', \\'path=c\\', \\'patiently\\', \\'patio\\', \\'patriarch\\', \\'paul.rutgers.edu\\', \\'patty\\', \\'patti\\', \\'patterson\\', \\'patrons\\', \\'patronizing\\', \\'patron\\', \\'patrols\\', \\'patrolled\\', \\'patriots\\', \\'patriotism\\', \\'patriotic\\', \\'patrik\\', \\'patrick_poulin\\', \\'patrick_kjellberg\\', \\'patricia\\', \\'patriarchal\\', \\'pctools\\', \\'pcw\\', \\'pdb\\', \\'pdbourke\\', \\'pendleton\\', \\'pencil\\', \\'penance\\', \\'penalized\\', \\'penalities\\', \\'penal\\', \\'pena\\', \\'penetrate\\', \\'pelvic\\', \\'pelliccio\\', \\'pellets\\', \\'pellet\\', \\'pellerin\\', \\'pelle_eklund\\', \\'pelle\\', \\'peking\\', \\'pelosi\\', \\'penetrated\\', \\'penetrating\\', \\'penetration\\', \\'pentagon\\', \\'pentacostal\\', \\'pension\\', \\'pens-devils\\', \\'penobscot\\', \\'penny\\', \\'penniless\\', \\'pennies\\', \\'penn\\', \\'penises\\', \\'penis\\', \\'penio\\', \\'peninsula\\', \\'penile\\', \\'penicillin\\', \\'penguin\\', \\'peng\\', \\'peice\\', \\'philosophies\\', \\'pegs\\', \\'peg\\', \\'peasants\\', \\'peasant\\', \\'pearson\\', \\'pearl\\', \\'peanuts\\', \\'peanut\\', \\'peaks\\', \\'pecota\\', \\'peaked\\', \\'peacetime\\', \\'peacemakers\\', \\'peacefull\\', \\'peaceably\\', \\'peace-nik\\', \\'pdr\\', \\'pdc\\', \\'peachy\\', \\'ped\\', \\'pedals\\', \\'pederasty\\', \\'peeve\\', \\'peers\\', \\'peer-reviewed\\', \\'peep\\', \\'peeling\\', \\'peel\\', \\'peek\\', \\'peeing\\', \\'pee\\', \\'pedro\\', \\'pedophilia\\', \\'pedophiles\\', \\'pedophile\\', \\'pediatrics\\', \\'pediatrician\\', \\'pediatric\\', \\'pederson\\', \\'pegged\\', \\'prof\\', \\'profane\\', \\'profanity\\', \\'reinforced\\', \\'reinforce\\', \\'rein\\', \\'reimer\\', \\'reimburse\\', \\'reid\\', \\'reichsfuehrer-ss\\', \\'reinforcement\\', \\'rehire\\', \\'rehash\\', \\'rehabilitation\\', \\'regulatory\\', \\'regulators\\', \\'regulator\\', \\'regulating\\', \\'regulary\\', \\'rehashing\\', \\'regularity\\', \\'reinforcing\\', \\'reinstalled\\', \\'relapse\\', \\'rel\\', \\'reksa\\', \\'rekindled\\', \\'rejuvenated\\', \\'rejoiced\\', \\'rejoice\\', \\'reinhart\\', \\'reitman\\', \\'reiterated\\', \\'reiterate\\', \\'reinventing\\', \\'reinvent\\', \\'reintro\\', \\'reinterpret\\', \\'reinstalling\\', \\'reiterates\\', \\'regular-season\\', \\'reguarding\\', \\'regs\\', \\'regained\\', \\'regain\\', \\'reg\\', \\'refuting\\', \\'refutes\\', \\'refuted\\', \\'refutations\\', \\'regal\\', \\'refutation\\', \\'refurbish\\', \\'refunded\\', \\'refugee\\', \\'refrigerator\\', \\'refreshing\\', \\'refreshes\\', \\'refreshed\\', \\'refurbished\\', \\'regan\\', \\'regedit\\', \\'regency\\', \\'regrettable\\', \\'regretable\\', \\'regression\\', \\'regress\\', \\'registry\\', \\'registries\\', \\'registrations\\', \\'registrar\\', \\'regis\\', \\'regimes\\', \\'regiments\\', \\'regiment\\', \\'regimens\\', \\'regimen\\', \\'reggie_savage\\', \\'regeneration\\', \\'regenerate\\', \\'relatifs\\', \\'refrained\\', \\'relativist\\', \\'relativists\\', \\'renaissance\\', \\'removes\\', \\'remover\\', \\'remotest\\', \\'remotes\\', \\'remote-sensing\\', \\'remorse\\', \\'renal\\', \\'remodeled\\', \\'remnant\\', \\'remission\\', \\'remiss\\', \\'reminiscent\\', \\'reminding\\', \\'rememeber\\', \\'remembers\\', \\'remnants\\', \\'remembering\\', \\'renamed\\', \\'renault\\', \\'renovating\\', \\'renouncing\\', \\'renounced\\', \\'renounce\\', \\'renewing\\', \\'renewable\\', \\'renew\\', \\'renaming\\', \\'renegotiate\\', \\'renee\\', \\'rene\\', \\'rendezvous\\', \\'renderman\\', \\'renderings\\', \\'renderers\\', \\'renberg\\', \\'renegades\\', \\'remedied\\', \\'rember\\', \\'remarked\\', \\'reliant\\', \\'reliance\\', \\'relevent\\', \\'relentless\\', \\'relented\\', \\'relegation\\', \\'relegated\\', \\'relic\\', \\'release_sig\\', \\'relaying\\', \\'relayed\\', \\'relay.nswc.navy.mil\\', \\'relaxing\\', \\'relaxed\\', \\'relaxation\\', \\'relativly\\', \\'relays\\', \\'relied\\', \\'relieve\\', \\'relieved\\', \\'remap\\', \\'remake\\', \\'remailing\\', \\'reluctantly\\', \\'reluctance\\', \\'relocated\\', \\'relocate\\', \\'reloading\\', \\'reloaded\\', \\'reload\\', \\'religously\\', \\'religous\\', \\'religiously\\', \\'religeous\\', \\'relieves\\', \\'relievers\\', \\'reliever\\', \\'relativistic\\', \\'renowned\\', \\'reforms\\', \\'reformers\\', \\'reconstruction\\', \\'reconstructed\\', \\'reconstruct\\', \\'reconsidered\\', \\'reconsider\\', \\'reconnaissance\\', \\'reconfigured\\', \\'reconstructions\\', \\'reconfigure\\', \\'recondense\\', \\'reconciliation\\', \\'reconciled\\', \\'recompressing\\', \\'recompress\\', \\'recompiled\\', \\'recompile\\', \\'reconditioned\\', \\'recommends\\', \\'recorders\\', \\'recount\\', \\'rectification\\', \\'rectangles\\', \\'rectal\\', \\'recruitment\\', \\'recruiting\\', \\'recruited\\', \\'recruit\\', \\'recordings\\', \\'recreational\\', \\'recreating\\', \\'recreate\\', \\'recovering\\', \\'recoverable\\', \\'recoup\\', \\'recounting\\', \\'recounted\\', \\'recreation\\', \\'recommending\\', \\'recomend\\', \\'recollections\\', \\'rechargeable\\', \\'recharge\\', \\'rechargable\\', \\'recession\\', \\'recesses\\', \\'receptors\\', \\'receptor\\', \\'recidivism\\', \\'receptive\\', \\'receipts\\', \\'recalls\\', \\'recalling\\', \\'recalibration\\', \\'rec.sport.baseball\\', \\'rec.scouting\\', \\'rec.moto\\', \\'recension\\', \\'recieve\\', \\'reciever\\', \\'recieving\\', \\'recollection\\', \\'recoil\\', \\'recognizable\\', \\'recognised\\', \\'recognisable\\', \\'reclaim\\', \\'reckoned\\', \\'reckon\\', \\'recklessly\\', \\'reckless\\', \\'recite\\', \\'recital\\', \\'reciprocity\\', \\'reciprocal\\', \\'recipients\\', \\'recipes\\', \\'recipe\\', \\'rectified\\', \\'reforming\\', \\'rectifier\\', \\'rectobj\\', \\'reexamined\\', \\'reexamine\\', \\'reestablish\\', \\'reese\\', \\'reentry\\', \\'reenter\\', \\'reenacted\\', \\'refereed\\', \\'reels\\', \\'reeked\\', \\'reef\\', \\'reeds\\', \\'redwoods\\', \\'redwood\\', \\'redwings\\', \\'redus\\', \\'reel\\', \\'redundant\\', \\'referencing\\', \\'referent\\', \\'reformer\\', \\'reformed\\', \\'reformatting\\', \\'reformatted\\', \\'reformation\\', \\'reformat\\', \\'reflexes\\', \\'referendum\\', \\'reflectors\\', \\'reflective\\', \\'refit\\', \\'refinement\\', \\'refined\\', \\'refills\\', \\'refill\\', \\'referral\\', \\'reflector\\', \\'redundancy\\', \\'reductions\\', \\'redress\\', \\'redeemer\\', \\'redeemed\\', \\'redeem\\', \\'reddy\\', \\'reddish\\', \\'redbirds\\', \\'recycling\\', \\'redeeming\\', \\'recycled\\', \\'recursively\\', \\'recursive\\', \\'recurring\\', \\'recurrent\\', \\'recurrence\\', \\'recur\\', \\'rectum\\', \\'recycle\\', \\'redefine\\', \\'redefined\\', \\'redemption\\', \\'redraws\\', \\'redrawn\\', \\'redrawing\\', \\'rednecks\\', \\'redliners\\', \\'redline\\', \\'redistribution\\', \\'redistributed\\', \\'redistribute\\', \\'redistributable\\', \\'redirection\\', \\'redirecting\\', \\'redirected\\', \\'redirect\\', \\'rediculous\\', \\'redesigned\\', \\'redemptive\\', \\'rectify\\', \\'rensselaer\\', \\'rent/to\\', \\'rents\\', \\'reverted\\', \\'revert\\', \\'reversing\\', \\'reversible\\', \\'reverses\\', \\'reverse-engineered\\', \\'reverse-engineer\\', \\'reviewer\\', \\'reversal\\', \\'reverend\\', \\'reverence\\', \\'revere\\', \\'revel\\', \\'reuters\\', \\'reused\\', \\'reuse\\', \\'reversable\\', \\'reunited\\', \\'reviewers\\', \\'revision-by-revision\\', \\'revolutionnaires\\', \\'revolutionized\\', \\'revolutionists\\', \\'revolutionaries\\', \\'revolting\\', \\'revolted\\', \\'revokes\\', \\'revise\\', \\'revoked\\', \\'revocation\\', \\'revived\\', \\'revive\\', \\'revival\\', \\'revisit\\', \\'revisions\\', \\'revisionists\\', \\'revoke\\', \\'reunite\\', \\'reunion\\', \\'reulbach\\', \\'retentive\\', \\'retention\\', \\'retching\\', \\'retardent\\', \\'retarded\\', \\'retardation\\', \\'retard\\', \\'rethink\\', \\'retalliates\\', \\'retaliation\\', \\'retaliate\\', \\'retains\\', \\'retaining\\', \\'retained\\', \\'retails\\', \\'retailers\\', \\'retaliatory\\', \\'retina\\', \\'retire\\', \\'retirement\\', \\'retry\\', \\'retrospective\\', \\'retrospect\\', \\'retroactively\\', \\'retrieving\\', \\'retrieved\\', \\'retrievable\\', \\'retribution\\', \\'retreating\\', \\'retreated\\', \\'retraining\\', \\'retrain\\', \\'retraction\\', \\'retracted\\', \\'retort\\', \\'retold\\', \\'retiring\\', \\'revolutions\\', \\'retailer\\', \\'revolve\\', \\'revolving\\', \\'rifkin\\', \\'rife\\', \\'riendeau\\', \\'ridley\\', \\'ridiculously\\', \\'ridiculed\\', \\'ridges\\', \\'rifleman\\', \\'ridge\\', \\'riddle\\', \\'ridding\\', \\'ridden\\', \\'ricoh\\', \\'rico\\', \\'ricks\\', \\'rick_tocchet\\', \\'riddled\\', \\'richtig\\', \\'riflemen\\', \\'riga\\', \\'rijo\\', \\'riihijarvi\\', \\'rigs\\', \\'rigor\\', \\'rigidly\\', \\'rigidity\\', \\'rigid\\', \\'rig\\', \\'rightwing\\', \\'righting\\', \\'righties\\', \\'rightfully\\', \\'rightful\\', \\'right-hand\\', \\'rigged\\', \\'rigel.tamu.edu\\', \\'rightness\\', \\'richter\\', \\'richness\\', \\'richly\\', \\'rft\\\\\\\\\\', \\'rfi\\', \\'rfd\\', \\'rezaei\\', \\'reynolds\\', \\'rexlex\\', \\'rewrote\\', \\'rfus\\', \\'rewritten\\', \\'rewrites\\', \\'reworked\\', \\'rewind\\', \\'rewards\\', \\'rewarding\\', \\'revving\\', \\'revulsion\\', \\'rewriting\\', \\'rg-s\\', \\'rg/\\', \\'rheaume\\', \\'richie\\', \\'richest\\', \\'riches\\', \\'richardson\\', \\'richards\\', \\'richardd\\', \\'richard_smehlik\\', \\'ricci\\', \\'ric\\', \\'ribs\\', \\'ribbons\\', \\'rib\\', \\'rhodes\\', \\'rhode\\', \\'rhinitis\\', \\'rhetorical\\', \\'rhein\\', \\'revolvers\\', \\'resurrecting\\', \\'resurgence\\', \\'resupply\\', \\'reproof\\', \\'reprogramming\\', \\'reprogrammed\\', \\'reproductive\\', \\'reproducing\\', \\'reproduced\\', \\'reproach\\', \\'reps\\', \\'reprints\\', \\'reprint\\', \\'repressive\\', \\'repression\\', \\'repressed\\', \\'repress\\', \\'representations\\', \\'reprehensible\\', \\'reprinting\\', \\'reppert\\', \\'republics\\', \\'repulsed\\', \\'researching\\', \\'researches\\', \\'researched\\', \\'research.att.com\\', \\'resc'}"
      ]
     },
     "execution_count": 72,
     "metadata": {},
     "output_type": "execute_result"
    }
   ],
   "source": [
    "pmp.get_topic_information([14, 15])"
   ]
  },
  {
   "cell_type": "code",
   "execution_count": 77,
   "metadata": {},
   "outputs": [],
   "source": [
    "pmp.general_prompt(\"Please compare topics 14 and 15.\")"
   ]
  },
  {
   "cell_type": "code",
   "execution_count": null,
   "metadata": {},
   "outputs": [],
   "source": []
  }
 ],
 "metadata": {
  "kernelspec": {
   "display_name": "llm_sem",
   "language": "python",
   "name": "python3"
  },
  "language_info": {
   "codemirror_mode": {
    "name": "ipython",
    "version": 3
   },
   "file_extension": ".py",
   "mimetype": "text/x-python",
   "name": "python",
   "nbconvert_exporter": "python",
   "pygments_lexer": "ipython3",
   "version": "3.11.4"
  },
  "orig_nbformat": 4
 },
 "nbformat": 4,
 "nbformat_minor": 2
}
