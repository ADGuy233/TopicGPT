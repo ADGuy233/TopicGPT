{
 "cells": [
  {
   "cell_type": "code",
   "execution_count": 21,
   "metadata": {},
   "outputs": [
    {
     "name": "stdout",
     "output_type": "stream",
     "text": [
      "The autoreload extension is already loaded. To reload it, use:\n",
      "  %reload_ext autoreload\n"
     ]
    }
   ],
   "source": [
    "%load_ext autoreload\n",
    "%autoreload 2"
   ]
  },
  {
   "cell_type": "code",
   "execution_count": 22,
   "metadata": {},
   "outputs": [],
   "source": [
    "import os\n",
    "import sys\n",
    "import inspect\n",
    "\n",
    "sys.path.insert(0, '../..')"
   ]
  },
  {
   "cell_type": "code",
   "execution_count": 23,
   "metadata": {},
   "outputs": [],
   "source": [
    "import os\n",
    "api_key_openai = os.environ.get('OPENAI_API_KEY')\n",
    "org_openai = os.environ.get('OPENAI_ORG')\n",
    "\n",
    "import openai\n",
    "openai.organization = org_openai\n",
    "import numpy as np"
   ]
  },
  {
   "cell_type": "code",
   "execution_count": 24,
   "metadata": {},
   "outputs": [],
   "source": [
    "from src.TopicRepresentation.TopicRepresentation import Topic\n",
    "from src.TopicPrompting.TopicPrompting import TopicPrompting"
   ]
  },
  {
   "cell_type": "code",
   "execution_count": 25,
   "metadata": {},
   "outputs": [],
   "source": [
    "import numpy as np\n",
    "import pickle"
   ]
  },
  {
   "cell_type": "code",
   "execution_count": 26,
   "metadata": {},
   "outputs": [
    {
     "name": "stdout",
     "output_type": "stream",
     "text": [
      "Thu Aug 17 11:58:47 2023 Building and compiling search function\n"
     ]
    }
   ],
   "source": [
    "with open(\"../../Data/SavedTopicRepresentations/Topics_20ng_v1.pkl\", \"rb\") as f:\n",
    "    topics = pickle.load(f)"
   ]
  },
  {
   "cell_type": "code",
   "execution_count": 27,
   "metadata": {},
   "outputs": [
    {
     "data": {
      "text/plain": [
       "'Cryptography'"
      ]
     },
     "execution_count": 27,
     "metadata": {},
     "output_type": "execute_result"
    }
   ],
   "source": [
    "topics[10].topic_name"
   ]
  },
  {
   "cell_type": "code",
   "execution_count": 28,
   "metadata": {},
   "outputs": [
    {
     "data": {
      "text/plain": [
       "'   This is factually incorrect. There was at least one message that said that Waco and Clipper justified \"anything\" in response.  David'"
      ]
     },
     "execution_count": 28,
     "metadata": {},
     "output_type": "execute_result"
    }
   ],
   "source": [
    "topics[2].documents[1]"
   ]
  },
  {
   "cell_type": "code",
   "execution_count": 73,
   "metadata": {},
   "outputs": [],
   "source": [
    "pmp = TopicPrompting(\n",
    "    openai_prompting_model = \"gpt-3.5-turbo-16k\",\n",
    "    max_context_length_promting = 16348,\n",
    "    topic_lis = topics,\n",
    "    openai_key = api_key_openai, \n",
    "    openai_model_temperature_prompting = 1\n",
    ")"
   ]
  },
  {
   "cell_type": "code",
   "execution_count": 70,
   "metadata": {},
   "outputs": [
    {
     "name": "stdout",
     "output_type": "stream",
     "text": [
      "{\n",
      "  \"role\": \"assistant\",\n",
      "  \"content\": null,\n",
      "  \"function_call\": {\n",
      "    \"name\": \"knn_search\",\n",
      "    \"arguments\": \"{\\n  \\\"topic_index\\\": 10,\\n  \\\"query\\\": \\\"encryption\\\"\\n}\"\n",
      "  }\n",
      "}\n",
      "GPT wants to the call the function:  {\n",
      "  \"name\": \"knn_search\",\n",
      "  \"arguments\": \"{\\n  \\\"topic_index\\\": 10,\\n  \\\"query\\\": \\\"encryption\\\"\\n}\"\n",
      "}\n",
      "[{'role': 'system', 'content': \"You are a helpful assistant. \\nYou are excellent at inferring information about topics discovered via topic modelling using information retrieval. \\nYou summarize information intelligently. \\nYou use the functions you are provided with if applicable.\\nYou make sure that everything you output is strictly based on the provided text. If you cite documents, give their indices. \\nYou always explicitly say if you don't find any useful information!\\nYou only say that something is contained in the corpus if you are very sure about it! \"}, {'role': 'user', 'content': 'What information on encryption does topic 10 contain?'}, <OpenAIObject at 0x1ab93b13dd0> JSON: {\n",
      "  \"role\": \"assistant\",\n",
      "  \"content\": null,\n",
      "  \"function_call\": {\n",
      "    \"name\": \"knn_search\",\n",
      "    \"arguments\": \"{\\n  \\\"topic_index\\\": 10,\\n  \\\"query\\\": \\\"encryption\\\"\\n}\"\n",
      "  }\n",
      "}, {'role': 'function', 'name': 'knn_search', 'content': '{\"top-k documents\": [\"Clipper might be a good way to cover the use of another layer of encryption.  Currently, when you send an encrypted message, an opponent can usually tell 1) that you are using encryption 2) which encryption method you are using [because that information is usually in the clear].  With clipper, most opponents will only know that you are sending clipper-text, they won\\'t know that your clipper-text is itself encoded.  Only those few opponents who get your clipper-keys will know that your message is double encrypted.  ... kind of like a safety deposit box containing a lock box.  So, don\\'t just think of replacements for clipper, also think of front ends.  - Carl   \", \"\\\\\"The security of the system should depend only on the secrecy of the keys and not on the secrecy of the algorithms\\\\\" -- Dorothy Denning\", \"The actual algorithm is classified, however, their main thrust here is for cellular phones, and encryption is only over the radio end, not end to end, I think.   End to end will come later.  And of course you have to identify yourself to the phone company, and since the phone company complies with court orders, they will know the magic number of your chip when they sign out a warrant on you, and then can present the warrant to the key escrow house.\", \"The key question is whether non-Clipper encryption will be made illegal.   The clear middle ground implied by these statements is to say that Americans have the right to Clipper encryption, but not to unbreakable encryption. This implies that, ultimately, non-Clipper strong encryption must become illegal.  (As an aside, isn\\'t the language here jarring?  All this talk about \\\\\"harmonious balance\\\\\" when they\\'re talking about taking away people\\'s right to communications privacy?)  Although the article emphasizes voice communication, data and mail encryption is mentioned as well:    It looks like the worst nightmares raised by Dorothy Denning\\'s proposals are coming true.  If the government continues on this course, I imagine that we will see strong cryptography made illegal.  Encryption programs for disk files and email, as well as software to allow for encrypted voice communications, will be distributed only through the \\\\\"underground\\\\\".  People will have to learn how to hide the fact that they are protecting their privacy.  It\\'s shocking and frightening to see that this is actually happening here.\", \"The cryptographic algorythm MUST be kept secret, or private individuals could make ClipperClones with which they could transmit messages which the feds would not have ready access to.  This is clearly unacceptable.\", \"How can the government tell which encryption method one is using without being able to decode the traffic? i.e., In order to accuse me of using an unauthorized strong encryption technique they would have to take both keys out of escrow, run them against my ciphertext and \\\\\"draw a blank\\\\\".\", \"  Nice to think, but naive.  The fact is that millions of people today are sending highly confidential information over unencoded, easy to receive cellular phones.  They figure the chances of being heard are small, so they risk it.  And 99.9% of people don\\'t understand crypto the way the least of the sci.crypt newbies does.   If Clinton tells them it\\'s good crypto, they\\'ll believe him, and send important stuff over it, and be thankful that they\\'re no longer using clear-voice FM cellular phones.  Only a tiny fraction of people will want more crypto.  Worse, in the eyes of the government, which swears up and down the algorithim is spook-level secure (and it may indeed be) the only reason you could possibly want this extra level is to avoid police.  By using it, you\\'ll attract attention as a likely lawbreaker.  \\\\\"Your honour, the suspect suddenly started using another level of cryptography and we can\\'t tap his phone calls any more.  He must have something to hide.  Please sign the warrant to search his house...\\\\\"\", \"Right on the heels of the Clinton \\\\\"registered encryption key\\\\\" debacle comes:      Wonder how much of that extra money goes into coming up with encryption schemes they can easily crack?\", \"  Yes, but they\\'ll be encrypted with Cripple Chip encryption, the encryption algorithm so great it\\'s TOP SECRET and so unbreakable they WON\\'T EVEN LET YOU LOOK AT IT!  Doesn\\'t that make you feel SECURE?\", \"Note:     The following was released by the White House today in           conjunction with the announcement of the Clipper Chip           encryption technology.                             FACT SHEET                    PUBLIC ENCRYPTION MANAGEMENT  The President has approved a directive on \\\\\"Public Encryption Management.\\\\\"  The directive provides for the following:  Advanced telecommunications and commercially available encryption are part of a wave of new computer and communications technology.  Encryption products scramble information to protect the privacy of communications and data by preventing unauthorized access.  Advanced telecommunications systems use digital technology to rapidly and precisely handle a high volume of communications.  These advanced telecommunications systems are integral to the infrastructure needed to ensure economic competitiveness in the information age.  Despite its benefits, new communications technology can also frustrate lawful government electronic surveillance.  Sophisticated encryption can have this effect in the United States.  When exported abroad, it can be used to thwart foreign intelligence activities critical to our national interests.  In the past, it has been possible to preserve a government capability to conduct electronic surveillance in furtherance of legitimate law enforcement and national security interests, while at the same time protecting the privacy and civil liberties of all citizens.  As encryption technology improves, doing so will require new, innovative approaches.  In the area of communications encryption, the U. S. Government has developed a microcircuit that not only provides privacy through encryption that is substantially more robust than the current government standard, but also permits escrowing of the keys needed to unlock the encryption.  The system for the escrowing of keys will allow the government to gain access to encrypted information only with appropriate legal authorization.  To assist law enforcement and other government agencies to collect and decrypt, under legal authority, electronically transmitted information, I hereby direct the following action to be taken:  INSTALLATION OF GOVERNMENT-DEVELOPED MICROCIRCUITS  The Attorney General of the United States, or her representative, shall request manufacturers of communications hardware which incorporates encryption to install the U.S. government-developed key-escrow microcircuits in their products.  The fact of law enforcement access to the escrowed keys will not be concealed from the American public.  All appropriate steps shall be taken to ensure that any existing or future versions of the key-escrow microcircuit are made widely available to U.S. communications hardware manufacturers, consistent with the need to ensure the security of the key-escrow system.  In making this decision, I do not intend to prevent the private sector from developing, or the government from approving, other microcircuits or algorithms that are equally effective in assuring both privacy and a secure key- escrow system.  KEY-ESCROW  The Attorney General shall make all arrangements with appropriate entities to hold the keys for the key-escrow microcircuits installed in communications equipment.  In each case, the key holder must agree to strict security procedures to prevent unauthorized release of the keys.  The keys shall be released only to government agencies that have established their authority to acquire the content of those communications that have been encrypted by devices containing the microcircuits.  The Attorney General shall review for legal sufficiency the procedures by which an agency establishes its authority to acquire the content of such communications.  PROCUREMENT AND USE OF ENCRYPTION DEVICES  The Secretary of Commerce, in consultation with other appropriate U.S. agencies, shall initiate a process to write standards to facilitate the procurement and use of encryption devices fitted with key-escrow microcircuits in federal communications systems that process sensitive but unclassified information.  I expect this process to proceed on a schedule that will permit promulgation of a final standard within six months of this directive. \", \"Though some may argue about the nose of the camel, it\\'s worth noting that the government proposal is limited to scrambled telephony. If it is only used for that purpose, and does not extend to electronic mail or file encryption, then it IS an improvement over the current mass-produced standard civilian technology which, with a few exceptions, is limited to easy-to-break inverters.  Note that the big issue for the feds is the continued ability to wiretap. Before we go off the deep end with long discusions about secure crypto for e-mail and files, let\\'s focus on this.  One question that was not asked in the release is whether this proposal is limited to telephony, or if the government intends to expand it.  Though I share many of the concerns expressed by some, I find the proposal less threatening than many others, since right now most Americans have no secure telephony, and any jerk with a pair of clip leads and a \\\\\"goat\\\\\" can eavesdrop. This would also plug up the security hole in cellular and cordless phones.  -------  Reading between the lines, I infer that the system is highly secure without access to the keys. This would meet the needs of U.S. businesses confronted by rich and powerful adversaries, including French and Japanese security services and rich Japanese companies. It allows the NSA to make available some of its better stuff while protecting law enforcement needs.  Most legitimate U.S. corporations trust the NSA, and would be delighted to have a high-security system certified by them, even at the price of depositing keys in escrow. I see no difficulty in creating a reliable escrow. Corporations entrust their secrets to attorneys every day of the week, and that system has worked pretty well.  From my point of view this is a fair starting point. There are concerns that need to be addressed, including the reliability of the escrows. But in return we get access to high-security crypto. Many have suggested that DES and other systems may be breakable by the NSA and hence others similarly skilled and endowed. There is at least a good possibility (which should be checked) that the proposed system is not so breakable. It doesn\\'t have to be, nor does it have to have trapdoors, if the government can get the keys pursuant to a legitimate court order. Thus they can protect legitimate communications against economic adversaries, while still being able to eavesdrop on crooks pursuant to a court order.  ------  In discussing this, let\\'s try to avoid the nastiness, personal attacks and noise of some previous threads. This is a substantive and technical issue, and personal remarks have no place in such a discussion. \", \"I would think that you could reduce the defense of using non-clipper based encryption technologies to defending freedom of expression  (IE, free speech).  That you have to right to express whatever you want in whatever form your little heart desires so long as you do not impinge on the rights of others.  Encrypted text/sound/video is just another form of expression of that particular text/sound/video.  Just like digitized sound is another  means of expression of sound -- streams of 100100101111 instead of continuous waveforms.  Also, it shouldn\\'t be up to the government at all.  Encryption  _Standards_ can be decided upon by Independent Standards Orgainizations (apologies for the acronym).  One can note how well this has worked with ISO and the Metric System, SAE, etc.  Independent entities  or consortia of people/industries in that particular area are far more qualified to set standards than any One government agency. Consider for example what the Ascii character set would have looked like if it was decided by the government.  I hope this helps folks to formulate their defenses.  I\\'m still working on mine and hope to be faxing my congressmen soon...\", \"  It also falls within the purview of the ACLU, but that doesn\\'t mean the ACLU (or the EFF) would be the most effective instrument to  \\\\\"win the hearts and minds\\\\\" in favor of access to cryptography.   It\\'s precisely slogans like \\\\\"cryptography makes censorship impossible\\\\\" which stand to torpedo any attempt to generate a broad consensus in favor of encryption.  It is not true, and in the context of a public debate it would be a dangerous red herring.  Advocates of strong crypto had better prepare themselves to answer such charges in pragmatic terms that laypeople and politicians can sympathize with. The usual mumblings about Constitutional amendments are not enough.  \", \"Fascinating.  Most of the content of the White House announcements was in what was *not* said.  It gives us almost nothing of value, threatens to take away a lot, and does it with a sincere smile on its face, and the nice friendly word \\\\\"Management\\\\\".           FACT SHEET        PUBLIC ENCRYPTION MANAGEMENT  The first thing it doesn\\'t say is \\\\\"We\\'re giving you stronger encryption\\\\\". what it says is     the U. S. Government has developed a microcircuit that not only    provides privacy through encryption that is substantially more robust    than the current government standard, but also permits escrowing of    the keys needed to unlock the encryption.  The system for the    escrowing of keys will allow the government to gain access to    encrypted information only with appropriate legal authorization. But DES is strong enough that only the government can break it now, so the major effect is to make it EASIER for government to break! *At best* it makes it more difficult for the NSA to break, since they need to get one of the two escrowed keys to do a brute-force search for the other 40-bit key.  Similarly, it didn\\'t say \\\\\"We\\'re making encryption is commercially available.\\\\\" because encryption *is* already commercially available, including forms the NSA may not be able to break, like triple-DES or IDEA. And phone companies could offer DES-based systems *now* if they were convinced the government would let them and they could make enough money.  The next thing it didn\\'t say is \\\\\"We\\'re making encryption legal\\\\\", because of course encryption *has always been* legal, and the President can\\'t change the First Amendment merely by decree. What it *did* say was:  In making this decision, I do not intend to prevent the  private sector from developing, or the government from approving,  other microcircuits or algorithms that are equally effective in  assuring both privacy and a secure key- escrow system. which clearly means \\\\\"We\\'re making encryption illegal unless we get your keys. Soon.  Once business buys into this.\\\\\"  Another thing it didn\\'t say is \\\\\"We\\'re going to ask Congress for money to do *lots* more wiretapping\\\\\", because of course, there\\'s a budget crisis, and Congress might debate the policy issues or not give them the cash. What it *did* say was:    The Attorney General will procure and utilize encryption devices to    the extent needed to preserve the government\\'s ability to conduct    lawful electronic surveillance and to fulfill the need for secure    law enforcement communications.  Further, the Attorney General    shall utilize funds from the Department of Justice Asset Forfeiture    Super Surplus Fund to effect this purchase. which means \\\\\"We\\'ve got money Congress can\\'t control and we\\'re going to buy lots of wiretapping equipment with it to detect NON-APPROVED CRYPTO (that\\'s what \\\\\"preserve the government\\'s ability to conduct ... surveillance\\\\\"  means.)  \", \" What they would need to do, though, is make sure that nobody has access to decent crypto in the first place.  They probably can\\'t tell Clippered voice from Clippered triple-DESed voice until they get their copy of your key.  Any criminal who\\'s going to use encryption will do it under cover of Clipper.  The only way to avoid this will be to try to prohibit strong encryption.  I probably shouldn\\'t say this, but they could try to detect the use of an illegal cypher by transmitting in the clear some statistical properties of the plaintext.  An old-fashioned wiretap could then detect the use of pre-encryption, which would drastically increase the measured entropy of the input.  A countermeasure to this would be to use steganographic techniques which put out voice.  You can tell if the NSA built this feature in: blow on the mike, and observe whether a band of thugs comes through your ceiling.\", \"This document is in the anonymous ftp directory at NIST.  Looks to me like the other shoe has dropped.   Jim Gillogly  Trewesday, 25 Astron S.R. 1993, 17:00  -------------------  Note:  This file will also be available via anonymous file transfer from csrc.ncsl.nist.gov in directory /pub/nistnews and via the NIST Computer Security BBS at 301-948-5717.      ---------------------------------------------------                           THE WHITE HOUSE                    Office of the Press Secretary  _________________________________________________________________  For Immediate Release                           April 16, 1993                   STATEMENT BY THE PRESS SECRETARY   The President today announced a new initiative that will bring the Federal Government together with industry in a voluntary program to improve the security and privacy of telephone communications while meeting the legitimate needs of law enforcement.  The initiative will involve the creation of new products to accelerate the development and use of advanced and secure telecommunications networks and wireless communications links.  For too long there has been little or no dialogue between our private sector and the law enforcement community to resolve the tension between economic vitality and the real challenges of protecting Americans.  Rather than use technology to accommodate the sometimes competing interests of economic growth, privacy and law enforcement, previous policies have pitted government against industry and the rights of privacy against law enforcement.  Sophisticated encryption technology has been used for years to protect electronic funds transfer.  It is now being used to protect electronic mail and computer files.  While encryption technology can help Americans protect business secrets and the unauthorized release of personal information, it also can be used by terrorists, drug dealers, and other criminals.  A state-of-the-art microcircuit called the \\\\\"Clipper Chip\\\\\" has been developed by government engineers.  The chip represents a new approach to encryption technology.  It can be used in new, relatively inexpensive encryption devices that can be attached to an ordinary telephone.  It scrambles telephone communications using an encryption algorithm that is more powerful than many in commercial use today.  This new technology will help companies protect proprietary information, protect the privacy of personal phone conversations and prevent unauthorized release of data transmitted electronically.  At the same time this technology preserves the ability of federal, state and local law enforcement agencies to intercept lawfully the phone conversations of criminals.   A \\\\\"key-escrow\\\\\" system will be established to ensure that the \\\\\"Clipper Chip\\\\\" is used to protect the privacy of law-abiding Americans.  Each device containing the chip will have two unique                                   2   \\\\\"keys,\\\\\" numbers that will be needed by authorized government agencies to decode messages encoded by the device.  When the device is manufactured, the two keys will be deposited separately in two \\\\\"key-escrow\\\\\" data bases that will be established by the Attorney General.  Access to these keys will be limited to government officials with legal authorization to conduct a wiretap.  The \\\\\"Clipper Chip\\\\\" technology provides law enforcement with no new authorities to access the content of the private conversations of Americans.  To demonstrate the effectiveness of this new technology, the Attorney General will soon purchase several thousand of the new devices.  In addition, respected experts from outside the government will be offered access to the confidential details of the algorithm to assess its capabilities and publicly report their findings.  The chip is an important step in addressing the problem of encryption\\'s dual-edge sword:  encryption helps to protect the privacy of individuals and industry, but it also can shield criminals and terrorists.  We need the \\\\\"Clipper Chip\\\\\" and other approaches that can both provide law-abiding citizens with access to the encryption they need and prevent criminals from using it to hide their illegal activities.  In order to assess technology trends and explore new approaches (like the key-escrow system), the President has directed government agencies to develop a comprehensive policy on encryption that accommodates:       --   the privacy of our citizens, including the need to           employ voice or data encryption for business purposes;       --   the ability of authorized officials to access telephone           calls and data, under proper court or other legal           order, when necessary to protect our citizens;       --   the effective and timely use of the most modern           technology to build the National Information           Infrastructure needed to promote economic growth and           the competitiveness of American industry in the global           marketplace; and        --   the need of U.S. companies to manufacture and export           high technology products.  The President has directed early and frequent consultations with affected industries, the Congress and groups that advocate the privacy rights of individuals as policy options are developed.                                    3  The Administration is committed to working with the private sector to spur the development of a National Information Infrastructure which will use new telecommunications and computer technologies to give Americans unprecedented access to information.  This infrastructure of high-speed networks (\\\\\"information superhighways\\\\\") will transmit video, images, HDTV programming, and huge data files as easily as today\", \"     . . . . .   Please don\\'t be insulted, but based on this I would say that your encryption algorithm is very likely not worth the paper it\\'s printed on.  If the NSA gave export approval, that means they felt confident that they could crack it -- that\\'s their JOB, mandated by LAW, and I\\'m sure they believe in what they do.  If they gave export approval to an encryption algorithm which they weren\\'t confident of being able to crack, they would be derelict in their sworn duty to monitor foreign communications for US national security related material.  Just because many (most?) of us think that the government and the spooks are pugnacious slimeballs is no reason to lose sight of the fact that they do their jobs to the best of their ability, and further that said ability is rather high.  I hope that one day we can make them all obsolete....... but until then, we have to cope with their existence. Export approvals are one thing they do that we can learn a lot from, for example. \", \"[An article from comp.org.eff.news, EFFector Online 5.06 - Carl]                         April 16, 1993        INITIAL EFF ANALYSIS OF CLINTON PRIVACY AND SECURITY                              PROPOSAL         The Clinton Administration today made a major announcement  on cryptography policy which will effect the privacy and security of  millions of Americans.  The first part of the plan is to begin a  comprehensive inquiry into major communications privacy issues  such as export controls which have effectively denied most people  easy access to robust encryption as well as law enforcement issues  posed by new technology.         However, EFF is very concerned that the Administration has  already reached a conclusion on one critical part of the inquiry, before  any public comment or discussion has been allowed.  Apparently, the  Administration is going to use its leverage to get all telephone  equipment vendors to adopt a voice encryption standard developed  by the National Security Agency. The so-called \\\\\"Clipper Chip\\\\\" is an  80-bit, split key escrowed encryption scheme which will be built into  chips manufactured by a military contractor.  Two separate escrow  agents would store users\\' keys, and be required to turn them over  law enforcement upon presentation of a valid warrant.  The  encryption scheme used is to be classified, but they chips will be  available to any manufacturer for incorporation into their  communications products.         This proposal raises a number of serious concerns .         First, the Administration appears to be adopting a solution  before conducting an inquiry.  The NSA-developed Clipper chip may  not be the most secure product. Other vendors or developers may  have better schemes. Furthermore, we should not rely on the  government as the sole source for Clipper or any other chips.  Rather, independent chip manufacturers should be able to produce chipsets  based on open standards.         Second, an algorithm can not be trusted unless it can be tested.  Yet the Administration proposes to keep the chip algorithm  classified.  EFF believes that any standard adopted ought to be public  and open.  The public will only have confidence in the security of a  standard that is open to independent, expert scrutiny.           Third, while the use of the split-key, dual-escrowed  system may prove to be a reasonable balance between privacy and  law enforcement needs, the details of this scheme must be explored  publicly before it is adopted.  What will give people confidence in the  safety of their keys?  Does disclosure of keys to a third party waive  individual\\'s fifth amendment rights in subsequent criminal  inquiries?           In sum, the Administration has shown great sensitivity to the  importance of these issues by planning a comprehensive inquiry into  digital privacy and security.  However, the \\\\\"Clipper chip\\\\\" solution  ought to be considered as part of the inquiry, not be adopted before  the discussion even begins.  DETAILS OF THE PROPOSAL:  ESCROW  The 80-bit key will be divided between two escrow agents, each of  whom hold 40 bits of each key.  Upon presentation of a valid  warrant, the two escrow agents would have to turn the key parts  over to law enforcement agents.  Most likely the Attorney General  will be asked to identify appropriate escrow agents.  Some in the  Administration have suggested one non-law enforcement federal  agency, perhaps the Federal Reserve, and one non-governmental  organization.  But, there is no agreement on the identity of the agents  yet.  Key registration would be done by the manufacturer of the  communications device.  A key is tied to the device, not to the person  using it.  CLASSIFIED ALGORITHM AND THE POSSIBILITY OF BACK DOORS  The Administration claims that there are no back door means by  which the government or others could break the code without  securing keys from the escrow agents and that the President will  be told there are no back doors to this classified algorithm.  In order  to prove this, Administration sources are interested in arranging for  an all-star crypto cracker team to come in, under a security  arrangement, and examine the algorithm for trap doors.  The results  of the investigation would then be made public.  GOVERNMENT AS MARKET DRIVER  In order to get a market moving, and to show that the government  believes in the security of this system, the feds will be the first big  customers for this product.  Users will include the FBI, Secret Service,  VP Al Gore, and maybe even the President.   FROM MORE INFORMATION CONTACT:  Jerry Berman, Executive Director Daniel J. Weitzner, Senior Staff Counsel     \", \"I have a question about digital communications encryption:   The Fact Sheet mentioned encryption/decryption microcircuitry with  special \\\\\"keys\\\\\" for law enforcement for wire tapping purposes.   If I wanted to, couldn\\'t I develop  encryption of my own?  That is, if me and a partner in crime had unique Encryption/decryption devices installed before the \\\\\"tappable\\\\\" one, couldn\\'t we circumvent the \\\\\"keys\\\\\" system?  Or replace it?   I\\'d be really interested in knowing how the E/D microcircuits might be made to prevent such befuddlement! (Laymans\\' Language, please! maybe a bit technical...)  Please E-mail to me, as I\\'m not in Net News as much as I\\'d like to be!   Pete deuelpm@craft.camp.clarkson.edu \", \"I just posted this reply to comp.risks (answering RISKS DIGEST 14.53). Summary: Re: [14.53 Mark Seecof] \\\\\"key escrow\\\\\"    It is tempting (albeit chauvinistic) to believe that we have a new situation here, thanks to our pet computers.  This is not true.  David Kahn\\'s \\\\\"The Codebreakers\\\\\", a history of cryptography, makes two things obvious:  1. Cryptography is a spontaneous invention of private human individuals  and has been going on for thousands of years.  [Teen-age slang and  cipher inventions provide a modern example of this spontaneous  creation.]  2. The systems people created on their own were roughly as secure as (and  sometimes more secure than) those used by military and diplomatic  users *of that time* (although they seem very simple and insecure  today). [e.g., In places, the Bible used a more complex simple  substitution than Caesar did for his military dispatches, but before  Caesar.]  I commend Kahn\\'s book to all who might be interested. \"], \"indices of top-k documents\": [84, 356, 228, 32, 340, 179, 23, 16, 259, 49, 38, 125, 216, 78, 143, 60, 244, 21, 150, 211]}'}]\n"
     ]
    },
    {
     "data": {
      "text/plain": [
       "<OpenAIObject chat.completion id=chatcmpl-7oUqhc9bjH961RWZghArjqOQKu1Fy at 0x1ab93b10890> JSON: {\n",
       "  \"id\": \"chatcmpl-7oUqhc9bjH961RWZghArjqOQKu1Fy\",\n",
       "  \"object\": \"chat.completion\",\n",
       "  \"created\": 1692269339,\n",
       "  \"model\": \"gpt-3.5-turbo-16k-0613\",\n",
       "  \"choices\": [\n",
       "    {\n",
       "      \"index\": 0,\n",
       "      \"message\": {\n",
       "        \"role\": \"assistant\",\n",
       "        \"content\": \"Topic 10 contains information on encryption. Here are some key points:\\n\\n1. Clipper is mentioned as a way to add another layer of encryption and increase privacy. It is described as a method where opponents can only identify the use of Clipper encryption but not that the message is double encrypted.\\n(Source: Document index 84)\\n\\n2. The security of encryption systems should rely on the secrecy of keys rather than the secrecy of algorithms. (Source: Document index 356)\\n\\n3. There are discussions about whether non-Clipper encryption should be made illegal, indicating concerns about the future legality of strong encryption. It is speculated that encryption programs may only be available through the \\\"underground\\\" if strong cryptography is outlawed.\\n(Source: Document index 228)\\n\\n4. The Clinton administration's announcement of the Clipper Chip encryption technology is mentioned. It describes the chip as a new approach to encryption that provides privacy but also permits key escrowing for lawful government access. The proposal emphasizes balancing privacy and law enforcement needs.\\n(Source: Document index 32)\\n\\n5. There is a concern expressed about the reliability and trustworthiness of the government-approved encryption algorithm. It questions whether the algorithm is truly secure if the NSA has given export approval for it.\\n(Source: Document index 340)\\n\\nOverall, the information in Topic 10 discusses the tension between privacy and law enforcement needs regarding encryption, the role of various encryption methods like Clipper, and concerns about the legality and effectiveness of different encryption approaches.\"\n",
       "      },\n",
       "      \"finish_reason\": \"stop\"\n",
       "    }\n",
       "  ],\n",
       "  \"usage\": {\n",
       "    \"prompt_tokens\": 6203,\n",
       "    \"completion_tokens\": 298,\n",
       "    \"total_tokens\": 6501\n",
       "  }\n",
       "}"
      ]
     },
     "execution_count": 70,
     "metadata": {},
     "output_type": "execute_result"
    }
   ],
   "source": [
    "pmp.prompt_knn_search(llm_query = \"What information on encryption does topic 10 contain?\")"
   ]
  },
  {
   "cell_type": "code",
   "execution_count": 86,
   "metadata": {},
   "outputs": [
    {
     "data": {
      "text/plain": [
       "dict_keys(['tfidf', 'cosine_similarity'])"
      ]
     },
     "execution_count": 86,
     "metadata": {},
     "output_type": "execute_result"
    }
   ],
   "source": [
    "pmp.topic_lis[2].top_words.keys()"
   ]
  },
  {
   "cell_type": "code",
   "execution_count": 83,
   "metadata": {},
   "outputs": [
    {
     "name": "stdout",
     "output_type": "stream",
     "text": [
      "{\n",
      "  \"role\": \"assistant\",\n",
      "  \"content\": null,\n",
      "  \"function_call\": {\n",
      "    \"name\": \"identify_topic_idx\",\n",
      "    \"arguments\": \"{\\n  \\\"query\\\": \\\"cars\\\"\\n}\"\n",
      "  }\n",
      "}\n",
      "GPT wants to the call the function:  {\n",
      "  \"name\": \"identify_topic_idx\",\n",
      "  \"arguments\": \"{\\n  \\\"query\\\": \\\"cars\\\"\\n}\"\n",
      "}\n",
      "[{'role': 'system', 'content': \"You are a helpful assistant. \\nYou are excellent at inferring information about topics discovered via topic modelling using information retrieval. \\nYou summarize information intelligently. \\nYou use the functions you are provided with if applicable.\\nYou make sure that everything you output is strictly based on the provided text. If you cite documents, give their indices. \\nYou always explicitly say if you don't find any useful information!\\nYou only say that something is contained in the corpus if you are very sure about it! \"}, {'role': 'user', 'content': 'Is the topic about cars also about Toyotas?'}, <OpenAIObject at 0x1ab93b66ab0> JSON: {\n",
      "  \"role\": \"assistant\",\n",
      "  \"content\": null,\n",
      "  \"function_call\": {\n",
      "    \"name\": \"identify_topic_idx\",\n",
      "    \"arguments\": \"{\\n  \\\"query\\\": \\\"cars\\\"\\n}\"\n",
      "  }\n",
      "}, {'role': 'function', 'name': 'identify_topic_idx', 'content': '{\"topic index\": 9}'}]\n"
     ]
    },
    {
     "data": {
      "text/plain": [
       "<OpenAIObject chat.completion id=chatcmpl-7oXL8L0nyV2Lr5wDdYMUK1MQlK414 at 0x1ab93b66150> JSON: {\n",
       "  \"id\": \"chatcmpl-7oXL8L0nyV2Lr5wDdYMUK1MQlK414\",\n",
       "  \"object\": \"chat.completion\",\n",
       "  \"created\": 1692278914,\n",
       "  \"model\": \"gpt-3.5-turbo-16k-0613\",\n",
       "  \"choices\": [\n",
       "    {\n",
       "      \"index\": 0,\n",
       "      \"message\": {\n",
       "        \"role\": \"assistant\",\n",
       "        \"content\": \"Yes, the topic about cars is also about Toyotas.\"\n",
       "      },\n",
       "      \"finish_reason\": \"stop\"\n",
       "    }\n",
       "  ],\n",
       "  \"usage\": {\n",
       "    \"prompt_tokens\": 154,\n",
       "    \"completion_tokens\": 12,\n",
       "    \"total_tokens\": 166\n",
       "  }\n",
       "}"
      ]
     },
     "execution_count": 83,
     "metadata": {},
     "output_type": "execute_result"
    }
   ],
   "source": [
    "pmp.general_prompt(\"Is the topic about cars also about Toyotas?\")"
   ]
  },
  {
   "cell_type": "code",
   "execution_count": 90,
   "metadata": {},
   "outputs": [
    {
     "data": {
      "text/plain": [
       "['__class__',\n",
       " '__delattr__',\n",
       " '__dict__',\n",
       " '__dir__',\n",
       " '__doc__',\n",
       " '__eq__',\n",
       " '__format__',\n",
       " '__ge__',\n",
       " '__getattribute__',\n",
       " '__getstate__',\n",
       " '__gt__',\n",
       " '__hash__',\n",
       " '__init__',\n",
       " '__init_subclass__',\n",
       " '__le__',\n",
       " '__lt__',\n",
       " '__module__',\n",
       " '__ne__',\n",
       " '__new__',\n",
       " '__reduce__',\n",
       " '__reduce_ex__',\n",
       " '__repr__',\n",
       " '__setattr__',\n",
       " '__sizeof__',\n",
       " '__str__',\n",
       " '__subclasshook__',\n",
       " '__weakref__',\n",
       " 'centroid_hd',\n",
       " 'centroid_ld',\n",
       " 'document_embedding_similarity',\n",
       " 'document_embeddings_hd',\n",
       " 'document_embeddings_ld',\n",
       " 'documents',\n",
       " 'set_topic_description',\n",
       " 'set_topic_name',\n",
       " 'top_word_scores',\n",
       " 'top_words',\n",
       " 'topic_description',\n",
       " 'topic_name',\n",
       " 'umap_mapper',\n",
       " 'words']"
      ]
     },
     "execution_count": 90,
     "metadata": {},
     "output_type": "execute_result"
    }
   ],
   "source": [
    "dir(pmp.topic_lis[9])"
   ]
  },
  {
   "cell_type": "code",
   "execution_count": null,
   "metadata": {},
   "outputs": [],
   "source": []
  }
 ],
 "metadata": {
  "kernelspec": {
   "display_name": "llm_sem",
   "language": "python",
   "name": "python3"
  },
  "language_info": {
   "codemirror_mode": {
    "name": "ipython",
    "version": 3
   },
   "file_extension": ".py",
   "mimetype": "text/x-python",
   "name": "python",
   "nbconvert_exporter": "python",
   "pygments_lexer": "ipython3",
   "version": "3.11.4"
  },
  "orig_nbformat": 4
 },
 "nbformat": 4,
 "nbformat_minor": 2
}
