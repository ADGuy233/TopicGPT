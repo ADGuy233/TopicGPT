{
 "cells": [
  {
   "cell_type": "code",
   "execution_count": 1,
   "metadata": {},
   "outputs": [],
   "source": [
    "%load_ext autoreload\n",
    "%autoreload 2"
   ]
  },
  {
   "cell_type": "code",
   "execution_count": 2,
   "metadata": {},
   "outputs": [],
   "source": [
    "import os\n",
    "import sys\n",
    "import inspect\n",
    "\n",
    "sys.path.insert(0, '../..')"
   ]
  },
  {
   "cell_type": "code",
   "execution_count": 23,
   "metadata": {},
   "outputs": [],
   "source": [
    "import os\n",
    "api_key_openai = os.environ.get('OPENAI_API_KEY')\n",
    "org_openai = os.environ.get('OPENAI_ORG')\n",
    "\n",
    "import openai\n",
    "openai.organization = org_openai\n",
    "import numpy as np\n",
    "import json"
   ]
  },
  {
   "cell_type": "code",
   "execution_count": 4,
   "metadata": {},
   "outputs": [
    {
     "name": "stderr",
     "output_type": "stream",
     "text": [
      "c:\\Users\\arik_\\anaconda3\\envs\\llm_sem\\Lib\\site-packages\\umap\\distances.py:1063: NumbaDeprecationWarning: \u001b[1mThe 'nopython' keyword argument was not supplied to the 'numba.jit' decorator. The implicit default value for this argument is currently False, but it will be changed to True in Numba 0.59.0. See https://numba.readthedocs.io/en/stable/reference/deprecation.html#deprecation-of-object-mode-fall-back-behaviour-when-using-jit for details.\u001b[0m\n",
      "  @numba.jit()\n",
      "c:\\Users\\arik_\\anaconda3\\envs\\llm_sem\\Lib\\site-packages\\umap\\distances.py:1071: NumbaDeprecationWarning: \u001b[1mThe 'nopython' keyword argument was not supplied to the 'numba.jit' decorator. The implicit default value for this argument is currently False, but it will be changed to True in Numba 0.59.0. See https://numba.readthedocs.io/en/stable/reference/deprecation.html#deprecation-of-object-mode-fall-back-behaviour-when-using-jit for details.\u001b[0m\n",
      "  @numba.jit()\n",
      "c:\\Users\\arik_\\anaconda3\\envs\\llm_sem\\Lib\\site-packages\\umap\\distances.py:1086: NumbaDeprecationWarning: \u001b[1mThe 'nopython' keyword argument was not supplied to the 'numba.jit' decorator. The implicit default value for this argument is currently False, but it will be changed to True in Numba 0.59.0. See https://numba.readthedocs.io/en/stable/reference/deprecation.html#deprecation-of-object-mode-fall-back-behaviour-when-using-jit for details.\u001b[0m\n",
      "  @numba.jit()\n",
      "c:\\Users\\arik_\\anaconda3\\envs\\llm_sem\\Lib\\site-packages\\tqdm\\auto.py:21: TqdmWarning: IProgress not found. Please update jupyter and ipywidgets. See https://ipywidgets.readthedocs.io/en/stable/user_install.html\n",
      "  from .autonotebook import tqdm as notebook_tqdm\n",
      "c:\\Users\\arik_\\anaconda3\\envs\\llm_sem\\Lib\\site-packages\\umap\\umap_.py:660: NumbaDeprecationWarning: \u001b[1mThe 'nopython' keyword argument was not supplied to the 'numba.jit' decorator. The implicit default value for this argument is currently False, but it will be changed to True in Numba 0.59.0. See https://numba.readthedocs.io/en/stable/reference/deprecation.html#deprecation-of-object-mode-fall-back-behaviour-when-using-jit for details.\u001b[0m\n",
      "  @numba.jit()\n",
      "c:\\Users\\arik_\\anaconda3\\envs\\llm_sem\\Lib\\site-packages\\umap\\plot.py:203: NumbaDeprecationWarning: \u001b[1mThe 'nopython' keyword argument was not supplied to the 'numba.jit' decorator. The implicit default value for this argument is currently False, but it will be changed to True in Numba 0.59.0. See https://numba.readthedocs.io/en/stable/reference/deprecation.html#deprecation-of-object-mode-fall-back-behaviour-when-using-jit for details.\u001b[0m\n",
      "  @numba.jit()\n",
      "[nltk_data] Downloading package stopwords to\n",
      "[nltk_data]     C:\\Users\\arik_\\AppData\\Roaming\\nltk_data...\n",
      "[nltk_data]   Package stopwords is already up-to-date!\n",
      "[nltk_data] Downloading package punkt to\n",
      "[nltk_data]     C:\\Users\\arik_\\AppData\\Roaming\\nltk_data...\n",
      "[nltk_data]   Package punkt is already up-to-date!\n"
     ]
    }
   ],
   "source": [
    "from src.TopicRepresentation.TopicRepresentation import Topic\n",
    "from src.TopicPrompting.TopicPrompting import TopicPrompting\n",
    "from src.TopwordEnhancement.TopwordEnhancement import TopwordEnhancement"
   ]
  },
  {
   "cell_type": "code",
   "execution_count": 5,
   "metadata": {},
   "outputs": [],
   "source": [
    "import numpy as np\n",
    "import pickle"
   ]
  },
  {
   "cell_type": "code",
   "execution_count": 6,
   "metadata": {},
   "outputs": [
    {
     "name": "stdout",
     "output_type": "stream",
     "text": [
      "Sat Aug 19 11:04:52 2023 Building and compiling search function\n"
     ]
    }
   ],
   "source": [
    "with open(\"../../Data/SavedTopicRepresentations/Topics_20ng_v1.pkl\", \"rb\") as f:\n",
    "    topics = pickle.load(f)"
   ]
  },
  {
   "cell_type": "code",
   "execution_count": 7,
   "metadata": {},
   "outputs": [],
   "source": [
    "data = pickle.load(open(\"../../Data/Emebeddings/embeddings_20ng_raw.pkl\", \"rb\"))\n",
    "embeddings = data[\"embeddings\"]\n",
    "corpus = data[\"corpus\"]\n",
    "vocab_embeddings = pickle.load(open(\"../../Data/Emebeddings/embeddings_20ng_vocab.pkl\", \"rb\"))"
   ]
  },
  {
   "cell_type": "code",
   "execution_count": 8,
   "metadata": {},
   "outputs": [
    {
     "data": {
      "text/plain": [
       "'Encryption and Security'"
      ]
     },
     "execution_count": 8,
     "metadata": {},
     "output_type": "execute_result"
    }
   ],
   "source": [
    "topics[10].topic_name"
   ]
  },
  {
   "cell_type": "code",
   "execution_count": 9,
   "metadata": {},
   "outputs": [
    {
     "data": {
      "text/plain": [
       "'   This is factually incorrect. There was at least one message that said that Waco and Clipper justified \"anything\" in response.  David'"
      ]
     },
     "execution_count": 9,
     "metadata": {},
     "output_type": "execute_result"
    }
   ],
   "source": [
    "topics[2].documents[1]"
   ]
  },
  {
   "cell_type": "code",
   "execution_count": 10,
   "metadata": {},
   "outputs": [],
   "source": [
    "enhancer = TopwordEnhancement(api_key_openai)\n",
    "vocab_embeddings = vocab_embeddings\n",
    "\n",
    "pmp = TopicPrompting(\n",
    "    openai_prompting_model = \"gpt-3.5-turbo-16k\",\n",
    "    max_context_length_promting = 16348,\n",
    "    topic_lis = topics,\n",
    "    openai_key = api_key_openai, \n",
    "    openai_model_temperature_prompting = 1,\n",
    "    enhancer=enhancer,\n",
    "    vocab_embeddings=vocab_embeddings\n",
    ")"
   ]
  },
  {
   "cell_type": "code",
   "execution_count": 11,
   "metadata": {},
   "outputs": [
    {
     "data": {
      "text/plain": [
       "'Gun control.'"
      ]
     },
     "execution_count": 11,
     "metadata": {},
     "output_type": "execute_result"
    }
   ],
   "source": [
    "topics[2].topic_name"
   ]
  },
  {
   "cell_type": "code",
   "execution_count": 12,
   "metadata": {},
   "outputs": [
    {
     "name": "stdout",
     "output_type": "stream",
     "text": [
      "Based on the provided words, the common topic appears to be related to religion, sexuality, and philosophy. \n",
      "\n",
      "Aspects and sub-topics:\n",
      "1. Religion: imams, hadith, apostasy, muhammed, theistic, creationism, claus, agnosticism, evangelicals, religiously.\n",
      "2. Sexuality: gay/bi, queers, bisexual, deviant, molesters, pedophilia, lesbians, deviants, pedophiles, hetero.\n",
      "3. Philosophy: asimov, subjectivist, objectivist, metaphysical, descartes, relativist, fallacious, axiomatic, incoherent, epistemology.\n",
      "4. Science: kekule, pasteur, memes, spacetime, alcoholics, genome, eugenics, genetics, naturalistic, evolutionism.\n",
      "5. Ethics: self-respect, humility, ethics, sexist, hypocritical, societal, rightness, wrongness, relativists, superiority.\n",
      "\n",
      "Please note that these descriptions are based solely on the provided words and may not fully capture the depth and complexity of each sub-topic.\n"
     ]
    }
   ],
   "source": [
    "print(topics[6].topic_description)"
   ]
  },
  {
   "cell_type": "code",
   "execution_count": 13,
   "metadata": {},
   "outputs": [
    {
     "name": "stdout",
     "output_type": "stream",
     "text": [
      "The common topic of the given words is \"Space Exploration\". \n",
      "\n",
      "Aspects and sub-topics of the topic include:\n",
      "1. Missions and spacecraft: Flybys, Voyagers, Phobos, Ulysses, Surveyor.\n",
      "2. Celestial bodies: Quasars, Comets, Triton, Charon, Europa.\n",
      "3. Astronomical phenomena: Supernova, Pulsars, GRBs (Gamma Ray Bursts), Craters.\n",
      "4. Space technology and equipment: Thrusters, Spacewalks, Dragless, Magnetometer, Gyros.\n",
      "5. Space agencies and organizations: ISAS, NASA, NASDA, AIAA, ESA.\n"
     ]
    }
   ],
   "source": [
    "print(topics[13].topic_description)"
   ]
  },
  {
   "cell_type": "code",
   "execution_count": null,
   "metadata": {},
   "outputs": [],
   "source": []
  },
  {
   "cell_type": "code",
   "execution_count": 14,
   "metadata": {},
   "outputs": [
    {
     "name": "stderr",
     "output_type": "stream",
     "text": [
      "Epochs completed: 100%| ██████████ 100/100 [00:01]\n",
      "Epochs completed: 100%| ██████████ 100/100 [00:01]\n",
      "Computing word-topic matrix: 100%|██████████| 386/386 [00:01<00:00, 373.08it/s]\n",
      "Epochs completed: 100%| ██████████ 100/100 [00:01]\n",
      "100%|██████████| 1/1 [00:07<00:00,  7.64s/it]\n",
      "Epochs completed: 100%| ██████████ 100/100 [00:00]\n",
      "Epochs completed: 100%| ██████████ 100/100 [00:00]\n",
      "Computing word-topic matrix: 100%|██████████| 103/103 [00:00<00:00, 500.11it/s]\n",
      "Epochs completed: 100%| ██████████ 100/100 [00:00]\n",
      "100%|██████████| 1/1 [00:04<00:00,  4.23s/it]\n"
     ]
    }
   ],
   "source": [
    "res1 = pmp.split_topic_kmeans(topic_idx=13, n_clusters = 2, inplace=False)"
   ]
  },
  {
   "cell_type": "code",
   "execution_count": 15,
   "metadata": {},
   "outputs": [
    {
     "data": {
      "text/plain": [
       "[Topic: Electronics devices.,\n",
       " Topic: Computer Graphics,\n",
       " Topic: Gun control.,\n",
       " Topic: Email Privacy and Security,\n",
       " Topic: Armenian Genocide,\n",
       " Topic: Computer Hardware and Accessories,\n",
       " Topic: LGBTQ+ Issues,\n",
       " Topic: Online Communication and Etiquette,\n",
       " Topic: Computer Hardware/Software Issues,\n",
       " Topic: Car Performance,\n",
       " Topic: Encryption and Security,\n",
       " Topic: Technology and Computing,\n",
       " Topic: Technology.,\n",
       " Topic: Motorcycle Accessories,\n",
       " Topic: Computer Programming,\n",
       " Topic: Hockey Players.,\n",
       " Topic: Medical Treatments,\n",
       " Topic: Baseball Players,\n",
       " Topic: Religious Controversies,\n",
       " Topic: Space Exploration,\n",
       " Topic: Space Exploration]"
      ]
     },
     "execution_count": 15,
     "metadata": {},
     "output_type": "execute_result"
    }
   ],
   "source": [
    "res1"
   ]
  },
  {
   "cell_type": "code",
   "execution_count": 16,
   "metadata": {},
   "outputs": [
    {
     "name": "stderr",
     "output_type": "stream",
     "text": [
      "Epochs completed: 100%| ██████████ 100/100 [00:00]\n",
      "Epochs completed: 100%| ██████████ 100/100 [00:01]\n",
      "Computing word-topic matrix: 100%|██████████| 270/270 [00:00<00:00, 493.00it/s]\n",
      "Epochs completed: 100%| ██████████ 100/100 [00:01]\n",
      "100%|██████████| 1/1 [00:05<00:00,  5.14s/it]\n",
      "Epochs completed: 100%| ██████████ 100/100 [00:00]\n",
      "Epochs completed: 100%| ██████████ 100/100 [00:02]\n",
      "Computing word-topic matrix: 100%|██████████| 219/219 [00:00<00:00, 422.40it/s]\n",
      "Epochs completed: 100%| ██████████ 100/100 [00:01]\n",
      "100%|██████████| 1/1 [00:05<00:00,  5.11s/it]\n"
     ]
    }
   ],
   "source": [
    "res2 = pmp.split_topic_single_keyword(topic_idx = 13, keyword = \"Missions and spacecraft\", inplace = True)"
   ]
  },
  {
   "cell_type": "code",
   "execution_count": 17,
   "metadata": {},
   "outputs": [
    {
     "data": {
      "text/plain": [
       "'The common topic of the provided words is \"Space Exploration\". \\n\\nAspects and sub-topics of the topic include:\\n1. Spacecraft and Missions: \\'flybys\\', \\'reboost\\', \\'voyagers\\', \\'spacewalks\\', \\'close-up\\'\\n2. Propulsion and Thrusters: \\'thruster\\', \\'thrusters\\', \\'methane\\', \\'adaptive\\', \\'tug\\'\\n3. Celestial Bodies: \\'cometary\\', \\'craters\\', \\'volcanic\\', \\'volcanoes\\', \\'crust\\'\\n4. Space Technology and Equipment: \\'pallet\\', \\'fuselage\\', \\'gyros\\', \\'rover\\', \\'attitude-control\\'\\n5. Science and Research: \\'sci.space.shuttle\\', \\'cometary\\', \\'geology\\', \\'astrophysics\\', \\'aerobraking\\''"
      ]
     },
     "execution_count": 17,
     "metadata": {},
     "output_type": "execute_result"
    }
   ],
   "source": [
    "pmp.topic_lis[-1].topic_description"
   ]
  },
  {
   "cell_type": "code",
   "execution_count": 18,
   "metadata": {},
   "outputs": [
    {
     "data": {
      "text/plain": [
       "'The common topic of the provided words is \"Space Exploration\". \\n\\nAspects and sub-topics of the topic include:\\n1. Spacecraft and Missions: \\'flybys\\', \\'reboost\\', \\'voyagers\\', \\'spacewalks\\', \\'close-up\\'\\n2. Propulsion and Thrusters: \\'thruster\\', \\'thrusters\\', \\'methane\\', \\'adaptive\\', \\'tug\\'\\n3. Celestial Bodies: \\'cometary\\', \\'craters\\', \\'volcanic\\', \\'volcanoes\\', \\'crust\\'\\n4. Space Technology and Equipment: \\'pallet\\', \\'fuselage\\', \\'gyros\\', \\'rover\\', \\'attitude-control\\'\\n5. Science and Research: \\'sci.space.shuttle\\', \\'cometary\\', \\'geology\\', \\'astrophysics\\', \\'aerobraking\\''"
      ]
     },
     "execution_count": 18,
     "metadata": {},
     "output_type": "execute_result"
    }
   ],
   "source": [
    "pmp.topic_lis[20].topic_description"
   ]
  },
  {
   "cell_type": "code",
   "execution_count": 19,
   "metadata": {},
   "outputs": [
    {
     "data": {
      "text/plain": [
       "21"
      ]
     },
     "execution_count": 19,
     "metadata": {},
     "output_type": "execute_result"
    }
   ],
   "source": [
    "len(pmp.topic_lis)"
   ]
  },
  {
   "cell_type": "code",
   "execution_count": 85,
   "metadata": {},
   "outputs": [
    {
     "data": {
      "text/plain": [
       "[Topic: Gun control.,\n",
       " Topic: Email Privacy and Security,\n",
       " Topic: Armenian Genocide,\n",
       " Topic: Computer Hardware and Accessories,\n",
       " Topic: LGBTQ+ Issues,\n",
       " Topic: Online Communication and Etiquette,\n",
       " Topic: Computer Hardware/Software Issues,\n",
       " Topic: Car Performance,\n",
       " Topic: Encryption and Security,\n",
       " Topic: Technology and Computing,\n",
       " Topic: Technology.,\n",
       " Topic: Motorcycle Accessories,\n",
       " Topic: Computer Programming,\n",
       " Topic: Hockey Players.,\n",
       " Topic: Medical Treatments,\n",
       " Topic: Baseball Players,\n",
       " Topic: Religious Controversies,\n",
       " Topic: Astrophysics Research,\n",
       " Topic: Space Exploration,\n",
       " Topic: Computer Graphics]"
      ]
     },
     "execution_count": 85,
     "metadata": {},
     "output_type": "execute_result"
    }
   ],
   "source": [
    "pmp.topic_lis"
   ]
  },
  {
   "cell_type": "code",
   "execution_count": 86,
   "metadata": {},
   "outputs": [
    {
     "name": "stdout",
     "output_type": "stream",
     "text": [
      "{\n",
      "  \"role\": \"assistant\",\n",
      "  \"content\": null,\n",
      "  \"function_call\": {\n",
      "    \"name\": \"combine_topics\",\n",
      "    \"arguments\": \"{\\n  \\\"topic_idx_lis\\\": [2, 4]\\n}\"\n",
      "  }\n",
      "}\n",
      "GPT wants to the call the function:  {\n",
      "  \"name\": \"combine_topics\",\n",
      "  \"arguments\": \"{\\n  \\\"topic_idx_lis\\\": [2, 4]\\n}\"\n",
      "}\n"
     ]
    },
    {
     "name": "stderr",
     "output_type": "stream",
     "text": [
      "Epochs completed: 100%| ██████████ 100/100 [00:01]\n",
      "Epochs completed: 100%| ██████████ 30/30 [00:04]\n",
      "Computing word-topic matrix: 100%|██████████| 1327/1327 [00:05<00:00, 235.38it/s]\n",
      "Epochs completed: 100%| ██████████ 100/100 [00:00]\n",
      "100%|██████████| 1/1 [00:07<00:00,  7.58s/it]\n"
     ]
    },
    {
     "name": "stdout",
     "output_type": "stream",
     "text": [
      "[{'role': 'system', 'content': \"You are a helpful assistant. \\nYou are excellent at inferring information about topics discovered via topic modelling using information retrieval. \\nYou summarize information intelligently. \\nYou use the functions you are provided with if applicable.\\nYou make sure that everything you output is strictly based on the provided text. If you cite documents, give their indices. \\nYou always explicitly say if you don't find any useful information!\\nYou only say that something is contained in the corpus if you are very sure about it! \"}, {'role': 'user', 'content': 'Please combine topics 2 and 4 into a single topic.'}, <OpenAIObject at 0x194ffd9dc70> JSON: {\n",
      "  \"role\": \"assistant\",\n",
      "  \"content\": null,\n",
      "  \"function_call\": {\n",
      "    \"name\": \"combine_topics\",\n",
      "    \"arguments\": \"{\\n  \\\"topic_idx_lis\\\": [2, 4]\\n}\"\n",
      "  }\n",
      "}, {'role': 'function', 'name': 'combine_topics', 'content': '{\"new topics\": {\"topic_idx\": 21, \"topic_name\": \"Armenian Genocide\", \"topic_description\": \"The common topic of the given words is \\\\\"Armenian Genocide\\\\\". \\\\n\\\\nVarious aspects and sub-topics of the topic include: \\\\n1. Historical events: \\\\\"Tarih\\\\\", \\\\\"Tarihi\\\\\", \\\\\"Defterleri\\\\\", \\\\\"Harbi\\\\\", \\\\\"Birinci Harbi\\\\\", \\\\\"Babiali\\\\\", \\\\\"Dahiliye\\\\\", \\\\\"Imparatorlugu\\'nun\\\\\", \\\\\"Devleti\\\\\", \\\\\"Guberniia\\\\\", \\\\\"Vilayet\\\\\"\\\\n2. Armenian victims: \\\\\"Armeniens\\\\\", \\\\\"Armenian-nazi\\\\\", \\\\\"Armenian\\\\\", \\\\\"Armen\\\\\", \\\\\"Armenilerden\\\\\", \\\\\"Ermenilerin\\\\\", \\\\\"Ermenilerden\\\\\"\\\\n3. Perpetrators: \\\\\"Likud\\\\\", \\\\\"Aharonian\\\\\", \\\\\"Muratoff\\\\\", \\\\\"Ahmed\\\\\", \\\\\"Kemal\\\\\", \\\\\"Assad\\\\\", \\\\\"Barracks\\\\\", \\\\\"Invaders\\\\\", \\\\\"Croatian\\\\\", \\\\\"Serb\\\\\"\\\\n4. Massacres and violence: \\\\\"Massacring\\\\\", \\\\\"Slaughtering\\\\\", \\\\\"Savagely\\\\\", \\\\\"Raping\\\\\", \\\\\"Annihilated\\\\\", \\\\\"Bombardment\\\\\", \\\\\"Ethnicity\\\\\", \\\\\"Bombay\\\\\"\\\\n5. International response: \\\\\"Reparations\\\\\", \\\\\"Investigative\\\\\", \\\\\"Mossad\\\\\", \\\\\"Foreigners\\\\\", \\\\\"Expulsion\\\\\", \\\\\"Expel\\\\\", \\\\\"Deported\\\\\", \\\\\"Deportation\\\\\"\"}}'}]\n"
     ]
    }
   ],
   "source": [
    "res = pmp.general_prompt(\"Please combine topics 2 and 4 into a single topic.\")"
   ]
  },
  {
   "cell_type": "code",
   "execution_count": 87,
   "metadata": {},
   "outputs": [
    {
     "data": {
      "text/plain": [
       "<OpenAIObject chat.completion id=chatcmpl-7pDY4GwlfJKQnfCYsQmgCmGVG1sgY at 0x194fffb4a10> JSON: {\n",
       "  \"id\": \"chatcmpl-7pDY4GwlfJKQnfCYsQmgCmGVG1sgY\",\n",
       "  \"object\": \"chat.completion\",\n",
       "  \"created\": 1692441164,\n",
       "  \"model\": \"gpt-3.5-turbo-16k-0613\",\n",
       "  \"choices\": [\n",
       "    {\n",
       "      \"index\": 0,\n",
       "      \"message\": {\n",
       "        \"role\": \"assistant\",\n",
       "        \"content\": \"The combined topic of topics 2 and 4 is the \\\"Armenian Genocide\\\". This topic includes various aspects and sub-topics such as historical events, Armenian victims, perpetrators, massacres and violence, and international response. Some related words and phrases for this topic include \\\"Tarih\\\", \\\"Tarihi\\\", \\\"Defterleri\\\", \\\"Harbi\\\", \\\"Birinci Harbi\\\", \\\"Babiali\\\", \\\"Dahiliye\\\", \\\"Imparatorlugu'nun\\\", \\\"Devleti\\\", \\\"Guberniia\\\", \\\"Vilayet\\\" for historical events, \\\"Armeniens\\\", \\\"Armenian-nazi\\\", \\\"Armenian\\\", \\\"Armen\\\", \\\"Armenilerden\\\", \\\"Ermenilerin\\\", \\\"Ermenilerden\\\" for Armenian victims, \\\"Likud\\\", \\\"Aharonian\\\", \\\"Muratoff\\\", \\\"Ahmed\\\", \\\"Kemal\\\", \\\"Assad\\\", \\\"Barracks\\\", \\\"Invaders\\\", \\\"Croatian\\\", \\\"Serb\\\" for perpetrators, \\\"Massacring\\\", \\\"Slaughtering\\\", \\\"Savagely\\\", \\\"Raping\\\", \\\"Annihilated\\\", \\\"Bombardment\\\", \\\"Ethnicity\\\", \\\"Bombay\\\" for massacres and violence, and \\\"Reparations\\\", \\\"Investigative\\\", \\\"Mossad\\\", \\\"Foreigners\\\", \\\"Expulsion\\\", \\\"Expel\\\", \\\"Deported\\\", \\\"Deportation\\\" for international response.\"\n",
       "      },\n",
       "      \"finish_reason\": \"stop\"\n",
       "    }\n",
       "  ],\n",
       "  \"usage\": {\n",
       "    \"prompt_tokens\": 469,\n",
       "    \"completion_tokens\": 300,\n",
       "    \"total_tokens\": 769\n",
       "  }\n",
       "}"
      ]
     },
     "execution_count": 87,
     "metadata": {},
     "output_type": "execute_result"
    }
   ],
   "source": [
    "res[0]"
   ]
  },
  {
   "cell_type": "code",
   "execution_count": 92,
   "metadata": {},
   "outputs": [],
   "source": [
    "pmp.topic_lis = res[1]"
   ]
  },
  {
   "cell_type": "code",
   "execution_count": 128,
   "metadata": {},
   "outputs": [
    {
     "data": {
      "text/plain": [
       "[Topic: Gun control.,\n",
       " Topic: Email Privacy and Security,\n",
       " Topic: Computer Hardware and Accessories,\n",
       " Topic: Online Communication and Etiquette,\n",
       " Topic: Computer Hardware/Software Issues,\n",
       " Topic: Car Performance,\n",
       " Topic: Encryption and Security,\n",
       " Topic: Technology and Computing,\n",
       " Topic: Technology.,\n",
       " Topic: Motorcycle Accessories,\n",
       " Topic: Computer Programming,\n",
       " Topic: Hockey Players.,\n",
       " Topic: Medical Treatments,\n",
       " Topic: Baseball Players,\n",
       " Topic: Religious Controversies,\n",
       " Topic: Astrophysics Research,\n",
       " Topic: Space Exploration,\n",
       " Topic: Computer Graphics,\n",
       " Topic: Armenian Genocide]"
      ]
     },
     "execution_count": 128,
     "metadata": {},
     "output_type": "execute_result"
    }
   ],
   "source": [
    "pmp.topic_lis"
   ]
  },
  {
   "cell_type": "code",
   "execution_count": 129,
   "metadata": {},
   "outputs": [],
   "source": [
    "res3 = pmp.general_prompt(\"Please create a new topic around the keyword 'Isreal\")"
   ]
  },
  {
   "cell_type": "code",
   "execution_count": 127,
   "metadata": {},
   "outputs": [
    {
     "data": {
      "text/plain": [
       "\"Based on the provided words, the common topic appears to be related to the Israeli-Palestinian conflict and its various aspects:\\n\\n1. Diaspora: Jewish communities outside of Israel.\\n2. Likud: A right-wing political party in Israel.\\n3. Intifada: Uprising or rebellion, often referring to the Palestinian uprisings against Israeli occupation.\\n4. Passports: Travel documents for identification and international travel.\\n5. Ha'aretz: An Israeli newspaper.\\n\\nSub-topics related to the Israeli-Palestinian conflict include:\\n1. Political parties: Likud.\\n2. Uprisings: Intifada.\\n3. Media: Ha'aretz.\\n4. Identity and nationality: Diaspora, passports.\\n\\nPlease note that the descriptions provided are based solely on the words provided and may not encompass the full range of topics related to the Israeli-Palestinian conflict.\""
      ]
     },
     "execution_count": 127,
     "metadata": {},
     "output_type": "execute_result"
    }
   ],
   "source": [
    "res3[1][0].topic_description"
   ]
  },
  {
   "cell_type": "code",
   "execution_count": 79,
   "metadata": {},
   "outputs": [
    {
     "name": "stdout",
     "output_type": "stream",
     "text": [
      "The combined topic of topics 0 and 1 is \"Computer Graphics\". It is a common topic that includes aspects and sub-topics such as visualization (rendering, ray-tracing, wavefront, parametric splines), image manipulation (subsampling, oversampling, quantized, anti-aliasing), file formats (xbm, xbm, xpm, pbm, tiff/jpeg, pict/jpeg), hardware and software (xtdisplay, xtappcontext, xconfig, xcreatewindow, xevent), and applications and tools (renderman, vogle, hiview, tgif, xload).\n"
     ]
    }
   ],
   "source": [
    "print(res[0][\"choices\"][0][\"message\"][\"content\"])"
   ]
  },
  {
   "cell_type": "code",
   "execution_count": 59,
   "metadata": {},
   "outputs": [
    {
     "data": {
      "text/plain": [
       "'The common topic of the given words is \"Satellite Communication\".\\n\\nVarious aspects and sub-topics of the topic include:\\n1. Data transmission: Two-line, spectrum.xerox.com, satellite\\n2. Technical details: Aerial, ray-tracing, spectral, longitude, elevation, cross-sectional\\n3. Access and availability: Archive.afit.af.mil, inaccessible, rewritten, usefulness, available\\n4. Communication protocols: Noncommercial, satelite, attachments, proc, timeout\\n5. Applications: Minimize, solicitation, duplication, aqua'"
      ]
     },
     "execution_count": 59,
     "metadata": {},
     "output_type": "execute_result"
    }
   ],
   "source": [
    "res[1][-1].topic_description"
   ]
  },
  {
   "cell_type": "code",
   "execution_count": 20,
   "metadata": {},
   "outputs": [
    {
     "name": "stdout",
     "output_type": "stream",
     "text": [
      "0 Topic: Electronics devices.\n",
      "\n",
      "1 Topic: Computer Graphics\n",
      "\n",
      "2 Topic: Gun control.\n",
      "\n",
      "3 Topic: Email Privacy and Security\n",
      "\n",
      "4 Topic: Armenian Genocide\n",
      "\n",
      "5 Topic: Computer Hardware and Accessories\n",
      "\n",
      "6 Topic: LGBTQ+ Issues\n",
      "\n",
      "7 Topic: Online Communication and Etiquette\n",
      "\n",
      "8 Topic: Computer Hardware/Software Issues\n",
      "\n",
      "9 Topic: Car Performance\n",
      "\n",
      "10 Topic: Encryption and Security\n",
      "\n",
      "11 Topic: Technology and Computing\n",
      "\n",
      "12 Topic: Technology.\n",
      "\n",
      "13 Topic: Motorcycle Accessories\n",
      "\n",
      "14 Topic: Computer Programming\n",
      "\n",
      "15 Topic: Hockey Players.\n",
      "\n",
      "16 Topic: Medical Treatments\n",
      "\n",
      "17 Topic: Baseball Players\n",
      "\n",
      "18 Topic: Religious Controversies\n",
      "\n",
      "19 Topic: Space Exploration\n",
      "\n",
      "20 Topic: Space Exploration\n",
      "\n"
     ]
    }
   ],
   "source": [
    "for i, elem in enumerate(pmp.topic_lis):\n",
    "    print(i, elem)"
   ]
  },
  {
   "cell_type": "code",
   "execution_count": 21,
   "metadata": {},
   "outputs": [
    {
     "name": "stderr",
     "output_type": "stream",
     "text": [
      "Epochs completed: 100%| ██████████ 100/100 [00:01]\n",
      "Epochs completed: 100%| ██████████ 30/30 [00:13]\n",
      "Computing word-topic matrix: 100%|██████████| 1699/1699 [00:21<00:00, 79.78it/s] \n",
      "Epochs completed: 100%| ██████████ 100/100 [00:02]\n"
     ]
    },
    {
     "name": "stdout",
     "output_type": "stream",
     "text": [
      "(1699,)\n"
     ]
    },
    {
     "name": "stderr",
     "output_type": "stream",
     "text": [
      "100%|██████████| 1/1 [00:07<00:00,  7.44s/it]\n"
     ]
    }
   ],
   "source": [
    "res3 = pmp.combine_topics(topic_idx_lis = [2, 3], vocab_embedding_dict = vocab_embeddings, enhancer = enh, inplace = True)"
   ]
  },
  {
   "cell_type": "code",
   "execution_count": 22,
   "metadata": {},
   "outputs": [
    {
     "name": "stdout",
     "output_type": "stream",
     "text": [
      "0 Topic: Electronics devices.\n",
      "\n",
      "1 Topic: Computer Graphics\n",
      "\n",
      "2 Topic: Armenian Genocide\n",
      "\n",
      "3 Topic: Computer Hardware and Accessories\n",
      "\n",
      "4 Topic: LGBTQ+ Issues\n",
      "\n",
      "5 Topic: Online Communication and Etiquette\n",
      "\n",
      "6 Topic: Computer Hardware/Software Issues\n",
      "\n",
      "7 Topic: Car Performance\n",
      "\n",
      "8 Topic: Encryption and Security\n",
      "\n",
      "9 Topic: Technology and Computing\n",
      "\n",
      "10 Topic: Technology.\n",
      "\n",
      "11 Topic: Motorcycle Accessories\n",
      "\n",
      "12 Topic: Computer Programming\n",
      "\n",
      "13 Topic: Hockey Players.\n",
      "\n",
      "14 Topic: Medical Treatments\n",
      "\n",
      "15 Topic: Baseball Players\n",
      "\n",
      "16 Topic: Religious Controversies\n",
      "\n",
      "17 Topic: Space Exploration\n",
      "\n",
      "18 Topic: Space Exploration\n",
      "\n",
      "19 Topic: Gun Control\n",
      "\n"
     ]
    }
   ],
   "source": [
    "for i, elem in enumerate(pmp.topic_lis):\n",
    "    print(i, elem)"
   ]
  },
  {
   "cell_type": "code",
   "execution_count": 23,
   "metadata": {},
   "outputs": [
    {
     "data": {
      "text/plain": [
       "['__class__',\n",
       " '__delattr__',\n",
       " '__dict__',\n",
       " '__dir__',\n",
       " '__doc__',\n",
       " '__eq__',\n",
       " '__format__',\n",
       " '__ge__',\n",
       " '__getattribute__',\n",
       " '__getstate__',\n",
       " '__gt__',\n",
       " '__hash__',\n",
       " '__init__',\n",
       " '__init_subclass__',\n",
       " '__le__',\n",
       " '__lt__',\n",
       " '__module__',\n",
       " '__ne__',\n",
       " '__new__',\n",
       " '__reduce__',\n",
       " '__reduce_ex__',\n",
       " '__repr__',\n",
       " '__setattr__',\n",
       " '__sizeof__',\n",
       " '__str__',\n",
       " '__subclasshook__',\n",
       " '__weakref__',\n",
       " 'centroid_hd',\n",
       " 'centroid_ld',\n",
       " 'document_embedding_similarity',\n",
       " 'document_embeddings_hd',\n",
       " 'document_embeddings_ld',\n",
       " 'documents',\n",
       " 'set_topic_description',\n",
       " 'set_topic_name',\n",
       " 'top_word_scores',\n",
       " 'top_words',\n",
       " 'topic_description',\n",
       " 'topic_idx',\n",
       " 'topic_name',\n",
       " 'umap_mapper',\n",
       " 'words']"
      ]
     },
     "execution_count": 23,
     "metadata": {},
     "output_type": "execute_result"
    }
   ],
   "source": [
    "dir(pmp.topic_lis[0])"
   ]
  },
  {
   "cell_type": "code",
   "execution_count": 61,
   "metadata": {},
   "outputs": [
    {
     "name": "stderr",
     "output_type": "stream",
     "text": [
      "Epochs completed: 100%| ██████████ 100/100 [00:01]\n",
      "Processing corpus: 100%|██████████| 11704/11704 [00:26<00:00, 442.40it/s]\n"
     ]
    },
    {
     "name": "stdout",
     "output_type": "stream",
     "text": [
      "Most common words:\n",
      "n't: 11814\n",
      "would: 7516\n",
      "one: 6956\n",
      "people: 4666\n",
      "max: 4346\n",
      "like: 4303\n",
      "get: 4007\n",
      "know: 3815\n",
      "also: 3812\n",
      "use: 3537\n"
     ]
    },
    {
     "name": "stderr",
     "output_type": "stream",
     "text": [
      "Epochs completed: 100%| ██████████ 100/100 [00:00]\n"
     ]
    },
    {
     "name": "stdout",
     "output_type": "stream",
     "text": [
      "(17038, 22)\n"
     ]
    },
    {
     "name": "stderr",
     "output_type": "stream",
     "text": [
      "Computing word-topic matrix: 100%|██████████| 11704/11704 [00:51<00:00, 227.43it/s]\n",
      "c:\\Users\\arik_\\Documents\\Dokumente\\Studium\\Master\\LLM_seminar\\Project\\src\\ExtractTopWords\\ExtractTopWords.py:265: RuntimeWarning: invalid value encountered in divide\n",
      "  \n",
      "Epochs completed: 100%| ██████████ 30/30 [00:02]\n",
      "Computing word-topic matrix: 100%|██████████| 11704/11704 [00:44<00:00, 263.93it/s]\n",
      "100%|██████████| 22/22 [02:57<00:00,  8.07s/it]\n"
     ]
    }
   ],
   "source": [
    "test = pmp.add_new_topic_keyword(\n",
    "    keyword = \"Toyota\",\n",
    "    vocab_embeddings = vocab_embeddings,\n",
    "    vocab = None, \n",
    "    enhancer = enh,\n",
    "    rename_new_topic = True\n",
    "    \n",
    ")"
   ]
  },
  {
   "cell_type": "code",
   "execution_count": 62,
   "metadata": {},
   "outputs": [
    {
     "data": {
      "text/plain": [
       "[Topic: Toyota,\n",
       " Topic: Electronics Equipment Sales,\n",
       " Topic: Graphics Programming.,\n",
       " Topic: Gun control,\n",
       " Topic: Email Communication,\n",
       " Topic: Turkish-Armenian Relations,\n",
       " Topic: Computer Hardware,\n",
       " Topic: Religion and Sexuality.,\n",
       " Topic: Online Discussions,\n",
       " Topic: Computer Hardware and Software,\n",
       " Topic: Car performance and features.,\n",
       " Topic: Encryption and Security.,\n",
       " Topic: Technology and Literature,\n",
       " Topic: Technology and Literature.,\n",
       " Topic: Motorcycle accessories and equipment.,\n",
       " Topic: Technology and Literature.,\n",
       " Topic: Hockey Players.,\n",
       " Topic: Medical Conditions,\n",
       " Topic: Baseball players and teams.,\n",
       " Topic: Religious Texts.,\n",
       " Topic: Astrophysics Research,\n",
       " Topic: Space Exploration]"
      ]
     },
     "execution_count": 62,
     "metadata": {},
     "output_type": "execute_result"
    }
   ],
   "source": [
    "test"
   ]
  },
  {
   "cell_type": "code",
   "execution_count": 35,
   "metadata": {},
   "outputs": [
    {
     "data": {
      "text/plain": [
       "11704"
      ]
     },
     "execution_count": 35,
     "metadata": {},
     "output_type": "execute_result"
    }
   ],
   "source": [
    "len(test)"
   ]
  },
  {
   "cell_type": "code",
   "execution_count": null,
   "metadata": {},
   "outputs": [],
   "source": []
  }
 ],
 "metadata": {
  "kernelspec": {
   "display_name": "llm_sem",
   "language": "python",
   "name": "python3"
  },
  "language_info": {
   "codemirror_mode": {
    "name": "ipython",
    "version": 3
   },
   "file_extension": ".py",
   "mimetype": "text/x-python",
   "name": "python",
   "nbconvert_exporter": "python",
   "pygments_lexer": "ipython3",
   "version": "3.11.4"
  },
  "orig_nbformat": 4
 },
 "nbformat": 4,
 "nbformat_minor": 2
}
