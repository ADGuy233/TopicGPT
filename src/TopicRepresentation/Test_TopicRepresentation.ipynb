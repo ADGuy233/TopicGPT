{
 "cells": [
  {
   "cell_type": "code",
   "execution_count": 1,
   "metadata": {},
   "outputs": [],
   "source": [
    "%load_ext autoreload\n",
    "%autoreload 2"
   ]
  },
  {
   "cell_type": "code",
   "execution_count": 2,
   "metadata": {},
   "outputs": [],
   "source": [
    "import os\n",
    "api_key_openai = os.environ.get('OPENAI_API_KEY')\n",
    "org_openai = os.environ.get('OPENAI_ORG')\n",
    "\n",
    "import openai\n",
    "openai.organization = org_openai\n",
    "import numpy as np"
   ]
  },
  {
   "cell_type": "code",
   "execution_count": 3,
   "metadata": {},
   "outputs": [],
   "source": [
    "import os\n",
    "import sys\n",
    "import inspect\n",
    "\n",
    "sys.path.insert(0, '../..')\n",
    "\n",
    "import pickle"
   ]
  },
  {
   "cell_type": "code",
   "execution_count": 4,
   "metadata": {},
   "outputs": [
    {
     "name": "stderr",
     "output_type": "stream",
     "text": [
      "c:\\Users\\arik_\\anaconda3\\envs\\llm_sem\\Lib\\site-packages\\umap\\distances.py:1063: NumbaDeprecationWarning: \u001b[1mThe 'nopython' keyword argument was not supplied to the 'numba.jit' decorator. The implicit default value for this argument is currently False, but it will be changed to True in Numba 0.59.0. See https://numba.readthedocs.io/en/stable/reference/deprecation.html#deprecation-of-object-mode-fall-back-behaviour-when-using-jit for details.\u001b[0m\n",
      "  @numba.jit()\n",
      "c:\\Users\\arik_\\anaconda3\\envs\\llm_sem\\Lib\\site-packages\\umap\\distances.py:1071: NumbaDeprecationWarning: \u001b[1mThe 'nopython' keyword argument was not supplied to the 'numba.jit' decorator. The implicit default value for this argument is currently False, but it will be changed to True in Numba 0.59.0. See https://numba.readthedocs.io/en/stable/reference/deprecation.html#deprecation-of-object-mode-fall-back-behaviour-when-using-jit for details.\u001b[0m\n",
      "  @numba.jit()\n",
      "c:\\Users\\arik_\\anaconda3\\envs\\llm_sem\\Lib\\site-packages\\umap\\distances.py:1086: NumbaDeprecationWarning: \u001b[1mThe 'nopython' keyword argument was not supplied to the 'numba.jit' decorator. The implicit default value for this argument is currently False, but it will be changed to True in Numba 0.59.0. See https://numba.readthedocs.io/en/stable/reference/deprecation.html#deprecation-of-object-mode-fall-back-behaviour-when-using-jit for details.\u001b[0m\n",
      "  @numba.jit()\n",
      "c:\\Users\\arik_\\anaconda3\\envs\\llm_sem\\Lib\\site-packages\\tqdm\\auto.py:21: TqdmWarning: IProgress not found. Please update jupyter and ipywidgets. See https://ipywidgets.readthedocs.io/en/stable/user_install.html\n",
      "  from .autonotebook import tqdm as notebook_tqdm\n",
      "c:\\Users\\arik_\\anaconda3\\envs\\llm_sem\\Lib\\site-packages\\umap\\umap_.py:660: NumbaDeprecationWarning: \u001b[1mThe 'nopython' keyword argument was not supplied to the 'numba.jit' decorator. The implicit default value for this argument is currently False, but it will be changed to True in Numba 0.59.0. See https://numba.readthedocs.io/en/stable/reference/deprecation.html#deprecation-of-object-mode-fall-back-behaviour-when-using-jit for details.\u001b[0m\n",
      "  @numba.jit()\n",
      "c:\\Users\\arik_\\anaconda3\\envs\\llm_sem\\Lib\\site-packages\\umap\\plot.py:203: NumbaDeprecationWarning: \u001b[1mThe 'nopython' keyword argument was not supplied to the 'numba.jit' decorator. The implicit default value for this argument is currently False, but it will be changed to True in Numba 0.59.0. See https://numba.readthedocs.io/en/stable/reference/deprecation.html#deprecation-of-object-mode-fall-back-behaviour-when-using-jit for details.\u001b[0m\n",
      "  @numba.jit()\n",
      "[nltk_data] Downloading package stopwords to\n",
      "[nltk_data]     C:\\Users\\arik_\\AppData\\Roaming\\nltk_data...\n",
      "[nltk_data]   Package stopwords is already up-to-date!\n",
      "[nltk_data] Downloading package punkt to\n",
      "[nltk_data]     C:\\Users\\arik_\\AppData\\Roaming\\nltk_data...\n",
      "[nltk_data]   Package punkt is already up-to-date!\n"
     ]
    }
   ],
   "source": [
    "from src.TopicRepresentation import TopicRepresentation\n",
    "from src.Clustering import Clustering\n",
    "from src.TopwordEnhancement.TopwordEnhancement import TopwordEnhancement"
   ]
  },
  {
   "cell_type": "code",
   "execution_count": 5,
   "metadata": {},
   "outputs": [],
   "source": [
    "data = pickle.load(open(\"../../Data/Emebeddings/embeddings_20ng_raw.pkl\", \"rb\"))\n",
    "embeddings = data[\"embeddings\"]\n",
    "corpus = data[\"corpus\"]\n",
    "vocab_embeddings = pickle.load(open(\"../../Data/Emebeddings/embeddings_20ng_vocab.pkl\", \"rb\"))"
   ]
  },
  {
   "cell_type": "code",
   "execution_count": 6,
   "metadata": {},
   "outputs": [],
   "source": [
    "clusterer = Clustering.Clustering_and_DimRed(min_cluster_size_hdbscan = 5, number_clusters_hdbscan = 20)"
   ]
  },
  {
   "cell_type": "code",
   "execution_count": 7,
   "metadata": {},
   "outputs": [],
   "source": [
    "enhancer = TopwordEnhancement(openai_key = api_key_openai, openai_model = \"gpt-3.5-turbo\", max_context_length = 4000)"
   ]
  },
  {
   "cell_type": "code",
   "execution_count": 8,
   "metadata": {},
   "outputs": [
    {
     "name": "stdout",
     "output_type": "stream",
     "text": [
      "Extracting topics...\n",
      "UMAP(angular_rp_forest=True, metric='cosine', min_dist=0, n_components=5, random_state=42, verbose=True)\n",
      "Sat Aug 26 12:29:59 2023 Construct fuzzy simplicial set\n",
      "Sat Aug 26 12:29:59 2023 Finding Nearest Neighbors\n",
      "Sat Aug 26 12:29:59 2023 Building RP forest with 12 trees\n",
      "Sat Aug 26 12:30:10 2023 NN descent for 14 iterations\n",
      "\t 1  /  14\n",
      "\t 2  /  14\n",
      "\t 3  /  14\n",
      "\t 4  /  14\n",
      "\t 5  /  14\n",
      "\t 6  /  14\n",
      "\tStopping threshold met -- exiting after 6 iterations\n",
      "Sat Aug 26 12:31:49 2023 Finished Nearest Neighbor Search\n",
      "Sat Aug 26 12:31:55 2023 Construct embedding\n"
     ]
    },
    {
     "name": "stderr",
     "output_type": "stream",
     "text": [
      "Epochs completed: 100%| ██████████ 200/200 [00:19]\n"
     ]
    },
    {
     "name": "stdout",
     "output_type": "stream",
     "text": [
      "Sat Aug 26 12:32:15 2023 Finished embedding\n",
      "Sat Aug 26 12:33:11 2023 Worst tree score: 0.35134842\n",
      "Sat Aug 26 12:33:11 2023 Mean tree score: 0.36268457\n",
      "Sat Aug 26 12:33:11 2023 Best tree score: 0.37967075\n",
      "Sat Aug 26 12:33:22 2023 Forward diversification reduced edges from 276990 to 99863\n",
      "Sat Aug 26 12:33:33 2023 Reverse diversification reduced edges from 99863 to 99863\n"
     ]
    },
    {
     "name": "stderr",
     "output_type": "stream",
     "text": [
      "c:\\Users\\arik_\\anaconda3\\envs\\llm_sem\\Lib\\site-packages\\scipy\\sparse\\_index.py:143: SparseEfficiencyWarning: Changing the sparsity structure of a csr_matrix is expensive. lil_matrix is more efficient.\n",
      "  self._set_arrayXarray(i, j, x)\n"
     ]
    },
    {
     "name": "stdout",
     "output_type": "stream",
     "text": [
      "Sat Aug 26 12:33:39 2023 Degree pruning reduced edges from 114512 to 112287\n",
      "Sat Aug 26 12:33:39 2023 Resorting data and graph based on tree order\n",
      "Sat Aug 26 12:33:40 2023 Building and compiling search function\n"
     ]
    },
    {
     "name": "stderr",
     "output_type": "stream",
     "text": [
      "Epochs completed: 100%| ██████████ 100/100 [00:02]\n",
      "Processing corpus: 100%|██████████| 18466/18466 [01:10<00:00, 261.90it/s]\n"
     ]
    },
    {
     "name": "stdout",
     "output_type": "stream",
     "text": [
      "Most common words:\n",
      "n't: 17117\n",
      "would: 10872\n",
      "one: 10144\n",
      "people: 6442\n",
      "like: 6409\n",
      "get: 5815\n",
      "know: 5742\n",
      "also: 5589\n",
      "use: 4989\n",
      "think: 4981\n"
     ]
    },
    {
     "name": "stderr",
     "output_type": "stream",
     "text": [
      "Computing word-topic matrix: 100%|██████████| 18466/18466 [02:36<00:00, 118.10it/s]\n",
      "c:\\Users\\arik_\\Documents\\Dokumente\\Studium\\Master\\LLM_seminar\\Project\\src\\ExtractTopWords\\ExtractTopWords.py:264: RuntimeWarning: invalid value encountered in divide\n",
      "  tf = word_topic_mat / np.sum(word_topic_mat, axis=0)\n",
      "c:\\Users\\arik_\\Documents\\Dokumente\\Studium\\Master\\LLM_seminar\\Project\\src\\ExtractTopWords\\ExtractTopWords.py:265: RuntimeWarning: divide by zero encountered in divide\n",
      "  idf = np.log(1 + (word_topic_mat.shape[1] / np.sum(word_topic_mat > 0, axis=1)))\n",
      "c:\\Users\\arik_\\Documents\\Dokumente\\Studium\\Master\\LLM_seminar\\Project\\src\\ExtractTopWords\\ExtractTopWords.py:267: RuntimeWarning: invalid value encountered in multiply\n",
      "  tfidf = tf * idf[:, np.newaxis]\n",
      "Epochs completed: 100%| ██████████ 30/30 [00:05]\n",
      "Computing word-topic matrix: 100%|██████████| 18466/18466 [01:38<00:00, 187.81it/s]\n"
     ]
    },
    {
     "name": "stdout",
     "output_type": "stream",
     "text": [
      "Describing topics...\n"
     ]
    },
    {
     "name": "stderr",
     "output_type": "stream",
     "text": [
      "100%|██████████| 20/20 [01:52<00:00,  5.62s/it]\n"
     ]
    }
   ],
   "source": [
    "topics = TopicRepresentation.extract_and_describe_topics(\n",
    "                                            corpus = corpus, \n",
    "                                            document_embeddings = embeddings, \n",
    "                                            clusterer = clusterer, \n",
    "                                            vocab_embeddings = vocab_embeddings, \n",
    "                                            enhancer=enhancer,\n",
    "                                            n_topwords = 2000, \n",
    "                                            n_topwords_description = 500,\n",
    "                                            topword_extraction_methods = [\"tfidf\", \"cosine_similarity\"], \n",
    "                                            compute_vocab_hyperparams = {\"min_freq\": 0.2, \"max_freq\": 0.9},\n",
    "                                            topword_description_method = \"tfidf\",\n",
    "                                            )"
   ]
  },
  {
   "cell_type": "code",
   "execution_count": 9,
   "metadata": {},
   "outputs": [
    {
     "data": {
      "text/plain": [
       "'The common topic of the given words is \"Electronics and Technology\". \\n\\nAspects and sub-topics of the topic include:\\n1. Electronics components: resistors, capacitors, transistors.\\n2. Audio and video equipment: amplifiers, speakers, headphones.\\n3. Photography equipment: cameras, lenses.\\n4. Computer and internet technology: modems, software, usenet.\\n5. Home appliances: dishwasher, dryer, microwave.'"
      ]
     },
     "execution_count": 9,
     "metadata": {},
     "output_type": "execute_result"
    }
   ],
   "source": [
    "topics[0].topic_description"
   ]
  },
  {
   "cell_type": "code",
   "execution_count": 10,
   "metadata": {},
   "outputs": [],
   "source": [
    "with open(\"../../Data/SavedTopicRepresentations/Topics_20ng_v1.pkl\", \"wb\") as f:\n",
    "    pickle.dump(topics, f)"
   ]
  },
  {
   "cell_type": "code",
   "execution_count": 108,
   "metadata": {},
   "outputs": [
    {
     "name": "stdout",
     "output_type": "stream",
     "text": [
      "['nyy', 'schmidt', 'ump', 'koufax', 'garvey', 'hof', 'mays', 'kan', 'cin', 'catchers', 'hank', 'hou', 'oba', 'santo', 'bosio', 'snd', 'torre', 'klein', 'leius', 'gaetti', 'wrigley', 'mound', 'bennett', 'reardon', 'shortstop', 'pinch-hit', 'lakers', 'clippers', 'greenberg', 'rams', 'franco', 'sandy', 'olerud', 'dawson', 'vizquel', 'jtcent', 'zeile', 'beastmaster', 'jtchern', 'ocf.berkeley.edu', 'slugging', 'batted', 'no-hitter', 'outfield', 'baserunning', 'pendleton', 'carew', 'reliever', 'gehrig', 'daulton', 'perez', 'maj', 'tettleton', 'rulebook', 'lou', 'mussina', 'abbott', 'stanky', 'carlton', 'pena', 'rusty', 'seaver', 'clubhouse', 'alphabetical', 'boone', 'raines', 'dykstra', 'ernie', 'basemen', 'fielders', 'infielder', 'putouts', 'scoreless', 'scoreboard', 'sherri', 'wetteland', 'roberto', 'darrell', 'homerun', 'correlate', 'santiago', 'manny', 'maldonado', 'blauser', 'bigs', 'staub', 'wagner', 'grounder', 'singled', 'swallows', 'guzman', 'mantle', 'offensively', 'mcgwire', 'lowenstein', 'w-l', 'riles', 'remarked', 'light-hitting', 'no-hitters']\n"
     ]
    }
   ],
   "source": [
    "print(topics[18].top_words[\"cosine_similarity\"][:100])"
   ]
  },
  {
   "cell_type": "code",
   "execution_count": 104,
   "metadata": {},
   "outputs": [
    {
     "data": {
      "text/plain": [
       "20"
      ]
     },
     "execution_count": 104,
     "metadata": {},
     "output_type": "execute_result"
    }
   ],
   "source": [
    "len(topics)"
   ]
  },
  {
   "cell_type": "code",
   "execution_count": null,
   "metadata": {},
   "outputs": [
    {
     "name": "stdout",
     "output_type": "stream",
     "text": [
      "[' writes a \"Who woulda thunk it\" article which is really the same piece every time.   \"Who would have thought that [Buddy Biancalana] would have more home runs than [the Colorado Rockies, Babe Ruth, Omar Vizquel and Nolan Ryan] COMBINED!\"   He\\'s an idiot, if it\\'s the same guy. ', '  Oh, yeah.  Dave Winfield--marginal player.  Guy didn\\'t hit a lick, had negligible power, was a crap fielder and had no staying power.  Dave Winfield, now entering his (I believe) 20th big league season, is still a damn decent hitter.  Admittedly, his defense has slipped a great deal, but in his prime, he had a powerful arm and great range.  Take a look at the stats:  I don\\'t  know where you even BEGIN to make an argument that Winfield and Kingman are similar players.  Kingman was a one-dimension power hitter--he couldn\\'t field, he ran like an anvil, hit for a low average (though, if I remember right, his OBP wasn\\'t THAT hideous...), and (for those who consider such things important) was a absolute-primo-dick.    Eddie Murray?  Yup, only the best 1st baseman of the 80\\'s.  I know that MVP votes are conducted by mediots, but given that he got jobbed out of the MVP he deserved in 1983, it seems that he wasn\\'t overrated by the media.    Lee Smith?  Hmmmm... This one\\'s actually pretty close.  He\\'s had a s solid, dependable career as a closer despite pitching in some nasty parks  (Wrigley, Fenway...).  I\\'d have to take a closer look at the stats (it\\'s been  a while), but it seems Lee Arthur is of HOF caliber.    You do make a legitimate point about the HOF credentials of relievers, simply racking up a lot of saves doesn\\'t mean a whole hell of a lot if you  blow a bunch, too.  Simply because Minnesota and Boston and (for a month) Atlanta used Reardon as a closer for longer than he should have been one,  the Equalizer has racked up an impressive number of saves.  No way should  HomerMan be in the HOF, IMHO.  Darrell Evans?  Nice career, actually a bit underrated (kinda like Ted Simmons, IMHO), but not a HOF\\'er.    Lemme ask you this.  Who the hell playing the game ISN\\'T marginal?    Now, wait a goddamn minute here.  Ozzie Smith absolutely REDEFINED the position of shortstop.  His defense was SO good that he\\'s won something along the lines of 10 Gold Gloves.  Again, Gold Gloves are mediot-biased, and a  good argument could be made that Larkin deserved one or two of Ozzie\\'s more recent awards, but usually, this is tempered by someone else in the early 80\\'s getting the Gold Gloves Ozzie deserved earlier in his career.  Ozzie\\'s offense, you ask?  Good OBP, great speed numbers, in a park which, for most of his career, depressed offense, admittedly, no power (\\'cept against Tom Niedenfuer :-|), but still, a definite asset offensively.  Yount?  3,000 hits, MVP at two different positions, uh-huh, a real stiff.  His \\'82 was one of the great years EVER by a player in recent memory, and probably ranks behind only the peak seasons of Wagner and Banks, as far as SS numbers go.  He\\'s a clear HOF\\'er, IMHO.    Well, as far as Garvey goes, you\\'re right.  Garvey is a \"mediot\"  candidate, pushed because of his \"winning attitude\" (a minor factor, if one at all), and his \"great defense\" (no errors, admittedly, but the range of a tree stump...).  Garvey shouldn\\'t be in the HOF.  SkyJack?  I\\'ve said a lot of nasty things about SkyJack in the last year or so, but this is mostly in response to mediots and woofers who talk about Morris\\' \"ability to win\" which is nothing more than Morris\\' \"ability to pitch when Toronto to score tons of runs\".  At this point, Morris is an average pitcher (although from his early returns in \\'93, he may be damned  close to done.).  But, in all fairness, Morris was a dominant pitcher in the 80\\'s for up-and-down Tiger teams.  While 1984 was (obviously) a great year for Detroit, the rest of the decade, the team was generally in contention, but not favorites.  Morris\\' career numbers are quite good, and worthy of HOF \"consideration\".    Ryan?  Of course, but be careful.  I guarantee you that someone will throw back your earlier logic about \"Yount and Smith being shortstops who  hung around a long time\".  After all, Nolan never won a Cy...  Damn, he\\'s  just pitcher who hung around for 99 years...  His W-L record is mediocre... (Of course, Nolan\\'s a HOF\\'er...)  Puck?  Probably, although he\\'s got to play reasonably well for a few more years (10 years, even good ones, aren\\'t enough to make the HOF, most likely).  That said, I believe Puckett WILL make the HOF, pretty much regardless of how the rest of his career turns out (barring something REALLY  tragic or sudden).  He\\'s very popular in the media and with fans, and legitimately has been one of the best CF\\'s in the game since he joined the league.  I\\'ve always liked the guy, and I hope he does make it.  And, in the end, I think the Puck will make it in.  But, really, it\\'s too early to sell.   This debate comes up rather frequently on the net, and, believe it  or not, I never tire of it.  It\\'s an interesting subject.  Here\\'s an off the top of my head list of potential HOF\\'ers from each team.  I probably left a couple of guys off, so feel free to follow up.  I won\\'t consider ANYONE who started playing after about 1985 (again, too early to tell.) [Note: these are all active players, I\\'m not counting recent retirees]  Baltimore:  Cal Ripken (should be a lock by now, even if Gehrig\\'s record stands) Boston: Roger Clemens (might be a lock already, which is amazing), Dawson (?) Detroit: Alan Trammell and Lou Whitaker (possibilities) Milwaukee: Robin Yount (discussed earlier) New York: Wade Boggs (possibly), Mattingly (long shot) Toronto: Paul Molitor and Jack Morris (possibilities)  Kansas City: George Brett (lock) Minnesota: Kirby (too early to tell), Winfield (lock) Oakland: Eckersley (lock), McGwire (too early), Rickey (lock), Welch (LONG shot) Texas: The Mighty Nolan [Too early to consider Canseco or Strange :-)]  Cubs: Sandberg (lock) St. Louis: Ozzie (lock), Lee Smith (probably) New York: Murray (almost a lock), Saberhagen (obviously, he\\'s got to regain              past form) [And most certainly, NOT Vince Coleman, despite what he\\'ll tell you :-)]  Los Angeles: Butler, Strawberry, and Hershiser are all long shots. San Diego: Tony Gwynn (pretty good shot) Colorado: Dale Murphy (a good shot), Ryan Bowen (just to see if you\\'re awake)   [Before I get flames: this is an off-the-top-of-the-head list, there\\'s probably a few deserving candidates that I left off, and, I didn\\'t include Barry Bonds, Will Clark, Any Atlanta Starting Pitcher, Frank Thomas, Canseco, McGriff, etc. because I only considered guys who started playing before 1985)]   E-mail or post, I almost fear what I may have started here... ', \"I'm no Kingman fan.  Just thought I'd point out that he's the only player in history to have five three-HR games.  Joe Carter has four.  Eddie Murray three.  McCovey and Gehrig also three. Ruth, Mays, Foxx and Dawson two each.  I don't think Reggie's WS game counts, else I believe he would  also have had two.   -- The Beastmaster \", \"Dave Winfield's name does not go           In terms of PEAK, and I repeat PEAK years, Winfield has Done it   all. He has batted in the 340's for a season, drove in 100 and more runs   many times in a row before his injury. Consistently hit at or near 300   while knocking in 35 home runs. Have you even LOOKED at Dave Winfield's   slugging percentage for three or 4 of his best seasons. I still think that   dave was one of the BETTER of all time, but obviously not the best. He was   one of the best athletes evr to play baseball. He hit line drives that hit   the scoreboard in left-center field, a feat np one has done in the new   Stadium. Heck, only 2 or 3 other people have hit it over that green fence   since it has been remodeled. He could field, had a bullet arm, and his   hitting was comparable in many seasons to gary sheffields, and barry bonds   of last season. He is older now, and slowing down, takes more of an   uppercut to lift the ball out of the park, but he will always be my hero,   and my idol. There is nothing that could make me happier than George   inviting Dave back to the Bronx to play his last year of ball with the   Yankees. Of course, he will most likely refuse the offer, but who knows?   For 3 million dollars, he'll play. Heck they are giving gallego 2.5   million this year, having Dave as their DH, while leaving him time to play   the field when Tartabull is injured, or Nokes and mass are traded, should   give the Yanks the inspiration and leadership that will sweep in a new age   of Yankee domination. \", \" I've been saying that for at least 2 years now and even the A's conditioning guru told Jose he was carrying too much weight and losing some would help his back.Although I don't for one second believe Jose used steroids,his back problems are very similar to problems alot of steroid users experience because they are simply carrying too much weight on their frame(see Jeff Bregel ex 49er as a textbook example), and IMHO Jose is too big for his frame.    I can't imagine how to estimate bat speed, but its pretty obvious that Jose is missing fastballs he used to hit, likely due to his back.    I don't know, he had an even more open stance when he first came up with the A's, and had no problems with it then. It might be that pre-back problems, he was quick enough to cover up any deficiencies the stance caused, but now he's lost just enough bat speed that the stance hurts him. The old saying if you're hot its a trigger mechanism, if you're cold, its a hitch.    The biggest problem IMHO is he never has found a stance he's comfortable with for more than a few months. He changes his stance so much, he loses track of where the strike zone is. In Wednesday's night game, he was  clearly mad at strike calls on both corners that looked pretty good to me. I think he no longer knows where the strike zone really is because he's changed his stance so much.  I'm also a bit concerned that because he's got Palmer and Gonzalez hitting all the homeruns, he'll become competitive, swing even harder and screw himself up even worse. LaRussa always said that Canseco's famous batting practice homer shows did him more harm than good as they encouraged bad hitting habits.   \", '   Now, on the other hand, Juan Gonzales probably DOES have a shot at 324 HR\\'s.  ;).      Actually, you might be underpredicting?  ;)  ------------------------------------------------------- Eric Roush  fierkelab@ bchm.biochem.duke.edu \"I am a Marxist, of the Groucho sort\" Grafitti, Paris, 1968  TANSTAAFL! (although the Internet comes close.)', ' True.  William \"Dummy\" Hoy was baseball\\'s first deaf player.  He played in the bigs from 1888 through 1903 for several teams, including the White Sox and Reds. --  ------------------------------------------------------------------------------ Brian Curran                 Mead Data Central              brian@meaddata.com ', ' Catcher is their weakest position, with the possible exception of second base. They have a chance to simultaneously replace their biggest offensive problem spot with a well-above-average offensive player *and* acclimate a highly promising potential star with no pressure on him to carry the team, and they want to play *Olson* and *Berryhill* instead?!   \"A catcher\\'s defensive reputation will be inversely proportional to his  recent offensive level of performance.\"  Thus, Mickey Tettleton goes (in  the media) from being a no-hit defensive whiz to a slugging thumb-finger  in two short years.  The rule doesn\\'t apply to perceived \"superstars\", who  get the Gold Glove Offensive Transfer effect instead.  Greg Olson is probably  considered to be a good defensive catcher precisely because he can\\'t hit.    Aren\\'t they the same thing?   Either that or just stupidity.   Of course.   One could make the same sort of argument in other cases.  Pete Rose, in pursuing Ty Cobb\\'s record, was a huge gate attraction (and national media magnet).  The Reds made a lot of money off that; they also wasted the prime of Eric Davis.  That may be \"good business\", but that doesn\\'t mean I don\\'t loathe them for it.   ', \" I think what Bob is describing here is a game which MAD magazine called 'Basebrawl'.  I have no idea what issue, but it sure did cover the violence issue.  paul    \", \"Deion Sanders hit a home run in his only AB today.  Nixon was 1 for 4.  Infield single.  Deion's batting over .400 Nixon: around .200.   Whom would YOU start? Wise up, Bobby.    See y'all at the ballyard Go Braves Chop Chop  Michael Mule' \"]\n"
     ]
    }
   ],
   "source": [
    "print(topics[18].documents[:10])"
   ]
  },
  {
   "cell_type": "code",
   "execution_count": 109,
   "metadata": {},
   "outputs": [
    {
     "name": "stdout",
     "output_type": "stream",
     "text": [
      "['nyy', 'ump', 'hof', 'garvey', 'koufax', 'santo', 'oba', 'bosio', 'catchers', 'torre', 'schmidt', 'gaetti', 'leius', 'reardon', 'kan', 'mays', 'cin', 'snd', 'zeile', 'olerud', 'shortstop', 'franco', 'beastmaster', 'pinch-hit', 'vizquel', 'mound', 'wrigley', 'hou', 'hank', 'reliever', 'carew', 'daulton', 'outfield', 'mussina', 'no-hitter', 'seaver', 'stanky', 'rulebook', 'boone', 'dykstra', 'raines', 'baserunning', 'tettleton', 'dawson', 'jtcent', 'jtchern', 'mcgwire', 'grounder', 'putouts', 'w-l', 'bigs', 'blauser', 'wetteland', 'guzman', 'light-hitting', 'swallows', 'maldonado', 'darrell', 'fielders', 'staub', 'basemen', 'lowenstein', 'infielder', 'slugging', 'carlton', 'clubhouse', 'pena', 'pendleton', 'gehrig', 'batted', 'abbott', 'maj', 'ernie', 'lakers', 'greenberg', 'ocf.berkeley.edu', 'clippers', 'bennett', 'klein', 'sandy', 'rams', 'perez', 'alphabetical', 'hollins', 'shortstops', 'tartabull', 'ballgames', 'drysdale', 'relievers', 'lefties', 'eldred', 'valle', 'gilkey', 'mcgriff', 'blomberg', 'pags', 'mediot', 'no-hitters', 'mccovey', 'non-clutch', 'lansford', 'gwynn', 'ryne', 'scoreboard', 'scoreless', 'roberto', 'manny', 'riles', 'sherri', 'homerun', 'santiago', 'lou', 'offensively', 'correlate', 'ballpark', 'foxx', 'prowess', 'molitor', 'wynn', 'clemente', 'lefty', 'reulbach', 'pinch-hitter', 'bagwell', 'mcgee', 'cuyler', 'lofton', 'maddux', 'whiten', 'offerman', 'listach', 'sutcliffe', 'metrodome', 'kruk', 'baserunners', 'teammates', 'nokes', 'stankowitz', 'basestealing', 'fielded', 'postema', 'smoltz', 'caminiti', 'wickman', 'orsulak', 'performances', 'lilliquist', 'cito', 'ballplayers', 'hoiles', 'dugout', 'lind', 'centerfielder', 'jefferies', 'holtzman', 'mcreynolds', 'baines', 'incaviglia', 'slaught', 'griffey', 'two-run', 'larussa', 'gagne', 'bunt', 'fastball', 'sabr', 'strikeout', 'devon', 'lavalliere', 'galarraga', 'surhoff', 'militello', 'pagliarulo', 'plantier', 'racking', 'rodriguez', 'csc.albany.edu', 'umps', 'leadoff', 'skydome', 'greenwell', 'whitaker', 'wagner', 'mantle', 'singled', 'rusty', 'all-time', 'deviation', 'possesion', 't.v', 'mcgraw', 'a.l', 'walt', 'overrated', 'tot', 'left-handed', 'remarked', 'carney', 'richie', 'gonzales']\n"
     ]
    }
   ],
   "source": [
    "print(topics[18].top_words[\"tfidf\"][:200])"
   ]
  },
  {
   "cell_type": "code",
   "execution_count": null,
   "metadata": {},
   "outputs": [],
   "source": []
  }
 ],
 "metadata": {
  "kernelspec": {
   "display_name": "llm_sem",
   "language": "python",
   "name": "python3"
  },
  "language_info": {
   "codemirror_mode": {
    "name": "ipython",
    "version": 3
   },
   "file_extension": ".py",
   "mimetype": "text/x-python",
   "name": "python",
   "nbconvert_exporter": "python",
   "pygments_lexer": "ipython3",
   "version": "3.11.4"
  },
  "orig_nbformat": 4
 },
 "nbformat": 4,
 "nbformat_minor": 2
}
