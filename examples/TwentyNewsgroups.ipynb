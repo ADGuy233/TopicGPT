{
 "cells": [
  {
   "cell_type": "code",
   "execution_count": 19,
   "metadata": {},
   "outputs": [],
   "source": [
    "from topicgpt.TopicGPT import TopicGPT\n",
    "from sklearn.datasets import fetch_20newsgroups "
   ]
  },
  {
   "cell_type": "code",
   "execution_count": 20,
   "metadata": {},
   "outputs": [],
   "source": [
    "import os\n",
    "api_key_openai = os.environ.get('OPENAI_API_KEY2') # select your API key here "
   ]
  },
  {
   "cell_type": "code",
   "execution_count": 24,
   "metadata": {},
   "outputs": [],
   "source": [
    "data = fetch_20newsgroups(subset='all', remove=('headers', 'footers', 'quotes')) #download the 20 Newsgroups dataset\n",
    "corpus = data['data']# just select the first 1000 documents for this example\n",
    "corpus = [doc for doc in corpus if doc != \"\"]\n"
   ]
  },
  {
   "cell_type": "code",
   "execution_count": 26,
   "metadata": {},
   "outputs": [],
   "source": [
    "tm = TopicGPT(\n",
    "    openai_api_key = api_key_openai,\n",
    "    n_topics = 20 # select 20 topics since the true number of topics is 20 \n",
    ")"
   ]
  },
  {
   "cell_type": "code",
   "execution_count": 27,
   "metadata": {},
   "outputs": [
    {
     "name": "stdout",
     "output_type": "stream",
     "text": [
      "Computing vocabulary...\n"
     ]
    },
    {
     "name": "stderr",
     "output_type": "stream",
     "text": [
      "Processing corpus: 100%|██████████| 980/980 [00:04<00:00, 208.30it/s]\n"
     ]
    },
    {
     "name": "stdout",
     "output_type": "stream",
     "text": [
      "Most common words:\n",
      "n't: 813\n",
      "would: 557\n",
      "one: 481\n",
      "people: 353\n",
      "know: 312\n",
      "like: 307\n",
      "think: 291\n",
      "get: 259\n",
      "use: 258\n",
      "also: 254\n",
      "Computing embeddings...\n"
     ]
    },
    {
     "name": "stderr",
     "output_type": "stream",
     "text": [
      "100%|██████████| 980/980 [00:00<00:00, 1301.57it/s]\n",
      "100%|██████████| 980/980 [09:41<00:00,  1.69it/s]\n",
      "100%|██████████| 2609/2609 [00:00<00:00, 4873.34it/s]\n",
      "100%|██████████| 2609/2609 [24:19<00:00,  1.79it/s] \n"
     ]
    },
    {
     "name": "stdout",
     "output_type": "stream",
     "text": [
      "Extracting topics...\n",
      "UMAP(angular_rp_forest=True, metric='cosine', min_dist=0, n_components=5, random_state=42, verbose=True)\n",
      "Mon Sep  4 19:29:23 2023 Construct fuzzy simplicial set\n",
      "Mon Sep  4 19:29:38 2023 Finding Nearest Neighbors\n",
      "Mon Sep  4 19:29:49 2023 Finished Nearest Neighbor Search\n",
      "Mon Sep  4 19:29:58 2023 Construct embedding\n"
     ]
    },
    {
     "name": "stderr",
     "output_type": "stream",
     "text": [
      "Epochs completed: 100%| ██████████ 500/500 [00:08]\n"
     ]
    },
    {
     "name": "stdout",
     "output_type": "stream",
     "text": [
      "Mon Sep  4 19:30:07 2023 Finished embedding\n"
     ]
    },
    {
     "name": "stderr",
     "output_type": "stream",
     "text": [
      "Epochs completed: 100%| ██████████ 100/100 [00:02]\n",
      "Computing word-topic matrix: 100%|██████████| 12/12 [00:04<00:00,  2.48it/s]\n"
     ]
    },
    {
     "name": "stdout",
     "output_type": "stream",
     "text": [
      "Shape of tfidf:  (2609, 11)\n",
      "shape fo word_topic_mat:  (2609, 11)\n"
     ]
    },
    {
     "name": "stderr",
     "output_type": "stream",
     "text": [
      "Epochs completed: 100%| ██████████ 100/100 [00:03]\n"
     ]
    },
    {
     "name": "stdout",
     "output_type": "stream",
     "text": [
      "Describing topics...\n"
     ]
    },
    {
     "name": "stderr",
     "output_type": "stream",
     "text": [
      "100%|██████████| 11/11 [01:00<00:00,  5.53s/it]\n"
     ]
    }
   ],
   "source": [
    "tm.fit(corpus)"
   ]
  },
  {
   "cell_type": "code",
   "execution_count": 75,
   "metadata": {},
   "outputs": [
    {
     "name": "stdout",
     "output_type": "stream",
     "text": [
      "Mon Sep  4 20:13:49 2023 Building and compiling search function\n"
     ]
    }
   ],
   "source": [
    "import pickle\n",
    "with open(\"../Data/SavedTopicRepresentations/TopicGPT_20ng.pkl\", \"rb\") as f:\n",
    "    tm = pickle.load(f)"
   ]
  },
  {
   "cell_type": "code",
   "execution_count": 76,
   "metadata": {},
   "outputs": [
    {
     "data": {
      "text/plain": [
       "[Topic 0: Electronics Equipment Sales,\n",
       " Topic 1: Image Processing,\n",
       " Topic 2: Gun control,\n",
       " Topic 3: Online Privacy and Anonymity,\n",
       " Topic 4: Conflict and Violence.,\n",
       " Topic 5: Computer Hardware,\n",
       " Topic 6: Belief and Atheism,\n",
       " Topic 7: Online Discussions,\n",
       " Topic 8: Computer Software,\n",
       " Topic 9: Car Features and Performance,\n",
       " Topic 10: Encryption and Government,\n",
       " Topic 11: Technology and Computing.,\n",
       " Topic 12: Technology and Computing,\n",
       " Topic 13: Space Exploration,\n",
       " Topic 14: Motorcycle Riding Techniques,\n",
       " Topic 15: Technology,\n",
       " Topic 16: Hockey Games,\n",
       " Topic 17: Health and Medicine.,\n",
       " Topic 18: Baseball games and teams.,\n",
       " Topic 19: Beliefs about Homosexuality.]"
      ]
     },
     "execution_count": 76,
     "metadata": {},
     "output_type": "execute_result"
    }
   ],
   "source": [
    "tm.topic_lis"
   ]
  },
  {
   "cell_type": "code",
   "execution_count": 77,
   "metadata": {},
   "outputs": [
    {
     "name": "stdout",
     "output_type": "stream",
     "text": [
      "Topic 0: Electronics Equipment Sales\n",
      "\n",
      "Topic_description: The common topic of the given words appears to be \"electronics and technology\". \n",
      "\n",
      "Various aspects and sub-topics of this topic include:\n",
      "1. Buying and selling: \"offer\", \"sale\", \"sell\", \"price\", \"buy\"\n",
      "2. Device usage and features: \"use\", \"get\", \"new\", \"used\", \"condition\"\n",
      "3. Technical specifications: \"wire\", \"ground\", \"power\", \"circuit\", \"voltage\"\n",
      "4. Communication and connectivity: \"phone\", \"email\", \"modem\", \"wireless\", \"connection\"\n",
      "5. Accessories and peripherals: \"battery\", \"cable\", \"manuals\", \"disk\", \"monitor\"\n",
      "Top words: [\"n't\", 'one', 'would', 'use', 'like', 'get', 'new', 'used', 'offer', 'sale']\n",
      "\n",
      "------------------------------------------------------------------------------------------------------------------------------------------------------\n",
      "Topic 1: Image Processing\n",
      "\n",
      "Topic_description: The common topic of the given words is \"Image Processing and Graphics\". \n",
      "\n",
      "Aspects and sub-topics of this topic include:\n",
      "1. Image Manipulation: \"file\", \"image\", \"format\", \"data\", \"color\"\n",
      "2. Software and Tools: \"program\", \"software\", \"package\", \"tools\", \"library\"\n",
      "3. Display and Visualization: \"window\", \"display\", \"widget\", \"graphics\", \"screen\"\n",
      "4. Application and Usage: \"use\", \"application\", \"program\", \"work\", \"run\"\n",
      "5. Conversion and Compatibility: \"convert\", \"version\", \"formats\", \"compatible\", \"support\"\n",
      "Top words: [\"n't\", 'file', 'image', 'use', 'available', 'get', 'also', 'program', 'files', 'one']\n",
      "\n",
      "------------------------------------------------------------------------------------------------------------------------------------------------------\n",
      "Topic 2: Gun control\n",
      "\n",
      "Topic_description: The common topic of the provided words is \"gun control\". \n",
      "\n",
      "Aspects and sub-topics of the topic include:\n",
      "1. Public opinion and government: \"people\", \"government\", \"think\", \"believe\", \"public\"\n",
      "2. Laws and regulations: \"law\", \"control\", \"laws\", \"crime\", \"illegal\"\n",
      "3. Safety and crime prevention: \"safety\", \"crime\", \"violence\", \"criminals\", \"protection\"\n",
      "4. Rights and individual freedom: \"rights\", \"freedom\", \"individual\", \"rights\", \"personal\"\n",
      "5. Policy and legislation: \"government\", \"policy\", \"legislation\", \"enforcement\", \"regulations\"\n",
      "Top words: [\"n't\", 'would', 'people', 'think', 'one', 'know', 'gun', 'get', 'like', 'government']\n",
      "\n",
      "------------------------------------------------------------------------------------------------------------------------------------------------------\n",
      "Topic 3: Online Privacy and Anonymity\n",
      "\n",
      "Topic_description: The common topic of the given words is \"Internet Privacy\". \n",
      "\n",
      "Aspects of the topic include:\n",
      "1. Anonymity: Protecting identity online.\n",
      "2. Security: Ensuring the safety of information.\n",
      "3. Privacy: Maintaining confidentiality of personal data.\n",
      "4. Encryption: Securing data through coding.\n",
      "5. Anonymity tools: Services to hide online activities.\n",
      "Top words: ['anonymous', 'email', 'internet', 'address', 'information', \"n't\", 'privacy', 'mail', 'one', 'use']\n",
      "\n",
      "------------------------------------------------------------------------------------------------------------------------------------------------------\n",
      "Topic 4: Conflict and Violence.\n",
      "\n",
      "Topic_description: The common topic of the provided words appears to be \"conflict and violence\". \n",
      "\n",
      "Aspects and sub-topics related to this topic include:\n",
      "1. War and military actions: soldiers, troops, genocide, massacre, attack.\n",
      "2. Government and politics: government, political, state, policy, authorities.\n",
      "3. Human rights and justice: rights, civilians, ethnic, leaders, atrocities.\n",
      "4. Victims and suffering: killed, dead, bodies, wounded, victims.\n",
      "5. International involvement: international, countries, support, forces, nations.\n",
      "Top words: [\"n't\", 'people', 'would', 'one', 'said', 'could', 'know', 'like', 'time', 'also']\n",
      "\n",
      "------------------------------------------------------------------------------------------------------------------------------------------------------\n",
      "Topic 5: Computer Hardware\n",
      "\n",
      "Topic_description: The common topic of the provided words is computer hardware. The various aspects and sub-topics of this topic include: \n",
      "- Storage: disk, drive, hard, floppy, drives, data\n",
      "- Components: card, controller, board, chip, motherboard, power, connector\n",
      "- Peripherals: monitor, video, printer, modem, cable, port\n",
      "- Performance: speed, memory, clock, processor, cache\n",
      "- Software: system, software, program, interface, drivers\n",
      "- User experience: problem, work, support, problem, run, help\n",
      "Top words: [\"n't\", 'drive', 'card', 'one', 'would', 'use', 'know', 'get', 'like', 'disk']\n",
      "\n",
      "------------------------------------------------------------------------------------------------------------------------------------------------------\n",
      "Topic 6: Belief and Atheism\n",
      "\n",
      "Topic_description: The common topic of the provided words is \"Belief and Religion\". \n",
      "\n",
      "Aspects and sub-topics of this topic include:\n",
      "1. Atheism: \"atheists\", \"atheism\", \"atheist\"\n",
      "2. God and Religion: \"god\", \"religion\", \"religious\", \"religions\"\n",
      "3. Faith and Beliefs: \"faith\", \"belief\", \"beliefs\"\n",
      "4. Morality and Ethics: \"moral\", \"morality\", \"morals\"\n",
      "5. Science and Truth: \"science\", \"truth\", \"evidence\"\n",
      "\n",
      "Please note that these descriptions are based solely on the provided words and may not capture the full complexity of the topic.\n",
      "Top words: [\"n't\", 'one', 'would', 'people', 'think', 'believe', 'say', 'know', 'like', 'evidence']\n",
      "\n",
      "------------------------------------------------------------------------------------------------------------------------------------------------------\n",
      "Topic 7: Online Discussions\n",
      "\n",
      "Topic_description: The common topic of the given words appears to be online discussions or forums. \n",
      "\n",
      "Various aspects and sub-topics of this topic include:\n",
      "1. Communication: Words like \"say,\" \"post,\" \"letter,\" and \"quote\" indicate the act of expressing thoughts and opinions.\n",
      "2. Interaction: Words like \"reply,\" \"discuss,\" and \"answer\" suggest engagement and exchange of ideas.\n",
      "3. Opinion sharing: Words like \"think,\" \"believe,\" and \"opinions\" indicate the expression of personal viewpoints.\n",
      "4. Group dynamics: Words like \"group,\" \"members,\" and \"names\" suggest the presence of a community or collective.\n",
      "5. Internet culture: Words like \"internet,\" \"newsgroup,\" and \"usenet\" imply the online nature of the discussions.\n",
      "Top words: [\"n't\", 'people', 'say', 'like', 'group', 'would', 'post', 'know', 'one', 'think']\n",
      "\n",
      "------------------------------------------------------------------------------------------------------------------------------------------------------\n",
      "Topic 8: Computer Software\n",
      "\n",
      "Topic_description: The common topic of the given words is **computer software and troubleshooting**.\n",
      "\n",
      "Aspects and sub-topics of the topic include:\n",
      "1. **Operating system**: Windows, DOS, system, memory, disk, drive.\n",
      "2. **Software usage**: Program, use, run, files, software, applications.\n",
      "3. **Problem-solving**: Help, support, fix, error, crashes.\n",
      "4. **Hardware**: Keyboard, mouse, graphics, hardware, device.\n",
      "5. **User experience**: Interface, user, easy, features, user-friendly.\n",
      "Top words: [\"n't\", 'file', 'use', 'program', 'windows', 'would', 'one', 'disk', 'get', 'like']\n",
      "\n",
      "------------------------------------------------------------------------------------------------------------------------------------------------------\n",
      "Topic 9: Car Features and Performance\n",
      "\n",
      "Topic_description: The common topic among the provided words is \"cars\" or \"automobiles\". \n",
      "\n",
      "Aspects and sub-topics of the topic include:\n",
      "- Car features: engine, radar, clutch, transmission, gear, tires, brakes, suspension, steering, throttle, gas, body, top, convertible, interior, seat, foot, door, shifter, gears, radio, road, wheels, oil, air, gauge, dash, windows, fuel, speedo, battery, factory, automatics, manuals, tire, recall, rust, water, damage, paint, reading, stereo, sunroof, safety, lights, coupe, sport, mechanical, handling.\n",
      "- Car performance: speed, power, torque, performance, highway, acceleration, handling.\n",
      "- Car condition: used, problem, condition, mileage, parts, odometer, maintenance, service, repair, rust, damage.\n",
      "- Car buying/selling: price, dealer, used, buying, sell, market, value, dealership, trade-in, sales, invoice, purchase, insurance.\n",
      "- Car models and brands: new, model, make, year, models, brand, manufacturer.\n",
      "- Car driving experience: drive, automatic, manual, clutch, transmission, gear, shift, driver, driving, pedal, road, traffic, highway, speed, control, handling.\n",
      "- Car opinions and reviews: opinion, review, experience, question, opinion, mine, works, questions, opinions.\n",
      "\n",
      "Please note that these sub-topics are inferred based on the provided words and may not cover all possible aspects and sub-topics related to cars.\n",
      "Top words: ['car', \"n't\", 'would', 'like', 'one', 'new', 'engine', 'cars', 'get', 'know']\n",
      "\n",
      "------------------------------------------------------------------------------------------------------------------------------------------------------\n",
      "Topic 10: Encryption and Government\n",
      "\n",
      "Topic_description: The common topic of the given words is \"encryption and government access\". \n",
      "\n",
      "Aspects and sub-topics:\n",
      "1. Encryption methods: algorithms, keys, public-key, ciphers.\n",
      "2. Government access: law, enforcement, wiretap, wiretaps, agencies.\n",
      "3. Privacy and security: secure, secure communication, secure system.\n",
      "4. Technology and devices: chip, phone, device, hardware, computer.\n",
      "5. Public opinion: debate, controversy, opinions, concerns.\n",
      "Top words: [\"n't\", 'key', 'would', 'encryption', 'government', 'use', 'one', 'chip', 'keys', 'people']\n",
      "\n",
      "------------------------------------------------------------------------------------------------------------------------------------------------------\n",
      "Topic 11: Technology and Computing.\n",
      "\n",
      "Topic_description: The common topic of the given words is \"Plumbing\". The various aspects and sub-topics of this topic include: \n",
      "1. \"Pleasure\" and \"Pleasing\" - Satisfaction and enjoyment in plumbing work.\n",
      "2. \"Plenty\" and \"Plentiful\" - Abundance of plumbing supplies.\n",
      "3. \"Plugs\" and \"Plugging\" - Sealing and fitting pipes.\n",
      "4. \"Plunger\" and \"Plunged\" - Unclogging drains and toilets.\n",
      "5. \"Plumbing Fixtures\" - Various components used in plumbing systems.\n",
      "Top words: ['a.a', 'plesetsk', 'plenty', 'plentiful', 'pledged', 'pledge', 'pleasures', 'pleasure', 'pleasing', 'pleases']\n",
      "\n",
      "------------------------------------------------------------------------------------------------------------------------------------------------------\n",
      "Topic 12: Technology and Computing\n",
      "\n",
      "Topic_description: The common topic of the given words is \"Plants\". \n",
      "\n",
      "Aspects and sub-topics of the topic \"Plants\":\n",
      "1. Pleasure and enjoyment: pleasures, pleasure, pleasing, pleases, pleased.\n",
      "2. Pledges and commitments: pledged, pledge.\n",
      "3. Variety and abundance: plenty, plentiful, plethora.\n",
      "4. Play and entertainment: plays, playmates, playmation, playground.\n",
      "5. Plumbing and construction: plumbing, plugs, plugging, pliers, plunger.\n",
      "Top words: ['a.a', 'plesetsk', 'plenty', 'plentiful', 'pledged', 'pledge', 'pleasures', 'pleasure', 'pleasing', 'pleases']\n",
      "\n",
      "------------------------------------------------------------------------------------------------------------------------------------------------------\n",
      "Topic 13: Space Exploration\n",
      "\n",
      "Topic_description: The common topic of the given words is \"space exploration\". \n",
      "\n",
      "Aspects and sub-topics of the topic include:\n",
      "1. Spacecraft and Missions: Launch, orbit, satellite, mission, space probes.\n",
      "2. Technology and Systems: Systems, data, technology, software, hardware.\n",
      "3. Astronomical Objects: Planets, moon, stars, universe, galaxies.\n",
      "4. Challenges and Problems: Cost, funding, safety, technical difficulties.\n",
      "5. Scientific Research: Astronomy, physics, scientific discoveries, research projects.\n",
      "Top words: [\"n't\", 'would', 'space', 'one', 'like', 'could', 'launch', 'also', 'orbit', 'time']\n",
      "\n",
      "------------------------------------------------------------------------------------------------------------------------------------------------------\n",
      "Topic 14: Motorcycle Riding Techniques\n",
      "\n",
      "Topic_description: The common topic of the provided words is \"Motorcycling\". \n",
      "\n",
      "Aspects and sub-topics of this topic include:\n",
      "1. Riding experience: \"ride\", \"riding\", \"bikes\", \"road\", \"miles\"\n",
      "2. Motorcycle maintenance: \"oil\", \"engine\", \"gas\", \"exhaust\", \"brake\"\n",
      "3. Safety and gear: \"helmet\", \"gear\", \"traffic\", \"lights\", \"helmets\"\n",
      "4. Road conditions and hazards: \"lane\", \"traffic\", \"curve\", \"speed\", \"pothole\"\n",
      "5. Tips and advice: \"advice\", \"tips\", \"technique\", \"recommend\", \"learn\"\n",
      "Top words: [\"n't\", 'bike', 'one', 'would', 'get', 'like', 'time', 'car', 'much', 'dog']\n",
      "\n",
      "------------------------------------------------------------------------------------------------------------------------------------------------------\n",
      "Topic 15: Technology\n",
      "\n",
      "Topic_description: The common topic of the provided words is \"planning and activities\". \n",
      "\n",
      "Sub-topics and aspects of this topic include:\n",
      "1. Pledges and pleas: pledge, pledge, please, pleased, pledging\n",
      "2. Pleasure and enjoyment: pleasure, pleasing, pleasant, pleasures\n",
      "3. Play and entertainment: plays, playmates, playoffs, playmation\n",
      "4. Planting and growth: plants, planting, planters, planted\n",
      "5. Policing and policies: police, policy, policing, policies\n",
      "Top words: ['a.a', 'plesetsk', 'plenty', 'plentiful', 'pledged', 'pledge', 'pleasures', 'pleasure', 'pleasing', 'pleases']\n",
      "\n",
      "------------------------------------------------------------------------------------------------------------------------------------------------------\n",
      "Topic 16: Hockey Games\n",
      "\n",
      "Topic_description: The common topic of the given words is \"hockey\". \n",
      "\n",
      "Aspects of the topic include: \n",
      "1. Game: \"play\", \"games\", \"played\", \"scoring\", \"shot\"\n",
      "2. Teams: \"team\", \"teams\", \"players\", \"player\", \"defense\"\n",
      "3. Seasons: \"season\", \"year\", \"years\", \"playoffs\", \"regular\"\n",
      "4. Goals: \"goal\", \"goals\", \"scored\", \"net\", \"scoring\"\n",
      "5. Fans: \"fans\", \"watch\", \"watching\", \"crowd\", \"cheer\"\n",
      "Top words: [\"n't\", 'game', 'team', 'would', 'games', 'play', 'hockey', 'period', 'one', 'season']\n",
      "\n",
      "------------------------------------------------------------------------------------------------------------------------------------------------------\n",
      "Topic 17: Health and Medicine.\n",
      "\n",
      "Topic_description: The common topic of the given words appears to be \"health and medicine\". \n",
      "\n",
      "Aspects and sub-topics related to this topic include:\n",
      "1. Diseases and conditions: \"patients\", \"disease\", \"infection\", \"cancer\", \"symptoms\"\n",
      "2. Medical treatment: \"treatment\", \"medicine\", \"therapy\", \"drug\", \"clinical\"\n",
      "3. Health information and research: \"health\", \"research\", \"medical\", \"evidence\", \"studies\"\n",
      "4. Prevention and risk factors: \"prevention\", \"risk\", \"causes\", \"risk\", \"factors\"\n",
      "5. Healthcare professionals: \"doctor\", \"physician\", \"doctors\", \"physicians\", \"hospital\"\n",
      "\n",
      "Please note that these are general sub-topics inferred from the provided words and may not cover all possible aspects within the topic.\n",
      "Top words: [\"n't\", 'one', 'would', 'patients', 'disease', 'people', 'use', 'know', 'also', 'like']\n",
      "\n",
      "------------------------------------------------------------------------------------------------------------------------------------------------------\n",
      "Topic 18: Baseball games and teams.\n",
      "\n",
      "Topic_description: The common topic of the given words is \"baseball\". \n",
      "\n",
      "Aspects and sub-topics of the topic \"baseball\" include: \n",
      "1. Teams and players: \"team\", \"players\", \"pitcher\", \"hitter\", \"fielder\"\n",
      "2. Game elements: \"game\", \"hit\", \"runs\", \"ball\", \"run\"\n",
      "3. Performance and skills: \"good\", \"better\", \"average\", \"pitching\", \"batting\"\n",
      "4. Seasons and years: \"year\", \"last\", \"season\", \"years\", \"career\"\n",
      "5. Strategy and analysis: \"think\", \"strategy\", \"stats\", \"record\", \"analysis\"\n",
      "Top words: [\"n't\", 'would', 'year', 'game', 'team', 'think', 'one', 'good', 'last', 'games']\n",
      "\n",
      "------------------------------------------------------------------------------------------------------------------------------------------------------\n",
      "Topic 19: Beliefs about Homosexuality.\n",
      "\n",
      "Topic_description: The common topic of the given words appears to be \"religion and morality\". \n",
      "\n",
      "Aspects and sub-topics of this topic include:\n",
      "1. Beliefs and faith: \"sin\", \"faith\", \"belief\", \"eternal\", \"heaven\"\n",
      "2. Morality and ethics: \"homosexuality\", \"marriage\", \"sinful\", \"sexual\", \"wrong\"\n",
      "3. Biblical interpretation: \"passage\", \"context\", \"interpretation\", \"translation\", \"verses\"\n",
      "4. Religious practices: \"baptism\", \"worship\", \"ceremony\", \"churches\", \"prayer\"\n",
      "5. Salvation and redemption: \"salvation\", \"repent\", \"saved\", \"forgiveness\", \"sins\"\n",
      "Top words: [\"n't\", 'would', 'one', 'people', 'sin', 'think', 'say', 'know', 'believe', 'homosexuality']\n",
      "\n",
      "------------------------------------------------------------------------------------------------------------------------------------------------------\n",
      "\n"
     ]
    }
   ],
   "source": [
    "tm.print_topics()"
   ]
  },
  {
   "cell_type": "code",
   "execution_count": 93,
   "metadata": {},
   "outputs": [
    {
     "name": "stdout",
     "output_type": "stream",
     "text": [
      "GPT wants to the call the function:  {\n",
      "  \"name\": \"knn_search\",\n",
      "  \"arguments\": \"{\\n  \\\"topic_index\\\": 13,\\n  \\\"query\\\": \\\"moon landing\\\",\\n  \\\"k\\\": 5\\n}\"\n",
      "}\n",
      "Topic 13, which is related to the keyword \"moon landing,\" has the following information:\n",
      "\n",
      "1. Document index 258: This document provides an introduction to the solar system and mentions that advancements in rocketry after World War II enabled machines to travel to the Moon and other planets. It highlights that the United States has sent both automated spacecraft and human-crewed expeditions to explore the Moon.\n",
      "\n",
      "2. Document index 535: This document discusses a $65 million program called the Back to the Moon bill, which aims to encourage private companies to develop lunar orbiters. It mentions that there is a chance of making a lunar mission happen in this decade through this program.\n",
      "\n",
      "3. Document index 357: This document is a request for more information on a recent newspaper article about the Japanese crashing or crash-landing a package on the Moon. It indicates that the article was vague and unclear.\n",
      "\n",
      "4. Document index 321: This document speculates about what would have happened if the Soviets had beaten the United States in the Moon race. It suggests that the US would have still performed Moon landings and potentially set up a lunar base. The focus on Mars exploration would have depended on the Soviets' actions.\n",
      "\n",
      "5. Document index 102: This document mentions the Hiten engineering-test mission, which spent time in a highly eccentric Earth orbit and performed lunar flybys before being inserted into lunar orbit using gravity-assist-like maneuvers. It states that the mission was expected to crash on the Moon eventually.\n",
      "\n",
      "Please note that the above summaries are based on the content of the documents and may not capture all the information contained within them.\n"
     ]
    },
    {
     "data": {
      "text/plain": [
       "(['This file and other text and image files from JPL missions are available from the JPL Info public access computer site, reachable by Internet via anonymous ftp to pubinfo.jpl.nasa.gov (128.149.6.2); or by dialup modem to +1 (818) 354-1333, up to 9600 bits per second, parameters N-8-1. -----------------------------------------------------------------  Our Solar System at a Glance  Information Summary  PMS 010-A (JPL) June 1991  JPL 410-34-1  6/91  NASA National Aeronautics and Space Administration  Jet Propulsion Laboratory California Institue of Technology Pasadena, California   For a printed copy of this publication contact the public mail office at the NASA center in your geographic region.    INTRODUCTION       From our small world we have gazed upon the cosmic ocean for untold thousands of years. Ancient astronomers observed points of light that appeared to move among the stars. They called these objects planets, meaning wanderers, and named them after Roman deities -- Jupiter, king of the gods; Mars, the god of war; Mercury, messenger of the gods; Venus, the god of love and beauty, and Saturn, father of Jupiter and god of agriculture. The stargazers also observed comets with sparkling tails, and meteors or shooting stars apparently falling from the sky.       Science flourished during the European Renaissance. Fundamental physical laws governing planetary motion were discovered, and the orbits of the planets around the Sun were calculated. In the 17th century, astronomers pointed a new device called the telescope at the heavens and made startling discoveries.       But the years since 1959 have amounted to a golden age of solar system exploration. Advancements in rocketry after World War II enabled our machines to break the grip of Earth\\'s gravity and travel to the Moon and to other planets.       The United States has sent automated spacecraft, then human-crewed expeditions, to explore the Moon. Our automated machines have orbited and landed on Venus and Mars; explored the Sun\\'s environment; observed comets, and made close-range surveys while flying past Mercury, Jupiter, Saturn, Uranus and Neptune.       These travelers brought a quantum leap in our knowledge and understanding of the solar system. Through the electronic sight and other \"senses\" of our automated spacecraft, color and complexion have been given to worlds that for centuries appeared to Earth-bound eyes as fuzzy disks or indistinct points of light. And dozens of previously unknown objects have been discovered.       Future historians will likely view these pioneering flights through the solar system as some of the most remarkable achievements of the 20th century.        AUTOMATED SPACECRAFT       The National Aeronautics and Space Administration\\'s (NASA\\'s) automated spacecraft for solar system exploration come in many shapes and sizes. While they are designed to fulfill separate and specific mission objectives, the craft share much in common.       Each spacecraft consists of various scientific instruments selected for a particular mission, supported by basic subsystems for electrical power, trajectory and orientation control, as well as for processing data and communicating with Earth.       Electrical power is required to operate the spacecraft instruments and systems. NASA uses both solar energy from arrays of photovoltaic cells and small nuclear generators to power its solar system missions. Rechargeable batteries are employed for backup and supplemental power.       Imagine that a spacecraft has successfully journeyed millions of miles through space to fly but one time near a planet, only to have its cameras and other sensing instruments pointed the wrong way as it speeds past the target! To help prevent such a mishap, a subsystem of small thrusters is used to control spacecraft.       The thrusters are linked with devices that maintain a constant gaze at selected stars. Just as Earth\\'s early seafarers used the stars to navigate the oceans, spacecraft use stars to maintain their bearings in space. With the subsystem locked onto fixed points of reference, flight controllers can keep a spacecraft\\'s scientific instruments pointed at the target body and the craft\\'s communications antennas pointed toward Earth. The thrusters can also be used to fine-tune the flight path and speed of the spacecraft to ensure that a target body is encountered at the planned distance and on the proper trajectory.       Between 1959 and 1971, NASA spacecraft were dispatched to study the Moon and the solar environment; they also scanned the inner planets other than Earth -- Mercury, Venus and Mars. These three worlds, and our own, are known as the terrestrial planets because they share a solid-rock composition.       For the early planetary reconnaissance missions, NASA employed a highly successful series of spacecraft called the Mariners. Their flights helped shape the planning of later missions. Between 1962 and 1975, seven Mariner missions conducted the first surveys of our planetary neighbors in space.       All of the Mariners used solar panels as their primary power source. The first and the',\n",
       "  'Although the $1 billion scheme is a fantasy (it\\'s an old canard in the space business called \"trolling for billionaires\"), there is a good chance that a much smaller program ($65 million) will pass the 103rd Congress. This is the Back to the Moon bill, put together by the people who passed the Launch Services Purchase Act. The bill would incent private companies to develop lunar orbiters, with vendors selected on the basis of competitive bidding. There is an aggregate cap on the bids of $65 million.   Having a single rich individual paying billions for lunar missions is probably worse than having the government bankroll a $65 million program, as the Delta Clipper program has shown (DC-X was funded by SDIO at $59 million). We have a clear chance of making a lunar mission happen in this decade - as opposed to simply wishing for our dreams to come true. Please support the Back to the Moon bill.   For more information, please send E-mail with your U.S. postal service address.',\n",
       "  \"Afraid I can't give any more info on this.. and hoping someone in greter NETLAND has some details.  A short story in the newspaper a few days ago made some sort of mention about how the Japanese, using what sounded like a gravity assist, had just managed to crash (or crash-land) a package on the moon.  the article was very vague and unclear.  and, to make matters worse, I didn't clip it.  does this jog anyone's memory? \",\n",
       "  \"Suppose the Soviets had managed to get their moon rocket working and had made it first.  They could have beaten us if either:  * Their rocket hadn't blown up on the pad thus setting them back,  and/or  * A Saturn V went boom.  If they had beaten us, I speculate that the US would have gone head and done some landings, but we also would have been more determined to set up a base (both in Earth Orbit and on the Moon).  Whether or not we would be on Mars by now would depend upon whether the Soviets tried to go.  Setting up a lunar base would have stretched the budgets of both nations and I think that the military value of a lunar base would outweigh the value of going to Mars (at least in the short run).  Thus we would have concentrated on the moon. \",\n",
       "  ' Their Hiten engineering-test mission spent a while in a highly eccentric Earth orbit doing lunar flybys, and then was inserted into lunar orbit using some very tricky gravity-assist-like maneuvering.  This meant that it would crash on the Moon eventually, since there is no such thing as a stable lunar orbit (as far as anyone knows), and I believe I recall hearing recently that it was about to happen.'],\n",
       " [258, 535, 357, 321, 102])"
      ]
     },
     "execution_count": 93,
     "metadata": {},
     "output_type": "execute_result"
    }
   ],
   "source": [
    "tm.pprompt(\"Which information on the keyword 'moon landing' does topic 13 have?\")"
   ]
  },
  {
   "cell_type": "code",
   "execution_count": 96,
   "metadata": {},
   "outputs": [
    {
     "name": "stdout",
     "output_type": "stream",
     "text": [
      "Although the $1 billion scheme is a fantasy (it's an old canard in the space business called \"trolling for billionaires\"), there is a good chance that a much smaller program ($65 million) will pass the 103rd Congress. This is the Back to the Moon bill, put together by the people who passed the Launch Services Purchase Act. The bill would incent private companies to develop lunar orbiters, with vendors selected on the basis of competitive bidding. There is an aggregate cap on the bids of $65 million.   Having a single rich individual paying billions for lunar missions is probably worse than having the government bankroll a $65 million program, as the Delta Clipper program has shown (DC-X was funded by SDIO at $59 million). We have a clear chance of making a lunar mission happen in this decade - as opposed to simply wishing for our dreams to come true. Please support the Back to the Moon bill.   For more information, please send E-mail with your U.S. postal service address.\n"
     ]
    }
   ],
   "source": [
    "print(tm.topic_lis[13].documents[535])"
   ]
  },
  {
   "cell_type": "code",
   "execution_count": 70,
   "metadata": {},
   "outputs": [
    {
     "name": "stdout",
     "output_type": "stream",
     "text": [
      "GPT wants to the call the function:  {\n",
      "  \"name\": \"knn_search\",\n",
      "  \"arguments\": \"{\\n  \\\"topic_index\\\": 0,\\n  \\\"query\\\": \\\"Chemistry\\\",\\n  \\\"k\\\": 5\\n}\"\n",
      "}\n",
      "In topic 0, the keyword \"Chemistry\" does not appear in any of the top 5 documents that are most relevant to the topic.\n"
     ]
    },
    {
     "data": {
      "text/plain": [
       "(['\\nMaybe it\\'s just me, but the combination of those *young* faces peeking out\\nfrom under oversized aqua helmets screams \"Little League\" in every fibre of\\nmy being...\\n',\n",
       "  '\\nRight.  Most definitely.\\n\\n\\nThis may be the root of the confusion...\\n\\nPlease consider the following hypothetical with an open mind.  Note\\nthat I am *not* (yet) saying that it has anything to do with the\\nquestion at hand.\\n\\nSuppose we have a simplified Lotto game.  You pick a number from 1-10\\nand win if that number is drawn.  Suppose we have a large population\\nof people who play this game every week.\\n\\nIn the first year of the game, approximately 1/4 of the population\\nwill win 7 or more times.\\n\\nIn the second year of the game, 1/4 of those 7-time winners will again\\nbe 7-time winners.\\n\\nIn the third year of the game, 1/4 of those who won 7 or more times in\\neach of the first two years will win 7 again.\\n\\nSuppose I started with 1024 people in my population.  After three\\nyears, I have 32 people who have consistently, in each of the last\\nthree years, won 140% or more the number of times expected.\\n\\nDo we expect them to be big winners in the fourth year of the game?\\nNo.  Because we know there is no skill involved.  Nothing about these\\n\"consistent winners\" can influence their chances of winning.  But\\nsuppose we *don\\'t* know whether or not there is a chance that skill\\nmight be involved.  Perhaps some of the people in our population are\\npsychic, or something.  How would we test this hypothesis?\\n\\nWe can look for correlations in the population.  Now most of the\\npopulation will show zero correlation.  But our psychics should show a\\nhigh positive correlation (even if they aren\\'t very good psychics,\\nthey should still manage to win 7 or more times most years).  Net\\nresult?  A small positive correlation over the entire population.\\n\\n\\nWell, zero correlation is zero correlation.  You mention that Sabo has\\nhit poorly in the clutch over the last 3(?) years.  But if we look at\\nthe past, we find that clutch patterns are just as likely to reverse\\nas they are to remain consistent.  The length of the streak doesn\\'t\\nseem to make a difference to the probability that the player will be\\nclutch or choke the next year.  Is there any reason to expect *this*\\nstreak to be different from past streaks?\\n\\nNow if it were true that \"75% of all three-year streaks remained true\\nto form\", then we might have something useful.  But then we wouldn\\'t\\nhave zero correlation.  Instead we have \"50% of all three-year streaks\\nremain true to form, and 50% of all three-year streaks reverse\".  You\\nlook at those numbers and say \"three year choke streak implies more\\nlikely to choke this year\".  But it would be equally valid to look at\\nthose numbers and say \"three year choke streak implies more likely to\\nbe clutch this year\", since the probabilities are split 50-50 each\\nway.\\n\\n\\nThen we would have something useful.  And we would also have a\\npositive correlation.  But for every individual that exhibits such a\\npattern and holds true, there is another who exhibits such a pattern\\nand then reverses.',\n",
       "  \"\\n\\nWhy not? I believe both the Devils and Islanders got 87 points.\\nSay for example, another team had this record : 20-37-47;\\nthey had 20*2+47*1+37*0=87 which is the same as their points total.\\n(The Islanders' and Devils' records are both 40-37-7.\\n\\nIt is simple arithmetics and involve no Calculus.\\n\",\n",
       "  '-------------------------------------------------------------------------\\nOne reason that the WHA abandoned the blue puck was the fact that it\\ncrumbled very quickly during play.  The blue dye that was used somehow\\naffected the vulcanized rubber of the puck, decreasing its cohesiveness.',\n",
       "  '\\n\\nI was in fact going to suggest that Roger take his way of discussion over\\nto r.s.football.pro. There this kind of hormone-only reasoning is the\\nstandard. Being he canadian, and hockey what it is, I would have suggested\\nthat r.s.h would work too. It is important in a thread that everyone\\ninvolved use the same body part to produce a post (brain being the organ\\nof choice here).'],\n",
       " [48, 38, 13, 67, 69])"
      ]
     },
     "execution_count": 70,
     "metadata": {},
     "output_type": "execute_result"
    }
   ],
   "source": [
    "tm.pprompt(\"What information on the keyword 'Chemistry' does topic 0 contain?\")"
   ]
  },
  {
   "cell_type": "code",
   "execution_count": 64,
   "metadata": {},
   "outputs": [
    {
     "data": {
      "text/plain": [
       "'\\nRight.  Most definitely.\\n\\n\\nThis may be the root of the confusion...\\n\\nPlease consider the following hypothetical with an open mind.  Note\\nthat I am *not* (yet) saying that it has anything to do with the\\nquestion at hand.\\n\\nSuppose we have a simplified Lotto game.  You pick a number from 1-10\\nand win if that number is drawn.  Suppose we have a large population\\nof people who play this game every week.\\n\\nIn the first year of the game, approximately 1/4 of the population\\nwill win 7 or more times.\\n\\nIn the second year of the game, 1/4 of those 7-time winners will again\\nbe 7-time winners.\\n\\nIn the third year of the game, 1/4 of those who won 7 or more times in\\neach of the first two years will win 7 again.\\n\\nSuppose I started with 1024 people in my population.  After three\\nyears, I have 32 people who have consistently, in each of the last\\nthree years, won 140% or more the number of times expected.\\n\\nDo we expect them to be big winners in the fourth year of the game?\\nNo.  Because we know there is no skill involved.  Nothing about these\\n\"consistent winners\" can influence their chances of winning.  But\\nsuppose we *don\\'t* know whether or not there is a chance that skill\\nmight be involved.  Perhaps some of the people in our population are\\npsychic, or something.  How would we test this hypothesis?\\n\\nWe can look for correlations in the population.  Now most of the\\npopulation will show zero correlation.  But our psychics should show a\\nhigh positive correlation (even if they aren\\'t very good psychics,\\nthey should still manage to win 7 or more times most years).  Net\\nresult?  A small positive correlation over the entire population.\\n\\n\\nWell, zero correlation is zero correlation.  You mention that Sabo has\\nhit poorly in the clutch over the last 3(?) years.  But if we look at\\nthe past, we find that clutch patterns are just as likely to reverse\\nas they are to remain consistent.  The length of the streak doesn\\'t\\nseem to make a difference to the probability that the player will be\\nclutch or choke the next year.  Is there any reason to expect *this*\\nstreak to be different from past streaks?\\n\\nNow if it were true that \"75% of all three-year streaks remained true\\nto form\", then we might have something useful.  But then we wouldn\\'t\\nhave zero correlation.  Instead we have \"50% of all three-year streaks\\nremain true to form, and 50% of all three-year streaks reverse\".  You\\nlook at those numbers and say \"three year choke streak implies more\\nlikely to choke this year\".  But it would be equally valid to look at\\nthose numbers and say \"three year choke streak implies more likely to\\nbe clutch this year\", since the probabilities are split 50-50 each\\nway.\\n\\n\\nThen we would have something useful.  And we would also have a\\npositive correlation.  But for every individual that exhibits such a\\npattern and holds true, there is another who exhibits such a pattern\\nand then reverses.'"
      ]
     },
     "execution_count": 64,
     "metadata": {},
     "output_type": "execute_result"
    }
   ],
   "source": [
    "tm.topic_lis[0].documents[38]"
   ]
  },
  {
   "cell_type": "code",
   "execution_count": null,
   "metadata": {},
   "outputs": [],
   "source": []
  }
 ],
 "metadata": {
  "kernelspec": {
   "display_name": "test_llm_sem1",
   "language": "python",
   "name": "python3"
  },
  "language_info": {
   "codemirror_mode": {
    "name": "ipython",
    "version": 3
   },
   "file_extension": ".py",
   "mimetype": "text/x-python",
   "name": "python",
   "nbconvert_exporter": "python",
   "pygments_lexer": "ipython3",
   "version": "3.11.4"
  },
  "orig_nbformat": 4
 },
 "nbformat": 4,
 "nbformat_minor": 2
}
