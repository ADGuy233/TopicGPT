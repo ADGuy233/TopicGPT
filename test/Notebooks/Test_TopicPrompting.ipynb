{
 "cells": [
  {
   "cell_type": "code",
   "execution_count": 24,
   "metadata": {},
   "outputs": [
    {
     "name": "stdout",
     "output_type": "stream",
     "text": [
      "The autoreload extension is already loaded. To reload it, use:\n",
      "  %reload_ext autoreload\n"
     ]
    }
   ],
   "source": [
    "%load_ext autoreload\n",
    "%autoreload 2"
   ]
  },
  {
   "cell_type": "code",
   "execution_count": 25,
   "metadata": {},
   "outputs": [],
   "source": [
    "import os\n",
    "import sys\n",
    "import inspect\n",
    "\n",
    "sys.path.insert(0, '../..')"
   ]
  },
  {
   "cell_type": "code",
   "execution_count": 26,
   "metadata": {},
   "outputs": [],
   "source": [
    "import os\n",
    "api_key_openai = os.environ.get('OPENAI_API_KEY')\n",
    "org_openai = os.environ.get('OPENAI_ORG')\n",
    "\n",
    "import openai\n",
    "openai.organization = org_openai\n",
    "import numpy as np\n",
    "import json"
   ]
  },
  {
   "cell_type": "code",
   "execution_count": 27,
   "metadata": {},
   "outputs": [],
   "source": [
    "from src.TopicRepresentation.TopicRepresentation import Topic\n",
    "from src.TopicPrompting.TopicPrompting import TopicPrompting\n",
    "from src.TopwordEnhancement.TopwordEnhancement import TopwordEnhancement"
   ]
  },
  {
   "cell_type": "code",
   "execution_count": 28,
   "metadata": {},
   "outputs": [],
   "source": [
    "import numpy as np\n",
    "import pickle"
   ]
  },
  {
   "cell_type": "code",
   "execution_count": 29,
   "metadata": {},
   "outputs": [
    {
     "name": "stdout",
     "output_type": "stream",
     "text": [
      "Sat Aug 26 17:27:31 2023 Building and compiling search function\n"
     ]
    }
   ],
   "source": [
    "with open(\"../../Data/SavedTopicRepresentations/Topics_20ng_v1.pkl\", \"rb\") as f:\n",
    "    topics = pickle.load(f)"
   ]
  },
  {
   "cell_type": "code",
   "execution_count": 30,
   "metadata": {},
   "outputs": [],
   "source": [
    "data = pickle.load(open(\"../../Data/Emebeddings/embeddings_20ng_raw.pkl\", \"rb\"))\n",
    "embeddings = data[\"embeddings\"]\n",
    "corpus = data[\"corpus\"]\n",
    "vocab_embeddings = pickle.load(open(\"../../Data/Emebeddings/embeddings_20ng_vocab.pkl\", \"rb\"))"
   ]
  },
  {
   "cell_type": "code",
   "execution_count": 31,
   "metadata": {},
   "outputs": [
    {
     "data": {
      "text/plain": [
       "[Topic 0: Electronics Equipment and Accessories.,\n",
       " Topic 1: Computer Graphics,\n",
       " Topic 2: Gun Control,\n",
       " Topic 3: Technology and Internet Privacy.,\n",
       " Topic 4: Armenian Genocide,\n",
       " Topic 5: Computer Hardware Components,\n",
       " Topic 6: Religion and sexuality.,\n",
       " Topic 7: Computer Programming,\n",
       " Topic 8: Computer Hardware and Software,\n",
       " Topic 9: Car Performance,\n",
       " Topic 10: Encryption and Security,\n",
       " Topic 11: Computer Programming,\n",
       " Topic 12: Technology and Computing,\n",
       " Topic 13: Space Exploration,\n",
       " Topic 14: Motorcycle Accessories,\n",
       " Topic 15: Technology,\n",
       " Topic 16: Hockey Players.,\n",
       " Topic 17: Medical Treatments,\n",
       " Topic 18: Baseball players and teams.,\n",
       " Topic 19: Christian Doctrines]"
      ]
     },
     "execution_count": 31,
     "metadata": {},
     "output_type": "execute_result"
    }
   ],
   "source": [
    "topics"
   ]
  },
  {
   "cell_type": "code",
   "execution_count": 32,
   "metadata": {},
   "outputs": [
    {
     "data": {
      "text/plain": [
       "'   This is factually incorrect. There was at least one message that said that Waco and Clipper justified \"anything\" in response.  David'"
      ]
     },
     "execution_count": 32,
     "metadata": {},
     "output_type": "execute_result"
    }
   ],
   "source": [
    "topics[2].documents[1]"
   ]
  },
  {
   "cell_type": "code",
   "execution_count": 67,
   "metadata": {},
   "outputs": [],
   "source": [
    "enhancer = TopwordEnhancement(api_key_openai)\n",
    "vocab_embeddings = vocab_embeddings\n",
    "\n",
    "pmp = TopicPrompting(\n",
    "    openai_prompting_model = \"gpt-3.5-turbo-16k\",\n",
    "    max_context_length_promting = 16348,\n",
    "    topic_lis = topics,\n",
    "    openai_key = api_key_openai, \n",
    "    openai_model_temperature_prompting = 1,\n",
    "    enhancer=enhancer,\n",
    "    vocab_embeddings=vocab_embeddings\n",
    ")"
   ]
  },
  {
   "cell_type": "code",
   "execution_count": 60,
   "metadata": {},
   "outputs": [
    {
     "data": {
      "text/plain": [
       "[Topic 0: Electronics Equipment and Accessories.,\n",
       " Topic 1: Computer Graphics,\n",
       " Topic 2: Gun Control,\n",
       " Topic 3: Technology and Internet Privacy.,\n",
       " Topic 4: Armenian Genocide,\n",
       " Topic 5: Computer Hardware Components,\n",
       " Topic 6: Religion and sexuality.,\n",
       " Topic 7: Computer Programming,\n",
       " Topic 8: Computer Hardware and Software,\n",
       " Topic 9: Car Performance,\n",
       " Topic 10: Encryption and Security,\n",
       " Topic 11: Computer Programming,\n",
       " Topic 12: Technology and Computing,\n",
       " Topic 13: Space Exploration,\n",
       " Topic 14: Motorcycle Accessories,\n",
       " Topic 15: Technology,\n",
       " Topic 16: Hockey Players.,\n",
       " Topic 17: Medical Treatments,\n",
       " Topic 18: Baseball players and teams.,\n",
       " Topic 19: Christian Doctrines]"
      ]
     },
     "execution_count": 60,
     "metadata": {},
     "output_type": "execute_result"
    }
   ],
   "source": [
    "pmp.topic_lis"
   ]
  },
  {
   "cell_type": "code",
   "execution_count": 61,
   "metadata": {},
   "outputs": [
    {
     "name": "stdout",
     "output_type": "stream",
     "text": [
      "{\n",
      "  \"role\": \"assistant\",\n",
      "  \"content\": null,\n",
      "  \"function_call\": {\n",
      "    \"name\": \"delete_topic\",\n",
      "    \"arguments\": \"{\\n  \\\"topic_idx\\\": 19,\\n  \\\"inplace\\\": true\\n}\"\n",
      "  }\n",
      "}\n",
      "GPT wants to the call the function:  {\n",
      "  \"name\": \"delete_topic\",\n",
      "  \"arguments\": \"{\\n  \\\"topic_idx\\\": 19,\\n  \\\"inplace\\\": true\\n}\"\n",
      "}\n",
      "Sat Aug 26 18:23:45 2023 Building and compiling search function\n"
     ]
    },
    {
     "name": "stderr",
     "output_type": "stream",
     "text": [
      "Processing corpus: 100%|██████████| 11704/11704 [00:49<00:00, 236.52it/s]\n"
     ]
    },
    {
     "name": "stdout",
     "output_type": "stream",
     "text": [
      "Most common words:\n",
      "n't: 11814\n",
      "would: 7516\n",
      "one: 6956\n",
      "people: 4666\n",
      "max: 4346\n",
      "like: 4303\n",
      "get: 4007\n",
      "know: 3815\n",
      "also: 3812\n",
      "use: 3537\n"
     ]
    },
    {
     "name": "stderr",
     "output_type": "stream",
     "text": [
      "Epochs completed: 100%| ██████████ 100/100 [00:01]\n",
      "Computing word-topic matrix: 100%|██████████| 11704/11704 [00:57<00:00, 204.29it/s]\n",
      "c:\\Users\\arik_\\Documents\\Dokumente\\Studium\\Master\\LLM_seminar\\Project\\src\\ExtractTopWords\\ExtractTopWords.py:264: RuntimeWarning: invalid value encountered in divide\n",
      "  tf = word_topic_mat / np.sum(word_topic_mat, axis=0)\n",
      "Epochs completed: 100%| ██████████ 30/30 [00:03]\n",
      "Computing word-topic matrix: 100%|██████████| 11704/11704 [01:01<00:00, 191.36it/s]\n",
      " 16%|█▌        | 3/19 [00:14<01:13,  4.59s/it]"
     ]
    },
    {
     "name": "stdout",
     "output_type": "stream",
     "text": [
      "Error in topic 3: Request timed out: HTTPSConnectionPool(host='api.openai.com', port=443): Read timed out. (read timeout=600)\n",
      "Trying again...\n"
     ]
    },
    {
     "name": "stderr",
     "output_type": "stream",
     "text": [
      "100%|██████████| 19/19 [11:36<00:00, 36.68s/it]  \n"
     ]
    },
    {
     "name": "stdout",
     "output_type": "stream",
     "text": [
      "[{'role': 'system', 'content': \"You are a helpful assistant. \\nYou are excellent at inferring information about topics discovered via topic modelling using information retrieval. \\nYou summarize information intelligently. \\nYou use the functions you are provided with if applicable.\\nYou make sure that everything you output is strictly based on the provided text. If you cite documents, give their indices. \\nYou always explicitly say if you don't find any useful information!\\nYou only say that something is contained in the corpus if you are very sure about it!  The following information is available about the corpus used to identify the topics: .\\n\"}, {'role': 'user', 'content': 'Please delete topic 19. do this inplace'}, <OpenAIObject at 0x18f4433a630> JSON: {\n",
      "  \"role\": \"assistant\",\n",
      "  \"content\": null,\n",
      "  \"function_call\": {\n",
      "    \"name\": \"delete_topic\",\n",
      "    \"arguments\": \"{\\n  \\\"topic_idx\\\": 19,\\n  \\\"inplace\\\": true\\n}\"\n",
      "  }\n",
      "}, {'role': 'function', 'name': 'delete_topic', 'content': '{\"new topics\": {\"topic_idx\": 18, \"topic_name\": \"Health Conditions\", \"topic_description\": \"The common topic of the given words is \\\\\"Medical Conditions and Treatments\\\\\". \\\\n\\\\nAspects and sub-topics of this topic include:\\\\n1. Infections: HIV-infected, candidiasis, fungal, bacterial, tuberculosis.\\\\n2. Diseases: Crohn\\'s, melanoma, migraines, polio, endometriosis.\\\\n3. Medications: Anti-fungal, Sporanox, antihistamines, antibiotics, steroids.\\\\n4. Body Systems: Digestive, respiratory, urinary, reproductive, nervous.\\\\n5. Medical Procedures: Ultrasound, pap smear, surgery, vaccination, chemotherapy.\"}}'}]\n"
     ]
    }
   ],
   "source": [
    "r2 = pmp.general_prompt(\"Please delete topic 19. do this inplace\")"
   ]
  },
  {
   "cell_type": "code",
   "execution_count": 81,
   "metadata": {},
   "outputs": [
    {
     "data": {
      "text/plain": [
       "[Topic 0: Electronics Equipment and Accessories.,\n",
       " Topic 1: Computer Graphics,\n",
       " Topic 2: Gun Control,\n",
       " Topic 3: Technology and Internet Privacy.,\n",
       " Topic 4: Armenian Genocide,\n",
       " Topic 5: Computer Hardware Components,\n",
       " Topic 6: Religion and sexuality.,\n",
       " Topic 7: Computer Programming,\n",
       " Topic 8: Computer Hardware and Software,\n",
       " Topic 9: Car Performance,\n",
       " Topic 10: Encryption and Security,\n",
       " Topic 11: Computer Programming,\n",
       " Topic 12: Technology and Computing,\n",
       " Topic 13: Space Exploration,\n",
       " Topic 14: Motorcycle Accessories,\n",
       " Topic 15: Technology,\n",
       " Topic 16: Hockey Players.,\n",
       " Topic 17: Medical Treatments,\n",
       " Topic 18: Baseball players and teams.,\n",
       " Topic 19: Christian Doctrines]"
      ]
     },
     "execution_count": 81,
     "metadata": {},
     "output_type": "execute_result"
    }
   ],
   "source": [
    "pmp.topic_lis"
   ]
  },
  {
   "cell_type": "code",
   "execution_count": 78,
   "metadata": {},
   "outputs": [
    {
     "data": {
      "text/plain": [
       "{12: '\\n            Topic index: 12\\n            Topic name: Technology and Computing\\n            Topic description: The common topic of the given words is \"Computer Programming\". \\n\\nAspects and sub-topics of the topic include:\\n1. Programming languages (e.g., \"C++\", \"Python\", \"Java\")\\n2. Software development (e.g., \"coding\", \"debugging\", \"compiling\")\\n3. Algorithms and data structures (e.g., \"sorting\", \"linked list\", \"searching\")\\n4. Computer hardware (e.g., \"processors\", \"memory\", \"peripherals\")\\n5. Software tools and utilities (e.g., \"compilers\", \"debuggers\", \"text editors\")\\n            Topic topwords: [\\'a.a.\\', \\'plural\\', \\'plunged\\', \\'plunge\\', \\'plundering\\', \\'plunderers\\', \\'plundered\\', \\'plunder\\', \\'plurality\\', \\'plumbing\\', \\'pluggers\\', \\'plugger\\', \\'plug-in\\', \\'pls\\', \\'plq\\\\\\\\\\', \\'plp\\', \\'ploy\\', \\'plugging\\', \\'plow\\', \\'plus/minus\\', \\'plutarch\\', \\'pod\\', \\'pob\\', \\'po.cwru.edu\\', \\'pnp\\', \\'pnmconvol\\', \\'pneumonia\\', \\'pne\\', \\'pluses\\', \\'pmview\\', \\'pmjpeg\\', \\'pmfq\\', \\'pmf\\', \\'pmc\\', \\'plywood\\', \\'plymouth\\', \\'plutonium\\', \\'pmp\\', \\'plotters\\', \\'plotter\\', \\'plotted\\', \\'plaza.aarnet.edu.au\\', \\'plaza\\', \\'playmation\\', \\'playmates\\', \\'playmate\\', \\'playmaking\\', \\'playground\\', \\'plcc\\', \\'playboy\\', \\'plausibility\\', \\'plausable\\', \\'platters\\', \\'platter\\', \\'plats\\', \\'platonic\\', \\'platinum\\', \\'play-by-play\\', \\'plea\\', \\'plead\\', \\'pleaded\\', \\'plonk\\', \\'plodded\\', \\'plight\\', \\'pliers\\', \\'pli\\', \\'plexus\\', \\'plethora\\', \\'plesetsk\\', \\'plentiful\\', \\'pledged\\', \\'pledge\\', \\'pleasures\\', \\'pleasing\\', \\'pleases\\', \\'pleasantly\\', \\'pleas\\', \\'pleading\\', \\'podein\\', \\'plated\\', \\'podium\\', \\'pods\\', \\'pomeroy\\', \\'polytopes\\', \\'polytechnic\\', \\'polyray\\', \\'polypropylene\\', \\'polynomials\\', \\'polynomial\\', \\'pomona\\', \\'polylines\\', \\'polyhedra\\', \\'polygonal\\', \\'polygamy\\', \\'polybagged\\', \\'polybag\\', \\'poly\\', \\'polonia\\', \\'polyline\\', \\'polluting\\', \\'pompous\\', \\'pondered\\', \\'porn\\', \\'porch\\', \\'por\\', \\'popups\\', \\'populist\\', \\'populated\\', \\'popi\\', \\'pond\\', \\'popes\\', \\'pop-up\\', \\'poots\\', \\'pools\\', \\'pooling\\', \\'pony\\', \\'pontificated\\', \\'pontiac\\', \\'popcorn\\', \\'polluted\\', \\'pollutants\\', \\'pollsters\\', \\'poker\\', \\'poked\\', \\'poke\\', \\'poisonous\\', \\'poisoning\\', \\'poised\\', \\'pointy\\', \\'poking\\', \\'point-to-point\\', \\'point-and-click\\', \\'pogrom\\', \\'poetry\\', \\'poetic\\', \\'poet\\', \\'poeple\\', \\'poem\\', \\'point-of-view\\', \\'pol\\', \\'polarity\\', \\'polarization\\', \\'polling\\', \\'polled\\', \\'pollard\\', \\'polk\\', \\'polity\\', \\'politician\\', \\'politic\\', \\'politeness\\', \\'politely\\', \\'politburo\\', \\'polished\\', \\'polio\\', \\'policing\\', \\'policeman\\', \\'polemics\\', \\'polaroid\\', \\'polarized\\', \\'podleski\\', \\'pornographers\\', \\'plateau\\', \\'plaster\\', \\'pierre\\', \\'piercing\\', \\'pierced\\', \\'pierce\\', \\'pictured\\', \\'pictel.com\\', \\'pictcompressor\\', \\'pierre_turgeon\\', \\'pict/jpeg\\', \\'picnic\\', \\'picky\\', \\'pickups\\', \\'picket\\', \\'pick-up\\', \\'pick-off\\', \\'pica.army.mil\\', \\'pics.com\\', \\'pic\\', \\'pietrangelo\\', \\'pif\\', \\'pin-compatible\\', \\'piloting\\', \\'pilon\\', \\'pillows\\', \\'pillar\\', \\'pillaged\\', \\'pillage\\', \\'piety\\', \\'pilgrims\\', \\'piles\\', \\'piled\\', \\'pilate\\', \\'pike\\', \\'pigs\\', \\'piggyback\\', \\'piggy\\', \\'pilgrimage\\', \\'piazza\\', \\'piano\\', \\'pia\\', \\'photocd\\', \\'photo-realistic\\', \\'photo-radar\\', \\'phosphorus\\', \\'phosphor\\', \\'phony\\', \\'phono\\', \\'photocopy\\', \\'phong\\', \\'phonenet\\', \\'phoned\\', \\'phone/fax\\', \\'phoenix.oulu.fi\\', \\'phobos\\', \\'phobias\\', \\'phobia\\', \\'phonetic\\', \\'photographed\\', \\'photographer\\', \\'photographers\\', \\'physique\\', \\'physiology\\', \\'physiological\\', \\'physiol\\', \\'physics.su.oz.au\\', \\'physicans\\', \\'phy.mtu.edu\\', \\'phs\\', \\'phrasing\\', \\'phraseology\\', \\'phrased\\', \\'photovoltaic\\', \\'photostyler\\', \\'photon\\', \\'photometry\\', \\'photometer\\', \\'photographic\\', \\'pin-outs\\', \\'plastics\\', \\'pina\\', \\'pinch-hit\\', \\'plagued\\', \\'plague\\', \\'placement\\', \\'placebos\\', \\'pkzip\\', \\'pkunzip\\', \\'pku\\', \\'plagues\\', \\'pkg\\', \\'pixie\\', \\'pixel-block\\', \\'pixar\\', \\'pivot\\', \\'pivonka\\', \\'pius\\', \\'pituitary\\', \\'pkcs\\', \\'pittsburg\\', \\'plainfield\\', \\'plains.nodak.edu\\', \\'plaques\\', \\'plaque\\', \\'planting\\', \\'plantier\\', \\'planted\\', \\'plante\\', \\'planners\\', \\'plainly\\', \\'planner\\', \\'planitia\\', \\'plani\\', \\'planetoid\\', \\'planetarium\\', \\'planar\\', \\'plaintiff\\', \\'plaintexts\\', \\'plank\\', \\'pitted\\', \\'pits\\', \\'pitiful\\', \\'pious\\', \\'pioneers\\', \\'pioneering\\', \\'pioneer.unm.edu\\', \\'pinpoint\\', \\'pinout\\', \\'pinned\\', \\'pip\\', \\'pinnacle\\', \\'pinko\\', \\'pinhead\\', \\'ping\\', \\'pines\\', \\'pinching\\', \\'pinched\\', \\'pinch-hitter\\', \\'pinks\\', \\'piped\\', \\'pipeline\\', \\'piper\\', \\'pithy\\', \\'pitfalls\\', \\'pitas\\', \\'pistons\\', \\'piston\\', \\'pistols\\', \\'pissing\\', \\'pisses\\', \\'pissed-off\\', \\'piss\\', \\'pirenne\\', \\'pirating\\', \\'pirated\\', \\'pirate\\', \\'piracy\\', \\'piqued\\', \\'pique\\', \\'pinball\\', \\'pornographic\\', \\'pornography\\', \\'porous\\', \\'preston\\', \\'presto\\', \\'prestigious\\', \\'prestige\\', \\'pressurized\\', \\'pressurization\\', \\'pressured\\', \\'presumeably\\', \\'presses\\', \\'presley\\', \\'presidency\\', \\'presets\\', \\'preset\\', \\'preserves\\', \\'presentment\\', \\'present-day\\', \\'press-democrat\\', \\'preseason\\', \\'presumes\\', \\'presumptuous\\', \\'previewing\\', \\'previewers\\', \\'previa\\', \\'preventive\\', \\'preventative\\', \\'prevalent\\', \\'prevails\\', \\'presumption\\', \\'prevailing\\', \\'pretexts\\', \\'pretext\\', \\'pretense\\', \\'pretends\\', \\'pretending\\', \\'pretended\\', \\'presupposes\\', \\'prevailed\\', \\'prescribing\\', \\'prescod\\', \\'prescient\\', \\'premature\\', \\'prejudices\\', \\'prejudiced\\', \\'prehaps\\', \\'preformatted\\', \\'prefix\\', \\'preffered\\', \\'prematurely\\', \\'prefers\\', \\'preferrably\\', \\'preferr\\', \\'preferentially\\', \\'preface\\', \\'pref\\', \\'preexisting\\', \\'preemptive\\', \\'preferring\\', \\'premeditated\\', \\'premier\\', \\'premiums\\', \\'pres\\', \\'prerequisite\\', \\'preps\\', \\'preprocessors\\', \\'preprocessor\\', \\'prepress\\', \\'preposterous\\', \\'preponderance\\', \\'prepended\\', \\'preparations\\', \\'prepaid\\', \\'prep.ai.mit.edu\\', \\'prep\\', \\'prentice-hall\\', \\'prentice\\', \\'prens\\', \\'prenatal\\', \\'preyed\\', \\'preeminent\\', \\'preying\\', \\'price/performance\\', \\'procede\\', \\'proc\\', \\'probs\\', \\'problematical\\', \\'problematic\\', \\'probing\\', \\'probe/rrh\\', \\'procedural\\', \\'probabilities\\', \\'prob\\', \\'pro-space\\', \\'pro-responsibility\\', \\'pro-nazi\\', \\'pro-life\\', \\'pro-israel\\', \\'pro-individuality\\', \\'probabilistic\\', \\'pro-homosexual\\', \\'procession\\', \\'proclaiming\\', \\'productions\\', \\'producers\\', \\'producer\\', \\'prodrive\\', \\'prodigy\\', \\'prodigal\\', \\'prodesigner\\', \\'processor-direct\\', \\'procuring\\', \\'procure\\', \\'procurator\\', \\'procuracy\\', \\'proctor\\', \\'procreation\\', \\'procomm\\', \\'proclamation\\', \\'procurement\\', \\'pro-german\\', \\'pro-choice\\', \\'pro-\\', \\'principals\\', \\'principally\\', \\'princeton.edu\\', \\'princes\\', \\'primordial\\', \\'primitives\\', \\'primes\\', \\'printmonitor\\', \\'primers\\', \\'primeau\\', \\'primates\\', \\'primate\\', \\'primal\\', \\'prima\\', \\'pricier\\', \\'pricey\\', \\'primer\\', \\'printout\\', \\'priori\\', \\'prism\\', \\'prnt\\', \\'prk\\', \\'prjevalski\\', \\'prj\\', \\'prizm\\', \\'prizes\\', \\'prized\\', \\'prix\\', \\'privileges\\', \\'privileged\\', \\'privilege\\', \\'privatization\\', \\'private-key\\', \\'privacy-related\\', \\'pristine\\', \\'prisons\\', \\'prisoner\\', \\'prez\\', \\'predominantly\\', \\'predominant\\', \\'prednisone\\', \\'potentiometer\\', \\'potentiate\\', \\'potentials\\', \\'potent\\', \\'potatoes\\', \\'potato\\', \\'potassium\\', \\'pothole\\', \\'posturing\\', \\'postulated\\', \\'postulate\\', \\'postseason\\', \\'postscript-based\\']',\n",
       " 13: '\\n            Topic index: 13\\n            Topic name: Space Exploration\\n            Topic description: The common topic of the words provided is \"Space Exploration\". \\n\\nAspects and sub-topics of the topic include:\\n1. Missions: flybys, voyagers, phobos, ulysses\\n2. Astronomical phenomena: quasars, astrophysical, astrophysics, supernova\\n3. Planets and moons: triton, ganymede, europa, charon\\n4. Astronautics and space technology: thrusters, thruster, spacecraft, spacewalks\\n5. Scientific instruments and research: astrophysicists, astrophysics, magnetometer, spectroscopy\\n            Topic topwords: [\\'flybys\\', \\'voyagers\\', \\'quasars\\', \\'astrophysical\\', \\'reboost\\', \\'dwarf\\', \\'baalke\\', \\'thruster\\', \\'grb\\', \\'phobos\\', \\'eva\\', \\'methane\\', \\'skies\\', \\'ejasa\\', \\'isas\\', \\'grbs\\', \\'edo\\', \\'grains\\', \\'spacewalks\\', \\'astrophysics\\', \\'cometary\\', \\'acronyms\\', \\'sagan\\', \\'triton\\', \\'gibbons\\', \\'ulysses\\', \\'supernova\\', \\'pulsars\\', \\'close-up\\', \\'decay\\', \\'bursters\\', \\'worden\\', \\'no-op\\', \\'prefix\\', \\'cato\\', \\'iras\\', \\'verga.enet.dec.com\\', \\'astrophysicists\\', \\'galilean\\', \\'accelerations\\', \\'msfc\\', \"o\\'connor\", \\'angular\\', \\'margins\\', \\'surveyor\\', \\'reciprocal\\', \\'pallet\\', \\'spacelink\\', \\'astro\\', \\'astronautics\\', \\'on-orbit\\', \\'thrusters\\', \\'merging\\', \\'consumables\\', \\'faa\\', \\'energetic\\', \\'adaptive\\', \\'kjenks\\', \\'vibrational\\', \\'gro\\', \\'dragless\\', \\'cola\\', \\'tug\\', \\'sei\\', \\'wingert\\', \\'euv\\', \\'cgro\\', \\'space-related\\', \\'jovian\\', \\'astronautical\\', \\'ground-based\\', \\'sci.space.shuttle\\', \\'fuselage\\', \\'magnetometer\\', \\'craters\\', \\'propellant\\', \\'kelvin.jpl.nasa.gov\\', \\'meteorology\\', \\'reentry\\', \\'sulfur\\', \\'volcanic\\', \\'scalar\\', \\'ssme\\', \\'langley\\', \\'halo\\', \\'yee\\', \\'jenks\\', \\'topex/poseidon\\', \\'propagation\\', \\'volcanoes\\', \\'goldin\\', \\'s/c\\', \\'evas\\', \\'geology\\', \\'colliding\\', \\'zodiacal\\', \\'ganymede\\', \\'dc-y\\', \\'charon\\', \\'europa\\', \\'photon\\', \\'craf\\', \\'cosmological\\', \\'maneuvering\\', \\'advertisers\\', \\'pro-space\\', \\'ksc\\', \\'starlight\\', \\'blackbody\\', \\'gyros\\', \\'periodicals\\', \\'single-stage\\', \\'yamada\\', \\'contractors\\', \\'dds\\', \\'contingency\\', \\'nssdc\\', \\'isotropic\\', \\'sunset\\', \\'explored\\', \\'landings\\', \\'slew\\', \\'nasda\\', \\'rover\\', \\'readouts\\', \\'kuiper\\', \\'sdi\\', \\'hiten\\', \\'keck\\', \\'explosions\\', \\'liek\\', \\'geological\\', \\'capsule\\', \\'challenger\\', \\'travelers\\', \\'equator\\', \\'vandalism\\', \\'lava\\', \\'iau\\', \\'habitation\\', \\'sightings\\', \\'crust\\', \\'postulates\\', \\'downlink\\', \\'planetoid\\', \\'ecliptic\\', \\'astrophys\\', \\'atmospheres\\', \\'supersonic\\', \\'weightlessness\\', \\'space-based\\', \\'geophysical\\', \\'commercials\\', \\'propellants\\', \\'meteorological\\', \\'gravitationally\\', \\'ephemeris\\', \\'nssdca.gsfc.nasa.gov\\', \\'electro-magnetic\\', \\'follow-on\\', \\'arcs\\', \\'trajectories\\', \\'stellar\\', \\'banner\\', \\'tilted\\', \\'sunrise\\', \\'radioed\\', \\'leasing\\', \\'ac/dc\\', \\'dsn\\', \\'huygens\\', \\'grapple\\', \\'terra\\', \\'sakigake\\', \\'planitia\\', \\'attitude-control\\', \\'starcat\\', \\'maturity\\', \\'positional\\', \\'tripoli\\', \\'everest\\', \\'baseline\\', \\'farside\\', \\'waiver\\', \\'ssi\\', \\'cmd\\', \\'advertisements\\', \\'acrv\\', \\'vida\\', \\'assessing\\', \\'coca\\', \\'valleys\\', \\'hagoromo\\', \\'conservation\\', \\'costar\\', \\'aiaa\\', \\'larc\\', \\'noaa\\', \\'boosters\\', \\'icy\\', \\'llnl\\', \\'tether\\', \\'sao\\', \\'giotto\\', \\'livermore\\', \\'parachute\\', \\'axaf\\', \\'reflector\\', \\'microns\\', \\'miranda\\', \\'bret\\', \\'isp\\', \\'inward\\', \\'doppler\\', \\'auroral\\', \\'moonbase\\', \\'spacewalk\\', \\'perihelion\\', \\'heliocentric\\', \\'lockheed\\', \\'inertial\\', \\'aerobraking\\', \\'expeditions\\', \\'saturnian\\', \\'terrestrial\\', \\'high-altitude\\', \\'scattering\\', \\'icbm\\', \\'stsci.edu\\', \\'spheres\\', \\'sulfuric\\', \\'miners\\', \\'climatic\\', \\'inter-library\\', \\'airmail\\', \\'zoo.toronto.edu\\', \\'wsmr\\', \\'maxwell\\', \\'p.o.box\\', \\'congressperson\\', \\'smt\\', \\'heinlein\\', \\'distortions\\', \\'lattice\\', \\'dispatched\\', \\'absorbed\\', \\'gases\\', \\'reflective\\', \\'deploy\\', \\'positron\\', \\'seti\\', \\'perturbations\\', \\'endeavour\\', \\'antennae\\', \\'lox\\', \\'srb\\', \\'frost\\', \\'lawson\\', \\'eco-freaks\\', \\'nasp\\', \\'candy\\', \\'gaseous\\', \\'tidal\\', \\'delivering\\', \\'otv\\', \\'preston\\', \\'cliffs\\', \\'isas/nasda\\', \\'anomaly\\', \\'sands\\', \\'eliminates\\', \\'relays\\', \\'aesthetics\\', \\'equivalents\\', \\'cloudy\\', \\'descending\\', \\'constrained\\', \\'seds\\', \\'warming\\', \\'nuclei\\', \\'pioneers\\', \\'pvo\\', \\'dues\\', \\'dublin\\', \\'eder\\', \\'uvs\\', \\'conestoga\\', \\'aggregate\\', \\'dwarfs\\', \\'equilibrium\\', \\'equatorial\\', \\'cradle\\', \\'demonstrator\\', \\'thickness\\', \\'pristine\\', \\'madrid\\', \\'vibrations\\', \\'albedo\\', \\'catastrophic\\', \\'activist\\', \\'stationary\\', \\'wavelength\\', \\'alexis\\', \\'abyss\\', \\'rotations\\', \\'stow\\', \\'callisto\\', \\'aphelia\\', \\'ants\\', \\'datum\\', \\'decreases\\', \\'clusters\\', \\'streaks\\', \\'liftoff\\', \\'bis\\', \\'wavelengths\\', \\'magnet\\', \\'isu\\', \\'sawyer\\', \\'reciprocity\\', \\'maneuvers\\', \\'oceans\\', \\'freon\\', \\'constraint\\', \\'reductions\\', \\'encounters\\', \\'absorption\\', \\'observational\\', \"l\\'enfant\", \\'skeptics\\', \\'aas\\', \\'relativistic\\', \\'ida\\', \\'apple.com\\', \\'microgravity\\', \\'geostationary\\', \\'observatories\\', \\'skylab\\', \\'starflight\\', \\'dark-sky\\', \\'scintillation\\', \\'spacenews\\', \\'spacehab\\', \\'jettison\\', \\'spacelab\\', \\'soyuz\\', \\'meteorite\\', \\'off-earth\\', \\'photovoltaic\\', \\'hyperspace\\', \\'shuttles\\', \\'amsat\\', \\'brightest\\', \\'pressurized\\', \\'astro-physicists\\', \\'rec.models.rockets\\', \\'intergalactic\\', \\'aerodynamics\\', \\'airplanes\\', \\'space-investors\\', \\'blackbodies\\', \\'earths\\', \\'n-body\\', \\'arianespace\\', \\'extragalactic\\', \\'hemispheres\\', \\'b-field\\', \\'earth-based\\', \\'larc.nasa.gov\\', \\'mylar\\', \\'magnitudes\\', \\'pioneer.unm.edu\\', \\'cfa.harvard.edu\\', \\'chara.gsu.edu\\', \\'isu.isunet.edu\\', \\'yscvax.ysc.go.jp\\', \\'netnews\\', \\'esoteric\\', \\'bulletins\\', \\'kilograms\\', \\'hardcover\\', \\'altimeter\\', \\'expenditures\\', \\'krumins\\', \\'srbs\\', \\'meridian\\', \\'intrusion\\', \\'deviations\\', \\'spinoffs\\', \\'utilizing\\', \\'compton\\', \\'molten\\', \\'off-sun\\', \\'nsmca\\', \\'fourteen\\', \\'procurement\\', \\'long-duration\\', \\'coke\\', \\'wallops\\', \\'skewed\\', \\'gsfc\\', \\'miner\\', \\'poker\\', \\'ufo\\', \\'canceled\\', \\'dive\\', \\'post-launch\\', \\'warp\\', \\'canaveral\\', \\'exhibited\\', \\'backers\\', \\'colonies\\', \\'constants\\', \\'pontificated\\', \\'degenerate\\', \\'clutter\\', \\'chlorine\\', \\'energies\\', \\'boil\\', \\'intriguing\\', \\'ambient\\', \\'explorers\\', \\'axial\\', \\'coma\\', \\'jane\\', \\'wiser\\', \\'elitist\\', \\'re-entry\\', \\'amsterdam\\', \\'wingless\\', \\'spew\\', \\'corrosive\\', \\'manipulator\\', \\'burster\\', \\'commutative\\', \\'bidding\\', \\'vandenberg\\', \\'eruption\\', \\'pushes\\', \\'un-altered\\', \\'hathaway\\', \\'pepsi\\', \\'lox/lh\\', \\'greenhouse\\', \\'shroud\\', \\'protests\\', \\'cobe\\', \\'epd\\', \\'bi-weekly\\', \\'pinching\\', \\'docking\\', \\'gds\\', \\'malfunction\\', \\'experimenters\\', \\'lerc\\', \\'chocolate\\', \\'aesthetic\\', \\'liquids\\', \\'bode\\', \\'journeys\\', \\'sherzer\\', \\'probe/rrh\\', \\'carriage\\', \\'dani\\', \\'opacity\\', \\'castle\\', \\'ausman\\', \\'kelso\\', \\'rolls\\', \\'initiation\\', \\'preps\\', \\'emeritus\\', \\'radiate\\', \\'perturbed\\', \\'fgs\\', \\'highlands\\', \\'lightweight\\', \\'robotic\\', \\'cutoff\\', \\'erupting\\', \\'feasability\\', \\'miya\\', \\'hic\\', \\'canyon\\', \\'latitude\\', \\'voyage\\', \\'metallic\\', \\'euclidean\\', \\'smithsonian\\', \\'lagging\\', \\'u.k.\\', \\'inverse\\', \\'haze\\', \\'bimonthly\\', \\'expands\\', \\'foc\\', \\'forecast\\', \\'bachelor\\', \\'uncertain\\', \\'bulge\\']'}"
      ]
     },
     "execution_count": 78,
     "metadata": {},
     "output_type": "execute_result"
    }
   ],
   "source": [
    "pmp.get_topic_information([12, 13])"
   ]
  },
  {
   "cell_type": "code",
   "execution_count": 82,
   "metadata": {},
   "outputs": [
    {
     "name": "stdout",
     "output_type": "stream",
     "text": [
      "{\n",
      "  \"role\": \"assistant\",\n",
      "  \"content\": null,\n",
      "  \"function_call\": {\n",
      "    \"name\": \"get_topic_information\",\n",
      "    \"arguments\": \"{\\n  \\\"topic_idx_lis\\\": [11, 12]\\n}\"\n",
      "  }\n",
      "}\n",
      "GPT wants to the call the function:  {\n",
      "  \"name\": \"get_topic_information\",\n",
      "  \"arguments\": \"{\\n  \\\"topic_idx_lis\\\": [11, 12]\\n}\"\n",
      "}\n",
      "[{'role': 'system', 'content': \"You are a helpful assistant. \\nYou are excellent at inferring information about topics discovered via topic modelling using information retrieval. \\nYou summarize information intelligently. \\nYou use the functions you are provided with if applicable.\\nYou make sure that everything you output is strictly based on the provided text. If you cite documents, give their indices. \\nYou always explicitly say if you don't find any useful information!\\nYou only say that something is contained in the corpus if you are very sure about it!  The following information is available about the corpus used to identify the topics: .\\n\"}, {'role': 'user', 'content': 'Please compare topics 11 and 12.'}, <OpenAIObject at 0x18fc75164b0> JSON: {\n",
      "  \"role\": \"assistant\",\n",
      "  \"content\": null,\n",
      "  \"function_call\": {\n",
      "    \"name\": \"get_topic_information\",\n",
      "    \"arguments\": \"{\\n  \\\"topic_idx_lis\\\": [11, 12]\\n}\"\n",
      "  }\n",
      "}, {'role': 'function', 'name': 'get_topic_information', 'content': '{\"topic info\": {\"11\": \"\\\\n            Topic index: 11\\\\n            Topic name: Computer Programming\\\\n            Topic description: The common topic of the given words appears to be \\\\\"technology and computing\\\\\". \\\\n\\\\nAspects and sub-topics of this topic include: \\\\n1. Computer hardware and software: \\\\\"plotters\\\\\", \\\\\"plotter\\\\\", \\\\\"plywood\\\\\", \\\\\"plymouth\\\\\", \\\\\"platinum\\\\\"\\\\n2. Internet and communication: \\\\\"plaza.aarnet.edu.au\\\\\", \\\\\"plaza\\\\\", \\\\\"pictel.com\\\\\", \\\\\"phone/fax\\\\\", \\\\\"phonenet\\\\\"\\\\n3. Data and file formats: \\\\\"pnmconvol\\\\\", \\\\\"pmview\\\\\", \\\\\"pmjpeg\\\\\", \\\\\"pmc\\\\\", \\\\\"pict/jpeg\\\\\"\\\\n4. Programming and coding: \\\\\"plq\\\\\\\\\\\\\\\\\\\\\", \\\\\"pnp\\\\\", \\\\\"pmp\\\\\", \\\\\"pne\\\\\", \\\\\"pma\\\\\"\\\\n5. Electronics and devices: \\\\\"plugs\\\\\", \\\\\"plugger\\\\\", \\\\\"plug-in\\\\\", \\\\\"pnp\\\\\", \\\\\"pma\\\\\"\\\\n\\\\nPlease note that these descriptions are based solely on the provided words and may not capture the full breadth of the topic.\\\\n            Topic topwords: [\\'a.a.\\', \\'plural\\', \\'plunged\\', \\'plunge\\', \\'plundering\\', \\'plunderers\\', \\'plundered\\', \\'plunder\\', \\'plurality\\', \\'plumbing\\', \\'pluggers\\', \\'plugger\\', \\'plug-in\\', \\'pls\\', \\'plq\\\\\\\\\\\\\\\\\\', \\'plp\\', \\'ploy\\', \\'plugging\\', \\'plow\\', \\'plus/minus\\', \\'plutarch\\', \\'pod\\', \\'pob\\', \\'po.cwru.edu\\', \\'pnp\\', \\'pnmconvol\\', \\'pneumonia\\', \\'pne\\', \\'pluses\\', \\'pmview\\', \\'pmjpeg\\', \\'pmfq\\', \\'pmf\\', \\'pmc\\', \\'plywood\\', \\'plymouth\\', \\'plutonium\\', \\'pmp\\', \\'plotters\\', \\'plotter\\', \\'plotted\\', \\'plaza.aarnet.edu.au\\', \\'plaza\\', \\'playmation\\', \\'playmates\\', \\'playmate\\', \\'playmaking\\', \\'playground\\', \\'plcc\\', \\'playboy\\', \\'plausibility\\', \\'plausable\\', \\'platters\\', \\'platter\\', \\'plats\\', \\'platonic\\', \\'platinum\\', \\'play-by-play\\', \\'plea\\', \\'plead\\', \\'pleaded\\', \\'plonk\\', \\'plodded\\', \\'plight\\', \\'pliers\\', \\'pli\\', \\'plexus\\', \\'plethora\\', \\'plesetsk\\', \\'plentiful\\', \\'pledged\\', \\'pledge\\', \\'pleasures\\', \\'pleasing\\', \\'pleases\\', \\'pleasantly\\', \\'pleas\\', \\'pleading\\', \\'podein\\', \\'plated\\', \\'podium\\', \\'pods\\', \\'pomeroy\\', \\'polytopes\\', \\'polytechnic\\', \\'polyray\\', \\'polypropylene\\', \\'polynomials\\', \\'polynomial\\', \\'pomona\\', \\'polylines\\', \\'polyhedra\\', \\'polygonal\\', \\'polygamy\\', \\'polybagged\\', \\'polybag\\', \\'poly\\', \\'polonia\\', \\'polyline\\', \\'polluting\\', \\'pompous\\', \\'pondered\\', \\'porn\\', \\'porch\\', \\'por\\', \\'popups\\', \\'populist\\', \\'populated\\', \\'popi\\', \\'pond\\', \\'popes\\', \\'pop-up\\', \\'poots\\', \\'pools\\', \\'pooling\\', \\'pony\\', \\'pontificated\\', \\'pontiac\\', \\'popcorn\\', \\'polluted\\', \\'pollutants\\', \\'pollsters\\', \\'poker\\', \\'poked\\', \\'poke\\', \\'poisonous\\', \\'poisoning\\', \\'poised\\', \\'pointy\\', \\'poking\\', \\'point-to-point\\', \\'point-and-click\\', \\'pogrom\\', \\'poetry\\', \\'poetic\\', \\'poet\\', \\'poeple\\', \\'poem\\', \\'point-of-view\\', \\'pol\\', \\'polarity\\', \\'polarization\\', \\'polling\\', \\'polled\\', \\'pollard\\', \\'polk\\', \\'polity\\', \\'politician\\', \\'politic\\', \\'politeness\\', \\'politely\\', \\'politburo\\', \\'polished\\', \\'polio\\', \\'policing\\', \\'policeman\\', \\'polemics\\', \\'polaroid\\', \\'polarized\\', \\'podleski\\', \\'pornographers\\', \\'plateau\\', \\'plaster\\', \\'pierre\\', \\'piercing\\', \\'pierced\\', \\'pierce\\', \\'pictured\\', \\'pictel.com\\', \\'pictcompressor\\', \\'pierre_turgeon\\', \\'pict/jpeg\\', \\'picnic\\', \\'picky\\', \\'pickups\\', \\'picket\\', \\'pick-up\\', \\'pick-off\\', \\'pica.army.mil\\', \\'pics.com\\', \\'pic\\', \\'pietrangelo\\', \\'pif\\', \\'pin-compatible\\', \\'piloting\\', \\'pilon\\', \\'pillows\\', \\'pillar\\', \\'pillaged\\', \\'pillage\\', \\'piety\\', \\'pilgrims\\', \\'piles\\', \\'piled\\', \\'pilate\\', \\'pike\\', \\'pigs\\', \\'piggyback\\', \\'piggy\\', \\'pilgrimage\\', \\'piazza\\', \\'piano\\', \\'pia\\', \\'photocd\\', \\'photo-realistic\\', \\'photo-radar\\', \\'phosphorus\\', \\'phosphor\\', \\'phony\\', \\'phono\\', \\'photocopy\\', \\'phong\\', \\'phonenet\\', \\'phoned\\', \\'phone/fax\\', \\'phoenix.oulu.fi\\', \\'phobos\\', \\'phobias\\', \\'phobia\\', \\'phonetic\\', \\'photographed\\', \\'photographer\\', \\'photographers\\', \\'physique\\', \\'physiology\\', \\'physiological\\', \\'physiol\\', \\'physics.su.oz.au\\', \\'physicans\\', \\'phy.mtu.edu\\', \\'phs\\', \\'phrasing\\', \\'phraseology\\', \\'phrased\\', \\'photovoltaic\\', \\'photostyler\\', \\'photon\\', \\'photometry\\', \\'photometer\\', \\'photographic\\', \\'pin-outs\\', \\'plastics\\', \\'pina\\', \\'pinch-hit\\', \\'plagued\\', \\'plague\\', \\'placement\\', \\'placebos\\', \\'pkzip\\', \\'pkunzip\\', \\'pku\\', \\'plagues\\', \\'pkg\\', \\'pixie\\', \\'pixel-block\\', \\'pixar\\', \\'pivot\\', \\'pivonka\\', \\'pius\\', \\'pituitary\\', \\'pkcs\\', \\'pittsburg\\', \\'plainfield\\', \\'plains.nodak.edu\\', \\'plaques\\', \\'plaque\\', \\'planting\\', \\'plantier\\', \\'planted\\', \\'plante\\', \\'planners\\', \\'plainly\\', \\'planner\\', \\'planitia\\', \\'plani\\', \\'planetoid\\', \\'planetarium\\', \\'planar\\', \\'plaintiff\\', \\'plaintexts\\', \\'plank\\', \\'pitted\\', \\'pits\\', \\'pitiful\\', \\'pious\\', \\'pioneers\\', \\'pioneering\\', \\'pioneer.unm.edu\\', \\'pinpoint\\', \\'pinout\\', \\'pinned\\', \\'pip\\', \\'pinnacle\\', \\'pinko\\', \\'pinhead\\', \\'ping\\', \\'pines\\', \\'pinching\\', \\'pinched\\', \\'pinch-hitter\\', \\'pinks\\', \\'piped\\', \\'pipeline\\', \\'piper\\', \\'pithy\\', \\'pitfalls\\', \\'pitas\\', \\'pistons\\', \\'piston\\', \\'pistols\\', \\'pissing\\', \\'pisses\\', \\'pissed-off\\', \\'piss\\', \\'pirenne\\', \\'pirating\\', \\'pirated\\', \\'pirate\\', \\'piracy\\', \\'piqued\\', \\'pique\\', \\'pinball\\', \\'pornographic\\', \\'pornography\\', \\'porous\\', \\'preston\\', \\'presto\\', \\'prestigious\\', \\'prestige\\', \\'pressurized\\', \\'pressurization\\', \\'pressured\\', \\'presumeably\\', \\'presses\\', \\'presley\\', \\'presidency\\', \\'presets\\', \\'preset\\', \\'preserves\\', \\'presentment\\', \\'present-day\\', \\'press-democrat\\', \\'preseason\\', \\'presumes\\', \\'presumptuous\\', \\'previewing\\', \\'previewers\\', \\'previa\\', \\'preventive\\', \\'preventative\\', \\'prevalent\\', \\'prevails\\', \\'presumption\\', \\'prevailing\\', \\'pretexts\\', \\'pretext\\', \\'pretense\\', \\'pretends\\', \\'pretending\\', \\'pretended\\', \\'presupposes\\', \\'prevailed\\', \\'prescribing\\', \\'prescod\\', \\'prescient\\', \\'premature\\', \\'prejudices\\', \\'prejudiced\\', \\'prehaps\\', \\'preformatted\\', \\'prefix\\', \\'preffered\\', \\'prematurely\\', \\'prefers\\', \\'preferrably\\', \\'preferr\\', \\'preferentially\\', \\'preface\\', \\'pref\\', \\'preexisting\\', \\'preemptive\\', \\'preferring\\', \\'premeditated\\', \\'premier\\', \\'premiums\\', \\'pres\\', \\'prerequisite\\', \\'preps\\', \\'preprocessors\\', \\'preprocessor\\', \\'prepress\\', \\'preposterous\\', \\'preponderance\\', \\'prepended\\', \\'preparations\\', \\'prepaid\\', \\'prep.ai.mit.edu\\', \\'prep\\', \\'prentice-hall\\', \\'prentice\\', \\'prens\\', \\'prenatal\\', \\'preyed\\', \\'preeminent\\', \\'preying\\', \\'price/performance\\', \\'procede\\', \\'proc\\', \\'probs\\', \\'problematical\\', \\'problematic\\', \\'probing\\', \\'probe/rrh\\', \\'procedural\\', \\'probabilities\\', \\'prob\\', \\'pro-space\\', \\'pro-responsibility\\', \\'pro-nazi\\', \\'pro-life\\', \\'pro-israel\\', \\'pro-individuality\\', \\'probabilistic\\', \\'pro-homosexual\\', \\'procession\\', \\'proclaiming\\', \\'productions\\', \\'producers\\', \\'producer\\', \\'prodrive\\', \\'prodigy\\', \\'prodigal\\', \\'prodesigner\\', \\'processor-direct\\', \\'procuring\\', \\'procure\\', \\'procurator\\', \\'procuracy\\', \\'proctor\\', \\'procreation\\', \\'procomm\\', \\'proclamation\\', \\'procurement\\', \\'pro-german\\', \\'pro-choice\\', \\'pro-\\', \\'principals\\', \\'principally\\', \\'princeton.edu\\', \\'princes\\', \\'primordial\\', \\'primitives\\', \\'primes\\', \\'printmonitor\\', \\'primers\\', \\'primeau\\', \\'primates\\', \\'primate\\', \\'primal\\', \\'prima\\', \\'pricier\\', \\'pricey\\', \\'primer\\', \\'printout\\', \\'priori\\', \\'prism\\', \\'prnt\\', \\'prk\\', \\'prjevalski\\', \\'prj\\', \\'prizm\\', \\'prizes\\', \\'prized\\', \\'prix\\', \\'privileges\\', \\'privileged\\', \\'privilege\\', \\'privatization\\', \\'private-key\\', \\'privacy-related\\', \\'pristine\\', \\'prisons\\', \\'prisoner\\', \\'prez\\', \\'predominantly\\', \\'predominant\\', \\'prednisone\\', \\'potentiometer\\', \\'potentiate\\', \\'potentials\\', \\'potent\\', \\'potatoes\\', \\'potato\\', \\'potassium\\', \\'pothole\\', \\'posturing\\', \\'postulated\\', \\'postulate\\', \\'postseason\\', \\'postscript-based\\']\", \"12\": \"\\\\n            Topic index: 12\\\\n            Topic name: Technology and Computing\\\\n            Topic description: The common topic of the given words is \\\\\"Computer Programming\\\\\". \\\\n\\\\nAspects and sub-topics of the topic include:\\\\n1. Programming languages (e.g., \\\\\"C++\\\\\", \\\\\"Python\\\\\", \\\\\"Java\\\\\")\\\\n2. Software development (e.g., \\\\\"coding\\\\\", \\\\\"debugging\\\\\", \\\\\"compiling\\\\\")\\\\n3. Algorithms and data structures (e.g., \\\\\"sorting\\\\\", \\\\\"linked list\\\\\", \\\\\"searching\\\\\")\\\\n4. Computer hardware (e.g., \\\\\"processors\\\\\", \\\\\"memory\\\\\", \\\\\"peripherals\\\\\")\\\\n5. Software tools and utilities (e.g., \\\\\"compilers\\\\\", \\\\\"debuggers\\\\\", \\\\\"text editors\\\\\")\\\\n            Topic topwords: [\\'a.a.\\', \\'plural\\', \\'plunged\\', \\'plunge\\', \\'plundering\\', \\'plunderers\\', \\'plundered\\', \\'plunder\\', \\'plurality\\', \\'plumbing\\', \\'pluggers\\', \\'plugger\\', \\'plug-in\\', \\'pls\\', \\'plq\\\\\\\\\\\\\\\\\\', \\'plp\\', \\'ploy\\', \\'plugging\\', \\'plow\\', \\'plus/minus\\', \\'plutarch\\', \\'pod\\', \\'pob\\', \\'po.cwru.edu\\', \\'pnp\\', \\'pnmconvol\\', \\'pneumonia\\', \\'pne\\', \\'pluses\\', \\'pmview\\', \\'pmjpeg\\', \\'pmfq\\', \\'pmf\\', \\'pmc\\', \\'plywood\\', \\'plymouth\\', \\'plutonium\\', \\'pmp\\', \\'plotters\\', \\'plotter\\', \\'plotted\\', \\'plaza.aarnet.edu.au\\', \\'plaza\\', \\'playmation\\', \\'playmates\\', \\'playmate\\', \\'playmaking\\', \\'playground\\', \\'plcc\\', \\'playboy\\', \\'plausibility\\', \\'plausable\\', \\'platters\\', \\'platter\\', \\'plats\\', \\'platonic\\', \\'platinum\\', \\'play-by-play\\', \\'plea\\', \\'plead\\', \\'pleaded\\', \\'plonk\\', \\'plodded\\', \\'plight\\', \\'pliers\\', \\'pli\\', \\'plexus\\', \\'plethora\\', \\'plesetsk\\', \\'plentiful\\', \\'pledged\\', \\'pledge\\', \\'pleasures\\', \\'pleasing\\', \\'pleases\\', \\'pleasantly\\', \\'pleas\\', \\'pleading\\', \\'podein\\', \\'plated\\', \\'podium\\', \\'pods\\', \\'pomeroy\\', \\'polytopes\\', \\'polytechnic\\', \\'polyray\\', \\'polypropylene\\', \\'polynomials\\', \\'polynomial\\', \\'pomona\\', \\'polylines\\', \\'polyhedra\\', \\'polygonal\\', \\'polygamy\\', \\'polybagged\\', \\'polybag\\', \\'poly\\', \\'polonia\\', \\'polyline\\', \\'polluting\\', \\'pompous\\', \\'pondered\\', \\'porn\\', \\'porch\\', \\'por\\', \\'popups\\', \\'populist\\', \\'populated\\', \\'popi\\', \\'pond\\', \\'popes\\', \\'pop-up\\', \\'poots\\', \\'pools\\', \\'pooling\\', \\'pony\\', \\'pontificated\\', \\'pontiac\\', \\'popcorn\\', \\'polluted\\', \\'pollutants\\', \\'pollsters\\', \\'poker\\', \\'poked\\', \\'poke\\', \\'poisonous\\', \\'poisoning\\', \\'poised\\', \\'pointy\\', \\'poking\\', \\'point-to-point\\', \\'point-and-click\\', \\'pogrom\\', \\'poetry\\', \\'poetic\\', \\'poet\\', \\'poeple\\', \\'poem\\', \\'point-of-view\\', \\'pol\\', \\'polarity\\', \\'polarization\\', \\'polling\\', \\'polled\\', \\'pollard\\', \\'polk\\', \\'polity\\', \\'politician\\', \\'politic\\', \\'politeness\\', \\'politely\\', \\'politburo\\', \\'polished\\', \\'polio\\', \\'policing\\', \\'policeman\\', \\'polemics\\', \\'polaroid\\', \\'polarized\\', \\'podleski\\', \\'pornographers\\', \\'plateau\\', \\'plaster\\', \\'pierre\\', \\'piercing\\', \\'pierced\\', \\'pierce\\', \\'pictured\\', \\'pictel.com\\', \\'pictcompressor\\', \\'pierre_turgeon\\', \\'pict/jpeg\\', \\'picnic\\', \\'picky\\', \\'pickups\\', \\'picket\\', \\'pick-up\\', \\'pick-off\\', \\'pica.army.mil\\', \\'pics.com\\', \\'pic\\', \\'pietrangelo\\', \\'pif\\', \\'pin-compatible\\', \\'piloting\\', \\'pilon\\', \\'pillows\\', \\'pillar\\', \\'pillaged\\', \\'pillage\\', \\'piety\\', \\'pilgrims\\', \\'piles\\', \\'piled\\', \\'pilate\\', \\'pike\\', \\'pigs\\', \\'piggyback\\', \\'piggy\\', \\'pilgrimage\\', \\'piazza\\', \\'piano\\', \\'pia\\', \\'photocd\\', \\'photo-realistic\\', \\'photo-radar\\', \\'phosphorus\\', \\'phosphor\\', \\'phony\\', \\'phono\\', \\'photocopy\\', \\'phong\\', \\'phonenet\\', \\'phoned\\', \\'phone/fax\\', \\'phoenix.oulu.fi\\', \\'phobos\\', \\'phobias\\', \\'phobia\\', \\'phonetic\\', \\'photographed\\', \\'photographer\\', \\'photographers\\', \\'physique\\', \\'physiology\\', \\'physiological\\', \\'physiol\\', \\'physics.su.oz.au\\', \\'physicans\\', \\'phy.mtu.edu\\', \\'phs\\', \\'phrasing\\', \\'phraseology\\', \\'phrased\\', \\'photovoltaic\\', \\'photostyler\\', \\'photon\\', \\'photometry\\', \\'photometer\\', \\'photographic\\', \\'pin-outs\\', \\'plastics\\', \\'pina\\', \\'pinch-hit\\', \\'plagued\\', \\'plague\\', \\'placement\\', \\'placebos\\', \\'pkzip\\', \\'pkunzip\\', \\'pku\\', \\'plagues\\', \\'pkg\\', \\'pixie\\', \\'pixel-block\\', \\'pixar\\', \\'pivot\\', \\'pivonka\\', \\'pius\\', \\'pituitary\\', \\'pkcs\\', \\'pittsburg\\', \\'plainfield\\', \\'plains.nodak.edu\\', \\'plaques\\', \\'plaque\\', \\'planting\\', \\'plantier\\', \\'planted\\', \\'plante\\', \\'planners\\', \\'plainly\\', \\'planner\\', \\'planitia\\', \\'plani\\', \\'planetoid\\', \\'planetarium\\', \\'planar\\', \\'plaintiff\\', \\'plaintexts\\', \\'plank\\', \\'pitted\\', \\'pits\\', \\'pitiful\\', \\'pious\\', \\'pioneers\\', \\'pioneering\\', \\'pioneer.unm.edu\\', \\'pinpoint\\', \\'pinout\\', \\'pinned\\', \\'pip\\', \\'pinnacle\\', \\'pinko\\', \\'pinhead\\', \\'ping\\', \\'pines\\', \\'pinching\\', \\'pinched\\', \\'pinch-hitter\\', \\'pinks\\', \\'piped\\', \\'pipeline\\', \\'piper\\', \\'pithy\\', \\'pitfalls\\', \\'pitas\\', \\'pistons\\', \\'piston\\', \\'pistols\\', \\'pissing\\', \\'pisses\\', \\'pissed-off\\', \\'piss\\', \\'pirenne\\', \\'pirating\\', \\'pirated\\', \\'pirate\\', \\'piracy\\', \\'piqued\\', \\'pique\\', \\'pinball\\', \\'pornographic\\', \\'pornography\\', \\'porous\\', \\'preston\\', \\'presto\\', \\'prestigious\\', \\'prestige\\', \\'pressurized\\', \\'pressurization\\', \\'pressured\\', \\'presumeably\\', \\'presses\\', \\'presley\\', \\'presidency\\', \\'presets\\', \\'preset\\', \\'preserves\\', \\'presentment\\', \\'present-day\\', \\'press-democrat\\', \\'preseason\\', \\'presumes\\', \\'presumptuous\\', \\'previewing\\', \\'previewers\\', \\'previa\\', \\'preventive\\', \\'preventative\\', \\'prevalent\\', \\'prevails\\', \\'presumption\\', \\'prevailing\\', \\'pretexts\\', \\'pretext\\', \\'pretense\\', \\'pretends\\', \\'pretending\\', \\'pretended\\', \\'presupposes\\', \\'prevailed\\', \\'prescribing\\', \\'prescod\\', \\'prescient\\', \\'premature\\', \\'prejudices\\', \\'prejudiced\\', \\'prehaps\\', \\'preformatted\\', \\'prefix\\', \\'preffered\\', \\'prematurely\\', \\'prefers\\', \\'preferrably\\', \\'preferr\\', \\'preferentially\\', \\'preface\\', \\'pref\\', \\'preexisting\\', \\'preemptive\\', \\'preferring\\', \\'premeditated\\', \\'premier\\', \\'premiums\\', \\'pres\\', \\'prerequisite\\', \\'preps\\', \\'preprocessors\\', \\'preprocessor\\', \\'prepress\\', \\'preposterous\\', \\'preponderance\\', \\'prepended\\', \\'preparations\\', \\'prepaid\\', \\'prep.ai.mit.edu\\', \\'prep\\', \\'prentice-hall\\', \\'prentice\\', \\'prens\\', \\'prenatal\\', \\'preyed\\', \\'preeminent\\', \\'preying\\', \\'price/performance\\', \\'procede\\', \\'proc\\', \\'probs\\', \\'problematical\\', \\'problematic\\', \\'probing\\', \\'probe/rrh\\', \\'procedural\\', \\'probabilities\\', \\'prob\\', \\'pro-space\\', \\'pro-responsibility\\', \\'pro-nazi\\', \\'pro-life\\', \\'pro-israel\\', \\'pro-individuality\\', \\'probabilistic\\', \\'pro-homosexual\\', \\'procession\\', \\'proclaiming\\', \\'productions\\', \\'producers\\', \\'producer\\', \\'prodrive\\', \\'prodigy\\', \\'prodigal\\', \\'prodesigner\\', \\'processor-direct\\', \\'procuring\\', \\'procure\\', \\'procurator\\', \\'procuracy\\', \\'proctor\\', \\'procreation\\', \\'procomm\\', \\'proclamation\\', \\'procurement\\', \\'pro-german\\', \\'pro-choice\\', \\'pro-\\', \\'principals\\', \\'principally\\', \\'princeton.edu\\', \\'princes\\', \\'primordial\\', \\'primitives\\', \\'primes\\', \\'printmonitor\\', \\'primers\\', \\'primeau\\', \\'primates\\', \\'primate\\', \\'primal\\', \\'prima\\', \\'pricier\\', \\'pricey\\', \\'primer\\', \\'printout\\', \\'priori\\', \\'prism\\', \\'prnt\\', \\'prk\\', \\'prjevalski\\', \\'prj\\', \\'prizm\\', \\'prizes\\', \\'prized\\', \\'prix\\', \\'privileges\\', \\'privileged\\', \\'privilege\\', \\'privatization\\', \\'private-key\\', \\'privacy-related\\', \\'pristine\\', \\'prisons\\', \\'prisoner\\', \\'prez\\', \\'predominantly\\', \\'predominant\\', \\'prednisone\\', \\'potentiometer\\', \\'potentiate\\', \\'potentials\\', \\'potent\\', \\'potatoes\\', \\'potato\\', \\'potassium\\', \\'pothole\\', \\'posturing\\', \\'postulated\\', \\'postulate\\', \\'postseason\\', \\'postscript-based\\']\"}}'}]\n"
     ]
    },
    {
     "data": {
      "text/plain": [
       "(<OpenAIObject chat.completion id=chatcmpl-7s64PnDN374ePy4rLUhkjJyyNWfxj at 0x18fc7517a10> JSON: {\n",
       "   \"id\": \"chatcmpl-7s64PnDN374ePy4rLUhkjJyyNWfxj\",\n",
       "   \"object\": \"chat.completion\",\n",
       "   \"created\": 1693127401,\n",
       "   \"model\": \"gpt-3.5-turbo-16k-0613\",\n",
       "   \"choices\": [\n",
       "     {\n",
       "       \"index\": 0,\n",
       "       \"message\": {\n",
       "         \"role\": \"assistant\",\n",
       "         \"content\": \"Topics 11 and 12 share some similar words, such as \\\"platinum\\\", \\\"plotter\\\", \\\"plywood\\\", and \\\"pleasures\\\". However, their overall topics are different. \\n\\nTopic 11 is about \\\"Computer Programming\\\". It includes aspects and sub-topics such as computer hardware and software, internet and communication, data and file formats, programming and coding, and electronics and devices. The top words in this topic are diverse and do not explicitly indicate a strong focus on computer programming.\\n\\nTopic 12 is also about \\\"Technology and Computing\\\". It includes aspects and sub-topics such as programming languages, software development, algorithms and data structures, computer hardware, and software tools and utilities. The top words in this topic are again diverse and do not clearly indicate a specific aspect of technology and computing.\\n\\nTherefore, while there is some overlap in the words used in topics 11 and 12, they represent different aspects of the broader field of technology and computing.\"\n",
       "       },\n",
       "       \"finish_reason\": \"stop\"\n",
       "     }\n",
       "   ],\n",
       "   \"usage\": {\n",
       "     \"prompt_tokens\": 4896,\n",
       "     \"completion_tokens\": 194,\n",
       "     \"total_tokens\": 5090\n",
       "   }\n",
       " },\n",
       " {11: '\\n            Topic index: 11\\n            Topic name: Computer Programming\\n            Topic description: The common topic of the given words appears to be \"technology and computing\". \\n\\nAspects and sub-topics of this topic include: \\n1. Computer hardware and software: \"plotters\", \"plotter\", \"plywood\", \"plymouth\", \"platinum\"\\n2. Internet and communication: \"plaza.aarnet.edu.au\", \"plaza\", \"pictel.com\", \"phone/fax\", \"phonenet\"\\n3. Data and file formats: \"pnmconvol\", \"pmview\", \"pmjpeg\", \"pmc\", \"pict/jpeg\"\\n4. Programming and coding: \"plq\\\\\\\\\", \"pnp\", \"pmp\", \"pne\", \"pma\"\\n5. Electronics and devices: \"plugs\", \"plugger\", \"plug-in\", \"pnp\", \"pma\"\\n\\nPlease note that these descriptions are based solely on the provided words and may not capture the full breadth of the topic.\\n            Topic topwords: [\\'a.a.\\', \\'plural\\', \\'plunged\\', \\'plunge\\', \\'plundering\\', \\'plunderers\\', \\'plundered\\', \\'plunder\\', \\'plurality\\', \\'plumbing\\', \\'pluggers\\', \\'plugger\\', \\'plug-in\\', \\'pls\\', \\'plq\\\\\\\\\\', \\'plp\\', \\'ploy\\', \\'plugging\\', \\'plow\\', \\'plus/minus\\', \\'plutarch\\', \\'pod\\', \\'pob\\', \\'po.cwru.edu\\', \\'pnp\\', \\'pnmconvol\\', \\'pneumonia\\', \\'pne\\', \\'pluses\\', \\'pmview\\', \\'pmjpeg\\', \\'pmfq\\', \\'pmf\\', \\'pmc\\', \\'plywood\\', \\'plymouth\\', \\'plutonium\\', \\'pmp\\', \\'plotters\\', \\'plotter\\', \\'plotted\\', \\'plaza.aarnet.edu.au\\', \\'plaza\\', \\'playmation\\', \\'playmates\\', \\'playmate\\', \\'playmaking\\', \\'playground\\', \\'plcc\\', \\'playboy\\', \\'plausibility\\', \\'plausable\\', \\'platters\\', \\'platter\\', \\'plats\\', \\'platonic\\', \\'platinum\\', \\'play-by-play\\', \\'plea\\', \\'plead\\', \\'pleaded\\', \\'plonk\\', \\'plodded\\', \\'plight\\', \\'pliers\\', \\'pli\\', \\'plexus\\', \\'plethora\\', \\'plesetsk\\', \\'plentiful\\', \\'pledged\\', \\'pledge\\', \\'pleasures\\', \\'pleasing\\', \\'pleases\\', \\'pleasantly\\', \\'pleas\\', \\'pleading\\', \\'podein\\', \\'plated\\', \\'podium\\', \\'pods\\', \\'pomeroy\\', \\'polytopes\\', \\'polytechnic\\', \\'polyray\\', \\'polypropylene\\', \\'polynomials\\', \\'polynomial\\', \\'pomona\\', \\'polylines\\', \\'polyhedra\\', \\'polygonal\\', \\'polygamy\\', \\'polybagged\\', \\'polybag\\', \\'poly\\', \\'polonia\\', \\'polyline\\', \\'polluting\\', \\'pompous\\', \\'pondered\\', \\'porn\\', \\'porch\\', \\'por\\', \\'popups\\', \\'populist\\', \\'populated\\', \\'popi\\', \\'pond\\', \\'popes\\', \\'pop-up\\', \\'poots\\', \\'pools\\', \\'pooling\\', \\'pony\\', \\'pontificated\\', \\'pontiac\\', \\'popcorn\\', \\'polluted\\', \\'pollutants\\', \\'pollsters\\', \\'poker\\', \\'poked\\', \\'poke\\', \\'poisonous\\', \\'poisoning\\', \\'poised\\', \\'pointy\\', \\'poking\\', \\'point-to-point\\', \\'point-and-click\\', \\'pogrom\\', \\'poetry\\', \\'poetic\\', \\'poet\\', \\'poeple\\', \\'poem\\', \\'point-of-view\\', \\'pol\\', \\'polarity\\', \\'polarization\\', \\'polling\\', \\'polled\\', \\'pollard\\', \\'polk\\', \\'polity\\', \\'politician\\', \\'politic\\', \\'politeness\\', \\'politely\\', \\'politburo\\', \\'polished\\', \\'polio\\', \\'policing\\', \\'policeman\\', \\'polemics\\', \\'polaroid\\', \\'polarized\\', \\'podleski\\', \\'pornographers\\', \\'plateau\\', \\'plaster\\', \\'pierre\\', \\'piercing\\', \\'pierced\\', \\'pierce\\', \\'pictured\\', \\'pictel.com\\', \\'pictcompressor\\', \\'pierre_turgeon\\', \\'pict/jpeg\\', \\'picnic\\', \\'picky\\', \\'pickups\\', \\'picket\\', \\'pick-up\\', \\'pick-off\\', \\'pica.army.mil\\', \\'pics.com\\', \\'pic\\', \\'pietrangelo\\', \\'pif\\', \\'pin-compatible\\', \\'piloting\\', \\'pilon\\', \\'pillows\\', \\'pillar\\', \\'pillaged\\', \\'pillage\\', \\'piety\\', \\'pilgrims\\', \\'piles\\', \\'piled\\', \\'pilate\\', \\'pike\\', \\'pigs\\', \\'piggyback\\', \\'piggy\\', \\'pilgrimage\\', \\'piazza\\', \\'piano\\', \\'pia\\', \\'photocd\\', \\'photo-realistic\\', \\'photo-radar\\', \\'phosphorus\\', \\'phosphor\\', \\'phony\\', \\'phono\\', \\'photocopy\\', \\'phong\\', \\'phonenet\\', \\'phoned\\', \\'phone/fax\\', \\'phoenix.oulu.fi\\', \\'phobos\\', \\'phobias\\', \\'phobia\\', \\'phonetic\\', \\'photographed\\', \\'photographer\\', \\'photographers\\', \\'physique\\', \\'physiology\\', \\'physiological\\', \\'physiol\\', \\'physics.su.oz.au\\', \\'physicans\\', \\'phy.mtu.edu\\', \\'phs\\', \\'phrasing\\', \\'phraseology\\', \\'phrased\\', \\'photovoltaic\\', \\'photostyler\\', \\'photon\\', \\'photometry\\', \\'photometer\\', \\'photographic\\', \\'pin-outs\\', \\'plastics\\', \\'pina\\', \\'pinch-hit\\', \\'plagued\\', \\'plague\\', \\'placement\\', \\'placebos\\', \\'pkzip\\', \\'pkunzip\\', \\'pku\\', \\'plagues\\', \\'pkg\\', \\'pixie\\', \\'pixel-block\\', \\'pixar\\', \\'pivot\\', \\'pivonka\\', \\'pius\\', \\'pituitary\\', \\'pkcs\\', \\'pittsburg\\', \\'plainfield\\', \\'plains.nodak.edu\\', \\'plaques\\', \\'plaque\\', \\'planting\\', \\'plantier\\', \\'planted\\', \\'plante\\', \\'planners\\', \\'plainly\\', \\'planner\\', \\'planitia\\', \\'plani\\', \\'planetoid\\', \\'planetarium\\', \\'planar\\', \\'plaintiff\\', \\'plaintexts\\', \\'plank\\', \\'pitted\\', \\'pits\\', \\'pitiful\\', \\'pious\\', \\'pioneers\\', \\'pioneering\\', \\'pioneer.unm.edu\\', \\'pinpoint\\', \\'pinout\\', \\'pinned\\', \\'pip\\', \\'pinnacle\\', \\'pinko\\', \\'pinhead\\', \\'ping\\', \\'pines\\', \\'pinching\\', \\'pinched\\', \\'pinch-hitter\\', \\'pinks\\', \\'piped\\', \\'pipeline\\', \\'piper\\', \\'pithy\\', \\'pitfalls\\', \\'pitas\\', \\'pistons\\', \\'piston\\', \\'pistols\\', \\'pissing\\', \\'pisses\\', \\'pissed-off\\', \\'piss\\', \\'pirenne\\', \\'pirating\\', \\'pirated\\', \\'pirate\\', \\'piracy\\', \\'piqued\\', \\'pique\\', \\'pinball\\', \\'pornographic\\', \\'pornography\\', \\'porous\\', \\'preston\\', \\'presto\\', \\'prestigious\\', \\'prestige\\', \\'pressurized\\', \\'pressurization\\', \\'pressured\\', \\'presumeably\\', \\'presses\\', \\'presley\\', \\'presidency\\', \\'presets\\', \\'preset\\', \\'preserves\\', \\'presentment\\', \\'present-day\\', \\'press-democrat\\', \\'preseason\\', \\'presumes\\', \\'presumptuous\\', \\'previewing\\', \\'previewers\\', \\'previa\\', \\'preventive\\', \\'preventative\\', \\'prevalent\\', \\'prevails\\', \\'presumption\\', \\'prevailing\\', \\'pretexts\\', \\'pretext\\', \\'pretense\\', \\'pretends\\', \\'pretending\\', \\'pretended\\', \\'presupposes\\', \\'prevailed\\', \\'prescribing\\', \\'prescod\\', \\'prescient\\', \\'premature\\', \\'prejudices\\', \\'prejudiced\\', \\'prehaps\\', \\'preformatted\\', \\'prefix\\', \\'preffered\\', \\'prematurely\\', \\'prefers\\', \\'preferrably\\', \\'preferr\\', \\'preferentially\\', \\'preface\\', \\'pref\\', \\'preexisting\\', \\'preemptive\\', \\'preferring\\', \\'premeditated\\', \\'premier\\', \\'premiums\\', \\'pres\\', \\'prerequisite\\', \\'preps\\', \\'preprocessors\\', \\'preprocessor\\', \\'prepress\\', \\'preposterous\\', \\'preponderance\\', \\'prepended\\', \\'preparations\\', \\'prepaid\\', \\'prep.ai.mit.edu\\', \\'prep\\', \\'prentice-hall\\', \\'prentice\\', \\'prens\\', \\'prenatal\\', \\'preyed\\', \\'preeminent\\', \\'preying\\', \\'price/performance\\', \\'procede\\', \\'proc\\', \\'probs\\', \\'problematical\\', \\'problematic\\', \\'probing\\', \\'probe/rrh\\', \\'procedural\\', \\'probabilities\\', \\'prob\\', \\'pro-space\\', \\'pro-responsibility\\', \\'pro-nazi\\', \\'pro-life\\', \\'pro-israel\\', \\'pro-individuality\\', \\'probabilistic\\', \\'pro-homosexual\\', \\'procession\\', \\'proclaiming\\', \\'productions\\', \\'producers\\', \\'producer\\', \\'prodrive\\', \\'prodigy\\', \\'prodigal\\', \\'prodesigner\\', \\'processor-direct\\', \\'procuring\\', \\'procure\\', \\'procurator\\', \\'procuracy\\', \\'proctor\\', \\'procreation\\', \\'procomm\\', \\'proclamation\\', \\'procurement\\', \\'pro-german\\', \\'pro-choice\\', \\'pro-\\', \\'principals\\', \\'principally\\', \\'princeton.edu\\', \\'princes\\', \\'primordial\\', \\'primitives\\', \\'primes\\', \\'printmonitor\\', \\'primers\\', \\'primeau\\', \\'primates\\', \\'primate\\', \\'primal\\', \\'prima\\', \\'pricier\\', \\'pricey\\', \\'primer\\', \\'printout\\', \\'priori\\', \\'prism\\', \\'prnt\\', \\'prk\\', \\'prjevalski\\', \\'prj\\', \\'prizm\\', \\'prizes\\', \\'prized\\', \\'prix\\', \\'privileges\\', \\'privileged\\', \\'privilege\\', \\'privatization\\', \\'private-key\\', \\'privacy-related\\', \\'pristine\\', \\'prisons\\', \\'prisoner\\', \\'prez\\', \\'predominantly\\', \\'predominant\\', \\'prednisone\\', \\'potentiometer\\', \\'potentiate\\', \\'potentials\\', \\'potent\\', \\'potatoes\\', \\'potato\\', \\'potassium\\', \\'pothole\\', \\'posturing\\', \\'postulated\\', \\'postulate\\', \\'postseason\\', \\'postscript-based\\']',\n",
       "  12: '\\n            Topic index: 12\\n            Topic name: Technology and Computing\\n            Topic description: The common topic of the given words is \"Computer Programming\". \\n\\nAspects and sub-topics of the topic include:\\n1. Programming languages (e.g., \"C++\", \"Python\", \"Java\")\\n2. Software development (e.g., \"coding\", \"debugging\", \"compiling\")\\n3. Algorithms and data structures (e.g., \"sorting\", \"linked list\", \"searching\")\\n4. Computer hardware (e.g., \"processors\", \"memory\", \"peripherals\")\\n5. Software tools and utilities (e.g., \"compilers\", \"debuggers\", \"text editors\")\\n            Topic topwords: [\\'a.a.\\', \\'plural\\', \\'plunged\\', \\'plunge\\', \\'plundering\\', \\'plunderers\\', \\'plundered\\', \\'plunder\\', \\'plurality\\', \\'plumbing\\', \\'pluggers\\', \\'plugger\\', \\'plug-in\\', \\'pls\\', \\'plq\\\\\\\\\\', \\'plp\\', \\'ploy\\', \\'plugging\\', \\'plow\\', \\'plus/minus\\', \\'plutarch\\', \\'pod\\', \\'pob\\', \\'po.cwru.edu\\', \\'pnp\\', \\'pnmconvol\\', \\'pneumonia\\', \\'pne\\', \\'pluses\\', \\'pmview\\', \\'pmjpeg\\', \\'pmfq\\', \\'pmf\\', \\'pmc\\', \\'plywood\\', \\'plymouth\\', \\'plutonium\\', \\'pmp\\', \\'plotters\\', \\'plotter\\', \\'plotted\\', \\'plaza.aarnet.edu.au\\', \\'plaza\\', \\'playmation\\', \\'playmates\\', \\'playmate\\', \\'playmaking\\', \\'playground\\', \\'plcc\\', \\'playboy\\', \\'plausibility\\', \\'plausable\\', \\'platters\\', \\'platter\\', \\'plats\\', \\'platonic\\', \\'platinum\\', \\'play-by-play\\', \\'plea\\', \\'plead\\', \\'pleaded\\', \\'plonk\\', \\'plodded\\', \\'plight\\', \\'pliers\\', \\'pli\\', \\'plexus\\', \\'plethora\\', \\'plesetsk\\', \\'plentiful\\', \\'pledged\\', \\'pledge\\', \\'pleasures\\', \\'pleasing\\', \\'pleases\\', \\'pleasantly\\', \\'pleas\\', \\'pleading\\', \\'podein\\', \\'plated\\', \\'podium\\', \\'pods\\', \\'pomeroy\\', \\'polytopes\\', \\'polytechnic\\', \\'polyray\\', \\'polypropylene\\', \\'polynomials\\', \\'polynomial\\', \\'pomona\\', \\'polylines\\', \\'polyhedra\\', \\'polygonal\\', \\'polygamy\\', \\'polybagged\\', \\'polybag\\', \\'poly\\', \\'polonia\\', \\'polyline\\', \\'polluting\\', \\'pompous\\', \\'pondered\\', \\'porn\\', \\'porch\\', \\'por\\', \\'popups\\', \\'populist\\', \\'populated\\', \\'popi\\', \\'pond\\', \\'popes\\', \\'pop-up\\', \\'poots\\', \\'pools\\', \\'pooling\\', \\'pony\\', \\'pontificated\\', \\'pontiac\\', \\'popcorn\\', \\'polluted\\', \\'pollutants\\', \\'pollsters\\', \\'poker\\', \\'poked\\', \\'poke\\', \\'poisonous\\', \\'poisoning\\', \\'poised\\', \\'pointy\\', \\'poking\\', \\'point-to-point\\', \\'point-and-click\\', \\'pogrom\\', \\'poetry\\', \\'poetic\\', \\'poet\\', \\'poeple\\', \\'poem\\', \\'point-of-view\\', \\'pol\\', \\'polarity\\', \\'polarization\\', \\'polling\\', \\'polled\\', \\'pollard\\', \\'polk\\', \\'polity\\', \\'politician\\', \\'politic\\', \\'politeness\\', \\'politely\\', \\'politburo\\', \\'polished\\', \\'polio\\', \\'policing\\', \\'policeman\\', \\'polemics\\', \\'polaroid\\', \\'polarized\\', \\'podleski\\', \\'pornographers\\', \\'plateau\\', \\'plaster\\', \\'pierre\\', \\'piercing\\', \\'pierced\\', \\'pierce\\', \\'pictured\\', \\'pictel.com\\', \\'pictcompressor\\', \\'pierre_turgeon\\', \\'pict/jpeg\\', \\'picnic\\', \\'picky\\', \\'pickups\\', \\'picket\\', \\'pick-up\\', \\'pick-off\\', \\'pica.army.mil\\', \\'pics.com\\', \\'pic\\', \\'pietrangelo\\', \\'pif\\', \\'pin-compatible\\', \\'piloting\\', \\'pilon\\', \\'pillows\\', \\'pillar\\', \\'pillaged\\', \\'pillage\\', \\'piety\\', \\'pilgrims\\', \\'piles\\', \\'piled\\', \\'pilate\\', \\'pike\\', \\'pigs\\', \\'piggyback\\', \\'piggy\\', \\'pilgrimage\\', \\'piazza\\', \\'piano\\', \\'pia\\', \\'photocd\\', \\'photo-realistic\\', \\'photo-radar\\', \\'phosphorus\\', \\'phosphor\\', \\'phony\\', \\'phono\\', \\'photocopy\\', \\'phong\\', \\'phonenet\\', \\'phoned\\', \\'phone/fax\\', \\'phoenix.oulu.fi\\', \\'phobos\\', \\'phobias\\', \\'phobia\\', \\'phonetic\\', \\'photographed\\', \\'photographer\\', \\'photographers\\', \\'physique\\', \\'physiology\\', \\'physiological\\', \\'physiol\\', \\'physics.su.oz.au\\', \\'physicans\\', \\'phy.mtu.edu\\', \\'phs\\', \\'phrasing\\', \\'phraseology\\', \\'phrased\\', \\'photovoltaic\\', \\'photostyler\\', \\'photon\\', \\'photometry\\', \\'photometer\\', \\'photographic\\', \\'pin-outs\\', \\'plastics\\', \\'pina\\', \\'pinch-hit\\', \\'plagued\\', \\'plague\\', \\'placement\\', \\'placebos\\', \\'pkzip\\', \\'pkunzip\\', \\'pku\\', \\'plagues\\', \\'pkg\\', \\'pixie\\', \\'pixel-block\\', \\'pixar\\', \\'pivot\\', \\'pivonka\\', \\'pius\\', \\'pituitary\\', \\'pkcs\\', \\'pittsburg\\', \\'plainfield\\', \\'plains.nodak.edu\\', \\'plaques\\', \\'plaque\\', \\'planting\\', \\'plantier\\', \\'planted\\', \\'plante\\', \\'planners\\', \\'plainly\\', \\'planner\\', \\'planitia\\', \\'plani\\', \\'planetoid\\', \\'planetarium\\', \\'planar\\', \\'plaintiff\\', \\'plaintexts\\', \\'plank\\', \\'pitted\\', \\'pits\\', \\'pitiful\\', \\'pious\\', \\'pioneers\\', \\'pioneering\\', \\'pioneer.unm.edu\\', \\'pinpoint\\', \\'pinout\\', \\'pinned\\', \\'pip\\', \\'pinnacle\\', \\'pinko\\', \\'pinhead\\', \\'ping\\', \\'pines\\', \\'pinching\\', \\'pinched\\', \\'pinch-hitter\\', \\'pinks\\', \\'piped\\', \\'pipeline\\', \\'piper\\', \\'pithy\\', \\'pitfalls\\', \\'pitas\\', \\'pistons\\', \\'piston\\', \\'pistols\\', \\'pissing\\', \\'pisses\\', \\'pissed-off\\', \\'piss\\', \\'pirenne\\', \\'pirating\\', \\'pirated\\', \\'pirate\\', \\'piracy\\', \\'piqued\\', \\'pique\\', \\'pinball\\', \\'pornographic\\', \\'pornography\\', \\'porous\\', \\'preston\\', \\'presto\\', \\'prestigious\\', \\'prestige\\', \\'pressurized\\', \\'pressurization\\', \\'pressured\\', \\'presumeably\\', \\'presses\\', \\'presley\\', \\'presidency\\', \\'presets\\', \\'preset\\', \\'preserves\\', \\'presentment\\', \\'present-day\\', \\'press-democrat\\', \\'preseason\\', \\'presumes\\', \\'presumptuous\\', \\'previewing\\', \\'previewers\\', \\'previa\\', \\'preventive\\', \\'preventative\\', \\'prevalent\\', \\'prevails\\', \\'presumption\\', \\'prevailing\\', \\'pretexts\\', \\'pretext\\', \\'pretense\\', \\'pretends\\', \\'pretending\\', \\'pretended\\', \\'presupposes\\', \\'prevailed\\', \\'prescribing\\', \\'prescod\\', \\'prescient\\', \\'premature\\', \\'prejudices\\', \\'prejudiced\\', \\'prehaps\\', \\'preformatted\\', \\'prefix\\', \\'preffered\\', \\'prematurely\\', \\'prefers\\', \\'preferrably\\', \\'preferr\\', \\'preferentially\\', \\'preface\\', \\'pref\\', \\'preexisting\\', \\'preemptive\\', \\'preferring\\', \\'premeditated\\', \\'premier\\', \\'premiums\\', \\'pres\\', \\'prerequisite\\', \\'preps\\', \\'preprocessors\\', \\'preprocessor\\', \\'prepress\\', \\'preposterous\\', \\'preponderance\\', \\'prepended\\', \\'preparations\\', \\'prepaid\\', \\'prep.ai.mit.edu\\', \\'prep\\', \\'prentice-hall\\', \\'prentice\\', \\'prens\\', \\'prenatal\\', \\'preyed\\', \\'preeminent\\', \\'preying\\', \\'price/performance\\', \\'procede\\', \\'proc\\', \\'probs\\', \\'problematical\\', \\'problematic\\', \\'probing\\', \\'probe/rrh\\', \\'procedural\\', \\'probabilities\\', \\'prob\\', \\'pro-space\\', \\'pro-responsibility\\', \\'pro-nazi\\', \\'pro-life\\', \\'pro-israel\\', \\'pro-individuality\\', \\'probabilistic\\', \\'pro-homosexual\\', \\'procession\\', \\'proclaiming\\', \\'productions\\', \\'producers\\', \\'producer\\', \\'prodrive\\', \\'prodigy\\', \\'prodigal\\', \\'prodesigner\\', \\'processor-direct\\', \\'procuring\\', \\'procure\\', \\'procurator\\', \\'procuracy\\', \\'proctor\\', \\'procreation\\', \\'procomm\\', \\'proclamation\\', \\'procurement\\', \\'pro-german\\', \\'pro-choice\\', \\'pro-\\', \\'principals\\', \\'principally\\', \\'princeton.edu\\', \\'princes\\', \\'primordial\\', \\'primitives\\', \\'primes\\', \\'printmonitor\\', \\'primers\\', \\'primeau\\', \\'primates\\', \\'primate\\', \\'primal\\', \\'prima\\', \\'pricier\\', \\'pricey\\', \\'primer\\', \\'printout\\', \\'priori\\', \\'prism\\', \\'prnt\\', \\'prk\\', \\'prjevalski\\', \\'prj\\', \\'prizm\\', \\'prizes\\', \\'prized\\', \\'prix\\', \\'privileges\\', \\'privileged\\', \\'privilege\\', \\'privatization\\', \\'private-key\\', \\'privacy-related\\', \\'pristine\\', \\'prisons\\', \\'prisoner\\', \\'prez\\', \\'predominantly\\', \\'predominant\\', \\'prednisone\\', \\'potentiometer\\', \\'potentiate\\', \\'potentials\\', \\'potent\\', \\'potatoes\\', \\'potato\\', \\'potassium\\', \\'pothole\\', \\'posturing\\', \\'postulated\\', \\'postulate\\', \\'postseason\\', \\'postscript-based\\']'})"
      ]
     },
     "execution_count": 82,
     "metadata": {},
     "output_type": "execute_result"
    }
   ],
   "source": [
    "pmp.general_prompt(\"Please compare topics 11 and 12.\")"
   ]
  },
  {
   "cell_type": "code",
   "execution_count": null,
   "metadata": {},
   "outputs": [],
   "source": []
  }
 ],
 "metadata": {
  "kernelspec": {
   "display_name": "llm_sem",
   "language": "python",
   "name": "python3"
  },
  "language_info": {
   "codemirror_mode": {
    "name": "ipython",
    "version": 3
   },
   "file_extension": ".py",
   "mimetype": "text/x-python",
   "name": "python",
   "nbconvert_exporter": "python",
   "pygments_lexer": "ipython3",
   "version": "3.11.4"
  },
  "orig_nbformat": 4
 },
 "nbformat": 4,
 "nbformat_minor": 2
}
